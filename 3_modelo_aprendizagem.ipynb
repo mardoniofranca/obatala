{
 "cells": [
  {
   "cell_type": "markdown",
   "id": "585f808d",
   "metadata": {},
   "source": [
    "# Preparação dos Dados"
   ]
  },
  {
   "cell_type": "markdown",
   "id": "efb89747",
   "metadata": {},
   "source": [
    "### Importação das Bibliotecas"
   ]
  },
  {
   "cell_type": "code",
   "execution_count": 1,
   "id": "0ab9408c",
   "metadata": {},
   "outputs": [],
   "source": [
    "import pandas as pd\n",
    "import numpy as np\n",
    "import matplotlib.pyplot as plt\n",
    "import seaborn as sns\n",
    "import plotly.express as px\n",
    "import warnings\n",
    "warnings.filterwarnings('ignore')\n",
    "\n",
    "import plotly.graph_objects as go\n",
    "import plotly.express as px\n",
    "\n",
    "# plot parameters\n",
    "%matplotlib inline\n",
    "plt.rcParams['font.size'] = 14\n",
    "plt.rcParams['figure.figsize'] = (9, 5)\n",
    "plt.rcParams['figure.facecolor'] = '#00000000'"
   ]
  },
  {
   "cell_type": "markdown",
   "id": "09bb8c61",
   "metadata": {},
   "source": [
    "### Leitura dos Dados"
   ]
  },
  {
   "cell_type": "code",
   "execution_count": 3,
   "id": "0c0e2ae5",
   "metadata": {},
   "outputs": [],
   "source": [
    "df  = pd.read_csv(\"data/dados.csv\")\n",
    "df_prep = pd.read_csv(\"data/dados_prep.csv\")\n"
   ]
  },
  {
   "cell_type": "markdown",
   "id": "3702da9c",
   "metadata": {},
   "source": [
    "### Normalização dos Valores"
   ]
  },
  {
   "cell_type": "code",
   "execution_count": null,
   "id": "16461361",
   "metadata": {},
   "outputs": [],
   "source": []
  },
  {
   "cell_type": "markdown",
   "id": "2e6caeed",
   "metadata": {},
   "source": [
    "### Separação de Dataset de Treinamento e Teste"
   ]
  },
  {
   "cell_type": "code",
   "execution_count": null,
   "id": "a08f43b2",
   "metadata": {},
   "outputs": [],
   "source": []
  },
  {
   "cell_type": "code",
   "execution_count": null,
   "id": "a61a1877",
   "metadata": {},
   "outputs": [],
   "source": [
    "### Treinamento com 1o Modelo"
   ]
  },
  {
   "cell_type": "code",
   "execution_count": null,
   "id": "8dd3156f",
   "metadata": {},
   "outputs": [],
   "source": []
  },
  {
   "cell_type": "code",
   "execution_count": null,
   "id": "4277f428",
   "metadata": {},
   "outputs": [],
   "source": [
    "### Testes e Validação do 1o. Modelo"
   ]
  },
  {
   "cell_type": "code",
   "execution_count": null,
   "id": "68cc82f5",
   "metadata": {},
   "outputs": [],
   "source": []
  },
  {
   "cell_type": "code",
   "execution_count": null,
   "id": "d5652bb2",
   "metadata": {},
   "outputs": [],
   "source": [
    "### Treinamento com variação de Modelos"
   ]
  },
  {
   "cell_type": "code",
   "execution_count": null,
   "id": "1ada9ab3",
   "metadata": {},
   "outputs": [],
   "source": []
  },
  {
   "cell_type": "code",
   "execution_count": null,
   "id": "35dcb6d2",
   "metadata": {},
   "outputs": [],
   "source": [
    "### Testes e Validação do N. Modelo"
   ]
  },
  {
   "cell_type": "code",
   "execution_count": null,
   "id": "1e0196f4",
   "metadata": {},
   "outputs": [],
   "source": []
  },
  {
   "cell_type": "code",
   "execution_count": null,
   "id": "1f1f90d7",
   "metadata": {},
   "outputs": [],
   "source": [
    "### Gravação do Modelo com melhor performance"
   ]
  },
  {
   "cell_type": "code",
   "execution_count": null,
   "id": "7b5ee4fe",
   "metadata": {},
   "outputs": [],
   "source": []
  },
  {
   "cell_type": "code",
   "execution_count": null,
   "id": "b576ff7f",
   "metadata": {},
   "outputs": [],
   "source": []
  }
 ],
 "metadata": {
  "kernelspec": {
   "display_name": "Python 3 (ipykernel)",
   "language": "python",
   "name": "python3"
  },
  "language_info": {
   "codemirror_mode": {
    "name": "ipython",
    "version": 3
   },
   "file_extension": ".py",
   "mimetype": "text/x-python",
   "name": "python",
   "nbconvert_exporter": "python",
   "pygments_lexer": "ipython3",
   "version": "3.10.12"
  }
 },
 "nbformat": 4,
 "nbformat_minor": 5
}
