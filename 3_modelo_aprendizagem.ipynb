{
 "cells": [
  {
   "cell_type": "markdown",
   "id": "585f808d",
   "metadata": {},
   "source": [
    "# Modelo de Aprendizagem de Máquina"
   ]
  },
  {
   "cell_type": "markdown",
   "id": "efb89747",
   "metadata": {},
   "source": [
    "### Importação das Bibliotecas"
   ]
  },
  {
   "cell_type": "code",
   "execution_count": 1,
   "id": "0ab9408c",
   "metadata": {},
   "outputs": [],
   "source": [
    "import pandas as pd\n",
    "import numpy as np\n",
    "import matplotlib.pyplot as plt\n",
    "import seaborn as sns\n",
    "import plotly.express as px\n",
    "import warnings\n",
    "warnings.filterwarnings('ignore')\n",
    "\n",
    "import plotly.graph_objects as go\n",
    "import plotly.express as px\n",
    "\n",
    "# plot parameters\n",
    "%matplotlib inline\n",
    "plt.rcParams['font.size'] = 14\n",
    "plt.rcParams['figure.figsize'] = (9, 5)\n",
    "plt.rcParams['figure.facecolor'] = '#00000000'\n",
    "\n",
    "from sklearn.model_selection import train_test_split\n",
    "from sklearn.svm import SVR\n",
    "from sklearn.pipeline import make_pipeline\n",
    "from sklearn.preprocessing import StandardScaler\n",
    "\n",
    "from sklearn.discriminant_analysis import LinearDiscriminantAnalysis\n",
    "from sklearn.neighbors import KNeighborsClassifier\n",
    "from sklearn.naive_bayes import GaussianNB\n",
    "from sklearn.tree import DecisionTreeClassifier\n",
    "from sklearn.svm import SVC\n",
    "from sklearn.linear_model import LogisticRegression\n",
    "\n",
    "from sklearn.metrics import classification_report\n",
    "from sklearn.metrics import confusion_matrix\n",
    "from sklearn.metrics import accuracy_score\n",
    "import matplotlib.pyplot as plt\n",
    "import plotly.express as px\n",
    "from sklearn.preprocessing import StandardScaler\n",
    "from sklearn.preprocessing import LabelEncoder\n",
    "from sklearn.model_selection import train_test_split\n",
    "from sklearn import preprocessing\n",
    "import pickle\n",
    "from sklearn.model_selection import train_test_split\n",
    "from sklearn.datasets import make_classification\n",
    "from sklearn import svm\n",
    "from sklearn.metrics import accuracy_score\n",
    "from sklearn.metrics import classification_report, confusion_matrix\n",
    "from sklearn.model_selection import train_test_split\n",
    "\n",
    "from sklearn.linear_model import LogisticRegression\n",
    "from sklearn.svm import SVC, LinearSVC\n",
    "from sklearn.neighbors import KNeighborsClassifier\n",
    "from sklearn.tree import DecisionTreeClassifier\n",
    "from sklearn.ensemble import RandomForestClassifier\n",
    "from sklearn.naive_bayes import GaussianNB\n",
    "from sklearn.neural_network import MLPClassifier\n",
    "\n",
    "from sklearn.model_selection import cross_val_score"
   ]
  },
  {
   "cell_type": "markdown",
   "id": "09bb8c61",
   "metadata": {},
   "source": [
    "### Leitura dos Dados"
   ]
  },
  {
   "cell_type": "code",
   "execution_count": 11,
   "id": "0c0e2ae5",
   "metadata": {},
   "outputs": [],
   "source": [
    "df_ini  = pd.read_csv(\"data/dados.csv\")\n",
    "df      = pd.read_csv(\"data/dados_prep.csv\")"
   ]
  },
  {
   "cell_type": "code",
   "execution_count": 14,
   "id": "cebccd45",
   "metadata": {},
   "outputs": [
    {
     "data": {
      "text/plain": [
       "Index(['Order_ID', 'Order_Priority', 'Order_Quantity', 'Sales', 'Ship_Mode',\n",
       "       'Profit', 'Customer_Name', 'Region', 'Customer_Segment',\n",
       "       'Product_Category', 'Product_Sub-Category', 'Product_Name',\n",
       "       'Product_Container'],\n",
       "      dtype='object')"
      ]
     },
     "execution_count": 14,
     "metadata": {},
     "output_type": "execute_result"
    }
   ],
   "source": [
    "df_ini.columns"
   ]
  },
  {
   "cell_type": "code",
   "execution_count": 12,
   "id": "7e6d194e",
   "metadata": {},
   "outputs": [
    {
     "data": {
      "text/plain": [
       "Index(['Order_Quantity', 'Critical_Ship_Mode', 'High_Ship_Mode',\n",
       "       'Low_Ship_Mode', 'Medium_Ship_Mode', 'NotSfd_Ship_Mode',\n",
       "       'Regular_Ship_Mode', 'Express_Ship_Mode', 'Atlantic_Region',\n",
       "       'NT_Region', 'Nunavut_Region', 'Ontario_Region', 'Prarie_Region',\n",
       "       'West_Region', 'Consumer_Customer_Segment',\n",
       "       'Corporate_Customer_Segment', 'HO_Customer_Segment',\n",
       "       'SB_Customer_Segment', 'Furniture_Product_Category',\n",
       "       'OF_Product_Category', 'Technology_Product_Category',\n",
       "       'LB_Product_Container', 'MB_Product_Container', 'SB_Product_Container',\n",
       "       'Sales', 'Profit'],\n",
       "      dtype='object')"
      ]
     },
     "execution_count": 12,
     "metadata": {},
     "output_type": "execute_result"
    }
   ],
   "source": [
    "df.columns"
   ]
  },
  {
   "cell_type": "code",
   "execution_count": 4,
   "id": "f30097fa",
   "metadata": {},
   "outputs": [],
   "source": [
    "def target(line):\n",
    "    line = float(line)\n",
    "    if line >= 0 :\n",
    "        return 1    \n",
    "    else :\n",
    "        return 0"
   ]
  },
  {
   "cell_type": "code",
   "execution_count": 5,
   "id": "74c5e2dd",
   "metadata": {},
   "outputs": [],
   "source": [
    "df['Target'] = df['Profit'].apply(lambda x: target(x))"
   ]
  },
  {
   "cell_type": "markdown",
   "id": "74120756",
   "metadata": {},
   "source": [
    "### Separação das Features e da Coluna Target"
   ]
  },
  {
   "cell_type": "code",
   "execution_count": 6,
   "id": "b9b8f724",
   "metadata": {},
   "outputs": [],
   "source": [
    "cols = df.columns[0:-2]"
   ]
  },
  {
   "cell_type": "code",
   "execution_count": null,
   "id": "547cf9cf",
   "metadata": {},
   "outputs": [],
   "source": []
  },
  {
   "cell_type": "code",
   "execution_count": 7,
   "id": "61df1a86",
   "metadata": {},
   "outputs": [],
   "source": [
    "target = ['Target']\n",
    "feat   = ['Profit']"
   ]
  },
  {
   "cell_type": "code",
   "execution_count": 8,
   "id": "cbc11c16",
   "metadata": {},
   "outputs": [],
   "source": [
    "df_target = df[['Target']]\n",
    "df_prepare = df.drop(['Profit', 'Target'], axis = 1)"
   ]
  },
  {
   "cell_type": "code",
   "execution_count": 9,
   "id": "cd9edf88",
   "metadata": {},
   "outputs": [],
   "source": [
    "min_max_scaler = preprocessing.MinMaxScaler()"
   ]
  },
  {
   "cell_type": "code",
   "execution_count": 10,
   "id": "f1b6d04b",
   "metadata": {},
   "outputs": [],
   "source": [
    "x = df_prepare.values"
   ]
  },
  {
   "cell_type": "code",
   "execution_count": null,
   "id": "8eb94351",
   "metadata": {},
   "outputs": [],
   "source": [
    "x_scaled = min_max_scaler.fit_transform(x)\n",
    "df1 = pd.DataFrame(x_scaled)\n",
    "y = df['Target']"
   ]
  },
  {
   "cell_type": "markdown",
   "id": "f135d089",
   "metadata": {},
   "source": [
    "### Corte de Dataframe entre Dataframe de Treinamento e Dataframe de Teste"
   ]
  },
  {
   "cell_type": "code",
   "execution_count": null,
   "id": "68497f21",
   "metadata": {},
   "outputs": [],
   "source": [
    "x_train, x_test, y_train, y_test = train_test_split(x_scaled, y, test_size = 0.20)"
   ]
  },
  {
   "cell_type": "markdown",
   "id": "0e924cac",
   "metadata": {},
   "source": [
    "### Treinamento com 1o Modelo"
   ]
  },
  {
   "cell_type": "code",
   "execution_count": null,
   "id": "4647582f",
   "metadata": {},
   "outputs": [],
   "source": [
    "clf = svm.SVC()\n",
    "clf.fit(x_train, y_train)"
   ]
  },
  {
   "cell_type": "markdown",
   "id": "bfe155ac",
   "metadata": {},
   "source": [
    "### Testes e Validação do 1o. Modelo"
   ]
  },
  {
   "cell_type": "markdown",
   "id": "8895f689",
   "metadata": {},
   "source": [
    "### Treinamento com variação de Modelos"
   ]
  },
  {
   "cell_type": "code",
   "execution_count": null,
   "id": "27673783",
   "metadata": {},
   "outputs": [],
   "source": [
    "y_pred = clf.predict(x_test)"
   ]
  },
  {
   "cell_type": "markdown",
   "id": "768dc517",
   "metadata": {},
   "source": [
    "### Avaliação de Resultados para o 1o. Modelo"
   ]
  },
  {
   "cell_type": "code",
   "execution_count": null,
   "id": "615b6cbb",
   "metadata": {},
   "outputs": [],
   "source": [
    "accuracy_score(y_test, y_pred)"
   ]
  },
  {
   "cell_type": "code",
   "execution_count": null,
   "id": "702b1834",
   "metadata": {},
   "outputs": [],
   "source": [
    "print(confusion_matrix(y_test,y_pred))\n",
    "print(classification_report(y_test,y_pred))"
   ]
  },
  {
   "cell_type": "markdown",
   "id": "bb12ffb3",
   "metadata": {},
   "source": [
    "### Treinamento com 2o Modelo"
   ]
  },
  {
   "cell_type": "code",
   "execution_count": null,
   "id": "788b5d61",
   "metadata": {},
   "outputs": [],
   "source": [
    "df_model = df[feat].dropna()"
   ]
  },
  {
   "cell_type": "code",
   "execution_count": null,
   "id": "bd3ea15d",
   "metadata": {},
   "outputs": [],
   "source": [
    "cols"
   ]
  },
  {
   "cell_type": "code",
   "execution_count": null,
   "id": "f11389b2",
   "metadata": {},
   "outputs": [],
   "source": [
    "X =  df.drop(['Profit', 'Target'], axis = 1)\n",
    "Y =  df['Target']"
   ]
  },
  {
   "cell_type": "code",
   "execution_count": null,
   "id": "73d9980c",
   "metadata": {},
   "outputs": [],
   "source": [
    "seed = 1234\n",
    "X_train, X_test, y_train, y_test = train_test_split(X,Y, test_size = 0.2, random_state = seed )"
   ]
  },
  {
   "cell_type": "code",
   "execution_count": null,
   "id": "23ba0b36",
   "metadata": {},
   "outputs": [],
   "source": [
    "KNN_model = KNeighborsClassifier(n_neighbors=5)"
   ]
  },
  {
   "cell_type": "code",
   "execution_count": null,
   "id": "ba5b7c32",
   "metadata": {},
   "outputs": [],
   "source": [
    "KNN_model.fit(X_train, y_train)\n",
    "KNN_prediction = KNN_model.predict(X_test)"
   ]
  },
  {
   "cell_type": "code",
   "execution_count": null,
   "id": "fcbabe2f",
   "metadata": {},
   "outputs": [],
   "source": [
    "print(accuracy_score(KNN_prediction, y_test))"
   ]
  },
  {
   "cell_type": "code",
   "execution_count": null,
   "id": "b62b5f77",
   "metadata": {},
   "outputs": [],
   "source": [
    "print(classification_report(KNN_prediction, y_test))"
   ]
  },
  {
   "cell_type": "markdown",
   "id": "5c0b7fb8",
   "metadata": {},
   "source": [
    "### Execução com N-Modelos "
   ]
  },
  {
   "cell_type": "code",
   "execution_count": null,
   "id": "a8dc9fed",
   "metadata": {},
   "outputs": [],
   "source": [
    "models = []\n",
    "\n",
    "models.append((\"LogisticRegression\",LogisticRegression()))\n",
    "models.append((\"SVC\",SVC()))\n",
    "models.append((\"LinearSVC\",LinearSVC()))\n",
    "models.append((\"KNeighbors\",KNeighborsClassifier()))\n",
    "models.append((\"DecisionTree\",DecisionTreeClassifier()))\n",
    "models.append((\"RandomForest\",RandomForestClassifier()))\n",
    "rf2 = RandomForestClassifier(n_estimators=100, criterion='gini',\n",
    "                                max_depth=10, random_state=0, max_features=None)\n",
    "models.append((\"RandomForest2\",rf2))\n",
    "models.append((\"MLPClassifier\",MLPClassifier(solver='lbfgs', random_state=0)))\n",
    "\n",
    "\n",
    "results = []\n",
    "names = []\n",
    "for name,model in models:\n",
    "    result = cross_val_score(model, X,Y,  cv=3)\n",
    "    names.append(name)\n",
    "    results.append(result)\n",
    "\n",
    "for i in range(len(names)):\n",
    "    print(names[i],results[i].mean())"
   ]
  },
  {
   "cell_type": "markdown",
   "id": "08c9c9ab",
   "metadata": {},
   "source": [
    "### Execução com o Modelo que apresentou o melhor resultado"
   ]
  },
  {
   "cell_type": "code",
   "execution_count": null,
   "id": "c568c8a6",
   "metadata": {},
   "outputs": [],
   "source": [
    "rf2 = RandomForestClassifier(n_estimators=100, criterion='gini',\n",
    "                                max_depth=10, random_state=0, max_features=None)"
   ]
  },
  {
   "cell_type": "code",
   "execution_count": null,
   "id": "011e3f5d",
   "metadata": {},
   "outputs": [],
   "source": [
    "rf2.fit(X_train, y_train)"
   ]
  },
  {
   "cell_type": "code",
   "execution_count": null,
   "id": "c9c39219",
   "metadata": {},
   "outputs": [],
   "source": [
    "rf2_prediction = rf2.fit(X_train, y_train).predict(X_test)"
   ]
  },
  {
   "cell_type": "code",
   "execution_count": null,
   "id": "ebad74df",
   "metadata": {},
   "outputs": [],
   "source": [
    "print(accuracy_score(rf2_prediction, y_test))"
   ]
  },
  {
   "cell_type": "code",
   "execution_count": null,
   "id": "b6c534b4",
   "metadata": {},
   "outputs": [],
   "source": [
    "print(classification_report(rf2_prediction, y_test))"
   ]
  }
 ],
 "metadata": {
  "kernelspec": {
   "display_name": "Python 3 (ipykernel)",
   "language": "python",
   "name": "python3"
  },
  "language_info": {
   "codemirror_mode": {
    "name": "ipython",
    "version": 3
   },
   "file_extension": ".py",
   "mimetype": "text/x-python",
   "name": "python",
   "nbconvert_exporter": "python",
   "pygments_lexer": "ipython3",
   "version": "3.10.12"
  }
 },
 "nbformat": 4,
 "nbformat_minor": 5
}
