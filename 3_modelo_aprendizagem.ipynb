{
 "cells": [
  {
   "cell_type": "markdown",
   "id": "585f808d",
   "metadata": {},
   "source": [
    "# Preparação dos Dados"
   ]
  },
  {
   "cell_type": "markdown",
   "id": "efb89747",
   "metadata": {},
   "source": [
    "### Importação das Bibliotecas"
   ]
  },
  {
   "cell_type": "code",
   "execution_count": 41,
   "id": "0ab9408c",
   "metadata": {},
   "outputs": [],
   "source": [
    "import pandas as pd\n",
    "import numpy as np\n",
    "import matplotlib.pyplot as plt\n",
    "import seaborn as sns\n",
    "import plotly.express as px\n",
    "import warnings\n",
    "warnings.filterwarnings('ignore')\n",
    "\n",
    "import plotly.graph_objects as go\n",
    "import plotly.express as px\n",
    "\n",
    "# plot parameters\n",
    "%matplotlib inline\n",
    "plt.rcParams['font.size'] = 14\n",
    "plt.rcParams['figure.figsize'] = (9, 5)\n",
    "plt.rcParams['figure.facecolor'] = '#00000000'\n",
    "\n",
    "from sklearn.model_selection import train_test_split\n",
    "from sklearn.svm import SVR\n",
    "from sklearn.pipeline import make_pipeline\n",
    "from sklearn.preprocessing import StandardScaler\n",
    "\n",
    "from sklearn.discriminant_analysis import LinearDiscriminantAnalysis\n",
    "from sklearn.neighbors import KNeighborsClassifier\n",
    "from sklearn.naive_bayes import GaussianNB\n",
    "from sklearn.tree import DecisionTreeClassifier\n",
    "from sklearn.svm import SVC\n",
    "from sklearn.linear_model import LogisticRegression\n",
    "\n",
    "from sklearn.metrics import classification_report\n",
    "from sklearn.metrics import confusion_matrix\n",
    "from sklearn.metrics import accuracy_score\n",
    "import matplotlib.pyplot as plt\n",
    "import plotly.express as px\n",
    "from sklearn.preprocessing import StandardScaler\n",
    "from sklearn.preprocessing import LabelEncoder\n",
    "from sklearn.model_selection import train_test_split\n",
    "from sklearn import preprocessing\n",
    "import pickle\n",
    "from sklearn.model_selection import train_test_split\n",
    "x_train, x_test, y_train, y_test = train_test_split(x_scaled, y, test_size = 0.20)\n",
    "from sklearn.datasets import make_classification\n",
    "from sklearn import svm\n",
    "from sklearn.metrics import accuracy_score\n",
    "from sklearn.metrics import classification_report, confusion_matrix\n",
    "from sklearn.model_selection import train_test_split\n"
   ]
  },
  {
   "cell_type": "markdown",
   "id": "09bb8c61",
   "metadata": {},
   "source": [
    "### Leitura dos Dados"
   ]
  },
  {
   "cell_type": "code",
   "execution_count": 26,
   "id": "0c0e2ae5",
   "metadata": {},
   "outputs": [],
   "source": [
    "df_ini  = pd.read_csv(\"data/dados.csv\")\n",
    "df      = pd.read_csv(\"data/dados_prep.csv\")\n"
   ]
  },
  {
   "cell_type": "code",
   "execution_count": 27,
   "id": "7e6d194e",
   "metadata": {},
   "outputs": [
    {
     "data": {
      "text/plain": [
       "Index(['Order_Quantity', 'Critical_Ship_Mode', 'High_Ship_Mode',\n",
       "       'Low_Ship_Mode', 'Medium_Ship_Mode', 'NotSfd_Ship_Mode',\n",
       "       'Regular_Ship_Mode', 'Express_Ship_Mode', 'Atlantic_Region',\n",
       "       'NT_Region', 'Nunavut_Region', 'Ontario_Region', 'Prarie_Region',\n",
       "       'West_Region', 'Consumer_Customer_Segment',\n",
       "       'Corporate_Customer_Segment', 'HO_Customer_Segment',\n",
       "       'SB_Customer_Segment', 'Furniture_Product_Category',\n",
       "       'OF_Product_Category', 'Technology_Product_Category',\n",
       "       'LB_Product_Container', 'MB_Product_Container', 'SB_Product_Container',\n",
       "       'Sales', 'Profit'],\n",
       "      dtype='object')"
      ]
     },
     "execution_count": 27,
     "metadata": {},
     "output_type": "execute_result"
    }
   ],
   "source": [
    "df.columns"
   ]
  },
  {
   "cell_type": "code",
   "execution_count": 28,
   "id": "f30097fa",
   "metadata": {},
   "outputs": [],
   "source": [
    "def target(line):\n",
    "    line = float(line)\n",
    "    if line >= 0 :\n",
    "        return 1    \n",
    "    else :\n",
    "        return 0"
   ]
  },
  {
   "cell_type": "code",
   "execution_count": 29,
   "id": "74c5e2dd",
   "metadata": {},
   "outputs": [],
   "source": [
    "df['Target'] = df['Profit'].apply(lambda x: target(x))"
   ]
  },
  {
   "cell_type": "markdown",
   "id": "74120756",
   "metadata": {},
   "source": [
    "### Separação das Features e da Coluna Target"
   ]
  },
  {
   "cell_type": "code",
   "execution_count": 75,
   "id": "b9b8f724",
   "metadata": {},
   "outputs": [],
   "source": [
    "cols = df.columns[0:-2]"
   ]
  },
  {
   "cell_type": "code",
   "execution_count": 62,
   "id": "61df1a86",
   "metadata": {},
   "outputs": [],
   "source": [
    "target = ['Target']\n",
    "feat   = ['Profit']"
   ]
  },
  {
   "cell_type": "code",
   "execution_count": 63,
   "id": "cbc11c16",
   "metadata": {},
   "outputs": [],
   "source": [
    "df_target = df[['Target']]\n",
    "df_prepare = df.drop(['Profit', 'Target'], axis = 1)"
   ]
  },
  {
   "cell_type": "code",
   "execution_count": 64,
   "id": "cd9edf88",
   "metadata": {},
   "outputs": [],
   "source": [
    "min_max_scaler = preprocessing.MinMaxScaler()"
   ]
  },
  {
   "cell_type": "code",
   "execution_count": 65,
   "id": "f1b6d04b",
   "metadata": {},
   "outputs": [],
   "source": [
    "x = df_prepare.values"
   ]
  },
  {
   "cell_type": "code",
   "execution_count": 66,
   "id": "8eb94351",
   "metadata": {},
   "outputs": [],
   "source": [
    "x_scaled = min_max_scaler.fit_transform(x)\n",
    "df1 = pd.DataFrame(x_scaled)\n",
    "y = df['Target']"
   ]
  },
  {
   "cell_type": "markdown",
   "id": "f135d089",
   "metadata": {},
   "source": [
    "### Corte de Dataframe entre Dataframe de Treinamento e Dataframe de Teste"
   ]
  },
  {
   "cell_type": "code",
   "execution_count": 67,
   "id": "68497f21",
   "metadata": {},
   "outputs": [],
   "source": [
    "x_train, x_test, y_train, y_test = train_test_split(x_scaled, y, test_size = 0.20)"
   ]
  },
  {
   "cell_type": "markdown",
   "id": "0e924cac",
   "metadata": {},
   "source": [
    "### Treinamento com 1o Modelo"
   ]
  },
  {
   "cell_type": "code",
   "execution_count": 68,
   "id": "4647582f",
   "metadata": {},
   "outputs": [
    {
     "data": {
      "text/html": [
       "<style>#sk-container-id-2 {color: black;background-color: white;}#sk-container-id-2 pre{padding: 0;}#sk-container-id-2 div.sk-toggleable {background-color: white;}#sk-container-id-2 label.sk-toggleable__label {cursor: pointer;display: block;width: 100%;margin-bottom: 0;padding: 0.3em;box-sizing: border-box;text-align: center;}#sk-container-id-2 label.sk-toggleable__label-arrow:before {content: \"▸\";float: left;margin-right: 0.25em;color: #696969;}#sk-container-id-2 label.sk-toggleable__label-arrow:hover:before {color: black;}#sk-container-id-2 div.sk-estimator:hover label.sk-toggleable__label-arrow:before {color: black;}#sk-container-id-2 div.sk-toggleable__content {max-height: 0;max-width: 0;overflow: hidden;text-align: left;background-color: #f0f8ff;}#sk-container-id-2 div.sk-toggleable__content pre {margin: 0.2em;color: black;border-radius: 0.25em;background-color: #f0f8ff;}#sk-container-id-2 input.sk-toggleable__control:checked~div.sk-toggleable__content {max-height: 200px;max-width: 100%;overflow: auto;}#sk-container-id-2 input.sk-toggleable__control:checked~label.sk-toggleable__label-arrow:before {content: \"▾\";}#sk-container-id-2 div.sk-estimator input.sk-toggleable__control:checked~label.sk-toggleable__label {background-color: #d4ebff;}#sk-container-id-2 div.sk-label input.sk-toggleable__control:checked~label.sk-toggleable__label {background-color: #d4ebff;}#sk-container-id-2 input.sk-hidden--visually {border: 0;clip: rect(1px 1px 1px 1px);clip: rect(1px, 1px, 1px, 1px);height: 1px;margin: -1px;overflow: hidden;padding: 0;position: absolute;width: 1px;}#sk-container-id-2 div.sk-estimator {font-family: monospace;background-color: #f0f8ff;border: 1px dotted black;border-radius: 0.25em;box-sizing: border-box;margin-bottom: 0.5em;}#sk-container-id-2 div.sk-estimator:hover {background-color: #d4ebff;}#sk-container-id-2 div.sk-parallel-item::after {content: \"\";width: 100%;border-bottom: 1px solid gray;flex-grow: 1;}#sk-container-id-2 div.sk-label:hover label.sk-toggleable__label {background-color: #d4ebff;}#sk-container-id-2 div.sk-serial::before {content: \"\";position: absolute;border-left: 1px solid gray;box-sizing: border-box;top: 0;bottom: 0;left: 50%;z-index: 0;}#sk-container-id-2 div.sk-serial {display: flex;flex-direction: column;align-items: center;background-color: white;padding-right: 0.2em;padding-left: 0.2em;position: relative;}#sk-container-id-2 div.sk-item {position: relative;z-index: 1;}#sk-container-id-2 div.sk-parallel {display: flex;align-items: stretch;justify-content: center;background-color: white;position: relative;}#sk-container-id-2 div.sk-item::before, #sk-container-id-2 div.sk-parallel-item::before {content: \"\";position: absolute;border-left: 1px solid gray;box-sizing: border-box;top: 0;bottom: 0;left: 50%;z-index: -1;}#sk-container-id-2 div.sk-parallel-item {display: flex;flex-direction: column;z-index: 1;position: relative;background-color: white;}#sk-container-id-2 div.sk-parallel-item:first-child::after {align-self: flex-end;width: 50%;}#sk-container-id-2 div.sk-parallel-item:last-child::after {align-self: flex-start;width: 50%;}#sk-container-id-2 div.sk-parallel-item:only-child::after {width: 0;}#sk-container-id-2 div.sk-dashed-wrapped {border: 1px dashed gray;margin: 0 0.4em 0.5em 0.4em;box-sizing: border-box;padding-bottom: 0.4em;background-color: white;}#sk-container-id-2 div.sk-label label {font-family: monospace;font-weight: bold;display: inline-block;line-height: 1.2em;}#sk-container-id-2 div.sk-label-container {text-align: center;}#sk-container-id-2 div.sk-container {/* jupyter's `normalize.less` sets `[hidden] { display: none; }` but bootstrap.min.css set `[hidden] { display: none !important; }` so we also need the `!important` here to be able to override the default hidden behavior on the sphinx rendered scikit-learn.org. See: https://github.com/scikit-learn/scikit-learn/issues/21755 */display: inline-block !important;position: relative;}#sk-container-id-2 div.sk-text-repr-fallback {display: none;}</style><div id=\"sk-container-id-2\" class=\"sk-top-container\"><div class=\"sk-text-repr-fallback\"><pre>SVC()</pre><b>In a Jupyter environment, please rerun this cell to show the HTML representation or trust the notebook. <br />On GitHub, the HTML representation is unable to render, please try loading this page with nbviewer.org.</b></div><div class=\"sk-container\" hidden><div class=\"sk-item\"><div class=\"sk-estimator sk-toggleable\"><input class=\"sk-toggleable__control sk-hidden--visually\" id=\"sk-estimator-id-2\" type=\"checkbox\" checked><label for=\"sk-estimator-id-2\" class=\"sk-toggleable__label sk-toggleable__label-arrow\">SVC</label><div class=\"sk-toggleable__content\"><pre>SVC()</pre></div></div></div></div></div>"
      ],
      "text/plain": [
       "SVC()"
      ]
     },
     "execution_count": 68,
     "metadata": {},
     "output_type": "execute_result"
    }
   ],
   "source": [
    "clf = svm.SVC()\n",
    "clf.fit(x_train, y_train)"
   ]
  },
  {
   "cell_type": "markdown",
   "id": "bfe155ac",
   "metadata": {},
   "source": [
    "### Testes e Validação do 1o. Modelo"
   ]
  },
  {
   "cell_type": "markdown",
   "id": "8895f689",
   "metadata": {},
   "source": [
    "### Treinamento com variação de Modelos"
   ]
  },
  {
   "cell_type": "code",
   "execution_count": 69,
   "id": "27673783",
   "metadata": {},
   "outputs": [],
   "source": [
    "y_pred = clf.predict(x_test)"
   ]
  },
  {
   "cell_type": "markdown",
   "id": "768dc517",
   "metadata": {},
   "source": [
    "### Avaliação de Resultados para o 1o. Modelo"
   ]
  },
  {
   "cell_type": "code",
   "execution_count": 70,
   "id": "615b6cbb",
   "metadata": {},
   "outputs": [
    {
     "data": {
      "text/plain": [
       "0.5547945205479452"
      ]
     },
     "execution_count": 70,
     "metadata": {},
     "output_type": "execute_result"
    }
   ],
   "source": [
    "accuracy_score(y_test, y_pred)"
   ]
  },
  {
   "cell_type": "code",
   "execution_count": 71,
   "id": "702b1834",
   "metadata": {},
   "outputs": [
    {
     "name": "stdout",
     "output_type": "stream",
     "text": [
      "[[46 23]\n",
      " [42 35]]\n",
      "              precision    recall  f1-score   support\n",
      "\n",
      "           0       0.52      0.67      0.59        69\n",
      "           1       0.60      0.45      0.52        77\n",
      "\n",
      "    accuracy                           0.55       146\n",
      "   macro avg       0.56      0.56      0.55       146\n",
      "weighted avg       0.57      0.55      0.55       146\n",
      "\n"
     ]
    }
   ],
   "source": [
    "print(confusion_matrix(y_test,y_pred))\n",
    "print(classification_report(y_test,y_pred))"
   ]
  },
  {
   "cell_type": "markdown",
   "id": "bb12ffb3",
   "metadata": {},
   "source": [
    "### Treinamento com 2o Modelo"
   ]
  },
  {
   "cell_type": "code",
   "execution_count": 81,
   "id": "788b5d61",
   "metadata": {},
   "outputs": [],
   "source": [
    "df_model = df[feat].dropna()"
   ]
  },
  {
   "cell_type": "code",
   "execution_count": 82,
   "id": "bd3ea15d",
   "metadata": {},
   "outputs": [
    {
     "data": {
      "text/plain": [
       "Index(['Order_Quantity', 'Critical_Ship_Mode', 'High_Ship_Mode',\n",
       "       'Low_Ship_Mode', 'Medium_Ship_Mode', 'NotSfd_Ship_Mode',\n",
       "       'Regular_Ship_Mode', 'Express_Ship_Mode', 'Atlantic_Region',\n",
       "       'NT_Region', 'Nunavut_Region', 'Ontario_Region', 'Prarie_Region',\n",
       "       'West_Region', 'Consumer_Customer_Segment',\n",
       "       'Corporate_Customer_Segment', 'HO_Customer_Segment',\n",
       "       'SB_Customer_Segment', 'Furniture_Product_Category',\n",
       "       'OF_Product_Category', 'Technology_Product_Category',\n",
       "       'LB_Product_Container', 'MB_Product_Container', 'SB_Product_Container',\n",
       "       'Sales'],\n",
       "      dtype='object')"
      ]
     },
     "execution_count": 82,
     "metadata": {},
     "output_type": "execute_result"
    }
   ],
   "source": [
    "cols"
   ]
  },
  {
   "cell_type": "code",
   "execution_count": 84,
   "id": "f11389b2",
   "metadata": {},
   "outputs": [],
   "source": [
    "X =  df.drop(['Profit', 'Target'], axis = 1)\n",
    "Y =  df['Target']"
   ]
  },
  {
   "cell_type": "code",
   "execution_count": 85,
   "id": "be969444",
   "metadata": {},
   "outputs": [
    {
     "data": {
      "text/html": [
       "<div>\n",
       "<style scoped>\n",
       "    .dataframe tbody tr th:only-of-type {\n",
       "        vertical-align: middle;\n",
       "    }\n",
       "\n",
       "    .dataframe tbody tr th {\n",
       "        vertical-align: top;\n",
       "    }\n",
       "\n",
       "    .dataframe thead th {\n",
       "        text-align: right;\n",
       "    }\n",
       "</style>\n",
       "<table border=\"1\" class=\"dataframe\">\n",
       "  <thead>\n",
       "    <tr style=\"text-align: right;\">\n",
       "      <th></th>\n",
       "      <th>Order_Quantity</th>\n",
       "      <th>Critical_Ship_Mode</th>\n",
       "      <th>High_Ship_Mode</th>\n",
       "      <th>Low_Ship_Mode</th>\n",
       "      <th>Medium_Ship_Mode</th>\n",
       "      <th>NotSfd_Ship_Mode</th>\n",
       "      <th>Regular_Ship_Mode</th>\n",
       "      <th>Express_Ship_Mode</th>\n",
       "      <th>Atlantic_Region</th>\n",
       "      <th>NT_Region</th>\n",
       "      <th>...</th>\n",
       "      <th>Corporate_Customer_Segment</th>\n",
       "      <th>HO_Customer_Segment</th>\n",
       "      <th>SB_Customer_Segment</th>\n",
       "      <th>Furniture_Product_Category</th>\n",
       "      <th>OF_Product_Category</th>\n",
       "      <th>Technology_Product_Category</th>\n",
       "      <th>LB_Product_Container</th>\n",
       "      <th>MB_Product_Container</th>\n",
       "      <th>SB_Product_Container</th>\n",
       "      <th>Sales</th>\n",
       "    </tr>\n",
       "  </thead>\n",
       "  <tbody>\n",
       "    <tr>\n",
       "      <th>0</th>\n",
       "      <td>21</td>\n",
       "      <td>0</td>\n",
       "      <td>1</td>\n",
       "      <td>0</td>\n",
       "      <td>0</td>\n",
       "      <td>0</td>\n",
       "      <td>0</td>\n",
       "      <td>1</td>\n",
       "      <td>0</td>\n",
       "      <td>0</td>\n",
       "      <td>...</td>\n",
       "      <td>1</td>\n",
       "      <td>0</td>\n",
       "      <td>0</td>\n",
       "      <td>0</td>\n",
       "      <td>1</td>\n",
       "      <td>0</td>\n",
       "      <td>1</td>\n",
       "      <td>0</td>\n",
       "      <td>0</td>\n",
       "      <td>2781.82</td>\n",
       "    </tr>\n",
       "    <tr>\n",
       "      <th>1</th>\n",
       "      <td>35</td>\n",
       "      <td>0</td>\n",
       "      <td>1</td>\n",
       "      <td>0</td>\n",
       "      <td>0</td>\n",
       "      <td>0</td>\n",
       "      <td>0</td>\n",
       "      <td>1</td>\n",
       "      <td>0</td>\n",
       "      <td>1</td>\n",
       "      <td>...</td>\n",
       "      <td>0</td>\n",
       "      <td>0</td>\n",
       "      <td>0</td>\n",
       "      <td>1</td>\n",
       "      <td>0</td>\n",
       "      <td>0</td>\n",
       "      <td>1</td>\n",
       "      <td>0</td>\n",
       "      <td>0</td>\n",
       "      <td>3389.93</td>\n",
       "    </tr>\n",
       "    <tr>\n",
       "      <th>2</th>\n",
       "      <td>7</td>\n",
       "      <td>0</td>\n",
       "      <td>0</td>\n",
       "      <td>0</td>\n",
       "      <td>0</td>\n",
       "      <td>1</td>\n",
       "      <td>0</td>\n",
       "      <td>1</td>\n",
       "      <td>0</td>\n",
       "      <td>1</td>\n",
       "      <td>...</td>\n",
       "      <td>1</td>\n",
       "      <td>0</td>\n",
       "      <td>0</td>\n",
       "      <td>0</td>\n",
       "      <td>1</td>\n",
       "      <td>0</td>\n",
       "      <td>1</td>\n",
       "      <td>0</td>\n",
       "      <td>0</td>\n",
       "      <td>2039.56</td>\n",
       "    </tr>\n",
       "    <tr>\n",
       "      <th>3</th>\n",
       "      <td>6</td>\n",
       "      <td>0</td>\n",
       "      <td>0</td>\n",
       "      <td>1</td>\n",
       "      <td>0</td>\n",
       "      <td>0</td>\n",
       "      <td>0</td>\n",
       "      <td>1</td>\n",
       "      <td>0</td>\n",
       "      <td>1</td>\n",
       "      <td>...</td>\n",
       "      <td>0</td>\n",
       "      <td>1</td>\n",
       "      <td>0</td>\n",
       "      <td>1</td>\n",
       "      <td>0</td>\n",
       "      <td>0</td>\n",
       "      <td>1</td>\n",
       "      <td>0</td>\n",
       "      <td>0</td>\n",
       "      <td>905.94</td>\n",
       "    </tr>\n",
       "    <tr>\n",
       "      <th>4</th>\n",
       "      <td>24</td>\n",
       "      <td>0</td>\n",
       "      <td>0</td>\n",
       "      <td>0</td>\n",
       "      <td>1</td>\n",
       "      <td>0</td>\n",
       "      <td>0</td>\n",
       "      <td>1</td>\n",
       "      <td>0</td>\n",
       "      <td>1</td>\n",
       "      <td>...</td>\n",
       "      <td>0</td>\n",
       "      <td>0</td>\n",
       "      <td>1</td>\n",
       "      <td>0</td>\n",
       "      <td>1</td>\n",
       "      <td>0</td>\n",
       "      <td>1</td>\n",
       "      <td>0</td>\n",
       "      <td>0</td>\n",
       "      <td>1168.15</td>\n",
       "    </tr>\n",
       "    <tr>\n",
       "      <th>...</th>\n",
       "      <td>...</td>\n",
       "      <td>...</td>\n",
       "      <td>...</td>\n",
       "      <td>...</td>\n",
       "      <td>...</td>\n",
       "      <td>...</td>\n",
       "      <td>...</td>\n",
       "      <td>...</td>\n",
       "      <td>...</td>\n",
       "      <td>...</td>\n",
       "      <td>...</td>\n",
       "      <td>...</td>\n",
       "      <td>...</td>\n",
       "      <td>...</td>\n",
       "      <td>...</td>\n",
       "      <td>...</td>\n",
       "      <td>...</td>\n",
       "      <td>...</td>\n",
       "      <td>...</td>\n",
       "      <td>...</td>\n",
       "      <td>...</td>\n",
       "    </tr>\n",
       "    <tr>\n",
       "      <th>725</th>\n",
       "      <td>44</td>\n",
       "      <td>0</td>\n",
       "      <td>0</td>\n",
       "      <td>0</td>\n",
       "      <td>0</td>\n",
       "      <td>1</td>\n",
       "      <td>1</td>\n",
       "      <td>0</td>\n",
       "      <td>0</td>\n",
       "      <td>0</td>\n",
       "      <td>...</td>\n",
       "      <td>1</td>\n",
       "      <td>0</td>\n",
       "      <td>0</td>\n",
       "      <td>0</td>\n",
       "      <td>1</td>\n",
       "      <td>0</td>\n",
       "      <td>0</td>\n",
       "      <td>0</td>\n",
       "      <td>1</td>\n",
       "      <td>5347.13</td>\n",
       "    </tr>\n",
       "    <tr>\n",
       "      <th>726</th>\n",
       "      <td>22</td>\n",
       "      <td>1</td>\n",
       "      <td>0</td>\n",
       "      <td>0</td>\n",
       "      <td>0</td>\n",
       "      <td>0</td>\n",
       "      <td>1</td>\n",
       "      <td>0</td>\n",
       "      <td>0</td>\n",
       "      <td>0</td>\n",
       "      <td>...</td>\n",
       "      <td>1</td>\n",
       "      <td>0</td>\n",
       "      <td>0</td>\n",
       "      <td>0</td>\n",
       "      <td>1</td>\n",
       "      <td>0</td>\n",
       "      <td>0</td>\n",
       "      <td>0</td>\n",
       "      <td>1</td>\n",
       "      <td>127.33</td>\n",
       "    </tr>\n",
       "    <tr>\n",
       "      <th>727</th>\n",
       "      <td>24</td>\n",
       "      <td>1</td>\n",
       "      <td>0</td>\n",
       "      <td>0</td>\n",
       "      <td>0</td>\n",
       "      <td>0</td>\n",
       "      <td>1</td>\n",
       "      <td>0</td>\n",
       "      <td>0</td>\n",
       "      <td>0</td>\n",
       "      <td>...</td>\n",
       "      <td>1</td>\n",
       "      <td>0</td>\n",
       "      <td>0</td>\n",
       "      <td>0</td>\n",
       "      <td>1</td>\n",
       "      <td>0</td>\n",
       "      <td>0</td>\n",
       "      <td>0</td>\n",
       "      <td>1</td>\n",
       "      <td>990.10</td>\n",
       "    </tr>\n",
       "    <tr>\n",
       "      <th>728</th>\n",
       "      <td>5</td>\n",
       "      <td>0</td>\n",
       "      <td>0</td>\n",
       "      <td>0</td>\n",
       "      <td>0</td>\n",
       "      <td>1</td>\n",
       "      <td>1</td>\n",
       "      <td>0</td>\n",
       "      <td>0</td>\n",
       "      <td>0</td>\n",
       "      <td>...</td>\n",
       "      <td>1</td>\n",
       "      <td>0</td>\n",
       "      <td>0</td>\n",
       "      <td>0</td>\n",
       "      <td>1</td>\n",
       "      <td>0</td>\n",
       "      <td>0</td>\n",
       "      <td>0</td>\n",
       "      <td>1</td>\n",
       "      <td>28.32</td>\n",
       "    </tr>\n",
       "    <tr>\n",
       "      <th>729</th>\n",
       "      <td>39</td>\n",
       "      <td>0</td>\n",
       "      <td>0</td>\n",
       "      <td>0</td>\n",
       "      <td>1</td>\n",
       "      <td>0</td>\n",
       "      <td>1</td>\n",
       "      <td>0</td>\n",
       "      <td>0</td>\n",
       "      <td>0</td>\n",
       "      <td>...</td>\n",
       "      <td>1</td>\n",
       "      <td>0</td>\n",
       "      <td>0</td>\n",
       "      <td>0</td>\n",
       "      <td>0</td>\n",
       "      <td>1</td>\n",
       "      <td>0</td>\n",
       "      <td>0</td>\n",
       "      <td>1</td>\n",
       "      <td>796.08</td>\n",
       "    </tr>\n",
       "  </tbody>\n",
       "</table>\n",
       "<p>730 rows × 25 columns</p>\n",
       "</div>"
      ],
      "text/plain": [
       "     Order_Quantity  Critical_Ship_Mode  High_Ship_Mode  Low_Ship_Mode  \\\n",
       "0                21                   0               1              0   \n",
       "1                35                   0               1              0   \n",
       "2                 7                   0               0              0   \n",
       "3                 6                   0               0              1   \n",
       "4                24                   0               0              0   \n",
       "..              ...                 ...             ...            ...   \n",
       "725              44                   0               0              0   \n",
       "726              22                   1               0              0   \n",
       "727              24                   1               0              0   \n",
       "728               5                   0               0              0   \n",
       "729              39                   0               0              0   \n",
       "\n",
       "     Medium_Ship_Mode  NotSfd_Ship_Mode  Regular_Ship_Mode  Express_Ship_Mode  \\\n",
       "0                   0                 0                  0                  1   \n",
       "1                   0                 0                  0                  1   \n",
       "2                   0                 1                  0                  1   \n",
       "3                   0                 0                  0                  1   \n",
       "4                   1                 0                  0                  1   \n",
       "..                ...               ...                ...                ...   \n",
       "725                 0                 1                  1                  0   \n",
       "726                 0                 0                  1                  0   \n",
       "727                 0                 0                  1                  0   \n",
       "728                 0                 1                  1                  0   \n",
       "729                 1                 0                  1                  0   \n",
       "\n",
       "     Atlantic_Region  NT_Region  ...  Corporate_Customer_Segment  \\\n",
       "0                  0          0  ...                           1   \n",
       "1                  0          1  ...                           0   \n",
       "2                  0          1  ...                           1   \n",
       "3                  0          1  ...                           0   \n",
       "4                  0          1  ...                           0   \n",
       "..               ...        ...  ...                         ...   \n",
       "725                0          0  ...                           1   \n",
       "726                0          0  ...                           1   \n",
       "727                0          0  ...                           1   \n",
       "728                0          0  ...                           1   \n",
       "729                0          0  ...                           1   \n",
       "\n",
       "     HO_Customer_Segment  SB_Customer_Segment  Furniture_Product_Category  \\\n",
       "0                      0                    0                           0   \n",
       "1                      0                    0                           1   \n",
       "2                      0                    0                           0   \n",
       "3                      1                    0                           1   \n",
       "4                      0                    1                           0   \n",
       "..                   ...                  ...                         ...   \n",
       "725                    0                    0                           0   \n",
       "726                    0                    0                           0   \n",
       "727                    0                    0                           0   \n",
       "728                    0                    0                           0   \n",
       "729                    0                    0                           0   \n",
       "\n",
       "     OF_Product_Category  Technology_Product_Category  LB_Product_Container  \\\n",
       "0                      1                            0                     1   \n",
       "1                      0                            0                     1   \n",
       "2                      1                            0                     1   \n",
       "3                      0                            0                     1   \n",
       "4                      1                            0                     1   \n",
       "..                   ...                          ...                   ...   \n",
       "725                    1                            0                     0   \n",
       "726                    1                            0                     0   \n",
       "727                    1                            0                     0   \n",
       "728                    1                            0                     0   \n",
       "729                    0                            1                     0   \n",
       "\n",
       "     MB_Product_Container  SB_Product_Container    Sales  \n",
       "0                       0                     0  2781.82  \n",
       "1                       0                     0  3389.93  \n",
       "2                       0                     0  2039.56  \n",
       "3                       0                     0   905.94  \n",
       "4                       0                     0  1168.15  \n",
       "..                    ...                   ...      ...  \n",
       "725                     0                     1  5347.13  \n",
       "726                     0                     1   127.33  \n",
       "727                     0                     1   990.10  \n",
       "728                     0                     1    28.32  \n",
       "729                     0                     1   796.08  \n",
       "\n",
       "[730 rows x 25 columns]"
      ]
     },
     "execution_count": 85,
     "metadata": {},
     "output_type": "execute_result"
    }
   ],
   "source": [
    "X"
   ]
  },
  {
   "cell_type": "code",
   "execution_count": 87,
   "id": "b5a0f0c4",
   "metadata": {},
   "outputs": [
    {
     "data": {
      "text/plain": [
       "0      0\n",
       "1      1\n",
       "2      0\n",
       "3      0\n",
       "4      0\n",
       "      ..\n",
       "725    1\n",
       "726    1\n",
       "727    1\n",
       "728    0\n",
       "729    1\n",
       "Name: Target, Length: 730, dtype: int64"
      ]
     },
     "execution_count": 87,
     "metadata": {},
     "output_type": "execute_result"
    }
   ],
   "source": [
    "Y"
   ]
  },
  {
   "cell_type": "code",
   "execution_count": 88,
   "id": "73d9980c",
   "metadata": {},
   "outputs": [],
   "source": [
    "seed = 1234\n",
    "X_train, X_test, y_train, y_test = train_test_split(X,Y, test_size = 0.2, random_state = seed )"
   ]
  },
  {
   "cell_type": "code",
   "execution_count": 89,
   "id": "23ba0b36",
   "metadata": {},
   "outputs": [],
   "source": [
    "KNN_model = KNeighborsClassifier(n_neighbors=5)"
   ]
  },
  {
   "cell_type": "code",
   "execution_count": 90,
   "id": "ba5b7c32",
   "metadata": {},
   "outputs": [],
   "source": [
    "KNN_model.fit(X_train, y_train)\n",
    "KNN_prediction = KNN_model.predict(X_test)"
   ]
  },
  {
   "cell_type": "code",
   "execution_count": 91,
   "id": "fcbabe2f",
   "metadata": {},
   "outputs": [
    {
     "name": "stdout",
     "output_type": "stream",
     "text": [
      "0.726027397260274\n",
      "              precision    recall  f1-score   support\n",
      "\n",
      "           0       0.79      0.65      0.71        77\n",
      "           1       0.67      0.81      0.74        69\n",
      "\n",
      "    accuracy                           0.73       146\n",
      "   macro avg       0.73      0.73      0.73       146\n",
      "weighted avg       0.74      0.73      0.72       146\n",
      "\n"
     ]
    }
   ],
   "source": [
    "print(accuracy_score(KNN_prediction, y_test))"
   ]
  },
  {
   "cell_type": "code",
   "execution_count": 92,
   "id": "b62b5f77",
   "metadata": {},
   "outputs": [
    {
     "name": "stdout",
     "output_type": "stream",
     "text": [
      "              precision    recall  f1-score   support\n",
      "\n",
      "           0       0.79      0.65      0.71        77\n",
      "           1       0.67      0.81      0.74        69\n",
      "\n",
      "    accuracy                           0.73       146\n",
      "   macro avg       0.73      0.73      0.73       146\n",
      "weighted avg       0.74      0.73      0.72       146\n",
      "\n"
     ]
    }
   ],
   "source": [
    "print(classification_report(KNN_prediction, y_test))"
   ]
  },
  {
   "cell_type": "code",
   "execution_count": 93,
   "id": "1810abc5",
   "metadata": {},
   "outputs": [
    {
     "ename": "NameError",
     "evalue": "name 'train_data' is not defined",
     "output_type": "error",
     "traceback": [
      "\u001b[0;31m---------------------------------------------------------------------------\u001b[0m",
      "\u001b[0;31mNameError\u001b[0m                                 Traceback (most recent call last)",
      "Cell \u001b[0;32mIn[93], line 30\u001b[0m\n\u001b[1;32m     28\u001b[0m names \u001b[38;5;241m=\u001b[39m []\n\u001b[1;32m     29\u001b[0m \u001b[38;5;28;01mfor\u001b[39;00m name,model \u001b[38;5;129;01min\u001b[39;00m models:\n\u001b[0;32m---> 30\u001b[0m     result \u001b[38;5;241m=\u001b[39m cross_val_score(model, \u001b[43mtrain_data\u001b[49m[predictors], train_data[\u001b[38;5;124m\"\u001b[39m\u001b[38;5;124mSurvived\u001b[39m\u001b[38;5;124m\"\u001b[39m],  cv\u001b[38;5;241m=\u001b[39m\u001b[38;5;241m3\u001b[39m)\n\u001b[1;32m     31\u001b[0m     names\u001b[38;5;241m.\u001b[39mappend(name)\n\u001b[1;32m     32\u001b[0m     results\u001b[38;5;241m.\u001b[39mappend(result)\n",
      "\u001b[0;31mNameError\u001b[0m: name 'train_data' is not defined"
     ]
    }
   ],
   "source": [
    "from sklearn.linear_model import LogisticRegression\n",
    "from sklearn.svm import SVC, LinearSVC\n",
    "from sklearn.neighbors import KNeighborsClassifier\n",
    "from sklearn.tree import DecisionTreeClassifier\n",
    "from sklearn.ensemble import RandomForestClassifier\n",
    "from sklearn.naive_bayes import GaussianNB\n",
    "from sklearn.neural_network import MLPClassifier\n",
    "\n",
    "from sklearn.model_selection import cross_val_score\n",
    "\n",
    "predictors = [\"Pclass\", \"Sex\", \"Age\", \"SibSp\", \"Parch\", \"Fare\", \"Embarked\"]\n",
    "\n",
    "models = []\n",
    "\n",
    "models.append((\"LogisticRegression\",LogisticRegression()))\n",
    "models.append((\"SVC\",SVC()))\n",
    "models.append((\"LinearSVC\",LinearSVC()))\n",
    "models.append((\"KNeighbors\",KNeighborsClassifier()))\n",
    "models.append((\"DecisionTree\",DecisionTreeClassifier()))\n",
    "models.append((\"RandomForest\",RandomForestClassifier()))\n",
    "rf2 = RandomForestClassifier(n_estimators=100, criterion='gini',\n",
    "                                max_depth=10, random_state=0, max_features=None)\n",
    "models.append((\"RandomForest2\",rf2))\n",
    "models.append((\"MLPClassifier\",MLPClassifier(solver='lbfgs', random_state=0)))\n",
    "\n",
    "\n",
    "results = []\n",
    "names = []\n",
    "for name,model in models:\n",
    "    result = cross_val_score(model, train_data[predictors], train_data[\"Survived\"],  cv=3)\n",
    "    names.append(name)\n",
    "    results.append(result)\n",
    "\n",
    "for i in range(len(names)):\n",
    "    print(names[i],results[i].mean())"
   ]
  },
  {
   "cell_type": "code",
   "execution_count": null,
   "id": "98c8032a",
   "metadata": {},
   "outputs": [],
   "source": []
  }
 ],
 "metadata": {
  "kernelspec": {
   "display_name": "Python 3 (ipykernel)",
   "language": "python",
   "name": "python3"
  },
  "language_info": {
   "codemirror_mode": {
    "name": "ipython",
    "version": 3
   },
   "file_extension": ".py",
   "mimetype": "text/x-python",
   "name": "python",
   "nbconvert_exporter": "python",
   "pygments_lexer": "ipython3",
   "version": "3.10.12"
  }
 },
 "nbformat": 4,
 "nbformat_minor": 5
}
