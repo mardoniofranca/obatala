{
 "cells": [
  {
   "cell_type": "code",
   "execution_count": 1,
   "id": "8f7bbb2e",
   "metadata": {},
   "outputs": [],
   "source": [
    "import pandas as pd"
   ]
  },
  {
   "cell_type": "code",
   "execution_count": 2,
   "id": "2bc5f72f",
   "metadata": {},
   "outputs": [],
   "source": [
    "import h2o"
   ]
  },
  {
   "cell_type": "code",
   "execution_count": 3,
   "id": "e5fe1f04",
   "metadata": {},
   "outputs": [],
   "source": [
    "from h2o.automl import H2OAutoML"
   ]
  },
  {
   "cell_type": "code",
   "execution_count": 8,
   "id": "3f2f06db",
   "metadata": {},
   "outputs": [
    {
     "name": "stdout",
     "output_type": "stream",
     "text": [
      "Checking whether there is an H2O instance running at http://localhost:54321. connected.\n"
     ]
    },
    {
     "data": {
      "text/html": [
       "\n",
       "<style>\n",
       "\n",
       "#h2o-table-2.h2o-container {\n",
       "  overflow-x: auto;\n",
       "}\n",
       "#h2o-table-2 .h2o-table {\n",
       "  /* width: 100%; */\n",
       "  margin-top: 1em;\n",
       "  margin-bottom: 1em;\n",
       "}\n",
       "#h2o-table-2 .h2o-table caption {\n",
       "  white-space: nowrap;\n",
       "  caption-side: top;\n",
       "  text-align: left;\n",
       "  /* margin-left: 1em; */\n",
       "  margin: 0;\n",
       "  font-size: larger;\n",
       "}\n",
       "#h2o-table-2 .h2o-table thead {\n",
       "  white-space: nowrap; \n",
       "  position: sticky;\n",
       "  top: 0;\n",
       "  box-shadow: 0 -1px inset;\n",
       "}\n",
       "#h2o-table-2 .h2o-table tbody {\n",
       "  overflow: auto;\n",
       "}\n",
       "#h2o-table-2 .h2o-table th,\n",
       "#h2o-table-2 .h2o-table td {\n",
       "  text-align: right;\n",
       "  /* border: 1px solid; */\n",
       "}\n",
       "#h2o-table-2 .h2o-table tr:nth-child(even) {\n",
       "  /* background: #F5F5F5 */\n",
       "}\n",
       "\n",
       "</style>      \n",
       "<div id=\"h2o-table-2\" class=\"h2o-container\">\n",
       "  <table class=\"h2o-table\">\n",
       "    <caption></caption>\n",
       "    <thead></thead>\n",
       "    <tbody><tr><td>H2O_cluster_uptime:</td>\n",
       "<td>46 mins 20 secs</td></tr>\n",
       "<tr><td>H2O_cluster_timezone:</td>\n",
       "<td>America/Sao_Paulo</td></tr>\n",
       "<tr><td>H2O_data_parsing_timezone:</td>\n",
       "<td>UTC</td></tr>\n",
       "<tr><td>H2O_cluster_version:</td>\n",
       "<td>3.46.0.1</td></tr>\n",
       "<tr><td>H2O_cluster_version_age:</td>\n",
       "<td>1 month and 14 days</td></tr>\n",
       "<tr><td>H2O_cluster_name:</td>\n",
       "<td>H2O_from_python_mardoniofranca_noltt4</td></tr>\n",
       "<tr><td>H2O_cluster_total_nodes:</td>\n",
       "<td>1</td></tr>\n",
       "<tr><td>H2O_cluster_free_memory:</td>\n",
       "<td>3.811 Gb</td></tr>\n",
       "<tr><td>H2O_cluster_total_cores:</td>\n",
       "<td>8</td></tr>\n",
       "<tr><td>H2O_cluster_allowed_cores:</td>\n",
       "<td>8</td></tr>\n",
       "<tr><td>H2O_cluster_status:</td>\n",
       "<td>locked, healthy</td></tr>\n",
       "<tr><td>H2O_connection_url:</td>\n",
       "<td>http://localhost:54321</td></tr>\n",
       "<tr><td>H2O_connection_proxy:</td>\n",
       "<td>{\"http\": null, \"https\": null}</td></tr>\n",
       "<tr><td>H2O_internal_security:</td>\n",
       "<td>False</td></tr>\n",
       "<tr><td>Python_version:</td>\n",
       "<td>3.10.12 final</td></tr></tbody>\n",
       "  </table>\n",
       "</div>\n"
      ],
      "text/plain": [
       "--------------------------  -------------------------------------\n",
       "H2O_cluster_uptime:         46 mins 20 secs\n",
       "H2O_cluster_timezone:       America/Sao_Paulo\n",
       "H2O_data_parsing_timezone:  UTC\n",
       "H2O_cluster_version:        3.46.0.1\n",
       "H2O_cluster_version_age:    1 month and 14 days\n",
       "H2O_cluster_name:           H2O_from_python_mardoniofranca_noltt4\n",
       "H2O_cluster_total_nodes:    1\n",
       "H2O_cluster_free_memory:    3.811 Gb\n",
       "H2O_cluster_total_cores:    8\n",
       "H2O_cluster_allowed_cores:  8\n",
       "H2O_cluster_status:         locked, healthy\n",
       "H2O_connection_url:         http://localhost:54321\n",
       "H2O_connection_proxy:       {\"http\": null, \"https\": null}\n",
       "H2O_internal_security:      False\n",
       "Python_version:             3.10.12 final\n",
       "--------------------------  -------------------------------------"
      ]
     },
     "metadata": {},
     "output_type": "display_data"
    }
   ],
   "source": [
    "h2o.init()"
   ]
  },
  {
   "cell_type": "code",
   "execution_count": 9,
   "id": "86ff379f",
   "metadata": {},
   "outputs": [
    {
     "name": "stdout",
     "output_type": "stream",
     "text": [
      "Parse progress: |████████████████████████████████████████████████████████████████| (done) 100%\n"
     ]
    }
   ],
   "source": [
    "df = h2o.import_file(\"data/dados_21.csv\")"
   ]
  },
  {
   "cell_type": "code",
   "execution_count": 10,
   "id": "0a366532",
   "metadata": {},
   "outputs": [],
   "source": [
    "# Set response column as a factor\n",
    "df['Target'] = df['Target'].asfactor()\n",
    "response='Target'\n",
    "\n",
    "# Split the dataset into train and test\n",
    "train, test = df.split_frame(ratios = [.8], seed = 1234)"
   ]
  },
  {
   "cell_type": "code",
   "execution_count": 11,
   "id": "c804ea52",
   "metadata": {},
   "outputs": [],
   "source": [
    "# Choose which columns to encode\n",
    "encoded_columns = [\"Order_Priority\", \"Ship_Mode\", \n",
    "                   \"Customer_Name\", \"Region\", \"Customer_Segment\",\n",
    "                   \"Product_Category\",\"Product_Sub-Category\",\n",
    "                   \"Product_Container\"]"
   ]
  },
  {
   "cell_type": "code",
   "execution_count": 13,
   "id": "62a8c76a",
   "metadata": {},
   "outputs": [],
   "source": [
    "# For k_fold strategy we need to provide fold column\n",
    "fold_column = \"kfold_column\"\n",
    "train[fold_column] = train.kfold_column(n_folds=5, seed=1234)"
   ]
  },
  {
   "cell_type": "code",
   "execution_count": 14,
   "id": "3a790fd5",
   "metadata": {},
   "outputs": [],
   "source": [
    "from h2o.estimators import H2OTargetEncoderEstimator\n",
    "from h2o.estimators.gbm import H2OGradientBoostingEstimator"
   ]
  },
  {
   "cell_type": "code",
   "execution_count": 16,
   "id": "7069acca",
   "metadata": {},
   "outputs": [],
   "source": [
    "# Train a TE model\n",
    "df_te = H2OTargetEncoderEstimator(fold_column=fold_column,\n",
    "                                       data_leakage_handling=\"k_fold\",\n",
    "                                       blending=True,\n",
    "                                       inflection_point=3,\n",
    "                                       smoothing=10,\n",
    "                                       noise=0.15,     # In general, the less data you have the more regularization you need\n",
    "                                       seed=1234)"
   ]
  },
  {
   "cell_type": "code",
   "execution_count": 17,
   "id": "72564e46",
   "metadata": {},
   "outputs": [
    {
     "name": "stdout",
     "output_type": "stream",
     "text": [
      "targetencoder Model Build progress: |████████████████████████████████████████████| (done) 100%\n"
     ]
    },
    {
     "data": {
      "text/html": [
       "<pre style='margin: 1em 0 1em 0;'>Model Details\n",
       "=============\n",
       "H2OTargetEncoderEstimator : TargetEncoder\n",
       "Model Key: TargetEncoder_model_python_1714243313468_6436\n",
       "</pre>\n",
       "<div style='margin: 1em 0 1em 0;'>\n",
       "<style>\n",
       "\n",
       "#h2o-table-3.h2o-container {\n",
       "  overflow-x: auto;\n",
       "}\n",
       "#h2o-table-3 .h2o-table {\n",
       "  /* width: 100%; */\n",
       "  margin-top: 1em;\n",
       "  margin-bottom: 1em;\n",
       "}\n",
       "#h2o-table-3 .h2o-table caption {\n",
       "  white-space: nowrap;\n",
       "  caption-side: top;\n",
       "  text-align: left;\n",
       "  /* margin-left: 1em; */\n",
       "  margin: 0;\n",
       "  font-size: larger;\n",
       "}\n",
       "#h2o-table-3 .h2o-table thead {\n",
       "  white-space: nowrap; \n",
       "  position: sticky;\n",
       "  top: 0;\n",
       "  box-shadow: 0 -1px inset;\n",
       "}\n",
       "#h2o-table-3 .h2o-table tbody {\n",
       "  overflow: auto;\n",
       "}\n",
       "#h2o-table-3 .h2o-table th,\n",
       "#h2o-table-3 .h2o-table td {\n",
       "  text-align: right;\n",
       "  /* border: 1px solid; */\n",
       "}\n",
       "#h2o-table-3 .h2o-table tr:nth-child(even) {\n",
       "  /* background: #F5F5F5 */\n",
       "}\n",
       "\n",
       "</style>      \n",
       "<div id=\"h2o-table-3\" class=\"h2o-container\">\n",
       "  <table class=\"h2o-table\">\n",
       "    <caption>Target Encoder model summary: Summary for target encoder model</caption>\n",
       "    <thead><tr><th>original_names</th>\n",
       "<th>encoded_column_names</th></tr></thead>\n",
       "    <tbody><tr><td>Order_Priority</td>\n",
       "<td>Order_Priority_te</td></tr>\n",
       "<tr><td>Ship_Mode</td>\n",
       "<td>Ship_Mode_te</td></tr>\n",
       "<tr><td>Customer_Name</td>\n",
       "<td>Customer_Name_te</td></tr>\n",
       "<tr><td>Region</td>\n",
       "<td>Region_te</td></tr>\n",
       "<tr><td>Customer_Segment</td>\n",
       "<td>Customer_Segment_te</td></tr>\n",
       "<tr><td>Product_Category</td>\n",
       "<td>Product_Category_te</td></tr>\n",
       "<tr><td>Product_Sub-Category</td>\n",
       "<td>Product_Sub-Category_te</td></tr>\n",
       "<tr><td>Product_Container</td>\n",
       "<td>Product_Container_te</td></tr></tbody>\n",
       "  </table>\n",
       "</div>\n",
       "</div><pre style=\"font-size: smaller; margin: 1em 0 0 0;\">\n",
       "\n",
       "[tips]\n",
       "Use `model.explain()` to inspect the model.\n",
       "--\n",
       "Use `h2o.display.toggle_user_tips()` to switch on/off this section.</pre>"
      ],
      "text/plain": [
       "Model Details\n",
       "=============\n",
       "H2OTargetEncoderEstimator : TargetEncoder\n",
       "Model Key: TargetEncoder_model_python_1714243313468_6436\n",
       "\n",
       "\n",
       "Target Encoder model summary: Summary for target encoder model\n",
       "original_names        encoded_column_names\n",
       "--------------------  -----------------------\n",
       "Order_Priority        Order_Priority_te\n",
       "Ship_Mode             Ship_Mode_te\n",
       "Customer_Name         Customer_Name_te\n",
       "Region                Region_te\n",
       "Customer_Segment      Customer_Segment_te\n",
       "Product_Category      Product_Category_te\n",
       "Product_Sub-Category  Product_Sub-Category_te\n",
       "Product_Container     Product_Container_te\n",
       "\n",
       "[tips]\n",
       "Use `model.explain()` to inspect the model.\n",
       "--\n",
       "Use `h2o.display.toggle_user_tips()` to switch on/off this section."
      ]
     },
     "execution_count": 17,
     "metadata": {},
     "output_type": "execute_result"
    }
   ],
   "source": [
    "df_te.train(x=encoded_columns,\n",
    "                 y=response,\n",
    "                 training_frame=train)\n"
   ]
  },
  {
   "cell_type": "code",
   "execution_count": 18,
   "id": "8da94527",
   "metadata": {},
   "outputs": [
    {
     "data": {
      "text/html": [
       "<table class='dataframe'>\n",
       "<thead>\n",
       "<tr><th>Order_Priority  </th><th style=\"text-align: right;\">  Order_Quantity</th><th style=\"text-align: right;\">   Sales</th><th>Ship_Mode  </th><th style=\"text-align: right;\">  Profit</th><th>Customer_Name     </th><th>Region               </th><th>Customer_Segment  </th><th>Product_Category  </th><th>Product_Sub-Category  </th><th>Product_Container  </th><th style=\"text-align: right;\">  Target</th><th style=\"text-align: right;\">  kfold_column</th></tr>\n",
       "</thead>\n",
       "<tbody>\n",
       "<tr><td>High            </td><td style=\"text-align: right;\">              21</td><td style=\"text-align: right;\"> 2781.82</td><td>Express Air</td><td style=\"text-align: right;\"> -695.26</td><td>Monica Federle    </td><td>Nunavut              </td><td>Corporate         </td><td>Office Supplies   </td><td>Storage &amp; Organization</td><td>Large Box          </td><td style=\"text-align: right;\">       0</td><td style=\"text-align: right;\">             2</td></tr>\n",
       "<tr><td>High            </td><td style=\"text-align: right;\">              35</td><td style=\"text-align: right;\"> 3389.93</td><td>Express Air</td><td style=\"text-align: right;\">  737.94</td><td>Beth Paige        </td><td>Northwest Territories</td><td>Consumer          </td><td>Furniture         </td><td>Office Furnishings    </td><td>Large Box          </td><td style=\"text-align: right;\">       1</td><td style=\"text-align: right;\">             0</td></tr>\n",
       "<tr><td>Not Specified   </td><td style=\"text-align: right;\">               7</td><td style=\"text-align: right;\"> 2039.56</td><td>Express Air</td><td style=\"text-align: right;\"> -329.49</td><td>Bryan Davis       </td><td>Northwest Territories</td><td>Corporate         </td><td>Office Supplies   </td><td>Storage &amp; Organization</td><td>Large Box          </td><td style=\"text-align: right;\">       0</td><td style=\"text-align: right;\">             0</td></tr>\n",
       "<tr><td>Medium          </td><td style=\"text-align: right;\">              24</td><td style=\"text-align: right;\"> 1168.15</td><td>Express Air</td><td style=\"text-align: right;\"> -743.96</td><td>Muhammed MacIntyre</td><td>Northwest Territories</td><td>Small Business    </td><td>Office Supplies   </td><td>Storage &amp; Organization</td><td>Large Box          </td><td style=\"text-align: right;\">       0</td><td style=\"text-align: right;\">             1</td></tr>\n",
       "<tr><td>Not Specified   </td><td style=\"text-align: right;\">              45</td><td style=\"text-align: right;\">  237.28</td><td>Express Air</td><td style=\"text-align: right;\">-2088.68</td><td>Bryan Mills       </td><td>Northwest Territories</td><td>Small Business    </td><td>Office Supplies   </td><td>Appliances            </td><td>Large Box          </td><td style=\"text-align: right;\">       0</td><td style=\"text-align: right;\">             3</td></tr>\n",
       "<tr><td>Critical        </td><td style=\"text-align: right;\">              17</td><td style=\"text-align: right;\"> 1368.14</td><td>Express Air</td><td style=\"text-align: right;\">  171.26</td><td>Fred Wasserman    </td><td>Northwest Territories</td><td>Home Office       </td><td>Office Supplies   </td><td>Appliances            </td><td>Large Box          </td><td style=\"text-align: right;\">       1</td><td style=\"text-align: right;\">             3</td></tr>\n",
       "<tr><td>Low             </td><td style=\"text-align: right;\">              21</td><td style=\"text-align: right;\"> 4429.69</td><td>Express Air</td><td style=\"text-align: right;\">  983.55</td><td>Filia McAdams     </td><td>Atlantic             </td><td>Small Business    </td><td>Technology        </td><td>Copiers and Fax       </td><td>Large Box          </td><td style=\"text-align: right;\">       1</td><td style=\"text-align: right;\">             4</td></tr>\n",
       "<tr><td>Not Specified   </td><td style=\"text-align: right;\">              40</td><td style=\"text-align: right;\">19109.6 </td><td>Express Air</td><td style=\"text-align: right;\"> -379.29</td><td>Sanjit Chand      </td><td>West                 </td><td>Home Office       </td><td>Technology        </td><td>Copiers and Fax       </td><td>Large Box          </td><td style=\"text-align: right;\">       0</td><td style=\"text-align: right;\">             0</td></tr>\n",
       "<tr><td>High            </td><td style=\"text-align: right;\">              48</td><td style=\"text-align: right;\">  446.53</td><td>Express Air</td><td style=\"text-align: right;\"> -261.45</td><td>Rob Dowd          </td><td>West                 </td><td>Corporate         </td><td>Furniture         </td><td>Office Furnishings    </td><td>Large Box          </td><td style=\"text-align: right;\">       0</td><td style=\"text-align: right;\">             3</td></tr>\n",
       "<tr><td>Not Specified   </td><td style=\"text-align: right;\">              27</td><td style=\"text-align: right;\"> 2780.88</td><td>Express Air</td><td style=\"text-align: right;\">  595.38</td><td>Tony Chapman      </td><td>West                 </td><td>Consumer          </td><td>Furniture         </td><td>Office Furnishings    </td><td>Large Box          </td><td style=\"text-align: right;\">       1</td><td style=\"text-align: right;\">             1</td></tr>\n",
       "</tbody>\n",
       "</table><pre style='font-size: smaller; margin-bottom: 1em;'>[10 rows x 13 columns]</pre>"
      ],
      "text/plain": [
       "Order_Priority      Order_Quantity     Sales  Ship_Mode      Profit  Customer_Name       Region                 Customer_Segment    Product_Category    Product_Sub-Category    Product_Container      Target    kfold_column\n",
       "----------------  ----------------  --------  -----------  --------  ------------------  ---------------------  ------------------  ------------------  ----------------------  -------------------  --------  --------------\n",
       "High                            21   2781.82  Express Air   -695.26  Monica Federle      Nunavut                Corporate           Office Supplies     Storage & Organization  Large Box                   0               2\n",
       "High                            35   3389.93  Express Air    737.94  Beth Paige          Northwest Territories  Consumer            Furniture           Office Furnishings      Large Box                   1               0\n",
       "Not Specified                    7   2039.56  Express Air   -329.49  Bryan Davis         Northwest Territories  Corporate           Office Supplies     Storage & Organization  Large Box                   0               0\n",
       "Medium                          24   1168.15  Express Air   -743.96  Muhammed MacIntyre  Northwest Territories  Small Business      Office Supplies     Storage & Organization  Large Box                   0               1\n",
       "Not Specified                   45    237.28  Express Air  -2088.68  Bryan Mills         Northwest Territories  Small Business      Office Supplies     Appliances              Large Box                   0               3\n",
       "Critical                        17   1368.14  Express Air    171.26  Fred Wasserman      Northwest Territories  Home Office         Office Supplies     Appliances              Large Box                   1               3\n",
       "Low                             21   4429.69  Express Air    983.55  Filia McAdams       Atlantic               Small Business      Technology          Copiers and Fax         Large Box                   1               4\n",
       "Not Specified                   40  19109.6   Express Air   -379.29  Sanjit Chand        West                   Home Office         Technology          Copiers and Fax         Large Box                   0               0\n",
       "High                            48    446.53  Express Air   -261.45  Rob Dowd            West                   Corporate           Furniture           Office Furnishings      Large Box                   0               3\n",
       "Not Specified                   27   2780.88  Express Air    595.38  Tony Chapman        West                   Consumer            Furniture           Office Furnishings      Large Box                   1               1\n",
       "[10 rows x 13 columns]\n"
      ]
     },
     "execution_count": 18,
     "metadata": {},
     "output_type": "execute_result"
    }
   ],
   "source": [
    "train.head()"
   ]
  },
  {
   "cell_type": "code",
   "execution_count": 20,
   "id": "6ab1b2a8",
   "metadata": {},
   "outputs": [],
   "source": [
    "## New target encoded train and test sets\n",
    "train_te = df_te.transform(frame=train, as_training=True)\n",
    "test_te = df_te.transform(frame=test, noise=0)"
   ]
  },
  {
   "cell_type": "code",
   "execution_count": 21,
   "id": "3867a3c2",
   "metadata": {},
   "outputs": [
    {
     "data": {
      "text/html": [
       "<table class='dataframe'>\n",
       "<thead>\n",
       "<tr><th style=\"text-align: right;\">  Order_Priority_te</th><th style=\"text-align: right;\">  Ship_Mode_te</th><th style=\"text-align: right;\">  Customer_Name_te</th><th style=\"text-align: right;\">  Region_te</th><th style=\"text-align: right;\">  Customer_Segment_te</th><th style=\"text-align: right;\">  Product_Category_te</th><th style=\"text-align: right;\">  Product_Sub-Category_te</th><th style=\"text-align: right;\">  Product_Container_te</th><th>Order_Priority  </th><th>Ship_Mode  </th><th>Customer_Name     </th><th>Region               </th><th>Customer_Segment  </th><th>Product_Category  </th><th>Product_Sub-Category  </th><th>Product_Container  </th><th style=\"text-align: right;\">  Order_Quantity</th><th style=\"text-align: right;\">   Sales</th><th style=\"text-align: right;\">  Profit</th><th style=\"text-align: right;\">  kfold_column</th><th style=\"text-align: right;\">  Target</th></tr>\n",
       "</thead>\n",
       "<tbody>\n",
       "<tr><td style=\"text-align: right;\">           0.559569</td><td style=\"text-align: right;\">      0.58041 </td><td style=\"text-align: right;\">          0.659098</td><td style=\"text-align: right;\">   0.610872</td><td style=\"text-align: right;\">             0.583449</td><td style=\"text-align: right;\">             0.536438</td><td style=\"text-align: right;\">                 0.295683</td><td style=\"text-align: right;\">              0.400156</td><td>High            </td><td>Express Air</td><td>Monica Federle    </td><td>Nunavut              </td><td>Corporate         </td><td>Office Supplies   </td><td>Storage &amp; Organization</td><td>Large Box          </td><td style=\"text-align: right;\">              21</td><td style=\"text-align: right;\"> 2781.82</td><td style=\"text-align: right;\"> -695.26</td><td style=\"text-align: right;\">             2</td><td style=\"text-align: right;\">       0</td></tr>\n",
       "<tr><td style=\"text-align: right;\">           0.446459</td><td style=\"text-align: right;\">      0.471306</td><td style=\"text-align: right;\">          0.520634</td><td style=\"text-align: right;\">   0.421505</td><td style=\"text-align: right;\">             0.465287</td><td style=\"text-align: right;\">             0.481181</td><td style=\"text-align: right;\">                 0.460577</td><td style=\"text-align: right;\">              0.280789</td><td>High            </td><td>Express Air</td><td>Beth Paige        </td><td>Northwest Territories</td><td>Consumer          </td><td>Furniture         </td><td>Office Furnishings    </td><td>Large Box          </td><td style=\"text-align: right;\">              35</td><td style=\"text-align: right;\"> 3389.93</td><td style=\"text-align: right;\">  737.94</td><td style=\"text-align: right;\">             0</td><td style=\"text-align: right;\">       1</td></tr>\n",
       "<tr><td style=\"text-align: right;\">           0.576438</td><td style=\"text-align: right;\">      0.5794  </td><td style=\"text-align: right;\">          0.771075</td><td style=\"text-align: right;\">   0.529599</td><td style=\"text-align: right;\">             0.548548</td><td style=\"text-align: right;\">             0.513629</td><td style=\"text-align: right;\">                 0.252692</td><td style=\"text-align: right;\">              0.388883</td><td>Not Specified   </td><td>Express Air</td><td>Bryan Davis       </td><td>Northwest Territories</td><td>Corporate         </td><td>Office Supplies   </td><td>Storage &amp; Organization</td><td>Large Box          </td><td style=\"text-align: right;\">               7</td><td style=\"text-align: right;\"> 2039.56</td><td style=\"text-align: right;\"> -329.49</td><td style=\"text-align: right;\">             0</td><td style=\"text-align: right;\">       0</td></tr>\n",
       "<tr><td style=\"text-align: right;\">           0.676452</td><td style=\"text-align: right;\">      0.677586</td><td style=\"text-align: right;\">          0.878011</td><td style=\"text-align: right;\">   0.676949</td><td style=\"text-align: right;\">             0.67473 </td><td style=\"text-align: right;\">             0.62169 </td><td style=\"text-align: right;\">                 0.424415</td><td style=\"text-align: right;\">              0.468367</td><td>Medium          </td><td>Express Air</td><td>Muhammed MacIntyre</td><td>Northwest Territories</td><td>Small Business    </td><td>Office Supplies   </td><td>Storage &amp; Organization</td><td>Large Box          </td><td style=\"text-align: right;\">              24</td><td style=\"text-align: right;\"> 1168.15</td><td style=\"text-align: right;\"> -743.96</td><td style=\"text-align: right;\">             1</td><td style=\"text-align: right;\">       0</td></tr>\n",
       "<tr><td style=\"text-align: right;\">           0.432187</td><td style=\"text-align: right;\">      0.41584 </td><td style=\"text-align: right;\">          0.511986</td><td style=\"text-align: right;\">   0.407301</td><td style=\"text-align: right;\">             0.423128</td><td style=\"text-align: right;\">             0.343789</td><td style=\"text-align: right;\">                 0.420648</td><td style=\"text-align: right;\">              0.251629</td><td>Not Specified   </td><td>Express Air</td><td>Bryan Mills       </td><td>Northwest Territories</td><td>Small Business    </td><td>Office Supplies   </td><td>Appliances            </td><td>Large Box          </td><td style=\"text-align: right;\">              45</td><td style=\"text-align: right;\">  237.28</td><td style=\"text-align: right;\">-2088.68</td><td style=\"text-align: right;\">             3</td><td style=\"text-align: right;\">       0</td></tr>\n",
       "<tr><td style=\"text-align: right;\">           0.414867</td><td style=\"text-align: right;\">      0.509595</td><td style=\"text-align: right;\">          0.511986</td><td style=\"text-align: right;\">   0.501056</td><td style=\"text-align: right;\">             0.475322</td><td style=\"text-align: right;\">             0.437544</td><td style=\"text-align: right;\">                 0.514403</td><td style=\"text-align: right;\">              0.345384</td><td>Critical        </td><td>Express Air</td><td>Fred Wasserman    </td><td>Northwest Territories</td><td>Home Office       </td><td>Office Supplies   </td><td>Appliances            </td><td>Large Box          </td><td style=\"text-align: right;\">              17</td><td style=\"text-align: right;\"> 1368.14</td><td style=\"text-align: right;\">  171.26</td><td style=\"text-align: right;\">             3</td><td style=\"text-align: right;\">       1</td></tr>\n",
       "<tr><td style=\"text-align: right;\">           0.381733</td><td style=\"text-align: right;\">      0.406984</td><td style=\"text-align: right;\">          0.511986</td><td style=\"text-align: right;\">   0.413263</td><td style=\"text-align: right;\">             0.313322</td><td style=\"text-align: right;\">             0.471017</td><td style=\"text-align: right;\">                 0.172726</td><td style=\"text-align: right;\">              0.203761</td><td>Low             </td><td>Express Air</td><td>Filia McAdams     </td><td>Atlantic             </td><td>Small Business    </td><td>Technology        </td><td>Copiers and Fax       </td><td>Large Box          </td><td style=\"text-align: right;\">              21</td><td style=\"text-align: right;\"> 4429.69</td><td style=\"text-align: right;\">  983.55</td><td style=\"text-align: right;\">             4</td><td style=\"text-align: right;\">       1</td></tr>\n",
       "<tr><td style=\"text-align: right;\">           0.499392</td><td style=\"text-align: right;\">      0.502354</td><td style=\"text-align: right;\">          0.511986</td><td style=\"text-align: right;\">   0.484094</td><td style=\"text-align: right;\">             0.490747</td><td style=\"text-align: right;\">             0.564049</td><td style=\"text-align: right;\">                 0.467456</td><td style=\"text-align: right;\">              0.311837</td><td>Not Specified   </td><td>Express Air</td><td>Sanjit Chand      </td><td>West                 </td><td>Home Office       </td><td>Technology        </td><td>Copiers and Fax       </td><td>Large Box          </td><td style=\"text-align: right;\">              40</td><td style=\"text-align: right;\">19109.6 </td><td style=\"text-align: right;\"> -379.29</td><td style=\"text-align: right;\">             0</td><td style=\"text-align: right;\">       0</td></tr>\n",
       "<tr><td style=\"text-align: right;\">           0.452552</td><td style=\"text-align: right;\">      0.458781</td><td style=\"text-align: right;\">          0.427635</td><td style=\"text-align: right;\">   0.463037</td><td style=\"text-align: right;\">             0.453098</td><td style=\"text-align: right;\">             0.464202</td><td style=\"text-align: right;\">                 0.452368</td><td style=\"text-align: right;\">              0.29457 </td><td>High            </td><td>Express Air</td><td>Rob Dowd          </td><td>West                 </td><td>Corporate         </td><td>Furniture         </td><td>Office Furnishings    </td><td>Large Box          </td><td style=\"text-align: right;\">              48</td><td style=\"text-align: right;\">  446.53</td><td style=\"text-align: right;\"> -261.45</td><td style=\"text-align: right;\">             3</td><td style=\"text-align: right;\">       0</td></tr>\n",
       "<tr><td style=\"text-align: right;\">           0.666035</td><td style=\"text-align: right;\">      0.658068</td><td style=\"text-align: right;\">          0.858494</td><td style=\"text-align: right;\">   0.630268</td><td style=\"text-align: right;\">             0.616822</td><td style=\"text-align: right;\">             0.600677</td><td style=\"text-align: right;\">                 0.596632</td><td style=\"text-align: right;\">              0.448849</td><td>Not Specified   </td><td>Express Air</td><td>Tony Chapman      </td><td>West                 </td><td>Consumer          </td><td>Furniture         </td><td>Office Furnishings    </td><td>Large Box          </td><td style=\"text-align: right;\">              27</td><td style=\"text-align: right;\"> 2780.88</td><td style=\"text-align: right;\">  595.38</td><td style=\"text-align: right;\">             1</td><td style=\"text-align: right;\">       1</td></tr>\n",
       "</tbody>\n",
       "</table><pre style='font-size: smaller; margin-bottom: 1em;'>[10 rows x 21 columns]</pre>"
      ],
      "text/plain": [
       "  Order_Priority_te    Ship_Mode_te    Customer_Name_te    Region_te    Customer_Segment_te    Product_Category_te    Product_Sub-Category_te    Product_Container_te  Order_Priority    Ship_Mode    Customer_Name       Region                 Customer_Segment    Product_Category    Product_Sub-Category    Product_Container      Order_Quantity     Sales    Profit    kfold_column    Target\n",
       "-------------------  --------------  ------------------  -----------  ---------------------  ---------------------  -------------------------  ----------------------  ----------------  -----------  ------------------  ---------------------  ------------------  ------------------  ----------------------  -------------------  ----------------  --------  --------  --------------  --------\n",
       "           0.559569        0.58041             0.659098     0.610872               0.583449               0.536438                   0.295683                0.400156  High              Express Air  Monica Federle      Nunavut                Corporate           Office Supplies     Storage & Organization  Large Box                          21   2781.82   -695.26               2         0\n",
       "           0.446459        0.471306            0.520634     0.421505               0.465287               0.481181                   0.460577                0.280789  High              Express Air  Beth Paige          Northwest Territories  Consumer            Furniture           Office Furnishings      Large Box                          35   3389.93    737.94               0         1\n",
       "           0.576438        0.5794              0.771075     0.529599               0.548548               0.513629                   0.252692                0.388883  Not Specified     Express Air  Bryan Davis         Northwest Territories  Corporate           Office Supplies     Storage & Organization  Large Box                           7   2039.56   -329.49               0         0\n",
       "           0.676452        0.677586            0.878011     0.676949               0.67473                0.62169                    0.424415                0.468367  Medium            Express Air  Muhammed MacIntyre  Northwest Territories  Small Business      Office Supplies     Storage & Organization  Large Box                          24   1168.15   -743.96               1         0\n",
       "           0.432187        0.41584             0.511986     0.407301               0.423128               0.343789                   0.420648                0.251629  Not Specified     Express Air  Bryan Mills         Northwest Territories  Small Business      Office Supplies     Appliances              Large Box                          45    237.28  -2088.68               3         0\n",
       "           0.414867        0.509595            0.511986     0.501056               0.475322               0.437544                   0.514403                0.345384  Critical          Express Air  Fred Wasserman      Northwest Territories  Home Office         Office Supplies     Appliances              Large Box                          17   1368.14    171.26               3         1\n",
       "           0.381733        0.406984            0.511986     0.413263               0.313322               0.471017                   0.172726                0.203761  Low               Express Air  Filia McAdams       Atlantic               Small Business      Technology          Copiers and Fax         Large Box                          21   4429.69    983.55               4         1\n",
       "           0.499392        0.502354            0.511986     0.484094               0.490747               0.564049                   0.467456                0.311837  Not Specified     Express Air  Sanjit Chand        West                   Home Office         Technology          Copiers and Fax         Large Box                          40  19109.6    -379.29               0         0\n",
       "           0.452552        0.458781            0.427635     0.463037               0.453098               0.464202                   0.452368                0.29457   High              Express Air  Rob Dowd            West                   Corporate           Furniture           Office Furnishings      Large Box                          48    446.53   -261.45               3         0\n",
       "           0.666035        0.658068            0.858494     0.630268               0.616822               0.600677                   0.596632                0.448849  Not Specified     Express Air  Tony Chapman        West                   Consumer            Furniture           Office Furnishings      Large Box                          27   2780.88    595.38               1         1\n",
       "[10 rows x 21 columns]\n"
      ]
     },
     "execution_count": 21,
     "metadata": {},
     "output_type": "execute_result"
    }
   ],
   "source": [
    "train_te.head()"
   ]
  },
  {
   "cell_type": "code",
   "execution_count": 26,
   "id": "23118a10",
   "metadata": {},
   "outputs": [
    {
     "data": {
      "text/plain": [
       "'Target'"
      ]
     },
     "execution_count": 26,
     "metadata": {},
     "output_type": "execute_result"
    }
   ],
   "source": [
    "y"
   ]
  },
  {
   "cell_type": "code",
   "execution_count": 31,
   "id": "b759e086",
   "metadata": {},
   "outputs": [],
   "source": [
    "x_baseline = ['Order_Priority_te','Ship_Mode_te', 'Customer_Name_te',\n",
    "              'Region_te', 'Customer_Segment_te', 'Product_Category_te',\n",
    "               'Product_Sub-Category_te', 'Product_Container_te',\n",
    "               'Order_Quantity','Sales','Target']\n"
   ]
  },
  {
   "cell_type": "code",
   "execution_count": 32,
   "id": "56063036",
   "metadata": {},
   "outputs": [],
   "source": [
    "x = x_baseline\n",
    "y = \"Target\"\n",
    "x.remove(y)"
   ]
  },
  {
   "cell_type": "code",
   "execution_count": null,
   "id": "aaa32f99",
   "metadata": {},
   "outputs": [
    {
     "name": "stdout",
     "output_type": "stream",
     "text": [
      "AutoML progress: |\n",
      "16:37:35.568: _min_rows param, The dataset size is too small to split for min_rows=100.0: must have at least 200.0 (weighted) rows, but have only 146.0.\n",
      "\n",
      "████████████████████████████████████████████████████"
     ]
    }
   ],
   "source": [
    "# For binary classification, response should be a factor\n",
    "train_te[y] = train_te[y].asfactor()\n",
    "test_te[y] = test_te[y].asfactor()\n",
    "\n",
    "# Run AutoML for 20 base models\n",
    "aml = H2OAutoML(max_models=40, seed=1)\n",
    "aml.train(x=x, y=y, training_frame=test_te)\n",
    "\n",
    "# View the AutoML Leaderboard\n",
    "lb = aml.leaderboard\n",
    "lb.head(rows=lb.nrows)  # Print all rows instead of default (10 rows)"
   ]
  },
  {
   "cell_type": "code",
   "execution_count": null,
   "id": "6af988e6",
   "metadata": {},
   "outputs": [],
   "source": []
  },
  {
   "cell_type": "code",
   "execution_count": null,
   "id": "454f3453",
   "metadata": {},
   "outputs": [],
   "source": []
  },
  {
   "cell_type": "code",
   "execution_count": null,
   "id": "3a050530",
   "metadata": {},
   "outputs": [],
   "source": []
  },
  {
   "cell_type": "code",
   "execution_count": null,
   "id": "457dda99",
   "metadata": {},
   "outputs": [],
   "source": []
  },
  {
   "cell_type": "code",
   "execution_count": null,
   "id": "b1a227eb",
   "metadata": {},
   "outputs": [],
   "source": [
    "x = train.columns\n",
    "y = \"Target\"\n",
    "x.remove(y)"
   ]
  },
  {
   "cell_type": "code",
   "execution_count": null,
   "id": "ebccd634",
   "metadata": {},
   "outputs": [],
   "source": [
    "# For binary classification, response should be a factor\n",
    "train[y] = train[y].asfactor()\n",
    "test[y] = test[y].asfactor()\n",
    "\n",
    "# Run AutoML for 20 base models\n",
    "aml = H2OAutoML(max_models=40, seed=1)\n",
    "aml.train(x=x, y=y, training_frame=train)\n",
    "\n",
    "# View the AutoML Leaderboard\n",
    "lb = aml.leaderboard\n",
    "lb.head(rows=lb.nrows)  # Print all rows instead of default (10 rows)"
   ]
  },
  {
   "cell_type": "code",
   "execution_count": null,
   "id": "61b4000b",
   "metadata": {},
   "outputs": [],
   "source": []
  },
  {
   "cell_type": "code",
   "execution_count": null,
   "id": "c5854cbd",
   "metadata": {},
   "outputs": [],
   "source": []
  },
  {
   "cell_type": "code",
   "execution_count": null,
   "id": "46cb339b",
   "metadata": {},
   "outputs": [],
   "source": []
  },
  {
   "cell_type": "code",
   "execution_count": null,
   "id": "590ec67e",
   "metadata": {},
   "outputs": [],
   "source": []
  },
  {
   "cell_type": "code",
   "execution_count": null,
   "id": "9315b0e1",
   "metadata": {},
   "outputs": [],
   "source": []
  },
  {
   "cell_type": "code",
   "execution_count": null,
   "id": "4835b585",
   "metadata": {},
   "outputs": [],
   "source": []
  },
  {
   "cell_type": "code",
   "execution_count": null,
   "id": "8e4edfc9",
   "metadata": {},
   "outputs": [],
   "source": []
  },
  {
   "cell_type": "code",
   "execution_count": null,
   "id": "d343c7de",
   "metadata": {},
   "outputs": [],
   "source": []
  },
  {
   "cell_type": "markdown",
   "id": "eeeb4acd",
   "metadata": {},
   "source": [
    "https://docs.h2o.ai/h2o/latest-stable/h2o-py/docs/intro.html"
   ]
  },
  {
   "cell_type": "markdown",
   "id": "220fd39c",
   "metadata": {},
   "source": [
    "https://medium.com/h2o-ai-brasil/h2o-os-primeiros-passos-fae39077e028"
   ]
  },
  {
   "cell_type": "markdown",
   "id": "9d22e6db",
   "metadata": {},
   "source": [
    "https://docs.h2o.ai/h2o/latest-stable/h2o-docs/automl.html"
   ]
  },
  {
   "cell_type": "markdown",
   "id": "e9b9819c",
   "metadata": {},
   "source": [
    "https://docs.h2o.ai/h2o/latest-stable/h2o-docs/training-models.html"
   ]
  }
 ],
 "metadata": {
  "kernelspec": {
   "display_name": "Python 3 (ipykernel)",
   "language": "python",
   "name": "python3"
  },
  "language_info": {
   "codemirror_mode": {
    "name": "ipython",
    "version": 3
   },
   "file_extension": ".py",
   "mimetype": "text/x-python",
   "name": "python",
   "nbconvert_exporter": "python",
   "pygments_lexer": "ipython3",
   "version": "3.10.12"
  }
 },
 "nbformat": 4,
 "nbformat_minor": 5
}
