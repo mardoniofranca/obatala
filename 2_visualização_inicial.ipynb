{
 "cells": [
  {
   "cell_type": "markdown",
   "id": "585f808d",
   "metadata": {},
   "source": [
    "# Preparação dos Dados"
   ]
  },
  {
   "cell_type": "markdown",
   "id": "efb89747",
   "metadata": {},
   "source": [
    "### Importação das Bibliotecas"
   ]
  },
  {
   "cell_type": "code",
   "execution_count": 1,
   "id": "0ab9408c",
   "metadata": {},
   "outputs": [],
   "source": [
    "import pandas as pd\n",
    "import numpy as np\n",
    "import matplotlib.pyplot as plt\n",
    "import seaborn as sns\n",
    "import plotly.express as px\n",
    "import warnings\n",
    "warnings.filterwarnings('ignore')\n",
    "\n",
    "import plotly.graph_objects as go\n",
    "import plotly.express as px\n",
    "\n",
    "# plot parameters\n",
    "%matplotlib inline\n",
    "plt.rcParams['font.size'] = 14\n",
    "plt.rcParams['figure.figsize'] = (9, 5)\n",
    "plt.rcParams['figure.facecolor'] = '#00000000'"
   ]
  },
  {
   "cell_type": "markdown",
   "id": "09bb8c61",
   "metadata": {},
   "source": [
    "### Leitura dos Dados"
   ]
  },
  {
   "cell_type": "code",
   "execution_count": 3,
   "id": "0c0e2ae5",
   "metadata": {},
   "outputs": [],
   "source": [
    "df  = pd.read_csv(\"data/dados.csv\")\n",
    "df_prep = pd.read_csv(\"data/dados_prep.csv\")\n"
   ]
  },
  {
   "cell_type": "markdown",
   "id": "efec4191",
   "metadata": {},
   "source": [
    "### Visualização Inicial"
   ]
  },
  {
   "cell_type": "code",
   "execution_count": 4,
   "id": "9d037c3f",
   "metadata": {},
   "outputs": [],
   "source": [
    "produtos_mais_vendidos = df.groupby('Product_Name')['Order_Quantity'].sum().reset_index()\n",
    "produtos_mais_vendidos = produtos_mais_vendidos.sort_values(by='Order_Quantity', ascending=False).head(10)\n",
    "\n",
    "fig1 = go.Figure(go.Bar(\n",
    "    x=produtos_mais_vendidos['Order_Quantity'],\n",
    "    y=produtos_mais_vendidos['Product_Name'],\n",
    "    orientation='h',\n",
    "    text=produtos_mais_vendidos['Order_Quantity'],\n",
    "    textposition='auto',\n",
    "    insidetextfont=dict(family='Times', size=12)\n",
    "))\n",
    "\n",
    "fig1.update_layout(title='Top 10 Produtos Mais Vendidos', xaxis_title='Quantidade Vendida', yaxis_title='Produto')\n",
    "\n",
    "fig1.show()"
   ]
  },
  {
   "cell_type": "code",
   "execution_count": 5,
   "id": "43bb41b1",
   "metadata": {},
   "outputs": [
    {
     "data": {
      "application/vnd.plotly.v1+json": {
       "config": {
        "plotlyServerURL": "https://plot.ly"
       },
       "data": [
        {
         "insidetextfont": {
          "family": "Times",
          "size": 12
         },
         "orientation": "h",
         "text": [
          8417.57,
          7416.43,
          6850.13,
          6622.43,
          6521.3,
          6388.280000000001,
          5501.299999999999,
          5455.96,
          5322.14,
          5282.21
         ],
         "textposition": "auto",
         "type": "bar",
         "x": [
          8417.57,
          7416.43,
          6850.13,
          6622.43,
          6521.3,
          6388.280000000001,
          5501.299999999999,
          5455.96,
          5322.14,
          5282.21
         ],
         "y": [
          "Fellowes PB500 Electric Punch Plastic Comb Binding Machine with Manual Bind",
          "Polycom ViaVideo™ Desktop Video Communications Unit",
          "Canon MP41DH Printing Calculator",
          "Hoover WindTunnel™ Plus Canister Vacuum",
          "2160i",
          "Kensington 7 Outlet MasterPiece Power Center",
          "Lifetime Advantage™ Folding Chairs, 4/Carton",
          "Polycom VoiceStation 100",
          "Polycom ViewStation™ Adapter H323 Videoconferencing Unit",
          "Sharp AL-1530CS Digital Copier"
         ]
        }
       ],
       "layout": {
        "template": {
         "data": {
          "bar": [
           {
            "error_x": {
             "color": "#2a3f5f"
            },
            "error_y": {
             "color": "#2a3f5f"
            },
            "marker": {
             "line": {
              "color": "#E5ECF6",
              "width": 0.5
             },
             "pattern": {
              "fillmode": "overlay",
              "size": 10,
              "solidity": 0.2
             }
            },
            "type": "bar"
           }
          ],
          "barpolar": [
           {
            "marker": {
             "line": {
              "color": "#E5ECF6",
              "width": 0.5
             },
             "pattern": {
              "fillmode": "overlay",
              "size": 10,
              "solidity": 0.2
             }
            },
            "type": "barpolar"
           }
          ],
          "carpet": [
           {
            "aaxis": {
             "endlinecolor": "#2a3f5f",
             "gridcolor": "white",
             "linecolor": "white",
             "minorgridcolor": "white",
             "startlinecolor": "#2a3f5f"
            },
            "baxis": {
             "endlinecolor": "#2a3f5f",
             "gridcolor": "white",
             "linecolor": "white",
             "minorgridcolor": "white",
             "startlinecolor": "#2a3f5f"
            },
            "type": "carpet"
           }
          ],
          "choropleth": [
           {
            "colorbar": {
             "outlinewidth": 0,
             "ticks": ""
            },
            "type": "choropleth"
           }
          ],
          "contour": [
           {
            "colorbar": {
             "outlinewidth": 0,
             "ticks": ""
            },
            "colorscale": [
             [
              0,
              "#0d0887"
             ],
             [
              0.1111111111111111,
              "#46039f"
             ],
             [
              0.2222222222222222,
              "#7201a8"
             ],
             [
              0.3333333333333333,
              "#9c179e"
             ],
             [
              0.4444444444444444,
              "#bd3786"
             ],
             [
              0.5555555555555556,
              "#d8576b"
             ],
             [
              0.6666666666666666,
              "#ed7953"
             ],
             [
              0.7777777777777778,
              "#fb9f3a"
             ],
             [
              0.8888888888888888,
              "#fdca26"
             ],
             [
              1,
              "#f0f921"
             ]
            ],
            "type": "contour"
           }
          ],
          "contourcarpet": [
           {
            "colorbar": {
             "outlinewidth": 0,
             "ticks": ""
            },
            "type": "contourcarpet"
           }
          ],
          "heatmap": [
           {
            "colorbar": {
             "outlinewidth": 0,
             "ticks": ""
            },
            "colorscale": [
             [
              0,
              "#0d0887"
             ],
             [
              0.1111111111111111,
              "#46039f"
             ],
             [
              0.2222222222222222,
              "#7201a8"
             ],
             [
              0.3333333333333333,
              "#9c179e"
             ],
             [
              0.4444444444444444,
              "#bd3786"
             ],
             [
              0.5555555555555556,
              "#d8576b"
             ],
             [
              0.6666666666666666,
              "#ed7953"
             ],
             [
              0.7777777777777778,
              "#fb9f3a"
             ],
             [
              0.8888888888888888,
              "#fdca26"
             ],
             [
              1,
              "#f0f921"
             ]
            ],
            "type": "heatmap"
           }
          ],
          "heatmapgl": [
           {
            "colorbar": {
             "outlinewidth": 0,
             "ticks": ""
            },
            "colorscale": [
             [
              0,
              "#0d0887"
             ],
             [
              0.1111111111111111,
              "#46039f"
             ],
             [
              0.2222222222222222,
              "#7201a8"
             ],
             [
              0.3333333333333333,
              "#9c179e"
             ],
             [
              0.4444444444444444,
              "#bd3786"
             ],
             [
              0.5555555555555556,
              "#d8576b"
             ],
             [
              0.6666666666666666,
              "#ed7953"
             ],
             [
              0.7777777777777778,
              "#fb9f3a"
             ],
             [
              0.8888888888888888,
              "#fdca26"
             ],
             [
              1,
              "#f0f921"
             ]
            ],
            "type": "heatmapgl"
           }
          ],
          "histogram": [
           {
            "marker": {
             "pattern": {
              "fillmode": "overlay",
              "size": 10,
              "solidity": 0.2
             }
            },
            "type": "histogram"
           }
          ],
          "histogram2d": [
           {
            "colorbar": {
             "outlinewidth": 0,
             "ticks": ""
            },
            "colorscale": [
             [
              0,
              "#0d0887"
             ],
             [
              0.1111111111111111,
              "#46039f"
             ],
             [
              0.2222222222222222,
              "#7201a8"
             ],
             [
              0.3333333333333333,
              "#9c179e"
             ],
             [
              0.4444444444444444,
              "#bd3786"
             ],
             [
              0.5555555555555556,
              "#d8576b"
             ],
             [
              0.6666666666666666,
              "#ed7953"
             ],
             [
              0.7777777777777778,
              "#fb9f3a"
             ],
             [
              0.8888888888888888,
              "#fdca26"
             ],
             [
              1,
              "#f0f921"
             ]
            ],
            "type": "histogram2d"
           }
          ],
          "histogram2dcontour": [
           {
            "colorbar": {
             "outlinewidth": 0,
             "ticks": ""
            },
            "colorscale": [
             [
              0,
              "#0d0887"
             ],
             [
              0.1111111111111111,
              "#46039f"
             ],
             [
              0.2222222222222222,
              "#7201a8"
             ],
             [
              0.3333333333333333,
              "#9c179e"
             ],
             [
              0.4444444444444444,
              "#bd3786"
             ],
             [
              0.5555555555555556,
              "#d8576b"
             ],
             [
              0.6666666666666666,
              "#ed7953"
             ],
             [
              0.7777777777777778,
              "#fb9f3a"
             ],
             [
              0.8888888888888888,
              "#fdca26"
             ],
             [
              1,
              "#f0f921"
             ]
            ],
            "type": "histogram2dcontour"
           }
          ],
          "mesh3d": [
           {
            "colorbar": {
             "outlinewidth": 0,
             "ticks": ""
            },
            "type": "mesh3d"
           }
          ],
          "parcoords": [
           {
            "line": {
             "colorbar": {
              "outlinewidth": 0,
              "ticks": ""
             }
            },
            "type": "parcoords"
           }
          ],
          "pie": [
           {
            "automargin": true,
            "type": "pie"
           }
          ],
          "scatter": [
           {
            "fillpattern": {
             "fillmode": "overlay",
             "size": 10,
             "solidity": 0.2
            },
            "type": "scatter"
           }
          ],
          "scatter3d": [
           {
            "line": {
             "colorbar": {
              "outlinewidth": 0,
              "ticks": ""
             }
            },
            "marker": {
             "colorbar": {
              "outlinewidth": 0,
              "ticks": ""
             }
            },
            "type": "scatter3d"
           }
          ],
          "scattercarpet": [
           {
            "marker": {
             "colorbar": {
              "outlinewidth": 0,
              "ticks": ""
             }
            },
            "type": "scattercarpet"
           }
          ],
          "scattergeo": [
           {
            "marker": {
             "colorbar": {
              "outlinewidth": 0,
              "ticks": ""
             }
            },
            "type": "scattergeo"
           }
          ],
          "scattergl": [
           {
            "marker": {
             "colorbar": {
              "outlinewidth": 0,
              "ticks": ""
             }
            },
            "type": "scattergl"
           }
          ],
          "scattermapbox": [
           {
            "marker": {
             "colorbar": {
              "outlinewidth": 0,
              "ticks": ""
             }
            },
            "type": "scattermapbox"
           }
          ],
          "scatterpolar": [
           {
            "marker": {
             "colorbar": {
              "outlinewidth": 0,
              "ticks": ""
             }
            },
            "type": "scatterpolar"
           }
          ],
          "scatterpolargl": [
           {
            "marker": {
             "colorbar": {
              "outlinewidth": 0,
              "ticks": ""
             }
            },
            "type": "scatterpolargl"
           }
          ],
          "scatterternary": [
           {
            "marker": {
             "colorbar": {
              "outlinewidth": 0,
              "ticks": ""
             }
            },
            "type": "scatterternary"
           }
          ],
          "surface": [
           {
            "colorbar": {
             "outlinewidth": 0,
             "ticks": ""
            },
            "colorscale": [
             [
              0,
              "#0d0887"
             ],
             [
              0.1111111111111111,
              "#46039f"
             ],
             [
              0.2222222222222222,
              "#7201a8"
             ],
             [
              0.3333333333333333,
              "#9c179e"
             ],
             [
              0.4444444444444444,
              "#bd3786"
             ],
             [
              0.5555555555555556,
              "#d8576b"
             ],
             [
              0.6666666666666666,
              "#ed7953"
             ],
             [
              0.7777777777777778,
              "#fb9f3a"
             ],
             [
              0.8888888888888888,
              "#fdca26"
             ],
             [
              1,
              "#f0f921"
             ]
            ],
            "type": "surface"
           }
          ],
          "table": [
           {
            "cells": {
             "fill": {
              "color": "#EBF0F8"
             },
             "line": {
              "color": "white"
             }
            },
            "header": {
             "fill": {
              "color": "#C8D4E3"
             },
             "line": {
              "color": "white"
             }
            },
            "type": "table"
           }
          ]
         },
         "layout": {
          "annotationdefaults": {
           "arrowcolor": "#2a3f5f",
           "arrowhead": 0,
           "arrowwidth": 1
          },
          "autotypenumbers": "strict",
          "coloraxis": {
           "colorbar": {
            "outlinewidth": 0,
            "ticks": ""
           }
          },
          "colorscale": {
           "diverging": [
            [
             0,
             "#8e0152"
            ],
            [
             0.1,
             "#c51b7d"
            ],
            [
             0.2,
             "#de77ae"
            ],
            [
             0.3,
             "#f1b6da"
            ],
            [
             0.4,
             "#fde0ef"
            ],
            [
             0.5,
             "#f7f7f7"
            ],
            [
             0.6,
             "#e6f5d0"
            ],
            [
             0.7,
             "#b8e186"
            ],
            [
             0.8,
             "#7fbc41"
            ],
            [
             0.9,
             "#4d9221"
            ],
            [
             1,
             "#276419"
            ]
           ],
           "sequential": [
            [
             0,
             "#0d0887"
            ],
            [
             0.1111111111111111,
             "#46039f"
            ],
            [
             0.2222222222222222,
             "#7201a8"
            ],
            [
             0.3333333333333333,
             "#9c179e"
            ],
            [
             0.4444444444444444,
             "#bd3786"
            ],
            [
             0.5555555555555556,
             "#d8576b"
            ],
            [
             0.6666666666666666,
             "#ed7953"
            ],
            [
             0.7777777777777778,
             "#fb9f3a"
            ],
            [
             0.8888888888888888,
             "#fdca26"
            ],
            [
             1,
             "#f0f921"
            ]
           ],
           "sequentialminus": [
            [
             0,
             "#0d0887"
            ],
            [
             0.1111111111111111,
             "#46039f"
            ],
            [
             0.2222222222222222,
             "#7201a8"
            ],
            [
             0.3333333333333333,
             "#9c179e"
            ],
            [
             0.4444444444444444,
             "#bd3786"
            ],
            [
             0.5555555555555556,
             "#d8576b"
            ],
            [
             0.6666666666666666,
             "#ed7953"
            ],
            [
             0.7777777777777778,
             "#fb9f3a"
            ],
            [
             0.8888888888888888,
             "#fdca26"
            ],
            [
             1,
             "#f0f921"
            ]
           ]
          },
          "colorway": [
           "#636efa",
           "#EF553B",
           "#00cc96",
           "#ab63fa",
           "#FFA15A",
           "#19d3f3",
           "#FF6692",
           "#B6E880",
           "#FF97FF",
           "#FECB52"
          ],
          "font": {
           "color": "#2a3f5f"
          },
          "geo": {
           "bgcolor": "white",
           "lakecolor": "white",
           "landcolor": "#E5ECF6",
           "showlakes": true,
           "showland": true,
           "subunitcolor": "white"
          },
          "hoverlabel": {
           "align": "left"
          },
          "hovermode": "closest",
          "mapbox": {
           "style": "light"
          },
          "paper_bgcolor": "white",
          "plot_bgcolor": "#E5ECF6",
          "polar": {
           "angularaxis": {
            "gridcolor": "white",
            "linecolor": "white",
            "ticks": ""
           },
           "bgcolor": "#E5ECF6",
           "radialaxis": {
            "gridcolor": "white",
            "linecolor": "white",
            "ticks": ""
           }
          },
          "scene": {
           "xaxis": {
            "backgroundcolor": "#E5ECF6",
            "gridcolor": "white",
            "gridwidth": 2,
            "linecolor": "white",
            "showbackground": true,
            "ticks": "",
            "zerolinecolor": "white"
           },
           "yaxis": {
            "backgroundcolor": "#E5ECF6",
            "gridcolor": "white",
            "gridwidth": 2,
            "linecolor": "white",
            "showbackground": true,
            "ticks": "",
            "zerolinecolor": "white"
           },
           "zaxis": {
            "backgroundcolor": "#E5ECF6",
            "gridcolor": "white",
            "gridwidth": 2,
            "linecolor": "white",
            "showbackground": true,
            "ticks": "",
            "zerolinecolor": "white"
           }
          },
          "shapedefaults": {
           "line": {
            "color": "#2a3f5f"
           }
          },
          "ternary": {
           "aaxis": {
            "gridcolor": "white",
            "linecolor": "white",
            "ticks": ""
           },
           "baxis": {
            "gridcolor": "white",
            "linecolor": "white",
            "ticks": ""
           },
           "bgcolor": "#E5ECF6",
           "caxis": {
            "gridcolor": "white",
            "linecolor": "white",
            "ticks": ""
           }
          },
          "title": {
           "x": 0.05
          },
          "xaxis": {
           "automargin": true,
           "gridcolor": "white",
           "linecolor": "white",
           "ticks": "",
           "title": {
            "standoff": 15
           },
           "zerolinecolor": "white",
           "zerolinewidth": 2
          },
          "yaxis": {
           "automargin": true,
           "gridcolor": "white",
           "linecolor": "white",
           "ticks": "",
           "title": {
            "standoff": 15
           },
           "zerolinecolor": "white",
           "zerolinewidth": 2
          }
         }
        },
        "title": {
         "text": "Top 10 Produtos Mais Lucrativos"
        },
        "xaxis": {
         "title": {
          "text": "Lucro"
         }
        },
        "yaxis": {
         "title": {
          "text": "Produto"
         }
        }
       }
      },
      "text/html": [
       "<div>                            <div id=\"375814e7-2541-48c7-8ef1-ed2e9ee6459f\" class=\"plotly-graph-div\" style=\"height:525px; width:100%;\"></div>            <script type=\"text/javascript\">                require([\"plotly\"], function(Plotly) {                    window.PLOTLYENV=window.PLOTLYENV || {};                                    if (document.getElementById(\"375814e7-2541-48c7-8ef1-ed2e9ee6459f\")) {                    Plotly.newPlot(                        \"375814e7-2541-48c7-8ef1-ed2e9ee6459f\",                        [{\"insidetextfont\":{\"family\":\"Times\",\"size\":12},\"orientation\":\"h\",\"text\":[8417.57,7416.43,6850.13,6622.43,6521.3,6388.280000000001,5501.299999999999,5455.96,5322.14,5282.21],\"textposition\":\"auto\",\"x\":[8417.57,7416.43,6850.13,6622.43,6521.3,6388.280000000001,5501.299999999999,5455.96,5322.14,5282.21],\"y\":[\"Fellowes PB500 Electric Punch Plastic Comb Binding Machine with Manual Bind\",\"Polycom ViaVideo™ Desktop Video Communications Unit\",\"Canon MP41DH Printing Calculator\",\"Hoover WindTunnel™ Plus Canister Vacuum\",\"2160i\",\"Kensington 7 Outlet MasterPiece Power Center\",\"Lifetime Advantage™ Folding Chairs, 4\\u002fCarton\",\"Polycom VoiceStation 100\",\"Polycom ViewStation™ Adapter H323 Videoconferencing Unit\",\"Sharp AL-1530CS Digital Copier\"],\"type\":\"bar\"}],                        {\"template\":{\"data\":{\"histogram2dcontour\":[{\"type\":\"histogram2dcontour\",\"colorbar\":{\"outlinewidth\":0,\"ticks\":\"\"},\"colorscale\":[[0.0,\"#0d0887\"],[0.1111111111111111,\"#46039f\"],[0.2222222222222222,\"#7201a8\"],[0.3333333333333333,\"#9c179e\"],[0.4444444444444444,\"#bd3786\"],[0.5555555555555556,\"#d8576b\"],[0.6666666666666666,\"#ed7953\"],[0.7777777777777778,\"#fb9f3a\"],[0.8888888888888888,\"#fdca26\"],[1.0,\"#f0f921\"]]}],\"choropleth\":[{\"type\":\"choropleth\",\"colorbar\":{\"outlinewidth\":0,\"ticks\":\"\"}}],\"histogram2d\":[{\"type\":\"histogram2d\",\"colorbar\":{\"outlinewidth\":0,\"ticks\":\"\"},\"colorscale\":[[0.0,\"#0d0887\"],[0.1111111111111111,\"#46039f\"],[0.2222222222222222,\"#7201a8\"],[0.3333333333333333,\"#9c179e\"],[0.4444444444444444,\"#bd3786\"],[0.5555555555555556,\"#d8576b\"],[0.6666666666666666,\"#ed7953\"],[0.7777777777777778,\"#fb9f3a\"],[0.8888888888888888,\"#fdca26\"],[1.0,\"#f0f921\"]]}],\"heatmap\":[{\"type\":\"heatmap\",\"colorbar\":{\"outlinewidth\":0,\"ticks\":\"\"},\"colorscale\":[[0.0,\"#0d0887\"],[0.1111111111111111,\"#46039f\"],[0.2222222222222222,\"#7201a8\"],[0.3333333333333333,\"#9c179e\"],[0.4444444444444444,\"#bd3786\"],[0.5555555555555556,\"#d8576b\"],[0.6666666666666666,\"#ed7953\"],[0.7777777777777778,\"#fb9f3a\"],[0.8888888888888888,\"#fdca26\"],[1.0,\"#f0f921\"]]}],\"heatmapgl\":[{\"type\":\"heatmapgl\",\"colorbar\":{\"outlinewidth\":0,\"ticks\":\"\"},\"colorscale\":[[0.0,\"#0d0887\"],[0.1111111111111111,\"#46039f\"],[0.2222222222222222,\"#7201a8\"],[0.3333333333333333,\"#9c179e\"],[0.4444444444444444,\"#bd3786\"],[0.5555555555555556,\"#d8576b\"],[0.6666666666666666,\"#ed7953\"],[0.7777777777777778,\"#fb9f3a\"],[0.8888888888888888,\"#fdca26\"],[1.0,\"#f0f921\"]]}],\"contourcarpet\":[{\"type\":\"contourcarpet\",\"colorbar\":{\"outlinewidth\":0,\"ticks\":\"\"}}],\"contour\":[{\"type\":\"contour\",\"colorbar\":{\"outlinewidth\":0,\"ticks\":\"\"},\"colorscale\":[[0.0,\"#0d0887\"],[0.1111111111111111,\"#46039f\"],[0.2222222222222222,\"#7201a8\"],[0.3333333333333333,\"#9c179e\"],[0.4444444444444444,\"#bd3786\"],[0.5555555555555556,\"#d8576b\"],[0.6666666666666666,\"#ed7953\"],[0.7777777777777778,\"#fb9f3a\"],[0.8888888888888888,\"#fdca26\"],[1.0,\"#f0f921\"]]}],\"surface\":[{\"type\":\"surface\",\"colorbar\":{\"outlinewidth\":0,\"ticks\":\"\"},\"colorscale\":[[0.0,\"#0d0887\"],[0.1111111111111111,\"#46039f\"],[0.2222222222222222,\"#7201a8\"],[0.3333333333333333,\"#9c179e\"],[0.4444444444444444,\"#bd3786\"],[0.5555555555555556,\"#d8576b\"],[0.6666666666666666,\"#ed7953\"],[0.7777777777777778,\"#fb9f3a\"],[0.8888888888888888,\"#fdca26\"],[1.0,\"#f0f921\"]]}],\"mesh3d\":[{\"type\":\"mesh3d\",\"colorbar\":{\"outlinewidth\":0,\"ticks\":\"\"}}],\"scatter\":[{\"fillpattern\":{\"fillmode\":\"overlay\",\"size\":10,\"solidity\":0.2},\"type\":\"scatter\"}],\"parcoords\":[{\"type\":\"parcoords\",\"line\":{\"colorbar\":{\"outlinewidth\":0,\"ticks\":\"\"}}}],\"scatterpolargl\":[{\"type\":\"scatterpolargl\",\"marker\":{\"colorbar\":{\"outlinewidth\":0,\"ticks\":\"\"}}}],\"bar\":[{\"error_x\":{\"color\":\"#2a3f5f\"},\"error_y\":{\"color\":\"#2a3f5f\"},\"marker\":{\"line\":{\"color\":\"#E5ECF6\",\"width\":0.5},\"pattern\":{\"fillmode\":\"overlay\",\"size\":10,\"solidity\":0.2}},\"type\":\"bar\"}],\"scattergeo\":[{\"type\":\"scattergeo\",\"marker\":{\"colorbar\":{\"outlinewidth\":0,\"ticks\":\"\"}}}],\"scatterpolar\":[{\"type\":\"scatterpolar\",\"marker\":{\"colorbar\":{\"outlinewidth\":0,\"ticks\":\"\"}}}],\"histogram\":[{\"marker\":{\"pattern\":{\"fillmode\":\"overlay\",\"size\":10,\"solidity\":0.2}},\"type\":\"histogram\"}],\"scattergl\":[{\"type\":\"scattergl\",\"marker\":{\"colorbar\":{\"outlinewidth\":0,\"ticks\":\"\"}}}],\"scatter3d\":[{\"type\":\"scatter3d\",\"line\":{\"colorbar\":{\"outlinewidth\":0,\"ticks\":\"\"}},\"marker\":{\"colorbar\":{\"outlinewidth\":0,\"ticks\":\"\"}}}],\"scattermapbox\":[{\"type\":\"scattermapbox\",\"marker\":{\"colorbar\":{\"outlinewidth\":0,\"ticks\":\"\"}}}],\"scatterternary\":[{\"type\":\"scatterternary\",\"marker\":{\"colorbar\":{\"outlinewidth\":0,\"ticks\":\"\"}}}],\"scattercarpet\":[{\"type\":\"scattercarpet\",\"marker\":{\"colorbar\":{\"outlinewidth\":0,\"ticks\":\"\"}}}],\"carpet\":[{\"aaxis\":{\"endlinecolor\":\"#2a3f5f\",\"gridcolor\":\"white\",\"linecolor\":\"white\",\"minorgridcolor\":\"white\",\"startlinecolor\":\"#2a3f5f\"},\"baxis\":{\"endlinecolor\":\"#2a3f5f\",\"gridcolor\":\"white\",\"linecolor\":\"white\",\"minorgridcolor\":\"white\",\"startlinecolor\":\"#2a3f5f\"},\"type\":\"carpet\"}],\"table\":[{\"cells\":{\"fill\":{\"color\":\"#EBF0F8\"},\"line\":{\"color\":\"white\"}},\"header\":{\"fill\":{\"color\":\"#C8D4E3\"},\"line\":{\"color\":\"white\"}},\"type\":\"table\"}],\"barpolar\":[{\"marker\":{\"line\":{\"color\":\"#E5ECF6\",\"width\":0.5},\"pattern\":{\"fillmode\":\"overlay\",\"size\":10,\"solidity\":0.2}},\"type\":\"barpolar\"}],\"pie\":[{\"automargin\":true,\"type\":\"pie\"}]},\"layout\":{\"autotypenumbers\":\"strict\",\"colorway\":[\"#636efa\",\"#EF553B\",\"#00cc96\",\"#ab63fa\",\"#FFA15A\",\"#19d3f3\",\"#FF6692\",\"#B6E880\",\"#FF97FF\",\"#FECB52\"],\"font\":{\"color\":\"#2a3f5f\"},\"hovermode\":\"closest\",\"hoverlabel\":{\"align\":\"left\"},\"paper_bgcolor\":\"white\",\"plot_bgcolor\":\"#E5ECF6\",\"polar\":{\"bgcolor\":\"#E5ECF6\",\"angularaxis\":{\"gridcolor\":\"white\",\"linecolor\":\"white\",\"ticks\":\"\"},\"radialaxis\":{\"gridcolor\":\"white\",\"linecolor\":\"white\",\"ticks\":\"\"}},\"ternary\":{\"bgcolor\":\"#E5ECF6\",\"aaxis\":{\"gridcolor\":\"white\",\"linecolor\":\"white\",\"ticks\":\"\"},\"baxis\":{\"gridcolor\":\"white\",\"linecolor\":\"white\",\"ticks\":\"\"},\"caxis\":{\"gridcolor\":\"white\",\"linecolor\":\"white\",\"ticks\":\"\"}},\"coloraxis\":{\"colorbar\":{\"outlinewidth\":0,\"ticks\":\"\"}},\"colorscale\":{\"sequential\":[[0.0,\"#0d0887\"],[0.1111111111111111,\"#46039f\"],[0.2222222222222222,\"#7201a8\"],[0.3333333333333333,\"#9c179e\"],[0.4444444444444444,\"#bd3786\"],[0.5555555555555556,\"#d8576b\"],[0.6666666666666666,\"#ed7953\"],[0.7777777777777778,\"#fb9f3a\"],[0.8888888888888888,\"#fdca26\"],[1.0,\"#f0f921\"]],\"sequentialminus\":[[0.0,\"#0d0887\"],[0.1111111111111111,\"#46039f\"],[0.2222222222222222,\"#7201a8\"],[0.3333333333333333,\"#9c179e\"],[0.4444444444444444,\"#bd3786\"],[0.5555555555555556,\"#d8576b\"],[0.6666666666666666,\"#ed7953\"],[0.7777777777777778,\"#fb9f3a\"],[0.8888888888888888,\"#fdca26\"],[1.0,\"#f0f921\"]],\"diverging\":[[0,\"#8e0152\"],[0.1,\"#c51b7d\"],[0.2,\"#de77ae\"],[0.3,\"#f1b6da\"],[0.4,\"#fde0ef\"],[0.5,\"#f7f7f7\"],[0.6,\"#e6f5d0\"],[0.7,\"#b8e186\"],[0.8,\"#7fbc41\"],[0.9,\"#4d9221\"],[1,\"#276419\"]]},\"xaxis\":{\"gridcolor\":\"white\",\"linecolor\":\"white\",\"ticks\":\"\",\"title\":{\"standoff\":15},\"zerolinecolor\":\"white\",\"automargin\":true,\"zerolinewidth\":2},\"yaxis\":{\"gridcolor\":\"white\",\"linecolor\":\"white\",\"ticks\":\"\",\"title\":{\"standoff\":15},\"zerolinecolor\":\"white\",\"automargin\":true,\"zerolinewidth\":2},\"scene\":{\"xaxis\":{\"backgroundcolor\":\"#E5ECF6\",\"gridcolor\":\"white\",\"linecolor\":\"white\",\"showbackground\":true,\"ticks\":\"\",\"zerolinecolor\":\"white\",\"gridwidth\":2},\"yaxis\":{\"backgroundcolor\":\"#E5ECF6\",\"gridcolor\":\"white\",\"linecolor\":\"white\",\"showbackground\":true,\"ticks\":\"\",\"zerolinecolor\":\"white\",\"gridwidth\":2},\"zaxis\":{\"backgroundcolor\":\"#E5ECF6\",\"gridcolor\":\"white\",\"linecolor\":\"white\",\"showbackground\":true,\"ticks\":\"\",\"zerolinecolor\":\"white\",\"gridwidth\":2}},\"shapedefaults\":{\"line\":{\"color\":\"#2a3f5f\"}},\"annotationdefaults\":{\"arrowcolor\":\"#2a3f5f\",\"arrowhead\":0,\"arrowwidth\":1},\"geo\":{\"bgcolor\":\"white\",\"landcolor\":\"#E5ECF6\",\"subunitcolor\":\"white\",\"showland\":true,\"showlakes\":true,\"lakecolor\":\"white\"},\"title\":{\"x\":0.05},\"mapbox\":{\"style\":\"light\"}}},\"title\":{\"text\":\"Top 10 Produtos Mais Lucrativos\"},\"xaxis\":{\"title\":{\"text\":\"Lucro\"}},\"yaxis\":{\"title\":{\"text\":\"Produto\"}}},                        {\"responsive\": true}                    ).then(function(){\n",
       "                            \n",
       "var gd = document.getElementById('375814e7-2541-48c7-8ef1-ed2e9ee6459f');\n",
       "var x = new MutationObserver(function (mutations, observer) {{\n",
       "        var display = window.getComputedStyle(gd).display;\n",
       "        if (!display || display === 'none') {{\n",
       "            console.log([gd, 'removed!']);\n",
       "            Plotly.purge(gd);\n",
       "            observer.disconnect();\n",
       "        }}\n",
       "}});\n",
       "\n",
       "// Listen for the removal of the full notebook cells\n",
       "var notebookContainer = gd.closest('#notebook-container');\n",
       "if (notebookContainer) {{\n",
       "    x.observe(notebookContainer, {childList: true});\n",
       "}}\n",
       "\n",
       "// Listen for the clearing of the current output cell\n",
       "var outputEl = gd.closest('.output');\n",
       "if (outputEl) {{\n",
       "    x.observe(outputEl, {childList: true});\n",
       "}}\n",
       "\n",
       "                        })                };                });            </script>        </div>"
      ]
     },
     "metadata": {},
     "output_type": "display_data"
    }
   ],
   "source": [
    "produtos_mais_lucrativos = df.groupby('Product_Name')['Profit'].sum().reset_index()\n",
    "produtos_mais_lucrativos = produtos_mais_lucrativos.sort_values(by='Profit', ascending=False).head(10)\n",
    "\n",
    "fig2 = go.Figure(go.Bar(\n",
    "    x=produtos_mais_lucrativos['Profit'],\n",
    "    y=produtos_mais_lucrativos['Product_Name'],\n",
    "    orientation='h',\n",
    "    text=produtos_mais_lucrativos['Profit'],\n",
    "    textposition='auto',\n",
    "    insidetextfont=dict(family='Times', size=12)\n",
    "))\n",
    "\n",
    "fig2.update_layout(title='Top 10 Produtos Mais Lucrativos', xaxis_title='Lucro', yaxis_title='Produto')\n",
    "\n",
    "fig2.show()"
   ]
  },
  {
   "cell_type": "code",
   "execution_count": 9,
   "id": "f11549b3",
   "metadata": {},
   "outputs": [],
   "source": [
    "df_clean = df_prep"
   ]
  },
  {
   "cell_type": "code",
   "execution_count": 8,
   "id": "10ccd6ac",
   "metadata": {},
   "outputs": [
    {
     "data": {
      "image/png": "[encoded data removed]",
      "text/plain": [
       "<Figure size 1000x1000 with 2 Axes>"
      ]
     },
     "metadata": {
      "needs_background": "light"
     },
     "output_type": "display_data"
    }
   ],
   "source": [
    "plt.imshow(df_clean.corr(), cmap=\"Spectral\")\n",
    "plt.colorbar()\n",
    "plt.gcf().set_size_inches(10, 10)\n",
    "plt.xticks(range(len(df_clean.corr().columns)), df_clean.corr().columns)\n",
    "plt.yticks(range(len(df_clean.corr().columns)), df_clean.corr().columns)\n",
    "labels = df_clean.corr().values\n",
    "for a in range(labels.shape[0]):\n",
    "    for b in range(labels.shape[1]):\n",
    "        plt.text(a, b, '{:.2f}'.format(labels[b, a]), ha='center', va='center', color='black')\n",
    "plt.title('Grau de Correlação Clean', fontsize=14)\n",
    "plt.show()"
   ]
  },
  {
   "cell_type": "code",
   "execution_count": 10,
   "id": "609ad3c1",
   "metadata": {},
   "outputs": [],
   "source": [
    "df_clean = df_prep[['Sales', 'Profit', 'Critical_Ship_Mode', 'Regular_Ship_Mode', \n",
    "               'Express_Ship_Mode', 'Atlantic_Region',\n",
    "       'NT_Region', 'Nunavut_Region', 'Ontario_Region', 'Prarie_Region',\n",
    "               'LB_Product_Container', 'MB_Product_Container',\n",
    "       'SB_Product_Container']]"
   ]
  },
  {
   "cell_type": "code",
   "execution_count": 11,
   "id": "67a08cd8",
   "metadata": {},
   "outputs": [
    {
     "data": {
      "image/png": "[encoded data removed]",
      "text/plain": [
       "<Figure size 1000x1000 with 2 Axes>"
      ]
     },
     "metadata": {
      "needs_background": "light"
     },
     "output_type": "display_data"
    }
   ],
   "source": [
    "plt.imshow(df_clean.corr(), cmap=\"Spectral\")\n",
    "plt.colorbar()\n",
    "plt.gcf().set_size_inches(10, 10)\n",
    "plt.xticks(range(len(df_clean.corr().columns)), df_clean.corr().columns)\n",
    "plt.yticks(range(len(df_clean.corr().columns)), df_clean.corr().columns)\n",
    "labels = df_clean.corr().values\n",
    "for a in range(labels.shape[0]):\n",
    "    for b in range(labels.shape[1]):\n",
    "        plt.text(a, b, '{:.2f}'.format(labels[b, a]), ha='center', va='center', color='black')\n",
    "plt.title('Grau de Correlação Clean', fontsize=14)\n",
    "plt.show()"
   ]
  },
  {
   "cell_type": "code",
   "execution_count": 12,
   "id": "6ca6065a",
   "metadata": {},
   "outputs": [
    {
     "data": {
      "application/vnd.plotly.v1+json": {
       "config": {
        "plotlyServerURL": "https://plot.ly"
       },
       "data": [
        {
         "branchvalues": "total",
         "domain": {
          "x": [
           0,
           1
          ],
          "y": [
           0,
           1
          ]
         },
         "hovertemplate": "labels=%{label}<br>count=%{value}<br>parent=%{parent}<br>id=%{id}<extra></extra>",
         "ids": [
          "Critical/Atlantic",
          "High/Atlantic",
          "Low/Atlantic",
          "Medium/Atlantic",
          "Not Specified/Atlantic",
          "Critical/Northwest Territories",
          "High/Northwest Territories",
          "Low/Northwest Territories",
          "Medium/Northwest Territories",
          "Not Specified/Northwest Territories",
          "Critical/Nunavut",
          "High/Nunavut",
          "Low/Nunavut",
          "Medium/Nunavut",
          "Not Specified/Nunavut",
          "Critical/Ontario",
          "High/Ontario",
          "Low/Ontario",
          "Medium/Ontario",
          "Not Specified/Ontario",
          "Critical/Prarie",
          "High/Prarie",
          "Low/Prarie",
          "Medium/Prarie",
          "Not Specified/Prarie",
          "Critical/West",
          "High/West",
          "Low/West",
          "Medium/West",
          "Not Specified/West",
          "Critical",
          "High",
          "Low",
          "Medium",
          "Not Specified"
         ],
         "labels": [
          "Atlantic",
          "Atlantic",
          "Atlantic",
          "Atlantic",
          "Atlantic",
          "Northwest Territories",
          "Northwest Territories",
          "Northwest Territories",
          "Northwest Territories",
          "Northwest Territories",
          "Nunavut",
          "Nunavut",
          "Nunavut",
          "Nunavut",
          "Nunavut",
          "Ontario",
          "Ontario",
          "Ontario",
          "Ontario",
          "Ontario",
          "Prarie",
          "Prarie",
          "Prarie",
          "Prarie",
          "Prarie",
          "West",
          "West",
          "West",
          "West",
          "West",
          "Critical",
          "High",
          "Low",
          "Medium",
          "Not Specified"
         ],
         "name": "",
         "parents": [
          "Critical",
          "High",
          "Low",
          "Medium",
          "Not Specified",
          "Critical",
          "High",
          "Low",
          "Medium",
          "Not Specified",
          "Critical",
          "High",
          "Low",
          "Medium",
          "Not Specified",
          "Critical",
          "High",
          "Low",
          "Medium",
          "Not Specified",
          "Critical",
          "High",
          "Low",
          "Medium",
          "Not Specified",
          "Critical",
          "High",
          "Low",
          "Medium",
          "Not Specified",
          "",
          "",
          "",
          "",
          ""
         ],
         "type": "treemap",
         "values": [
          32,
          41,
          40,
          29,
          28,
          38,
          37,
          24,
          22,
          29,
          1,
          12,
          8,
          5,
          6,
          13,
          7,
          12,
          16,
          19,
          21,
          20,
          10,
          9,
          19,
          42,
          35,
          53,
          47,
          55,
          147,
          152,
          147,
          128,
          156
         ]
        }
       ],
       "layout": {
        "legend": {
         "tracegroupgap": 0
        },
        "margin": {
         "t": 60
        },
        "template": {
         "data": {
          "bar": [
           {
            "error_x": {
             "color": "#2a3f5f"
            },
            "error_y": {
             "color": "#2a3f5f"
            },
            "marker": {
             "line": {
              "color": "#E5ECF6",
              "width": 0.5
             },
             "pattern": {
              "fillmode": "overlay",
              "size": 10,
              "solidity": 0.2
             }
            },
            "type": "bar"
           }
          ],
          "barpolar": [
           {
            "marker": {
             "line": {
              "color": "#E5ECF6",
              "width": 0.5
             },
             "pattern": {
              "fillmode": "overlay",
              "size": 10,
              "solidity": 0.2
             }
            },
            "type": "barpolar"
           }
          ],
          "carpet": [
           {
            "aaxis": {
             "endlinecolor": "#2a3f5f",
             "gridcolor": "white",
             "linecolor": "white",
             "minorgridcolor": "white",
             "startlinecolor": "#2a3f5f"
            },
            "baxis": {
             "endlinecolor": "#2a3f5f",
             "gridcolor": "white",
             "linecolor": "white",
             "minorgridcolor": "white",
             "startlinecolor": "#2a3f5f"
            },
            "type": "carpet"
           }
          ],
          "choropleth": [
           {
            "colorbar": {
             "outlinewidth": 0,
             "ticks": ""
            },
            "type": "choropleth"
           }
          ],
          "contour": [
           {
            "colorbar": {
             "outlinewidth": 0,
             "ticks": ""
            },
            "colorscale": [
             [
              0,
              "#0d0887"
             ],
             [
              0.1111111111111111,
              "#46039f"
             ],
             [
              0.2222222222222222,
              "#7201a8"
             ],
             [
              0.3333333333333333,
              "#9c179e"
             ],
             [
              0.4444444444444444,
              "#bd3786"
             ],
             [
              0.5555555555555556,
              "#d8576b"
             ],
             [
              0.6666666666666666,
              "#ed7953"
             ],
             [
              0.7777777777777778,
              "#fb9f3a"
             ],
             [
              0.8888888888888888,
              "#fdca26"
             ],
             [
              1,
              "#f0f921"
             ]
            ],
            "type": "contour"
           }
          ],
          "contourcarpet": [
           {
            "colorbar": {
             "outlinewidth": 0,
             "ticks": ""
            },
            "type": "contourcarpet"
           }
          ],
          "heatmap": [
           {
            "colorbar": {
             "outlinewidth": 0,
             "ticks": ""
            },
            "colorscale": [
             [
              0,
              "#0d0887"
             ],
             [
              0.1111111111111111,
              "#46039f"
             ],
             [
              0.2222222222222222,
              "#7201a8"
             ],
             [
              0.3333333333333333,
              "#9c179e"
             ],
             [
              0.4444444444444444,
              "#bd3786"
             ],
             [
              0.5555555555555556,
              "#d8576b"
             ],
             [
              0.6666666666666666,
              "#ed7953"
             ],
             [
              0.7777777777777778,
              "#fb9f3a"
             ],
             [
              0.8888888888888888,
              "#fdca26"
             ],
             [
              1,
              "#f0f921"
             ]
            ],
            "type": "heatmap"
           }
          ],
          "heatmapgl": [
           {
            "colorbar": {
             "outlinewidth": 0,
             "ticks": ""
            },
            "colorscale": [
             [
              0,
              "#0d0887"
             ],
             [
              0.1111111111111111,
              "#46039f"
             ],
             [
              0.2222222222222222,
              "#7201a8"
             ],
             [
              0.3333333333333333,
              "#9c179e"
             ],
             [
              0.4444444444444444,
              "#bd3786"
             ],
             [
              0.5555555555555556,
              "#d8576b"
             ],
             [
              0.6666666666666666,
              "#ed7953"
             ],
             [
              0.7777777777777778,
              "#fb9f3a"
             ],
             [
              0.8888888888888888,
              "#fdca26"
             ],
             [
              1,
              "#f0f921"
             ]
            ],
            "type": "heatmapgl"
           }
          ],
          "histogram": [
           {
            "marker": {
             "pattern": {
              "fillmode": "overlay",
              "size": 10,
              "solidity": 0.2
             }
            },
            "type": "histogram"
           }
          ],
          "histogram2d": [
           {
            "colorbar": {
             "outlinewidth": 0,
             "ticks": ""
            },
            "colorscale": [
             [
              0,
              "#0d0887"
             ],
             [
              0.1111111111111111,
              "#46039f"
             ],
             [
              0.2222222222222222,
              "#7201a8"
             ],
             [
              0.3333333333333333,
              "#9c179e"
             ],
             [
              0.4444444444444444,
              "#bd3786"
             ],
             [
              0.5555555555555556,
              "#d8576b"
             ],
             [
              0.6666666666666666,
              "#ed7953"
             ],
             [
              0.7777777777777778,
              "#fb9f3a"
             ],
             [
              0.8888888888888888,
              "#fdca26"
             ],
             [
              1,
              "#f0f921"
             ]
            ],
            "type": "histogram2d"
           }
          ],
          "histogram2dcontour": [
           {
            "colorbar": {
             "outlinewidth": 0,
             "ticks": ""
            },
            "colorscale": [
             [
              0,
              "#0d0887"
             ],
             [
              0.1111111111111111,
              "#46039f"
             ],
             [
              0.2222222222222222,
              "#7201a8"
             ],
             [
              0.3333333333333333,
              "#9c179e"
             ],
             [
              0.4444444444444444,
              "#bd3786"
             ],
             [
              0.5555555555555556,
              "#d8576b"
             ],
             [
              0.6666666666666666,
              "#ed7953"
             ],
             [
              0.7777777777777778,
              "#fb9f3a"
             ],
             [
              0.8888888888888888,
              "#fdca26"
             ],
             [
              1,
              "#f0f921"
             ]
            ],
            "type": "histogram2dcontour"
           }
          ],
          "mesh3d": [
           {
            "colorbar": {
             "outlinewidth": 0,
             "ticks": ""
            },
            "type": "mesh3d"
           }
          ],
          "parcoords": [
           {
            "line": {
             "colorbar": {
              "outlinewidth": 0,
              "ticks": ""
             }
            },
            "type": "parcoords"
           }
          ],
          "pie": [
           {
            "automargin": true,
            "type": "pie"
           }
          ],
          "scatter": [
           {
            "fillpattern": {
             "fillmode": "overlay",
             "size": 10,
             "solidity": 0.2
            },
            "type": "scatter"
           }
          ],
          "scatter3d": [
           {
            "line": {
             "colorbar": {
              "outlinewidth": 0,
              "ticks": ""
             }
            },
            "marker": {
             "colorbar": {
              "outlinewidth": 0,
              "ticks": ""
             }
            },
            "type": "scatter3d"
           }
          ],
          "scattercarpet": [
           {
            "marker": {
             "colorbar": {
              "outlinewidth": 0,
              "ticks": ""
             }
            },
            "type": "scattercarpet"
           }
          ],
          "scattergeo": [
           {
            "marker": {
             "colorbar": {
              "outlinewidth": 0,
              "ticks": ""
             }
            },
            "type": "scattergeo"
           }
          ],
          "scattergl": [
           {
            "marker": {
             "colorbar": {
              "outlinewidth": 0,
              "ticks": ""
             }
            },
            "type": "scattergl"
           }
          ],
          "scattermapbox": [
           {
            "marker": {
             "colorbar": {
              "outlinewidth": 0,
              "ticks": ""
             }
            },
            "type": "scattermapbox"
           }
          ],
          "scatterpolar": [
           {
            "marker": {
             "colorbar": {
              "outlinewidth": 0,
              "ticks": ""
             }
            },
            "type": "scatterpolar"
           }
          ],
          "scatterpolargl": [
           {
            "marker": {
             "colorbar": {
              "outlinewidth": 0,
              "ticks": ""
             }
            },
            "type": "scatterpolargl"
           }
          ],
          "scatterternary": [
           {
            "marker": {
             "colorbar": {
              "outlinewidth": 0,
              "ticks": ""
             }
            },
            "type": "scatterternary"
           }
          ],
          "surface": [
           {
            "colorbar": {
             "outlinewidth": 0,
             "ticks": ""
            },
            "colorscale": [
             [
              0,
              "#0d0887"
             ],
             [
              0.1111111111111111,
              "#46039f"
             ],
             [
              0.2222222222222222,
              "#7201a8"
             ],
             [
              0.3333333333333333,
              "#9c179e"
             ],
             [
              0.4444444444444444,
              "#bd3786"
             ],
             [
              0.5555555555555556,
              "#d8576b"
             ],
             [
              0.6666666666666666,
              "#ed7953"
             ],
             [
              0.7777777777777778,
              "#fb9f3a"
             ],
             [
              0.8888888888888888,
              "#fdca26"
             ],
             [
              1,
              "#f0f921"
             ]
            ],
            "type": "surface"
           }
          ],
          "table": [
           {
            "cells": {
             "fill": {
              "color": "#EBF0F8"
             },
             "line": {
              "color": "white"
             }
            },
            "header": {
             "fill": {
              "color": "#C8D4E3"
             },
             "line": {
              "color": "white"
             }
            },
            "type": "table"
           }
          ]
         },
         "layout": {
          "annotationdefaults": {
           "arrowcolor": "#2a3f5f",
           "arrowhead": 0,
           "arrowwidth": 1
          },
          "autotypenumbers": "strict",
          "coloraxis": {
           "colorbar": {
            "outlinewidth": 0,
            "ticks": ""
           }
          },
          "colorscale": {
           "diverging": [
            [
             0,
             "#8e0152"
            ],
            [
             0.1,
             "#c51b7d"
            ],
            [
             0.2,
             "#de77ae"
            ],
            [
             0.3,
             "#f1b6da"
            ],
            [
             0.4,
             "#fde0ef"
            ],
            [
             0.5,
             "#f7f7f7"
            ],
            [
             0.6,
             "#e6f5d0"
            ],
            [
             0.7,
             "#b8e186"
            ],
            [
             0.8,
             "#7fbc41"
            ],
            [
             0.9,
             "#4d9221"
            ],
            [
             1,
             "#276419"
            ]
           ],
           "sequential": [
            [
             0,
             "#0d0887"
            ],
            [
             0.1111111111111111,
             "#46039f"
            ],
            [
             0.2222222222222222,
             "#7201a8"
            ],
            [
             0.3333333333333333,
             "#9c179e"
            ],
            [
             0.4444444444444444,
             "#bd3786"
            ],
            [
             0.5555555555555556,
             "#d8576b"
            ],
            [
             0.6666666666666666,
             "#ed7953"
            ],
            [
             0.7777777777777778,
             "#fb9f3a"
            ],
            [
             0.8888888888888888,
             "#fdca26"
            ],
            [
             1,
             "#f0f921"
            ]
           ],
           "sequentialminus": [
            [
             0,
             "#0d0887"
            ],
            [
             0.1111111111111111,
             "#46039f"
            ],
            [
             0.2222222222222222,
             "#7201a8"
            ],
            [
             0.3333333333333333,
             "#9c179e"
            ],
            [
             0.4444444444444444,
             "#bd3786"
            ],
            [
             0.5555555555555556,
             "#d8576b"
            ],
            [
             0.6666666666666666,
             "#ed7953"
            ],
            [
             0.7777777777777778,
             "#fb9f3a"
            ],
            [
             0.8888888888888888,
             "#fdca26"
            ],
            [
             1,
             "#f0f921"
            ]
           ]
          },
          "colorway": [
           "#636efa",
           "#EF553B",
           "#00cc96",
           "#ab63fa",
           "#FFA15A",
           "#19d3f3",
           "#FF6692",
           "#B6E880",
           "#FF97FF",
           "#FECB52"
          ],
          "font": {
           "color": "#2a3f5f"
          },
          "geo": {
           "bgcolor": "white",
           "lakecolor": "white",
           "landcolor": "#E5ECF6",
           "showlakes": true,
           "showland": true,
           "subunitcolor": "white"
          },
          "hoverlabel": {
           "align": "left"
          },
          "hovermode": "closest",
          "mapbox": {
           "style": "light"
          },
          "paper_bgcolor": "white",
          "plot_bgcolor": "#E5ECF6",
          "polar": {
           "angularaxis": {
            "gridcolor": "white",
            "linecolor": "white",
            "ticks": ""
           },
           "bgcolor": "#E5ECF6",
           "radialaxis": {
            "gridcolor": "white",
            "linecolor": "white",
            "ticks": ""
           }
          },
          "scene": {
           "xaxis": {
            "backgroundcolor": "#E5ECF6",
            "gridcolor": "white",
            "gridwidth": 2,
            "linecolor": "white",
            "showbackground": true,
            "ticks": "",
            "zerolinecolor": "white"
           },
           "yaxis": {
            "backgroundcolor": "#E5ECF6",
            "gridcolor": "white",
            "gridwidth": 2,
            "linecolor": "white",
            "showbackground": true,
            "ticks": "",
            "zerolinecolor": "white"
           },
           "zaxis": {
            "backgroundcolor": "#E5ECF6",
            "gridcolor": "white",
            "gridwidth": 2,
            "linecolor": "white",
            "showbackground": true,
            "ticks": "",
            "zerolinecolor": "white"
           }
          },
          "shapedefaults": {
           "line": {
            "color": "#2a3f5f"
           }
          },
          "ternary": {
           "aaxis": {
            "gridcolor": "white",
            "linecolor": "white",
            "ticks": ""
           },
           "baxis": {
            "gridcolor": "white",
            "linecolor": "white",
            "ticks": ""
           },
           "bgcolor": "#E5ECF6",
           "caxis": {
            "gridcolor": "white",
            "linecolor": "white",
            "ticks": ""
           }
          },
          "title": {
           "x": 0.05
          },
          "xaxis": {
           "automargin": true,
           "gridcolor": "white",
           "linecolor": "white",
           "ticks": "",
           "title": {
            "standoff": 15
           },
           "zerolinecolor": "white",
           "zerolinewidth": 2
          },
          "yaxis": {
           "automargin": true,
           "gridcolor": "white",
           "linecolor": "white",
           "ticks": "",
           "title": {
            "standoff": 15
           },
           "zerolinecolor": "white",
           "zerolinewidth": 2
          }
         }
        }
       }
      },
      "text/html": [
       "<div>                            <div id=\"55dfbd7f-c6e8-442a-825b-25dbb9917ede\" class=\"plotly-graph-div\" style=\"height:525px; width:100%;\"></div>            <script type=\"text/javascript\">                require([\"plotly\"], function(Plotly) {                    window.PLOTLYENV=window.PLOTLYENV || {};                                    if (document.getElementById(\"55dfbd7f-c6e8-442a-825b-25dbb9917ede\")) {                    Plotly.newPlot(                        \"55dfbd7f-c6e8-442a-825b-25dbb9917ede\",                        [{\"branchvalues\":\"total\",\"domain\":{\"x\":[0.0,1.0],\"y\":[0.0,1.0]},\"hovertemplate\":\"labels=%{label}\\u003cbr\\u003ecount=%{value}\\u003cbr\\u003eparent=%{parent}\\u003cbr\\u003eid=%{id}\\u003cextra\\u003e\\u003c\\u002fextra\\u003e\",\"ids\":[\"Critical\\u002fAtlantic\",\"High\\u002fAtlantic\",\"Low\\u002fAtlantic\",\"Medium\\u002fAtlantic\",\"Not Specified\\u002fAtlantic\",\"Critical\\u002fNorthwest Territories\",\"High\\u002fNorthwest Territories\",\"Low\\u002fNorthwest Territories\",\"Medium\\u002fNorthwest Territories\",\"Not Specified\\u002fNorthwest Territories\",\"Critical\\u002fNunavut\",\"High\\u002fNunavut\",\"Low\\u002fNunavut\",\"Medium\\u002fNunavut\",\"Not Specified\\u002fNunavut\",\"Critical\\u002fOntario\",\"High\\u002fOntario\",\"Low\\u002fOntario\",\"Medium\\u002fOntario\",\"Not Specified\\u002fOntario\",\"Critical\\u002fPrarie\",\"High\\u002fPrarie\",\"Low\\u002fPrarie\",\"Medium\\u002fPrarie\",\"Not Specified\\u002fPrarie\",\"Critical\\u002fWest\",\"High\\u002fWest\",\"Low\\u002fWest\",\"Medium\\u002fWest\",\"Not Specified\\u002fWest\",\"Critical\",\"High\",\"Low\",\"Medium\",\"Not Specified\"],\"labels\":[\"Atlantic\",\"Atlantic\",\"Atlantic\",\"Atlantic\",\"Atlantic\",\"Northwest Territories\",\"Northwest Territories\",\"Northwest Territories\",\"Northwest Territories\",\"Northwest Territories\",\"Nunavut\",\"Nunavut\",\"Nunavut\",\"Nunavut\",\"Nunavut\",\"Ontario\",\"Ontario\",\"Ontario\",\"Ontario\",\"Ontario\",\"Prarie\",\"Prarie\",\"Prarie\",\"Prarie\",\"Prarie\",\"West\",\"West\",\"West\",\"West\",\"West\",\"Critical\",\"High\",\"Low\",\"Medium\",\"Not Specified\"],\"name\":\"\",\"parents\":[\"Critical\",\"High\",\"Low\",\"Medium\",\"Not Specified\",\"Critical\",\"High\",\"Low\",\"Medium\",\"Not Specified\",\"Critical\",\"High\",\"Low\",\"Medium\",\"Not Specified\",\"Critical\",\"High\",\"Low\",\"Medium\",\"Not Specified\",\"Critical\",\"High\",\"Low\",\"Medium\",\"Not Specified\",\"Critical\",\"High\",\"Low\",\"Medium\",\"Not Specified\",\"\",\"\",\"\",\"\",\"\"],\"values\":[32,41,40,29,28,38,37,24,22,29,1,12,8,5,6,13,7,12,16,19,21,20,10,9,19,42,35,53,47,55,147,152,147,128,156],\"type\":\"treemap\"}],                        {\"template\":{\"data\":{\"histogram2dcontour\":[{\"type\":\"histogram2dcontour\",\"colorbar\":{\"outlinewidth\":0,\"ticks\":\"\"},\"colorscale\":[[0.0,\"#0d0887\"],[0.1111111111111111,\"#46039f\"],[0.2222222222222222,\"#7201a8\"],[0.3333333333333333,\"#9c179e\"],[0.4444444444444444,\"#bd3786\"],[0.5555555555555556,\"#d8576b\"],[0.6666666666666666,\"#ed7953\"],[0.7777777777777778,\"#fb9f3a\"],[0.8888888888888888,\"#fdca26\"],[1.0,\"#f0f921\"]]}],\"choropleth\":[{\"type\":\"choropleth\",\"colorbar\":{\"outlinewidth\":0,\"ticks\":\"\"}}],\"histogram2d\":[{\"type\":\"histogram2d\",\"colorbar\":{\"outlinewidth\":0,\"ticks\":\"\"},\"colorscale\":[[0.0,\"#0d0887\"],[0.1111111111111111,\"#46039f\"],[0.2222222222222222,\"#7201a8\"],[0.3333333333333333,\"#9c179e\"],[0.4444444444444444,\"#bd3786\"],[0.5555555555555556,\"#d8576b\"],[0.6666666666666666,\"#ed7953\"],[0.7777777777777778,\"#fb9f3a\"],[0.8888888888888888,\"#fdca26\"],[1.0,\"#f0f921\"]]}],\"heatmap\":[{\"type\":\"heatmap\",\"colorbar\":{\"outlinewidth\":0,\"ticks\":\"\"},\"colorscale\":[[0.0,\"#0d0887\"],[0.1111111111111111,\"#46039f\"],[0.2222222222222222,\"#7201a8\"],[0.3333333333333333,\"#9c179e\"],[0.4444444444444444,\"#bd3786\"],[0.5555555555555556,\"#d8576b\"],[0.6666666666666666,\"#ed7953\"],[0.7777777777777778,\"#fb9f3a\"],[0.8888888888888888,\"#fdca26\"],[1.0,\"#f0f921\"]]}],\"heatmapgl\":[{\"type\":\"heatmapgl\",\"colorbar\":{\"outlinewidth\":0,\"ticks\":\"\"},\"colorscale\":[[0.0,\"#0d0887\"],[0.1111111111111111,\"#46039f\"],[0.2222222222222222,\"#7201a8\"],[0.3333333333333333,\"#9c179e\"],[0.4444444444444444,\"#bd3786\"],[0.5555555555555556,\"#d8576b\"],[0.6666666666666666,\"#ed7953\"],[0.7777777777777778,\"#fb9f3a\"],[0.8888888888888888,\"#fdca26\"],[1.0,\"#f0f921\"]]}],\"contourcarpet\":[{\"type\":\"contourcarpet\",\"colorbar\":{\"outlinewidth\":0,\"ticks\":\"\"}}],\"contour\":[{\"type\":\"contour\",\"colorbar\":{\"outlinewidth\":0,\"ticks\":\"\"},\"colorscale\":[[0.0,\"#0d0887\"],[0.1111111111111111,\"#46039f\"],[0.2222222222222222,\"#7201a8\"],[0.3333333333333333,\"#9c179e\"],[0.4444444444444444,\"#bd3786\"],[0.5555555555555556,\"#d8576b\"],[0.6666666666666666,\"#ed7953\"],[0.7777777777777778,\"#fb9f3a\"],[0.8888888888888888,\"#fdca26\"],[1.0,\"#f0f921\"]]}],\"surface\":[{\"type\":\"surface\",\"colorbar\":{\"outlinewidth\":0,\"ticks\":\"\"},\"colorscale\":[[0.0,\"#0d0887\"],[0.1111111111111111,\"#46039f\"],[0.2222222222222222,\"#7201a8\"],[0.3333333333333333,\"#9c179e\"],[0.4444444444444444,\"#bd3786\"],[0.5555555555555556,\"#d8576b\"],[0.6666666666666666,\"#ed7953\"],[0.7777777777777778,\"#fb9f3a\"],[0.8888888888888888,\"#fdca26\"],[1.0,\"#f0f921\"]]}],\"mesh3d\":[{\"type\":\"mesh3d\",\"colorbar\":{\"outlinewidth\":0,\"ticks\":\"\"}}],\"scatter\":[{\"fillpattern\":{\"fillmode\":\"overlay\",\"size\":10,\"solidity\":0.2},\"type\":\"scatter\"}],\"parcoords\":[{\"type\":\"parcoords\",\"line\":{\"colorbar\":{\"outlinewidth\":0,\"ticks\":\"\"}}}],\"scatterpolargl\":[{\"type\":\"scatterpolargl\",\"marker\":{\"colorbar\":{\"outlinewidth\":0,\"ticks\":\"\"}}}],\"bar\":[{\"error_x\":{\"color\":\"#2a3f5f\"},\"error_y\":{\"color\":\"#2a3f5f\"},\"marker\":{\"line\":{\"color\":\"#E5ECF6\",\"width\":0.5},\"pattern\":{\"fillmode\":\"overlay\",\"size\":10,\"solidity\":0.2}},\"type\":\"bar\"}],\"scattergeo\":[{\"type\":\"scattergeo\",\"marker\":{\"colorbar\":{\"outlinewidth\":0,\"ticks\":\"\"}}}],\"scatterpolar\":[{\"type\":\"scatterpolar\",\"marker\":{\"colorbar\":{\"outlinewidth\":0,\"ticks\":\"\"}}}],\"histogram\":[{\"marker\":{\"pattern\":{\"fillmode\":\"overlay\",\"size\":10,\"solidity\":0.2}},\"type\":\"histogram\"}],\"scattergl\":[{\"type\":\"scattergl\",\"marker\":{\"colorbar\":{\"outlinewidth\":0,\"ticks\":\"\"}}}],\"scatter3d\":[{\"type\":\"scatter3d\",\"line\":{\"colorbar\":{\"outlinewidth\":0,\"ticks\":\"\"}},\"marker\":{\"colorbar\":{\"outlinewidth\":0,\"ticks\":\"\"}}}],\"scattermapbox\":[{\"type\":\"scattermapbox\",\"marker\":{\"colorbar\":{\"outlinewidth\":0,\"ticks\":\"\"}}}],\"scatterternary\":[{\"type\":\"scatterternary\",\"marker\":{\"colorbar\":{\"outlinewidth\":0,\"ticks\":\"\"}}}],\"scattercarpet\":[{\"type\":\"scattercarpet\",\"marker\":{\"colorbar\":{\"outlinewidth\":0,\"ticks\":\"\"}}}],\"carpet\":[{\"aaxis\":{\"endlinecolor\":\"#2a3f5f\",\"gridcolor\":\"white\",\"linecolor\":\"white\",\"minorgridcolor\":\"white\",\"startlinecolor\":\"#2a3f5f\"},\"baxis\":{\"endlinecolor\":\"#2a3f5f\",\"gridcolor\":\"white\",\"linecolor\":\"white\",\"minorgridcolor\":\"white\",\"startlinecolor\":\"#2a3f5f\"},\"type\":\"carpet\"}],\"table\":[{\"cells\":{\"fill\":{\"color\":\"#EBF0F8\"},\"line\":{\"color\":\"white\"}},\"header\":{\"fill\":{\"color\":\"#C8D4E3\"},\"line\":{\"color\":\"white\"}},\"type\":\"table\"}],\"barpolar\":[{\"marker\":{\"line\":{\"color\":\"#E5ECF6\",\"width\":0.5},\"pattern\":{\"fillmode\":\"overlay\",\"size\":10,\"solidity\":0.2}},\"type\":\"barpolar\"}],\"pie\":[{\"automargin\":true,\"type\":\"pie\"}]},\"layout\":{\"autotypenumbers\":\"strict\",\"colorway\":[\"#636efa\",\"#EF553B\",\"#00cc96\",\"#ab63fa\",\"#FFA15A\",\"#19d3f3\",\"#FF6692\",\"#B6E880\",\"#FF97FF\",\"#FECB52\"],\"font\":{\"color\":\"#2a3f5f\"},\"hovermode\":\"closest\",\"hoverlabel\":{\"align\":\"left\"},\"paper_bgcolor\":\"white\",\"plot_bgcolor\":\"#E5ECF6\",\"polar\":{\"bgcolor\":\"#E5ECF6\",\"angularaxis\":{\"gridcolor\":\"white\",\"linecolor\":\"white\",\"ticks\":\"\"},\"radialaxis\":{\"gridcolor\":\"white\",\"linecolor\":\"white\",\"ticks\":\"\"}},\"ternary\":{\"bgcolor\":\"#E5ECF6\",\"aaxis\":{\"gridcolor\":\"white\",\"linecolor\":\"white\",\"ticks\":\"\"},\"baxis\":{\"gridcolor\":\"white\",\"linecolor\":\"white\",\"ticks\":\"\"},\"caxis\":{\"gridcolor\":\"white\",\"linecolor\":\"white\",\"ticks\":\"\"}},\"coloraxis\":{\"colorbar\":{\"outlinewidth\":0,\"ticks\":\"\"}},\"colorscale\":{\"sequential\":[[0.0,\"#0d0887\"],[0.1111111111111111,\"#46039f\"],[0.2222222222222222,\"#7201a8\"],[0.3333333333333333,\"#9c179e\"],[0.4444444444444444,\"#bd3786\"],[0.5555555555555556,\"#d8576b\"],[0.6666666666666666,\"#ed7953\"],[0.7777777777777778,\"#fb9f3a\"],[0.8888888888888888,\"#fdca26\"],[1.0,\"#f0f921\"]],\"sequentialminus\":[[0.0,\"#0d0887\"],[0.1111111111111111,\"#46039f\"],[0.2222222222222222,\"#7201a8\"],[0.3333333333333333,\"#9c179e\"],[0.4444444444444444,\"#bd3786\"],[0.5555555555555556,\"#d8576b\"],[0.6666666666666666,\"#ed7953\"],[0.7777777777777778,\"#fb9f3a\"],[0.8888888888888888,\"#fdca26\"],[1.0,\"#f0f921\"]],\"diverging\":[[0,\"#8e0152\"],[0.1,\"#c51b7d\"],[0.2,\"#de77ae\"],[0.3,\"#f1b6da\"],[0.4,\"#fde0ef\"],[0.5,\"#f7f7f7\"],[0.6,\"#e6f5d0\"],[0.7,\"#b8e186\"],[0.8,\"#7fbc41\"],[0.9,\"#4d9221\"],[1,\"#276419\"]]},\"xaxis\":{\"gridcolor\":\"white\",\"linecolor\":\"white\",\"ticks\":\"\",\"title\":{\"standoff\":15},\"zerolinecolor\":\"white\",\"automargin\":true,\"zerolinewidth\":2},\"yaxis\":{\"gridcolor\":\"white\",\"linecolor\":\"white\",\"ticks\":\"\",\"title\":{\"standoff\":15},\"zerolinecolor\":\"white\",\"automargin\":true,\"zerolinewidth\":2},\"scene\":{\"xaxis\":{\"backgroundcolor\":\"#E5ECF6\",\"gridcolor\":\"white\",\"linecolor\":\"white\",\"showbackground\":true,\"ticks\":\"\",\"zerolinecolor\":\"white\",\"gridwidth\":2},\"yaxis\":{\"backgroundcolor\":\"#E5ECF6\",\"gridcolor\":\"white\",\"linecolor\":\"white\",\"showbackground\":true,\"ticks\":\"\",\"zerolinecolor\":\"white\",\"gridwidth\":2},\"zaxis\":{\"backgroundcolor\":\"#E5ECF6\",\"gridcolor\":\"white\",\"linecolor\":\"white\",\"showbackground\":true,\"ticks\":\"\",\"zerolinecolor\":\"white\",\"gridwidth\":2}},\"shapedefaults\":{\"line\":{\"color\":\"#2a3f5f\"}},\"annotationdefaults\":{\"arrowcolor\":\"#2a3f5f\",\"arrowhead\":0,\"arrowwidth\":1},\"geo\":{\"bgcolor\":\"white\",\"landcolor\":\"#E5ECF6\",\"subunitcolor\":\"white\",\"showland\":true,\"showlakes\":true,\"lakecolor\":\"white\"},\"title\":{\"x\":0.05},\"mapbox\":{\"style\":\"light\"}}},\"legend\":{\"tracegroupgap\":0},\"margin\":{\"t\":60}},                        {\"responsive\": true}                    ).then(function(){\n",
       "                            \n",
       "var gd = document.getElementById('55dfbd7f-c6e8-442a-825b-25dbb9917ede');\n",
       "var x = new MutationObserver(function (mutations, observer) {{\n",
       "        var display = window.getComputedStyle(gd).display;\n",
       "        if (!display || display === 'none') {{\n",
       "            console.log([gd, 'removed!']);\n",
       "            Plotly.purge(gd);\n",
       "            observer.disconnect();\n",
       "        }}\n",
       "}});\n",
       "\n",
       "// Listen for the removal of the full notebook cells\n",
       "var notebookContainer = gd.closest('#notebook-container');\n",
       "if (notebookContainer) {{\n",
       "    x.observe(notebookContainer, {childList: true});\n",
       "}}\n",
       "\n",
       "// Listen for the clearing of the current output cell\n",
       "var outputEl = gd.closest('.output');\n",
       "if (outputEl) {{\n",
       "    x.observe(outputEl, {childList: true});\n",
       "}}\n",
       "\n",
       "                        })                };                });            </script>        </div>"
      ]
     },
     "metadata": {},
     "output_type": "display_data"
    }
   ],
   "source": [
    "grafico_classe_ldp = px.treemap(df, path = ['Order_Priority','Region'])\n",
    "grafico_classe_ldp.show()"
   ]
  },
  {
   "cell_type": "code",
   "execution_count": 13,
   "id": "6824c7e1",
   "metadata": {},
   "outputs": [
    {
     "data": {
      "application/vnd.plotly.v1+json": {
       "config": {
        "plotlyServerURL": "https://plot.ly"
       },
       "data": [
        {
         "branchvalues": "total",
         "domain": {
          "x": [
           0,
           1
          ],
          "y": [
           0,
           1
          ]
         },
         "hovertemplate": "labels=%{label}<br>count=%{value}<br>parent=%{parent}<br>id=%{id}<extra></extra>",
         "ids": [
          "Express Air/Atlantic/Critical",
          "Regular Air/Atlantic/Critical",
          "Express Air/Northwest Territories/Critical",
          "Regular Air/Northwest Territories/Critical",
          "Express Air/Nunavut/Critical",
          "Express Air/Ontario/Critical",
          "Regular Air/Ontario/Critical",
          "Express Air/Prarie/Critical",
          "Regular Air/Prarie/Critical",
          "Express Air/West/Critical",
          "Regular Air/West/Critical",
          "Express Air/Atlantic/High",
          "Regular Air/Atlantic/High",
          "Express Air/Northwest Territories/High",
          "Regular Air/Northwest Territories/High",
          "Express Air/Nunavut/High",
          "Regular Air/Nunavut/High",
          "Express Air/Ontario/High",
          "Regular Air/Ontario/High",
          "Express Air/Prarie/High",
          "Regular Air/Prarie/High",
          "Express Air/West/High",
          "Regular Air/West/High",
          "Express Air/Atlantic/Low",
          "Regular Air/Atlantic/Low",
          "Express Air/Northwest Territories/Low",
          "Regular Air/Northwest Territories/Low",
          "Express Air/Nunavut/Low",
          "Regular Air/Nunavut/Low",
          "Express Air/Ontario/Low",
          "Regular Air/Ontario/Low",
          "Regular Air/Prarie/Low",
          "Express Air/West/Low",
          "Regular Air/West/Low",
          "Express Air/Atlantic/Medium",
          "Regular Air/Atlantic/Medium",
          "Express Air/Northwest Territories/Medium",
          "Regular Air/Northwest Territories/Medium",
          "Regular Air/Nunavut/Medium",
          "Express Air/Ontario/Medium",
          "Regular Air/Ontario/Medium",
          "Express Air/Prarie/Medium",
          "Regular Air/Prarie/Medium",
          "Express Air/West/Medium",
          "Regular Air/West/Medium",
          "Express Air/Atlantic/Not Specified",
          "Regular Air/Atlantic/Not Specified",
          "Express Air/Northwest Territories/Not Specified",
          "Regular Air/Northwest Territories/Not Specified",
          "Express Air/Nunavut/Not Specified",
          "Regular Air/Nunavut/Not Specified",
          "Express Air/Ontario/Not Specified",
          "Regular Air/Ontario/Not Specified",
          "Express Air/Prarie/Not Specified",
          "Regular Air/Prarie/Not Specified",
          "Express Air/West/Not Specified",
          "Regular Air/West/Not Specified",
          "Express Air/Atlantic",
          "Regular Air/Atlantic",
          "Express Air/Northwest Territories",
          "Regular Air/Northwest Territories",
          "Express Air/Nunavut",
          "Regular Air/Nunavut",
          "Express Air/Ontario",
          "Regular Air/Ontario",
          "Express Air/Prarie",
          "Regular Air/Prarie",
          "Express Air/West",
          "Regular Air/West",
          "Express Air",
          "Regular Air"
         ],
         "labels": [
          "Critical",
          "Critical",
          "Critical",
          "Critical",
          "Critical",
          "Critical",
          "Critical",
          "Critical",
          "Critical",
          "Critical",
          "Critical",
          "High",
          "High",
          "High",
          "High",
          "High",
          "High",
          "High",
          "High",
          "High",
          "High",
          "High",
          "High",
          "Low",
          "Low",
          "Low",
          "Low",
          "Low",
          "Low",
          "Low",
          "Low",
          "Low",
          "Low",
          "Low",
          "Medium",
          "Medium",
          "Medium",
          "Medium",
          "Medium",
          "Medium",
          "Medium",
          "Medium",
          "Medium",
          "Medium",
          "Medium",
          "Not Specified",
          "Not Specified",
          "Not Specified",
          "Not Specified",
          "Not Specified",
          "Not Specified",
          "Not Specified",
          "Not Specified",
          "Not Specified",
          "Not Specified",
          "Not Specified",
          "Not Specified",
          "Atlantic",
          "Atlantic",
          "Northwest Territories",
          "Northwest Territories",
          "Nunavut",
          "Nunavut",
          "Ontario",
          "Ontario",
          "Prarie",
          "Prarie",
          "West",
          "West",
          "Express Air",
          "Regular Air"
         ],
         "name": "",
         "parents": [
          "Express Air/Atlantic",
          "Regular Air/Atlantic",
          "Express Air/Northwest Territories",
          "Regular Air/Northwest Territories",
          "Express Air/Nunavut",
          "Express Air/Ontario",
          "Regular Air/Ontario",
          "Express Air/Prarie",
          "Regular Air/Prarie",
          "Express Air/West",
          "Regular Air/West",
          "Express Air/Atlantic",
          "Regular Air/Atlantic",
          "Express Air/Northwest Territories",
          "Regular Air/Northwest Territories",
          "Express Air/Nunavut",
          "Regular Air/Nunavut",
          "Express Air/Ontario",
          "Regular Air/Ontario",
          "Express Air/Prarie",
          "Regular Air/Prarie",
          "Express Air/West",
          "Regular Air/West",
          "Express Air/Atlantic",
          "Regular Air/Atlantic",
          "Express Air/Northwest Territories",
          "Regular Air/Northwest Territories",
          "Express Air/Nunavut",
          "Regular Air/Nunavut",
          "Express Air/Ontario",
          "Regular Air/Ontario",
          "Regular Air/Prarie",
          "Express Air/West",
          "Regular Air/West",
          "Express Air/Atlantic",
          "Regular Air/Atlantic",
          "Express Air/Northwest Territories",
          "Regular Air/Northwest Territories",
          "Regular Air/Nunavut",
          "Express Air/Ontario",
          "Regular Air/Ontario",
          "Express Air/Prarie",
          "Regular Air/Prarie",
          "Express Air/West",
          "Regular Air/West",
          "Express Air/Atlantic",
          "Regular Air/Atlantic",
          "Express Air/Northwest Territories",
          "Regular Air/Northwest Territories",
          "Express Air/Nunavut",
          "Regular Air/Nunavut",
          "Express Air/Ontario",
          "Regular Air/Ontario",
          "Express Air/Prarie",
          "Regular Air/Prarie",
          "Express Air/West",
          "Regular Air/West",
          "Express Air",
          "Regular Air",
          "Express Air",
          "Regular Air",
          "Express Air",
          "Regular Air",
          "Express Air",
          "Regular Air",
          "Express Air",
          "Regular Air",
          "Express Air",
          "Regular Air",
          "",
          ""
         ],
         "type": "treemap",
         "values": [
          10,
          22,
          7,
          31,
          1,
          2,
          11,
          2,
          19,
          11,
          31,
          7,
          34,
          8,
          29,
          3,
          9,
          1,
          6,
          3,
          17,
          11,
          24,
          9,
          31,
          5,
          19,
          2,
          6,
          9,
          3,
          10,
          8,
          45,
          3,
          26,
          2,
          20,
          5,
          3,
          13,
          2,
          7,
          9,
          38,
          5,
          23,
          9,
          20,
          1,
          5,
          4,
          15,
          6,
          13,
          8,
          47,
          34,
          136,
          31,
          119,
          7,
          25,
          19,
          48,
          13,
          66,
          47,
          185,
          151,
          579
         ]
        }
       ],
       "layout": {
        "legend": {
         "tracegroupgap": 0
        },
        "margin": {
         "t": 60
        },
        "template": {
         "data": {
          "bar": [
           {
            "error_x": {
             "color": "#2a3f5f"
            },
            "error_y": {
             "color": "#2a3f5f"
            },
            "marker": {
             "line": {
              "color": "#E5ECF6",
              "width": 0.5
             },
             "pattern": {
              "fillmode": "overlay",
              "size": 10,
              "solidity": 0.2
             }
            },
            "type": "bar"
           }
          ],
          "barpolar": [
           {
            "marker": {
             "line": {
              "color": "#E5ECF6",
              "width": 0.5
             },
             "pattern": {
              "fillmode": "overlay",
              "size": 10,
              "solidity": 0.2
             }
            },
            "type": "barpolar"
           }
          ],
          "carpet": [
           {
            "aaxis": {
             "endlinecolor": "#2a3f5f",
             "gridcolor": "white",
             "linecolor": "white",
             "minorgridcolor": "white",
             "startlinecolor": "#2a3f5f"
            },
            "baxis": {
             "endlinecolor": "#2a3f5f",
             "gridcolor": "white",
             "linecolor": "white",
             "minorgridcolor": "white",
             "startlinecolor": "#2a3f5f"
            },
            "type": "carpet"
           }
          ],
          "choropleth": [
           {
            "colorbar": {
             "outlinewidth": 0,
             "ticks": ""
            },
            "type": "choropleth"
           }
          ],
          "contour": [
           {
            "colorbar": {
             "outlinewidth": 0,
             "ticks": ""
            },
            "colorscale": [
             [
              0,
              "#0d0887"
             ],
             [
              0.1111111111111111,
              "#46039f"
             ],
             [
              0.2222222222222222,
              "#7201a8"
             ],
             [
              0.3333333333333333,
              "#9c179e"
             ],
             [
              0.4444444444444444,
              "#bd3786"
             ],
             [
              0.5555555555555556,
              "#d8576b"
             ],
             [
              0.6666666666666666,
              "#ed7953"
             ],
             [
              0.7777777777777778,
              "#fb9f3a"
             ],
             [
              0.8888888888888888,
              "#fdca26"
             ],
             [
              1,
              "#f0f921"
             ]
            ],
            "type": "contour"
           }
          ],
          "contourcarpet": [
           {
            "colorbar": {
             "outlinewidth": 0,
             "ticks": ""
            },
            "type": "contourcarpet"
           }
          ],
          "heatmap": [
           {
            "colorbar": {
             "outlinewidth": 0,
             "ticks": ""
            },
            "colorscale": [
             [
              0,
              "#0d0887"
             ],
             [
              0.1111111111111111,
              "#46039f"
             ],
             [
              0.2222222222222222,
              "#7201a8"
             ],
             [
              0.3333333333333333,
              "#9c179e"
             ],
             [
              0.4444444444444444,
              "#bd3786"
             ],
             [
              0.5555555555555556,
              "#d8576b"
             ],
             [
              0.6666666666666666,
              "#ed7953"
             ],
             [
              0.7777777777777778,
              "#fb9f3a"
             ],
             [
              0.8888888888888888,
              "#fdca26"
             ],
             [
              1,
              "#f0f921"
             ]
            ],
            "type": "heatmap"
           }
          ],
          "heatmapgl": [
           {
            "colorbar": {
             "outlinewidth": 0,
             "ticks": ""
            },
            "colorscale": [
             [
              0,
              "#0d0887"
             ],
             [
              0.1111111111111111,
              "#46039f"
             ],
             [
              0.2222222222222222,
              "#7201a8"
             ],
             [
              0.3333333333333333,
              "#9c179e"
             ],
             [
              0.4444444444444444,
              "#bd3786"
             ],
             [
              0.5555555555555556,
              "#d8576b"
             ],
             [
              0.6666666666666666,
              "#ed7953"
             ],
             [
              0.7777777777777778,
              "#fb9f3a"
             ],
             [
              0.8888888888888888,
              "#fdca26"
             ],
             [
              1,
              "#f0f921"
             ]
            ],
            "type": "heatmapgl"
           }
          ],
          "histogram": [
           {
            "marker": {
             "pattern": {
              "fillmode": "overlay",
              "size": 10,
              "solidity": 0.2
             }
            },
            "type": "histogram"
           }
          ],
          "histogram2d": [
           {
            "colorbar": {
             "outlinewidth": 0,
             "ticks": ""
            },
            "colorscale": [
             [
              0,
              "#0d0887"
             ],
             [
              0.1111111111111111,
              "#46039f"
             ],
             [
              0.2222222222222222,
              "#7201a8"
             ],
             [
              0.3333333333333333,
              "#9c179e"
             ],
             [
              0.4444444444444444,
              "#bd3786"
             ],
             [
              0.5555555555555556,
              "#d8576b"
             ],
             [
              0.6666666666666666,
              "#ed7953"
             ],
             [
              0.7777777777777778,
              "#fb9f3a"
             ],
             [
              0.8888888888888888,
              "#fdca26"
             ],
             [
              1,
              "#f0f921"
             ]
            ],
            "type": "histogram2d"
           }
          ],
          "histogram2dcontour": [
           {
            "colorbar": {
             "outlinewidth": 0,
             "ticks": ""
            },
            "colorscale": [
             [
              0,
              "#0d0887"
             ],
             [
              0.1111111111111111,
              "#46039f"
             ],
             [
              0.2222222222222222,
              "#7201a8"
             ],
             [
              0.3333333333333333,
              "#9c179e"
             ],
             [
              0.4444444444444444,
              "#bd3786"
             ],
             [
              0.5555555555555556,
              "#d8576b"
             ],
             [
              0.6666666666666666,
              "#ed7953"
             ],
             [
              0.7777777777777778,
              "#fb9f3a"
             ],
             [
              0.8888888888888888,
              "#fdca26"
             ],
             [
              1,
              "#f0f921"
             ]
            ],
            "type": "histogram2dcontour"
           }
          ],
          "mesh3d": [
           {
            "colorbar": {
             "outlinewidth": 0,
             "ticks": ""
            },
            "type": "mesh3d"
           }
          ],
          "parcoords": [
           {
            "line": {
             "colorbar": {
              "outlinewidth": 0,
              "ticks": ""
             }
            },
            "type": "parcoords"
           }
          ],
          "pie": [
           {
            "automargin": true,
            "type": "pie"
           }
          ],
          "scatter": [
           {
            "fillpattern": {
             "fillmode": "overlay",
             "size": 10,
             "solidity": 0.2
            },
            "type": "scatter"
           }
          ],
          "scatter3d": [
           {
            "line": {
             "colorbar": {
              "outlinewidth": 0,
              "ticks": ""
             }
            },
            "marker": {
             "colorbar": {
              "outlinewidth": 0,
              "ticks": ""
             }
            },
            "type": "scatter3d"
           }
          ],
          "scattercarpet": [
           {
            "marker": {
             "colorbar": {
              "outlinewidth": 0,
              "ticks": ""
             }
            },
            "type": "scattercarpet"
           }
          ],
          "scattergeo": [
           {
            "marker": {
             "colorbar": {
              "outlinewidth": 0,
              "ticks": ""
             }
            },
            "type": "scattergeo"
           }
          ],
          "scattergl": [
           {
            "marker": {
             "colorbar": {
              "outlinewidth": 0,
              "ticks": ""
             }
            },
            "type": "scattergl"
           }
          ],
          "scattermapbox": [
           {
            "marker": {
             "colorbar": {
              "outlinewidth": 0,
              "ticks": ""
             }
            },
            "type": "scattermapbox"
           }
          ],
          "scatterpolar": [
           {
            "marker": {
             "colorbar": {
              "outlinewidth": 0,
              "ticks": ""
             }
            },
            "type": "scatterpolar"
           }
          ],
          "scatterpolargl": [
           {
            "marker": {
             "colorbar": {
              "outlinewidth": 0,
              "ticks": ""
             }
            },
            "type": "scatterpolargl"
           }
          ],
          "scatterternary": [
           {
            "marker": {
             "colorbar": {
              "outlinewidth": 0,
              "ticks": ""
             }
            },
            "type": "scatterternary"
           }
          ],
          "surface": [
           {
            "colorbar": {
             "outlinewidth": 0,
             "ticks": ""
            },
            "colorscale": [
             [
              0,
              "#0d0887"
             ],
             [
              0.1111111111111111,
              "#46039f"
             ],
             [
              0.2222222222222222,
              "#7201a8"
             ],
             [
              0.3333333333333333,
              "#9c179e"
             ],
             [
              0.4444444444444444,
              "#bd3786"
             ],
             [
              0.5555555555555556,
              "#d8576b"
             ],
             [
              0.6666666666666666,
              "#ed7953"
             ],
             [
              0.7777777777777778,
              "#fb9f3a"
             ],
             [
              0.8888888888888888,
              "#fdca26"
             ],
             [
              1,
              "#f0f921"
             ]
            ],
            "type": "surface"
           }
          ],
          "table": [
           {
            "cells": {
             "fill": {
              "color": "#EBF0F8"
             },
             "line": {
              "color": "white"
             }
            },
            "header": {
             "fill": {
              "color": "#C8D4E3"
             },
             "line": {
              "color": "white"
             }
            },
            "type": "table"
           }
          ]
         },
         "layout": {
          "annotationdefaults": {
           "arrowcolor": "#2a3f5f",
           "arrowhead": 0,
           "arrowwidth": 1
          },
          "autotypenumbers": "strict",
          "coloraxis": {
           "colorbar": {
            "outlinewidth": 0,
            "ticks": ""
           }
          },
          "colorscale": {
           "diverging": [
            [
             0,
             "#8e0152"
            ],
            [
             0.1,
             "#c51b7d"
            ],
            [
             0.2,
             "#de77ae"
            ],
            [
             0.3,
             "#f1b6da"
            ],
            [
             0.4,
             "#fde0ef"
            ],
            [
             0.5,
             "#f7f7f7"
            ],
            [
             0.6,
             "#e6f5d0"
            ],
            [
             0.7,
             "#b8e186"
            ],
            [
             0.8,
             "#7fbc41"
            ],
            [
             0.9,
             "#4d9221"
            ],
            [
             1,
             "#276419"
            ]
           ],
           "sequential": [
            [
             0,
             "#0d0887"
            ],
            [
             0.1111111111111111,
             "#46039f"
            ],
            [
             0.2222222222222222,
             "#7201a8"
            ],
            [
             0.3333333333333333,
             "#9c179e"
            ],
            [
             0.4444444444444444,
             "#bd3786"
            ],
            [
             0.5555555555555556,
             "#d8576b"
            ],
            [
             0.6666666666666666,
             "#ed7953"
            ],
            [
             0.7777777777777778,
             "#fb9f3a"
            ],
            [
             0.8888888888888888,
             "#fdca26"
            ],
            [
             1,
             "#f0f921"
            ]
           ],
           "sequentialminus": [
            [
             0,
             "#0d0887"
            ],
            [
             0.1111111111111111,
             "#46039f"
            ],
            [
             0.2222222222222222,
             "#7201a8"
            ],
            [
             0.3333333333333333,
             "#9c179e"
            ],
            [
             0.4444444444444444,
             "#bd3786"
            ],
            [
             0.5555555555555556,
             "#d8576b"
            ],
            [
             0.6666666666666666,
             "#ed7953"
            ],
            [
             0.7777777777777778,
             "#fb9f3a"
            ],
            [
             0.8888888888888888,
             "#fdca26"
            ],
            [
             1,
             "#f0f921"
            ]
           ]
          },
          "colorway": [
           "#636efa",
           "#EF553B",
           "#00cc96",
           "#ab63fa",
           "#FFA15A",
           "#19d3f3",
           "#FF6692",
           "#B6E880",
           "#FF97FF",
           "#FECB52"
          ],
          "font": {
           "color": "#2a3f5f"
          },
          "geo": {
           "bgcolor": "white",
           "lakecolor": "white",
           "landcolor": "#E5ECF6",
           "showlakes": true,
           "showland": true,
           "subunitcolor": "white"
          },
          "hoverlabel": {
           "align": "left"
          },
          "hovermode": "closest",
          "mapbox": {
           "style": "light"
          },
          "paper_bgcolor": "white",
          "plot_bgcolor": "#E5ECF6",
          "polar": {
           "angularaxis": {
            "gridcolor": "white",
            "linecolor": "white",
            "ticks": ""
           },
           "bgcolor": "#E5ECF6",
           "radialaxis": {
            "gridcolor": "white",
            "linecolor": "white",
            "ticks": ""
           }
          },
          "scene": {
           "xaxis": {
            "backgroundcolor": "#E5ECF6",
            "gridcolor": "white",
            "gridwidth": 2,
            "linecolor": "white",
            "showbackground": true,
            "ticks": "",
            "zerolinecolor": "white"
           },
           "yaxis": {
            "backgroundcolor": "#E5ECF6",
            "gridcolor": "white",
            "gridwidth": 2,
            "linecolor": "white",
            "showbackground": true,
            "ticks": "",
            "zerolinecolor": "white"
           },
           "zaxis": {
            "backgroundcolor": "#E5ECF6",
            "gridcolor": "white",
            "gridwidth": 2,
            "linecolor": "white",
            "showbackground": true,
            "ticks": "",
            "zerolinecolor": "white"
           }
          },
          "shapedefaults": {
           "line": {
            "color": "#2a3f5f"
           }
          },
          "ternary": {
           "aaxis": {
            "gridcolor": "white",
            "linecolor": "white",
            "ticks": ""
           },
           "baxis": {
            "gridcolor": "white",
            "linecolor": "white",
            "ticks": ""
           },
           "bgcolor": "#E5ECF6",
           "caxis": {
            "gridcolor": "white",
            "linecolor": "white",
            "ticks": ""
           }
          },
          "title": {
           "x": 0.05
          },
          "xaxis": {
           "automargin": true,
           "gridcolor": "white",
           "linecolor": "white",
           "ticks": "",
           "title": {
            "standoff": 15
           },
           "zerolinecolor": "white",
           "zerolinewidth": 2
          },
          "yaxis": {
           "automargin": true,
           "gridcolor": "white",
           "linecolor": "white",
           "ticks": "",
           "title": {
            "standoff": 15
           },
           "zerolinecolor": "white",
           "zerolinewidth": 2
          }
         }
        }
       }
      },
      "text/html": [
       "<div>                            <div id=\"502b42c3-d444-410f-a85c-0c7447dbb7d7\" class=\"plotly-graph-div\" style=\"height:525px; width:100%;\"></div>            <script type=\"text/javascript\">                require([\"plotly\"], function(Plotly) {                    window.PLOTLYENV=window.PLOTLYENV || {};                                    if (document.getElementById(\"502b42c3-d444-410f-a85c-0c7447dbb7d7\")) {                    Plotly.newPlot(                        \"502b42c3-d444-410f-a85c-0c7447dbb7d7\",                        [{\"branchvalues\":\"total\",\"domain\":{\"x\":[0.0,1.0],\"y\":[0.0,1.0]},\"hovertemplate\":\"labels=%{label}\\u003cbr\\u003ecount=%{value}\\u003cbr\\u003eparent=%{parent}\\u003cbr\\u003eid=%{id}\\u003cextra\\u003e\\u003c\\u002fextra\\u003e\",\"ids\":[\"Express Air\\u002fAtlantic\\u002fCritical\",\"Regular Air\\u002fAtlantic\\u002fCritical\",\"Express Air\\u002fNorthwest Territories\\u002fCritical\",\"Regular Air\\u002fNorthwest Territories\\u002fCritical\",\"Express Air\\u002fNunavut\\u002fCritical\",\"Express Air\\u002fOntario\\u002fCritical\",\"Regular Air\\u002fOntario\\u002fCritical\",\"Express Air\\u002fPrarie\\u002fCritical\",\"Regular Air\\u002fPrarie\\u002fCritical\",\"Express Air\\u002fWest\\u002fCritical\",\"Regular Air\\u002fWest\\u002fCritical\",\"Express Air\\u002fAtlantic\\u002fHigh\",\"Regular Air\\u002fAtlantic\\u002fHigh\",\"Express Air\\u002fNorthwest Territories\\u002fHigh\",\"Regular Air\\u002fNorthwest Territories\\u002fHigh\",\"Express Air\\u002fNunavut\\u002fHigh\",\"Regular Air\\u002fNunavut\\u002fHigh\",\"Express Air\\u002fOntario\\u002fHigh\",\"Regular Air\\u002fOntario\\u002fHigh\",\"Express Air\\u002fPrarie\\u002fHigh\",\"Regular Air\\u002fPrarie\\u002fHigh\",\"Express Air\\u002fWest\\u002fHigh\",\"Regular Air\\u002fWest\\u002fHigh\",\"Express Air\\u002fAtlantic\\u002fLow\",\"Regular Air\\u002fAtlantic\\u002fLow\",\"Express Air\\u002fNorthwest Territories\\u002fLow\",\"Regular Air\\u002fNorthwest Territories\\u002fLow\",\"Express Air\\u002fNunavut\\u002fLow\",\"Regular Air\\u002fNunavut\\u002fLow\",\"Express Air\\u002fOntario\\u002fLow\",\"Regular Air\\u002fOntario\\u002fLow\",\"Regular Air\\u002fPrarie\\u002fLow\",\"Express Air\\u002fWest\\u002fLow\",\"Regular Air\\u002fWest\\u002fLow\",\"Express Air\\u002fAtlantic\\u002fMedium\",\"Regular Air\\u002fAtlantic\\u002fMedium\",\"Express Air\\u002fNorthwest Territories\\u002fMedium\",\"Regular Air\\u002fNorthwest Territories\\u002fMedium\",\"Regular Air\\u002fNunavut\\u002fMedium\",\"Express Air\\u002fOntario\\u002fMedium\",\"Regular Air\\u002fOntario\\u002fMedium\",\"Express Air\\u002fPrarie\\u002fMedium\",\"Regular Air\\u002fPrarie\\u002fMedium\",\"Express Air\\u002fWest\\u002fMedium\",\"Regular Air\\u002fWest\\u002fMedium\",\"Express Air\\u002fAtlantic\\u002fNot Specified\",\"Regular Air\\u002fAtlantic\\u002fNot Specified\",\"Express Air\\u002fNorthwest Territories\\u002fNot Specified\",\"Regular Air\\u002fNorthwest Territories\\u002fNot Specified\",\"Express Air\\u002fNunavut\\u002fNot Specified\",\"Regular Air\\u002fNunavut\\u002fNot Specified\",\"Express Air\\u002fOntario\\u002fNot Specified\",\"Regular Air\\u002fOntario\\u002fNot Specified\",\"Express Air\\u002fPrarie\\u002fNot Specified\",\"Regular Air\\u002fPrarie\\u002fNot Specified\",\"Express Air\\u002fWest\\u002fNot Specified\",\"Regular Air\\u002fWest\\u002fNot Specified\",\"Express Air\\u002fAtlantic\",\"Regular Air\\u002fAtlantic\",\"Express Air\\u002fNorthwest Territories\",\"Regular Air\\u002fNorthwest Territories\",\"Express Air\\u002fNunavut\",\"Regular Air\\u002fNunavut\",\"Express Air\\u002fOntario\",\"Regular Air\\u002fOntario\",\"Express Air\\u002fPrarie\",\"Regular Air\\u002fPrarie\",\"Express Air\\u002fWest\",\"Regular Air\\u002fWest\",\"Express Air\",\"Regular Air\"],\"labels\":[\"Critical\",\"Critical\",\"Critical\",\"Critical\",\"Critical\",\"Critical\",\"Critical\",\"Critical\",\"Critical\",\"Critical\",\"Critical\",\"High\",\"High\",\"High\",\"High\",\"High\",\"High\",\"High\",\"High\",\"High\",\"High\",\"High\",\"High\",\"Low\",\"Low\",\"Low\",\"Low\",\"Low\",\"Low\",\"Low\",\"Low\",\"Low\",\"Low\",\"Low\",\"Medium\",\"Medium\",\"Medium\",\"Medium\",\"Medium\",\"Medium\",\"Medium\",\"Medium\",\"Medium\",\"Medium\",\"Medium\",\"Not Specified\",\"Not Specified\",\"Not Specified\",\"Not Specified\",\"Not Specified\",\"Not Specified\",\"Not Specified\",\"Not Specified\",\"Not Specified\",\"Not Specified\",\"Not Specified\",\"Not Specified\",\"Atlantic\",\"Atlantic\",\"Northwest Territories\",\"Northwest Territories\",\"Nunavut\",\"Nunavut\",\"Ontario\",\"Ontario\",\"Prarie\",\"Prarie\",\"West\",\"West\",\"Express Air\",\"Regular Air\"],\"name\":\"\",\"parents\":[\"Express Air\\u002fAtlantic\",\"Regular Air\\u002fAtlantic\",\"Express Air\\u002fNorthwest Territories\",\"Regular Air\\u002fNorthwest Territories\",\"Express Air\\u002fNunavut\",\"Express Air\\u002fOntario\",\"Regular Air\\u002fOntario\",\"Express Air\\u002fPrarie\",\"Regular Air\\u002fPrarie\",\"Express Air\\u002fWest\",\"Regular Air\\u002fWest\",\"Express Air\\u002fAtlantic\",\"Regular Air\\u002fAtlantic\",\"Express Air\\u002fNorthwest Territories\",\"Regular Air\\u002fNorthwest Territories\",\"Express Air\\u002fNunavut\",\"Regular Air\\u002fNunavut\",\"Express Air\\u002fOntario\",\"Regular Air\\u002fOntario\",\"Express Air\\u002fPrarie\",\"Regular Air\\u002fPrarie\",\"Express Air\\u002fWest\",\"Regular Air\\u002fWest\",\"Express Air\\u002fAtlantic\",\"Regular Air\\u002fAtlantic\",\"Express Air\\u002fNorthwest Territories\",\"Regular Air\\u002fNorthwest Territories\",\"Express Air\\u002fNunavut\",\"Regular Air\\u002fNunavut\",\"Express Air\\u002fOntario\",\"Regular Air\\u002fOntario\",\"Regular Air\\u002fPrarie\",\"Express Air\\u002fWest\",\"Regular Air\\u002fWest\",\"Express Air\\u002fAtlantic\",\"Regular Air\\u002fAtlantic\",\"Express Air\\u002fNorthwest Territories\",\"Regular Air\\u002fNorthwest Territories\",\"Regular Air\\u002fNunavut\",\"Express Air\\u002fOntario\",\"Regular Air\\u002fOntario\",\"Express Air\\u002fPrarie\",\"Regular Air\\u002fPrarie\",\"Express Air\\u002fWest\",\"Regular Air\\u002fWest\",\"Express Air\\u002fAtlantic\",\"Regular Air\\u002fAtlantic\",\"Express Air\\u002fNorthwest Territories\",\"Regular Air\\u002fNorthwest Territories\",\"Express Air\\u002fNunavut\",\"Regular Air\\u002fNunavut\",\"Express Air\\u002fOntario\",\"Regular Air\\u002fOntario\",\"Express Air\\u002fPrarie\",\"Regular Air\\u002fPrarie\",\"Express Air\\u002fWest\",\"Regular Air\\u002fWest\",\"Express Air\",\"Regular Air\",\"Express Air\",\"Regular Air\",\"Express Air\",\"Regular Air\",\"Express Air\",\"Regular Air\",\"Express Air\",\"Regular Air\",\"Express Air\",\"Regular Air\",\"\",\"\"],\"values\":[10,22,7,31,1,2,11,2,19,11,31,7,34,8,29,3,9,1,6,3,17,11,24,9,31,5,19,2,6,9,3,10,8,45,3,26,2,20,5,3,13,2,7,9,38,5,23,9,20,1,5,4,15,6,13,8,47,34,136,31,119,7,25,19,48,13,66,47,185,151,579],\"type\":\"treemap\"}],                        {\"template\":{\"data\":{\"histogram2dcontour\":[{\"type\":\"histogram2dcontour\",\"colorbar\":{\"outlinewidth\":0,\"ticks\":\"\"},\"colorscale\":[[0.0,\"#0d0887\"],[0.1111111111111111,\"#46039f\"],[0.2222222222222222,\"#7201a8\"],[0.3333333333333333,\"#9c179e\"],[0.4444444444444444,\"#bd3786\"],[0.5555555555555556,\"#d8576b\"],[0.6666666666666666,\"#ed7953\"],[0.7777777777777778,\"#fb9f3a\"],[0.8888888888888888,\"#fdca26\"],[1.0,\"#f0f921\"]]}],\"choropleth\":[{\"type\":\"choropleth\",\"colorbar\":{\"outlinewidth\":0,\"ticks\":\"\"}}],\"histogram2d\":[{\"type\":\"histogram2d\",\"colorbar\":{\"outlinewidth\":0,\"ticks\":\"\"},\"colorscale\":[[0.0,\"#0d0887\"],[0.1111111111111111,\"#46039f\"],[0.2222222222222222,\"#7201a8\"],[0.3333333333333333,\"#9c179e\"],[0.4444444444444444,\"#bd3786\"],[0.5555555555555556,\"#d8576b\"],[0.6666666666666666,\"#ed7953\"],[0.7777777777777778,\"#fb9f3a\"],[0.8888888888888888,\"#fdca26\"],[1.0,\"#f0f921\"]]}],\"heatmap\":[{\"type\":\"heatmap\",\"colorbar\":{\"outlinewidth\":0,\"ticks\":\"\"},\"colorscale\":[[0.0,\"#0d0887\"],[0.1111111111111111,\"#46039f\"],[0.2222222222222222,\"#7201a8\"],[0.3333333333333333,\"#9c179e\"],[0.4444444444444444,\"#bd3786\"],[0.5555555555555556,\"#d8576b\"],[0.6666666666666666,\"#ed7953\"],[0.7777777777777778,\"#fb9f3a\"],[0.8888888888888888,\"#fdca26\"],[1.0,\"#f0f921\"]]}],\"heatmapgl\":[{\"type\":\"heatmapgl\",\"colorbar\":{\"outlinewidth\":0,\"ticks\":\"\"},\"colorscale\":[[0.0,\"#0d0887\"],[0.1111111111111111,\"#46039f\"],[0.2222222222222222,\"#7201a8\"],[0.3333333333333333,\"#9c179e\"],[0.4444444444444444,\"#bd3786\"],[0.5555555555555556,\"#d8576b\"],[0.6666666666666666,\"#ed7953\"],[0.7777777777777778,\"#fb9f3a\"],[0.8888888888888888,\"#fdca26\"],[1.0,\"#f0f921\"]]}],\"contourcarpet\":[{\"type\":\"contourcarpet\",\"colorbar\":{\"outlinewidth\":0,\"ticks\":\"\"}}],\"contour\":[{\"type\":\"contour\",\"colorbar\":{\"outlinewidth\":0,\"ticks\":\"\"},\"colorscale\":[[0.0,\"#0d0887\"],[0.1111111111111111,\"#46039f\"],[0.2222222222222222,\"#7201a8\"],[0.3333333333333333,\"#9c179e\"],[0.4444444444444444,\"#bd3786\"],[0.5555555555555556,\"#d8576b\"],[0.6666666666666666,\"#ed7953\"],[0.7777777777777778,\"#fb9f3a\"],[0.8888888888888888,\"#fdca26\"],[1.0,\"#f0f921\"]]}],\"surface\":[{\"type\":\"surface\",\"colorbar\":{\"outlinewidth\":0,\"ticks\":\"\"},\"colorscale\":[[0.0,\"#0d0887\"],[0.1111111111111111,\"#46039f\"],[0.2222222222222222,\"#7201a8\"],[0.3333333333333333,\"#9c179e\"],[0.4444444444444444,\"#bd3786\"],[0.5555555555555556,\"#d8576b\"],[0.6666666666666666,\"#ed7953\"],[0.7777777777777778,\"#fb9f3a\"],[0.8888888888888888,\"#fdca26\"],[1.0,\"#f0f921\"]]}],\"mesh3d\":[{\"type\":\"mesh3d\",\"colorbar\":{\"outlinewidth\":0,\"ticks\":\"\"}}],\"scatter\":[{\"fillpattern\":{\"fillmode\":\"overlay\",\"size\":10,\"solidity\":0.2},\"type\":\"scatter\"}],\"parcoords\":[{\"type\":\"parcoords\",\"line\":{\"colorbar\":{\"outlinewidth\":0,\"ticks\":\"\"}}}],\"scatterpolargl\":[{\"type\":\"scatterpolargl\",\"marker\":{\"colorbar\":{\"outlinewidth\":0,\"ticks\":\"\"}}}],\"bar\":[{\"error_x\":{\"color\":\"#2a3f5f\"},\"error_y\":{\"color\":\"#2a3f5f\"},\"marker\":{\"line\":{\"color\":\"#E5ECF6\",\"width\":0.5},\"pattern\":{\"fillmode\":\"overlay\",\"size\":10,\"solidity\":0.2}},\"type\":\"bar\"}],\"scattergeo\":[{\"type\":\"scattergeo\",\"marker\":{\"colorbar\":{\"outlinewidth\":0,\"ticks\":\"\"}}}],\"scatterpolar\":[{\"type\":\"scatterpolar\",\"marker\":{\"colorbar\":{\"outlinewidth\":0,\"ticks\":\"\"}}}],\"histogram\":[{\"marker\":{\"pattern\":{\"fillmode\":\"overlay\",\"size\":10,\"solidity\":0.2}},\"type\":\"histogram\"}],\"scattergl\":[{\"type\":\"scattergl\",\"marker\":{\"colorbar\":{\"outlinewidth\":0,\"ticks\":\"\"}}}],\"scatter3d\":[{\"type\":\"scatter3d\",\"line\":{\"colorbar\":{\"outlinewidth\":0,\"ticks\":\"\"}},\"marker\":{\"colorbar\":{\"outlinewidth\":0,\"ticks\":\"\"}}}],\"scattermapbox\":[{\"type\":\"scattermapbox\",\"marker\":{\"colorbar\":{\"outlinewidth\":0,\"ticks\":\"\"}}}],\"scatterternary\":[{\"type\":\"scatterternary\",\"marker\":{\"colorbar\":{\"outlinewidth\":0,\"ticks\":\"\"}}}],\"scattercarpet\":[{\"type\":\"scattercarpet\",\"marker\":{\"colorbar\":{\"outlinewidth\":0,\"ticks\":\"\"}}}],\"carpet\":[{\"aaxis\":{\"endlinecolor\":\"#2a3f5f\",\"gridcolor\":\"white\",\"linecolor\":\"white\",\"minorgridcolor\":\"white\",\"startlinecolor\":\"#2a3f5f\"},\"baxis\":{\"endlinecolor\":\"#2a3f5f\",\"gridcolor\":\"white\",\"linecolor\":\"white\",\"minorgridcolor\":\"white\",\"startlinecolor\":\"#2a3f5f\"},\"type\":\"carpet\"}],\"table\":[{\"cells\":{\"fill\":{\"color\":\"#EBF0F8\"},\"line\":{\"color\":\"white\"}},\"header\":{\"fill\":{\"color\":\"#C8D4E3\"},\"line\":{\"color\":\"white\"}},\"type\":\"table\"}],\"barpolar\":[{\"marker\":{\"line\":{\"color\":\"#E5ECF6\",\"width\":0.5},\"pattern\":{\"fillmode\":\"overlay\",\"size\":10,\"solidity\":0.2}},\"type\":\"barpolar\"}],\"pie\":[{\"automargin\":true,\"type\":\"pie\"}]},\"layout\":{\"autotypenumbers\":\"strict\",\"colorway\":[\"#636efa\",\"#EF553B\",\"#00cc96\",\"#ab63fa\",\"#FFA15A\",\"#19d3f3\",\"#FF6692\",\"#B6E880\",\"#FF97FF\",\"#FECB52\"],\"font\":{\"color\":\"#2a3f5f\"},\"hovermode\":\"closest\",\"hoverlabel\":{\"align\":\"left\"},\"paper_bgcolor\":\"white\",\"plot_bgcolor\":\"#E5ECF6\",\"polar\":{\"bgcolor\":\"#E5ECF6\",\"angularaxis\":{\"gridcolor\":\"white\",\"linecolor\":\"white\",\"ticks\":\"\"},\"radialaxis\":{\"gridcolor\":\"white\",\"linecolor\":\"white\",\"ticks\":\"\"}},\"ternary\":{\"bgcolor\":\"#E5ECF6\",\"aaxis\":{\"gridcolor\":\"white\",\"linecolor\":\"white\",\"ticks\":\"\"},\"baxis\":{\"gridcolor\":\"white\",\"linecolor\":\"white\",\"ticks\":\"\"},\"caxis\":{\"gridcolor\":\"white\",\"linecolor\":\"white\",\"ticks\":\"\"}},\"coloraxis\":{\"colorbar\":{\"outlinewidth\":0,\"ticks\":\"\"}},\"colorscale\":{\"sequential\":[[0.0,\"#0d0887\"],[0.1111111111111111,\"#46039f\"],[0.2222222222222222,\"#7201a8\"],[0.3333333333333333,\"#9c179e\"],[0.4444444444444444,\"#bd3786\"],[0.5555555555555556,\"#d8576b\"],[0.6666666666666666,\"#ed7953\"],[0.7777777777777778,\"#fb9f3a\"],[0.8888888888888888,\"#fdca26\"],[1.0,\"#f0f921\"]],\"sequentialminus\":[[0.0,\"#0d0887\"],[0.1111111111111111,\"#46039f\"],[0.2222222222222222,\"#7201a8\"],[0.3333333333333333,\"#9c179e\"],[0.4444444444444444,\"#bd3786\"],[0.5555555555555556,\"#d8576b\"],[0.6666666666666666,\"#ed7953\"],[0.7777777777777778,\"#fb9f3a\"],[0.8888888888888888,\"#fdca26\"],[1.0,\"#f0f921\"]],\"diverging\":[[0,\"#8e0152\"],[0.1,\"#c51b7d\"],[0.2,\"#de77ae\"],[0.3,\"#f1b6da\"],[0.4,\"#fde0ef\"],[0.5,\"#f7f7f7\"],[0.6,\"#e6f5d0\"],[0.7,\"#b8e186\"],[0.8,\"#7fbc41\"],[0.9,\"#4d9221\"],[1,\"#276419\"]]},\"xaxis\":{\"gridcolor\":\"white\",\"linecolor\":\"white\",\"ticks\":\"\",\"title\":{\"standoff\":15},\"zerolinecolor\":\"white\",\"automargin\":true,\"zerolinewidth\":2},\"yaxis\":{\"gridcolor\":\"white\",\"linecolor\":\"white\",\"ticks\":\"\",\"title\":{\"standoff\":15},\"zerolinecolor\":\"white\",\"automargin\":true,\"zerolinewidth\":2},\"scene\":{\"xaxis\":{\"backgroundcolor\":\"#E5ECF6\",\"gridcolor\":\"white\",\"linecolor\":\"white\",\"showbackground\":true,\"ticks\":\"\",\"zerolinecolor\":\"white\",\"gridwidth\":2},\"yaxis\":{\"backgroundcolor\":\"#E5ECF6\",\"gridcolor\":\"white\",\"linecolor\":\"white\",\"showbackground\":true,\"ticks\":\"\",\"zerolinecolor\":\"white\",\"gridwidth\":2},\"zaxis\":{\"backgroundcolor\":\"#E5ECF6\",\"gridcolor\":\"white\",\"linecolor\":\"white\",\"showbackground\":true,\"ticks\":\"\",\"zerolinecolor\":\"white\",\"gridwidth\":2}},\"shapedefaults\":{\"line\":{\"color\":\"#2a3f5f\"}},\"annotationdefaults\":{\"arrowcolor\":\"#2a3f5f\",\"arrowhead\":0,\"arrowwidth\":1},\"geo\":{\"bgcolor\":\"white\",\"landcolor\":\"#E5ECF6\",\"subunitcolor\":\"white\",\"showland\":true,\"showlakes\":true,\"lakecolor\":\"white\"},\"title\":{\"x\":0.05},\"mapbox\":{\"style\":\"light\"}}},\"legend\":{\"tracegroupgap\":0},\"margin\":{\"t\":60}},                        {\"responsive\": true}                    ).then(function(){\n",
       "                            \n",
       "var gd = document.getElementById('502b42c3-d444-410f-a85c-0c7447dbb7d7');\n",
       "var x = new MutationObserver(function (mutations, observer) {{\n",
       "        var display = window.getComputedStyle(gd).display;\n",
       "        if (!display || display === 'none') {{\n",
       "            console.log([gd, 'removed!']);\n",
       "            Plotly.purge(gd);\n",
       "            observer.disconnect();\n",
       "        }}\n",
       "}});\n",
       "\n",
       "// Listen for the removal of the full notebook cells\n",
       "var notebookContainer = gd.closest('#notebook-container');\n",
       "if (notebookContainer) {{\n",
       "    x.observe(notebookContainer, {childList: true});\n",
       "}}\n",
       "\n",
       "// Listen for the clearing of the current output cell\n",
       "var outputEl = gd.closest('.output');\n",
       "if (outputEl) {{\n",
       "    x.observe(outputEl, {childList: true});\n",
       "}}\n",
       "\n",
       "                        })                };                });            </script>        </div>"
      ]
     },
     "metadata": {},
     "output_type": "display_data"
    }
   ],
   "source": [
    "grafico_classe_ldp = px.treemap(df, path = ['Ship_Mode','Region','Order_Priority'])\n",
    "grafico_classe_ldp.show()"
   ]
  },
  {
   "cell_type": "code",
   "execution_count": 14,
   "id": "7c38c703",
   "metadata": {},
   "outputs": [
    {
     "data": {
      "application/vnd.plotly.v1+json": {
       "config": {
        "plotlyServerURL": "https://plot.ly"
       },
       "data": [
        {
         "hovertemplate": "Sales=%{x}<br>Region=%{y}<br>Order_Quantity=%{marker.color}<extra></extra>",
         "legendgroup": "",
         "marker": {
          "color": [
           21,
           35,
           7,
           6,
           24,
           45,
           17,
           21,
           40,
           17,
           48,
           27,
           4,
           15,
           21,
           32,
           31,
           32,
           24,
           7,
           8,
           37,
           16,
           34,
           9,
           22,
           44,
           15,
           26,
           35,
           44,
           4,
           19,
           41,
           31,
           44,
           1,
           9,
           27,
           5,
           24,
           23,
           21,
           1,
           23,
           38,
           4,
           5,
           10,
           43,
           38,
           22,
           49,
           7,
           3,
           29,
           32,
           3,
           34,
           1,
           31,
           6,
           9,
           36,
           12,
           37,
           36,
           32,
           35,
           32,
           15,
           49,
           24,
           19,
           37,
           9,
           8,
           25,
           39,
           17,
           7,
           7,
           42,
           6,
           25,
           12,
           8,
           2,
           44,
           37,
           16,
           37,
           8,
           1,
           29,
           20,
           20,
           47,
           32,
           42,
           38,
           49,
           35,
           46,
           25,
           50,
           16,
           27,
           29,
           25,
           45,
           32,
           28,
           36,
           37,
           14,
           45,
           42,
           9,
           6,
           3,
           29,
           3,
           1,
           13,
           3,
           18,
           40,
           19,
           5,
           41,
           5,
           34,
           23,
           49,
           30,
           2,
           22,
           26,
           20,
           34,
           28,
           4,
           4,
           13,
           10,
           15,
           21,
           27,
           1,
           43,
           28,
           39,
           5,
           20,
           39,
           26,
           48,
           10,
           15,
           46,
           6,
           34,
           25,
           19,
           31,
           24,
           49,
           29,
           21,
           29,
           27,
           28,
           23,
           36,
           31,
           20,
           46,
           48,
           21,
           26,
           6,
           9,
           47,
           42,
           16,
           42,
           14,
           45,
           1,
           17,
           36,
           21,
           25,
           23,
           9,
           38,
           30,
           36,
           14,
           5,
           22,
           34,
           18,
           2,
           28,
           4,
           39,
           19,
           26,
           9,
           4,
           18,
           44,
           29,
           20,
           7,
           42,
           43,
           7,
           28,
           23,
           46,
           39,
           8,
           12,
           15,
           14,
           4,
           19,
           15,
           44,
           23,
           32,
           43,
           3,
           21,
           26,
           34,
           31,
           14,
           42,
           46,
           42,
           32,
           2,
           19,
           15,
           45,
           27,
           28,
           18,
           42,
           14,
           25,
           15,
           25,
           21,
           16,
           13,
           48,
           15,
           50,
           47,
           23,
           40,
           14,
           13,
           26,
           7,
           45,
           42,
           46,
           8,
           9,
           44,
           14,
           43,
           16,
           49,
           2,
           24,
           23,
           13,
           36,
           13,
           35,
           11,
           34,
           8,
           25,
           14,
           20,
           22,
           37,
           45,
           36,
           13,
           41,
           42,
           45,
           15,
           7,
           29,
           49,
           42,
           5,
           37,
           4,
           20,
           5,
           11,
           37,
           21,
           9,
           25,
           47,
           31,
           27,
           36,
           47,
           31,
           39,
           32,
           11,
           24,
           6,
           13,
           25,
           18,
           3,
           32,
           5,
           6,
           13,
           31,
           33,
           16,
           43,
           43,
           43,
           4,
           17,
           32,
           38,
           2,
           3,
           25,
           4,
           11,
           9,
           14,
           1,
           30,
           30,
           12,
           22,
           15,
           18,
           33,
           39,
           47,
           18,
           8,
           5,
           12,
           7,
           3,
           40,
           41,
           50,
           47,
           44,
           50,
           25,
           8,
           4,
           5,
           34,
           44,
           8,
           19,
           9,
           48,
           30,
           15,
           49,
           21,
           11,
           49,
           16,
           27,
           43,
           29,
           15,
           11,
           26,
           8,
           48,
           1,
           1,
           31,
           2,
           31,
           2,
           35,
           17,
           45,
           5,
           2,
           14,
           46,
           19,
           24,
           8,
           25,
           13,
           26,
           5,
           6,
           24,
           32,
           15,
           31,
           38,
           16,
           29,
           1,
           5,
           19,
           25,
           42,
           21,
           19,
           20,
           48,
           34,
           34,
           43,
           8,
           1,
           2,
           43,
           49,
           5,
           47,
           44,
           7,
           24,
           36,
           4,
           39,
           26,
           32,
           36,
           14,
           18,
           46,
           17,
           42,
           36,
           40,
           25,
           6,
           15,
           19,
           45,
           38,
           42,
           18,
           8,
           16,
           3,
           34,
           17,
           19,
           42,
           12,
           50,
           7,
           9,
           34,
           31,
           44,
           40,
           15,
           39,
           10,
           31,
           42,
           36,
           18,
           32,
           35,
           31,
           46,
           20,
           47,
           3,
           30,
           37,
           47,
           18,
           20,
           34,
           44,
           28,
           14,
           24,
           39,
           36,
           36,
           42,
           10,
           31,
           34,
           14,
           39,
           9,
           48,
           8,
           46,
           2,
           50,
           29,
           6,
           7,
           4,
           46,
           22,
           31,
           12,
           3,
           10,
           23,
           29,
           43,
           43,
           31,
           46,
           14,
           31,
           19,
           31,
           29,
           17,
           7,
           6,
           37,
           3,
           26,
           46,
           17,
           4,
           50,
           46,
           13,
           26,
           7,
           2,
           15,
           40,
           47,
           20,
           3,
           36,
           17,
           42,
           16,
           8,
           39,
           25,
           22,
           45,
           36,
           6,
           2,
           11,
           20,
           46,
           1,
           11,
           16,
           3,
           16,
           33,
           48,
           16,
           30,
           24,
           22,
           30,
           47,
           9,
           14,
           18,
           20,
           35,
           28,
           24,
           42,
           40,
           27,
           24,
           29,
           22,
           19,
           30,
           11,
           25,
           9,
           44,
           8,
           40,
           8,
           50,
           16,
           15,
           13,
           33,
           26,
           44,
           42,
           2,
           7,
           48,
           8,
           29,
           39,
           20,
           29,
           16,
           25,
           44,
           19,
           44,
           15,
           24,
           29,
           29,
           23,
           40,
           49,
           32,
           5,
           27,
           17,
           30,
           45,
           34,
           16,
           36,
           5,
           34,
           42,
           32,
           28,
           43,
           39,
           44,
           32,
           46,
           19,
           2,
           30,
           12,
           24,
           26,
           38,
           32,
           19,
           32,
           10,
           24,
           45,
           46,
           33,
           8,
           42,
           8,
           25,
           35,
           33,
           17,
           42,
           36,
           39,
           10,
           15,
           27,
           40,
           15,
           25,
           34,
           21,
           23,
           19,
           41,
           12,
           20,
           37,
           19,
           40,
           27,
           11,
           28,
           30,
           46,
           5,
           9,
           23,
           45,
           23,
           32,
           36,
           36,
           37,
           1,
           38,
           45,
           34,
           15,
           8,
           7,
           24,
           44,
           22,
           24,
           5,
           39
          ],
          "coloraxis": "coloraxis",
          "symbol": "circle"
         },
         "mode": "markers",
         "name": "",
         "orientation": "h",
         "showlegend": false,
         "type": "scatter",
         "x": [
          2781.82,
          3389.93,
          2039.56,
          905.94,
          1168.15,
          237.28,
          1368.14,
          4429.69,
          19109.61,
          2475.08,
          446.53,
          2780.88,
          198.72,
          4012.58,
          2954.14,
          1974.66,
          16066.85,
          1282.49,
          4636.62,
          497.2,
          27663.92,
          2756.17,
          1684.96,
          2788.04,
          89.55,
          6396.2,
          10087.6,
          1519.9,
          3758.77,
          17387.65,
          6040.22,
          97.57,
          12616.2,
          8387.1,
          8901.78,
          5735.79,
          305.82,
          6420.87,
          566.12,
          2543.95,
          1482.81,
          6693.28,
          4242.76,
          3672.89,
          10791.38,
          23255.61,
          62.45,
          66.43,
          1961.68,
          858.53,
          783.96,
          1132.54,
          7002.08,
          1874.37,
          431.29,
          20872.16,
          9235.97,
          441.43,
          6607.92,
          195.04,
          2645.8,
          90.75,
          196.41,
          3722.29,
          1323.67,
          4896.93,
          7783.36,
          2564.45,
          1476.39,
          2593.08,
          217.66,
          1981.26,
          1452.48,
          394.27,
          1003.06,
          64.0305,
          435.29,
          342.85,
          1105.66,
          224.09,
          1120.27,
          131.55,
          493.56,
          9620.82,
          3019.41,
          22079.47,
          234.28,
          42.31,
          275.91,
          5753.85,
          2631.107,
          1601.24,
          1219.19,
          104.85,
          2754.93,
          205.33,
          1583.06,
          1060.0605,
          3245.73,
          3609.88,
          952.47,
          2470.84,
          1445.6,
          410.43,
          2674.18,
          5513.82,
          225.46,
          1541.781,
          531.063,
          453.2455,
          1090.6,
          4800.44,
          697.5,
          551.44,
          5610.84,
          138.31,
          12571.63,
          642.1,
          106.05,
          112.4,
          46.46,
          701.94,
          58.14,
          21.45,
          59.03,
          49.59,
          130.32,
          436.17,
          368.04,
          24.16,
          270.84,
          101.21,
          1608.08,
          275.16,
          6175.777,
          387,
          30.83,
          440.92,
          626.07,
          660.27,
          971.95,
          456.91,
          40.72,
          63.52,
          438.93,
          550.61,
          1062.959,
          917.39,
          899.97,
          17.89,
          701.46,
          168.57,
          199.39,
          325.43,
          963.3,
          2083.0525,
          188.05,
          293.3,
          309.3,
          896.1805,
          2640.6865,
          2528.49,
          684.66,
          165.36,
          7608.88,
          3229.66,
          4010.9375,
          8223.07,
          374.67,
          848.2,
          5010.7415,
          384.9,
          1350.34,
          104.82,
          336.25,
          4726.595,
          234.09,
          7807.45,
          1269.79,
          1222.68,
          390.2,
          49.55,
          3800.4,
          695.99,
          939.77,
          2232.66,
          1811.3,
          125.54,
          2404.599,
          65.7475,
          118.36,
          2051.016,
          309.62,
          2529.396,
          1223.3795,
          264.63,
          260.41,
          201.35,
          9544.18,
          633.08,
          217.85,
          196.75,
          2833.19,
          986.24,
          19.02,
          1546.3965,
          103.9,
          3401.8,
          146.63,
          258.11,
          1288.515,
          38.76,
          360.24,
          210.46,
          5159.3725,
          857.95,
          127.74,
          7143.927,
          1751.68,
          381.1995,
          2752,
          1314.64,
          2332.23,
          1140.26,
          55.59,
          2011.6355,
          605.1,
          438.47,
          136.68,
          3555.29,
          76.94,
          1642.642,
          404.24,
          1381.88,
          1307.35,
          523.58,
          7512.03,
          363.16,
          772.56,
          614.35,
          76.06,
          372.69,
          411.56,
          906.64,
          270.73,
          45.64,
          108.21,
          150.33,
          529.28,
          244.57,
          370.48,
          136.29,
          266.36,
          1170.025,
          397.84,
          310.87,
          144.84,
          1049.79,
          817.18,
          121.66,
          538.22,
          822.8425,
          281.39,
          256,
          1404.22,
          6789.9275,
          2232.06,
          735.54,
          208.6,
          83.81,
          712.04,
          557.85,
          590.43,
          216.33,
          50.93,
          792.8,
          782.4505,
          241.19,
          92.06,
          165.51,
          34.88,
          2289.92,
          93.05,
          63.33,
          1436.55,
          1072.22,
          543.72,
          2021.147,
          2154.34,
          1042.25,
          409.08,
          84.09,
          42.22,
          245.96,
          608.33,
          132.31,
          1646.05,
          47.93,
          152.28,
          1498.46,
          253.89,
          297.05,
          108.26,
          1194.96,
          2692.6895,
          173.44,
          15.38,
          443.35,
          30.85,
          100.11,
          25.34,
          178.57,
          740.14,
          2024.0285,
          43.26,
          174.03,
          263.81,
          206.54,
          4722.83,
          277.88,
          925.3,
          1295.54,
          403.73,
          195.57,
          558.62,
          135.88,
          22.78,
          75.89,
          978.77,
          881.32,
          124.81,
          135.2,
          2019.65,
          232.21,
          64.46,
          127.9,
          112.36,
          481.049,
          260.59,
          264.75,
          1281.28,
          430.848,
          518.8,
          824.24,
          3701.5205,
          154.94,
          8.6,
          945.36,
          41.53,
          618.1965,
          58.98,
          136.85,
          12.74,
          251.11,
          4965.7595,
          93.54,
          905.08,
          834.904,
          2480.9205,
          511.83,
          282.07,
          191.67,
          507.64,
          820.284,
          14.76,
          118.97,
          384.33,
          239.03,
          255.48,
          844.09,
          751.77,
          2799.7,
          176.26,
          820.52,
          854.88,
          339.81,
          73.07,
          36.86,
          74.3,
          268.34,
          300.2,
          128.21,
          252.79,
          207.08,
          114.12,
          436.05,
          5247.4835,
          256.12,
          152.67,
          465.83,
          108.42,
          78.47,
          6583.913,
          593.32,
          593.73,
          32.4,
          4688.9485,
          50.7,
          6109.817,
          232.67,
          62.26,
          157.79,
          24.96,
          166.76,
          811.13,
          3310.9455,
          691.59,
          345.2,
          165.04,
          789.01,
          403.17,
          249.02,
          3548.67,
          1350.531,
          127.8,
          802.19,
          34.42,
          172.76,
          22.06,
          826.9735,
          2298.32,
          368.18,
          19417.55,
          615.58,
          2157.3085,
          347.47,
          862.2,
          18.92,
          324.55,
          281.84,
          509.52,
          2475.83,
          524.2,
          110.67,
          1163.123,
          224.58,
          365.77,
          216.3,
          154.18,
          52.39,
          97.13,
          51.21,
          683.46,
          8551.544,
          503.3275,
          186.93,
          4263.9315,
          387.17,
          60.36,
          1936.3,
          14.23,
          272.07,
          113.85,
          5686.25,
          283.21,
          222.91,
          1038.4,
          7441.29,
          55.45,
          433.68,
          1423.35,
          434.62,
          2407.693,
          17,
          67.41,
          130.67,
          440.39,
          3152.75,
          1681.6,
          925.03,
          327.61,
          178.4,
          171.9635,
          937.04,
          1616.64,
          120.56,
          1146.11,
          76.61,
          8221.2935,
          1158.26,
          298.52,
          667.35,
          3206.965,
          2435.32,
          196.5,
          572.4325,
          5250.6625,
          28.81,
          639.19,
          152.55,
          152.96,
          101.34,
          294.04,
          543.22,
          341.71,
          648.26,
          173.09,
          945.03,
          33.64,
          176.15,
          241.14,
          672.46,
          3780.43,
          638.72,
          245.4,
          642.8,
          4479.16,
          1966.26,
          114.17,
          197.11,
          2039.082,
          4711.244,
          460.2,
          155.45,
          983.78,
          223.59,
          1892.848,
          845.9,
          23.46,
          8101.9875,
          1313.811,
          247.21,
          19,
          8289.51,
          185.61,
          34.88,
          384.2,
          31.01,
          331.83,
          446.46,
          1252.89,
          47.79,
          63.84,
          152.84,
          631.99,
          1158.45,
          2568.71,
          170.81,
          1784.048,
          1482.01,
          91.75,
          346.57,
          82.43,
          295.97,
          94.5,
          114.28,
          27.99,
          21.07,
          102.46,
          21.64,
          1382.31,
          991.36,
          184.09,
          127.56,
          1406.64,
          3197.45,
          2323.36,
          187.16,
          44.05,
          13.3,
          687.52,
          4538.66,
          168.55,
          939.39,
          279.33,
          170.42,
          477.5045,
          187.28,
          72.08,
          1265.293,
          71.04,
          67.45,
          482.37,
          2354.8,
          228.01,
          323.53,
          29.31,
          80.26,
          2634.8555,
          281,
          14.68,
          10145.14,
          68.45,
          1326.09,
          118.38,
          195.98,
          274.38,
          4901.99,
          4305.79,
          67.35,
          446.72,
          1580.6005,
          16002.29,
          182.26,
          2145.6975,
          1341.963,
          310.31,
          246.98,
          128.69,
          68.88,
          286.73,
          2405.4575,
          399.76,
          73.37,
          271.33,
          43.97,
          195.96,
          278.94,
          336.91,
          1809.0125,
          206.04,
          246,
          468.49,
          1477.39,
          16.47,
          690.97,
          33.76,
          81.66,
          49.74,
          332.95,
          53.93,
          1190.8,
          121.65,
          103.105,
          263.8,
          447.89,
          184.07,
          573.97,
          223.79,
          129.16,
          843.55,
          2744.361,
          318.14,
          181.61,
          1781.11,
          185.32,
          73.41,
          238.25,
          1669.88,
          87.68,
          144.55,
          430.88,
          213.71,
          1829.387,
          820.5645,
          63.71,
          86.47,
          5015.051,
          168.66,
          2560.59,
          189.04,
          275.06,
          397.55,
          676.26,
          451.32,
          563.08,
          967.27,
          7452.137,
          679.95,
          1579.56,
          4906.85,
          265.88,
          3093.864,
          68.66,
          201.09,
          72.82,
          1326.51,
          73.82,
          154.85,
          4941.7725,
          77.57,
          1997.13,
          64.13,
          492.71,
          282.98,
          7965.9025,
          750.66,
          254.32,
          2149.37,
          49.04,
          237.36,
          195.23,
          1817.9,
          124.06,
          364.8,
          407.17,
          335.35,
          1925.83,
          113.5,
          188.07,
          933.21,
          260.39,
          185.64,
          225.98,
          330.22,
          188.53,
          718.41,
          4256.51,
          503.08,
          794.32,
          270.43,
          257.97,
          7381.19,
          1603.27,
          74.02,
          1553.66,
          3276.9965,
          4804.0385,
          185.79,
          186.67,
          445.17,
          698.1,
          249.64,
          303.59,
          191.6,
          317.59,
          6477.7395,
          356.95,
          2063.42,
          882.96,
          3375.3075,
          85.56,
          754.6555,
          23.84,
          1318.8685,
          5347.13,
          127.33,
          990.1,
          28.32,
          796.08
         ],
         "xaxis": "x",
         "y": [
          "Nunavut",
          "Northwest Territories",
          "Northwest Territories",
          "Northwest Territories",
          "Northwest Territories",
          "Northwest Territories",
          "Northwest Territories",
          "Atlantic",
          "West",
          "West",
          "West",
          "West",
          "West",
          "Atlantic",
          "Ontario",
          "Ontario",
          "Northwest Territories",
          "West",
          "West",
          "West",
          "West",
          "Atlantic",
          "Atlantic",
          "Atlantic",
          "Nunavut",
          "Nunavut",
          "Northwest Territories",
          "Northwest Territories",
          "Northwest Territories",
          "Northwest Territories",
          "Northwest Territories",
          "Northwest Territories",
          "Northwest Territories",
          "Northwest Territories",
          "Northwest Territories",
          "Northwest Territories",
          "Atlantic",
          "Atlantic",
          "Atlantic",
          "Atlantic",
          "Atlantic",
          "Atlantic",
          "Atlantic",
          "Atlantic",
          "Atlantic",
          "Atlantic",
          "Atlantic",
          "Atlantic",
          "Prarie",
          "Prarie",
          "Prarie",
          "Prarie",
          "West",
          "West",
          "West",
          "West",
          "West",
          "West",
          "West",
          "Atlantic",
          "Prarie",
          "Ontario",
          "Ontario",
          "Northwest Territories",
          "Northwest Territories",
          "Atlantic",
          "Atlantic",
          "West",
          "West",
          "West",
          "Atlantic",
          "Prarie",
          "Prarie",
          "Nunavut",
          "Nunavut",
          "Northwest Territories",
          "Atlantic",
          "Prarie",
          "West",
          "West",
          "West",
          "Atlantic",
          "Atlantic",
          "Nunavut",
          "Northwest Territories",
          "Northwest Territories",
          "Northwest Territories",
          "Northwest Territories",
          "Northwest Territories",
          "Northwest Territories",
          "Northwest Territories",
          "Northwest Territories",
          "Northwest Territories",
          "Northwest Territories",
          "Northwest Territories",
          "Northwest Territories",
          "Northwest Territories",
          "Northwest Territories",
          "Atlantic",
          "Atlantic",
          "Atlantic",
          "Atlantic",
          "Atlantic",
          "Atlantic",
          "Atlantic",
          "Atlantic",
          "Prarie",
          "West",
          "West",
          "West",
          "West",
          "West",
          "West",
          "Atlantic",
          "Atlantic",
          "West",
          "Ontario",
          "Ontario",
          "Ontario",
          "Ontario",
          "Ontario",
          "Ontario",
          "Ontario",
          "Ontario",
          "Nunavut",
          "Nunavut",
          "Nunavut",
          "Nunavut",
          "Nunavut",
          "Nunavut",
          "Northwest Territories",
          "Northwest Territories",
          "Northwest Territories",
          "Northwest Territories",
          "Northwest Territories",
          "Northwest Territories",
          "Northwest Territories",
          "Northwest Territories",
          "Northwest Territories",
          "Northwest Territories",
          "Northwest Territories",
          "Northwest Territories",
          "Northwest Territories",
          "Northwest Territories",
          "Northwest Territories",
          "Northwest Territories",
          "Northwest Territories",
          "Northwest Territories",
          "Northwest Territories",
          "Northwest Territories",
          "Northwest Territories",
          "Northwest Territories",
          "Northwest Territories",
          "Atlantic",
          "Atlantic",
          "Atlantic",
          "Atlantic",
          "Atlantic",
          "Atlantic",
          "Atlantic",
          "Atlantic",
          "Atlantic",
          "Atlantic",
          "Atlantic",
          "Atlantic",
          "Atlantic",
          "Atlantic",
          "Atlantic",
          "Prarie",
          "Prarie",
          "West",
          "West",
          "West",
          "West",
          "West",
          "West",
          "West",
          "West",
          "West",
          "West",
          "West",
          "West",
          "West",
          "West",
          "West",
          "West",
          "West",
          "West",
          "West",
          "West",
          "West",
          "West",
          "West",
          "West",
          "West",
          "West",
          "West",
          "West",
          "West",
          "West",
          "West",
          "West",
          "West",
          "West",
          "West",
          "West",
          "Atlantic",
          "Atlantic",
          "Atlantic",
          "Atlantic",
          "Atlantic",
          "Atlantic",
          "Atlantic",
          "Atlantic",
          "Atlantic",
          "Atlantic",
          "Atlantic",
          "Atlantic",
          "Atlantic",
          "Atlantic",
          "West",
          "West",
          "West",
          "Prarie",
          "Prarie",
          "Prarie",
          "Prarie",
          "Prarie",
          "Prarie",
          "Prarie",
          "Prarie",
          "Prarie",
          "Ontario",
          "Ontario",
          "Ontario",
          "Ontario",
          "Ontario",
          "Ontario",
          "Ontario",
          "Ontario",
          "Ontario",
          "Ontario",
          "Ontario",
          "Ontario",
          "Ontario",
          "Ontario",
          "Ontario",
          "Ontario",
          "Ontario",
          "Nunavut",
          "Nunavut",
          "Nunavut",
          "Northwest Territories",
          "Northwest Territories",
          "Northwest Territories",
          "Northwest Territories",
          "Northwest Territories",
          "Northwest Territories",
          "Northwest Territories",
          "Northwest Territories",
          "Northwest Territories",
          "Northwest Territories",
          "Northwest Territories",
          "Northwest Territories",
          "Northwest Territories",
          "Northwest Territories",
          "Northwest Territories",
          "Northwest Territories",
          "Atlantic",
          "Atlantic",
          "Atlantic",
          "Atlantic",
          "Atlantic",
          "Atlantic",
          "Atlantic",
          "Atlantic",
          "Atlantic",
          "Atlantic",
          "Atlantic",
          "Atlantic",
          "Atlantic",
          "Atlantic",
          "Atlantic",
          "Prarie",
          "Prarie",
          "Prarie",
          "West",
          "West",
          "West",
          "West",
          "West",
          "West",
          "West",
          "West",
          "West",
          "West",
          "West",
          "West",
          "West",
          "West",
          "West",
          "West",
          "West",
          "West",
          "West",
          "West",
          "West",
          "West",
          "West",
          "West",
          "West",
          "West",
          "West",
          "West",
          "West",
          "West",
          "West",
          "West",
          "West",
          "Atlantic",
          "Atlantic",
          "Atlantic",
          "Atlantic",
          "Atlantic",
          "Atlantic",
          "Atlantic",
          "Atlantic",
          "Atlantic",
          "Atlantic",
          "Atlantic",
          "Atlantic",
          "Atlantic",
          "West",
          "West",
          "West",
          "West",
          "Prarie",
          "Prarie",
          "Prarie",
          "Prarie",
          "Prarie",
          "Prarie",
          "Prarie",
          "Prarie",
          "Prarie",
          "Prarie",
          "Ontario",
          "Ontario",
          "Ontario",
          "Ontario",
          "Ontario",
          "Ontario",
          "Ontario",
          "Ontario",
          "Nunavut",
          "Nunavut",
          "Nunavut",
          "Nunavut",
          "Nunavut",
          "Nunavut",
          "Nunavut",
          "Nunavut",
          "Nunavut",
          "Nunavut",
          "Nunavut",
          "Nunavut",
          "Nunavut",
          "Nunavut",
          "Nunavut",
          "Nunavut",
          "Nunavut",
          "Northwest Territories",
          "Northwest Territories",
          "Northwest Territories",
          "Northwest Territories",
          "Northwest Territories",
          "Northwest Territories",
          "Northwest Territories",
          "Northwest Territories",
          "Northwest Territories",
          "Northwest Territories",
          "Northwest Territories",
          "Northwest Territories",
          "Northwest Territories",
          "Northwest Territories",
          "Northwest Territories",
          "Northwest Territories",
          "Northwest Territories",
          "Northwest Territories",
          "Northwest Territories",
          "Northwest Territories",
          "Northwest Territories",
          "Northwest Territories",
          "Northwest Territories",
          "Northwest Territories",
          "Northwest Territories",
          "Northwest Territories",
          "Northwest Territories",
          "Northwest Territories",
          "Northwest Territories",
          "Northwest Territories",
          "Northwest Territories",
          "Northwest Territories",
          "Northwest Territories",
          "Northwest Territories",
          "Northwest Territories",
          "Northwest Territories",
          "Northwest Territories",
          "Northwest Territories",
          "Northwest Territories",
          "Northwest Territories",
          "Northwest Territories",
          "Northwest Territories",
          "Northwest Territories",
          "Northwest Territories",
          "Northwest Territories",
          "Northwest Territories",
          "Northwest Territories",
          "Northwest Territories",
          "Northwest Territories",
          "Northwest Territories",
          "Northwest Territories",
          "Northwest Territories",
          "Northwest Territories",
          "Northwest Territories",
          "Northwest Territories",
          "Northwest Territories",
          "Northwest Territories",
          "Northwest Territories",
          "Northwest Territories",
          "Northwest Territories",
          "Northwest Territories",
          "Northwest Territories",
          "Northwest Territories",
          "Northwest Territories",
          "Northwest Territories",
          "Northwest Territories",
          "Northwest Territories",
          "Northwest Territories",
          "Northwest Territories",
          "Northwest Territories",
          "Northwest Territories",
          "Northwest Territories",
          "Northwest Territories",
          "Northwest Territories",
          "Northwest Territories",
          "Northwest Territories",
          "Northwest Territories",
          "Atlantic",
          "Atlantic",
          "Atlantic",
          "Atlantic",
          "Atlantic",
          "Atlantic",
          "Atlantic",
          "Atlantic",
          "Atlantic",
          "Atlantic",
          "Atlantic",
          "Atlantic",
          "Atlantic",
          "Atlantic",
          "Atlantic",
          "Atlantic",
          "Atlantic",
          "Atlantic",
          "Atlantic",
          "Atlantic",
          "Atlantic",
          "Atlantic",
          "Atlantic",
          "Atlantic",
          "Atlantic",
          "Atlantic",
          "Atlantic",
          "Atlantic",
          "Atlantic",
          "Atlantic",
          "Atlantic",
          "Atlantic",
          "Atlantic",
          "Atlantic",
          "Atlantic",
          "Atlantic",
          "Atlantic",
          "Atlantic",
          "Atlantic",
          "Atlantic",
          "Atlantic",
          "Atlantic",
          "Atlantic",
          "Atlantic",
          "Atlantic",
          "Atlantic",
          "Atlantic",
          "Atlantic",
          "Atlantic",
          "Atlantic",
          "Atlantic",
          "Atlantic",
          "Atlantic",
          "Atlantic",
          "Prarie",
          "Prarie",
          "Prarie",
          "Prarie",
          "Prarie",
          "Prarie",
          "Prarie",
          "Prarie",
          "Prarie",
          "Prarie",
          "Prarie",
          "Prarie",
          "Prarie",
          "West",
          "West",
          "West",
          "West",
          "West",
          "West",
          "West",
          "West",
          "West",
          "West",
          "West",
          "West",
          "West",
          "West",
          "West",
          "West",
          "West",
          "West",
          "West",
          "West",
          "West",
          "West",
          "West",
          "West",
          "West",
          "West",
          "West",
          "West",
          "West",
          "West",
          "West",
          "West",
          "West",
          "West",
          "West",
          "West",
          "West",
          "West",
          "West",
          "West",
          "West",
          "West",
          "West",
          "West",
          "West",
          "West",
          "West",
          "West",
          "West",
          "West",
          "West",
          "West",
          "West",
          "West",
          "West",
          "West",
          "West",
          "West",
          "West",
          "West",
          "West",
          "West",
          "West",
          "West",
          "West",
          "West",
          "West",
          "West",
          "West",
          "West",
          "West",
          "West",
          "West",
          "West",
          "West",
          "West",
          "West",
          "West",
          "West",
          "West",
          "West",
          "West",
          "West",
          "West",
          "West",
          "West",
          "West",
          "West",
          "West",
          "West",
          "West",
          "West",
          "West",
          "West",
          "West",
          "West",
          "West",
          "West",
          "West",
          "West",
          "West",
          "West",
          "West",
          "West",
          "West",
          "West",
          "West",
          "West",
          "West",
          "West",
          "West",
          "West",
          "West",
          "West",
          "West",
          "West",
          "West",
          "West",
          "Atlantic",
          "Atlantic",
          "Atlantic",
          "Atlantic",
          "Atlantic",
          "Atlantic",
          "Atlantic",
          "Atlantic",
          "Atlantic",
          "Atlantic",
          "Atlantic",
          "Atlantic",
          "Atlantic",
          "Atlantic",
          "Atlantic",
          "Atlantic",
          "Atlantic",
          "Atlantic",
          "Atlantic",
          "Atlantic",
          "Atlantic",
          "Atlantic",
          "Atlantic",
          "Atlantic",
          "Atlantic",
          "West",
          "West",
          "West",
          "West",
          "West",
          "West",
          "West",
          "West",
          "West",
          "Prarie",
          "Prarie",
          "Prarie",
          "Prarie",
          "Prarie",
          "Prarie",
          "Prarie",
          "Prarie",
          "Prarie",
          "Prarie",
          "Prarie",
          "Prarie",
          "Prarie",
          "Prarie",
          "Prarie",
          "Prarie",
          "Prarie",
          "Prarie",
          "Prarie",
          "Prarie",
          "Prarie",
          "Prarie",
          "Prarie",
          "Prarie",
          "Prarie",
          "Prarie",
          "Prarie",
          "Prarie",
          "Prarie",
          "Prarie",
          "Prarie",
          "Prarie",
          "Prarie",
          "Ontario",
          "Ontario",
          "Ontario",
          "Ontario",
          "Ontario",
          "Ontario",
          "Ontario",
          "Ontario",
          "Ontario",
          "Ontario",
          "Ontario",
          "Ontario",
          "Ontario",
          "Ontario",
          "Ontario",
          "Ontario",
          "Ontario",
          "Ontario",
          "Ontario",
          "Ontario",
          "Ontario",
          "Ontario",
          "Ontario",
          "Ontario",
          "Ontario",
          "Ontario",
          "Ontario",
          "Ontario",
          "Ontario",
          "Ontario"
         ],
         "yaxis": "y"
        }
       ],
       "layout": {
        "coloraxis": {
         "colorbar": {
          "title": {
           "text": "Order_Quantity"
          }
         },
         "colorscale": [
          [
           0,
           "#0d0887"
          ],
          [
           0.1111111111111111,
           "#46039f"
          ],
          [
           0.2222222222222222,
           "#7201a8"
          ],
          [
           0.3333333333333333,
           "#9c179e"
          ],
          [
           0.4444444444444444,
           "#bd3786"
          ],
          [
           0.5555555555555556,
           "#d8576b"
          ],
          [
           0.6666666666666666,
           "#ed7953"
          ],
          [
           0.7777777777777778,
           "#fb9f3a"
          ],
          [
           0.8888888888888888,
           "#fdca26"
          ],
          [
           1,
           "#f0f921"
          ]
         ]
        },
        "legend": {
         "tracegroupgap": 0
        },
        "margin": {
         "t": 60
        },
        "template": {
         "data": {
          "bar": [
           {
            "error_x": {
             "color": "#2a3f5f"
            },
            "error_y": {
             "color": "#2a3f5f"
            },
            "marker": {
             "line": {
              "color": "#E5ECF6",
              "width": 0.5
             },
             "pattern": {
              "fillmode": "overlay",
              "size": 10,
              "solidity": 0.2
             }
            },
            "type": "bar"
           }
          ],
          "barpolar": [
           {
            "marker": {
             "line": {
              "color": "#E5ECF6",
              "width": 0.5
             },
             "pattern": {
              "fillmode": "overlay",
              "size": 10,
              "solidity": 0.2
             }
            },
            "type": "barpolar"
           }
          ],
          "carpet": [
           {
            "aaxis": {
             "endlinecolor": "#2a3f5f",
             "gridcolor": "white",
             "linecolor": "white",
             "minorgridcolor": "white",
             "startlinecolor": "#2a3f5f"
            },
            "baxis": {
             "endlinecolor": "#2a3f5f",
             "gridcolor": "white",
             "linecolor": "white",
             "minorgridcolor": "white",
             "startlinecolor": "#2a3f5f"
            },
            "type": "carpet"
           }
          ],
          "choropleth": [
           {
            "colorbar": {
             "outlinewidth": 0,
             "ticks": ""
            },
            "type": "choropleth"
           }
          ],
          "contour": [
           {
            "colorbar": {
             "outlinewidth": 0,
             "ticks": ""
            },
            "colorscale": [
             [
              0,
              "#0d0887"
             ],
             [
              0.1111111111111111,
              "#46039f"
             ],
             [
              0.2222222222222222,
              "#7201a8"
             ],
             [
              0.3333333333333333,
              "#9c179e"
             ],
             [
              0.4444444444444444,
              "#bd3786"
             ],
             [
              0.5555555555555556,
              "#d8576b"
             ],
             [
              0.6666666666666666,
              "#ed7953"
             ],
             [
              0.7777777777777778,
              "#fb9f3a"
             ],
             [
              0.8888888888888888,
              "#fdca26"
             ],
             [
              1,
              "#f0f921"
             ]
            ],
            "type": "contour"
           }
          ],
          "contourcarpet": [
           {
            "colorbar": {
             "outlinewidth": 0,
             "ticks": ""
            },
            "type": "contourcarpet"
           }
          ],
          "heatmap": [
           {
            "colorbar": {
             "outlinewidth": 0,
             "ticks": ""
            },
            "colorscale": [
             [
              0,
              "#0d0887"
             ],
             [
              0.1111111111111111,
              "#46039f"
             ],
             [
              0.2222222222222222,
              "#7201a8"
             ],
             [
              0.3333333333333333,
              "#9c179e"
             ],
             [
              0.4444444444444444,
              "#bd3786"
             ],
             [
              0.5555555555555556,
              "#d8576b"
             ],
             [
              0.6666666666666666,
              "#ed7953"
             ],
             [
              0.7777777777777778,
              "#fb9f3a"
             ],
             [
              0.8888888888888888,
              "#fdca26"
             ],
             [
              1,
              "#f0f921"
             ]
            ],
            "type": "heatmap"
           }
          ],
          "heatmapgl": [
           {
            "colorbar": {
             "outlinewidth": 0,
             "ticks": ""
            },
            "colorscale": [
             [
              0,
              "#0d0887"
             ],
             [
              0.1111111111111111,
              "#46039f"
             ],
             [
              0.2222222222222222,
              "#7201a8"
             ],
             [
              0.3333333333333333,
              "#9c179e"
             ],
             [
              0.4444444444444444,
              "#bd3786"
             ],
             [
              0.5555555555555556,
              "#d8576b"
             ],
             [
              0.6666666666666666,
              "#ed7953"
             ],
             [
              0.7777777777777778,
              "#fb9f3a"
             ],
             [
              0.8888888888888888,
              "#fdca26"
             ],
             [
              1,
              "#f0f921"
             ]
            ],
            "type": "heatmapgl"
           }
          ],
          "histogram": [
           {
            "marker": {
             "pattern": {
              "fillmode": "overlay",
              "size": 10,
              "solidity": 0.2
             }
            },
            "type": "histogram"
           }
          ],
          "histogram2d": [
           {
            "colorbar": {
             "outlinewidth": 0,
             "ticks": ""
            },
            "colorscale": [
             [
              0,
              "#0d0887"
             ],
             [
              0.1111111111111111,
              "#46039f"
             ],
             [
              0.2222222222222222,
              "#7201a8"
             ],
             [
              0.3333333333333333,
              "#9c179e"
             ],
             [
              0.4444444444444444,
              "#bd3786"
             ],
             [
              0.5555555555555556,
              "#d8576b"
             ],
             [
              0.6666666666666666,
              "#ed7953"
             ],
             [
              0.7777777777777778,
              "#fb9f3a"
             ],
             [
              0.8888888888888888,
              "#fdca26"
             ],
             [
              1,
              "#f0f921"
             ]
            ],
            "type": "histogram2d"
           }
          ],
          "histogram2dcontour": [
           {
            "colorbar": {
             "outlinewidth": 0,
             "ticks": ""
            },
            "colorscale": [
             [
              0,
              "#0d0887"
             ],
             [
              0.1111111111111111,
              "#46039f"
             ],
             [
              0.2222222222222222,
              "#7201a8"
             ],
             [
              0.3333333333333333,
              "#9c179e"
             ],
             [
              0.4444444444444444,
              "#bd3786"
             ],
             [
              0.5555555555555556,
              "#d8576b"
             ],
             [
              0.6666666666666666,
              "#ed7953"
             ],
             [
              0.7777777777777778,
              "#fb9f3a"
             ],
             [
              0.8888888888888888,
              "#fdca26"
             ],
             [
              1,
              "#f0f921"
             ]
            ],
            "type": "histogram2dcontour"
           }
          ],
          "mesh3d": [
           {
            "colorbar": {
             "outlinewidth": 0,
             "ticks": ""
            },
            "type": "mesh3d"
           }
          ],
          "parcoords": [
           {
            "line": {
             "colorbar": {
              "outlinewidth": 0,
              "ticks": ""
             }
            },
            "type": "parcoords"
           }
          ],
          "pie": [
           {
            "automargin": true,
            "type": "pie"
           }
          ],
          "scatter": [
           {
            "fillpattern": {
             "fillmode": "overlay",
             "size": 10,
             "solidity": 0.2
            },
            "type": "scatter"
           }
          ],
          "scatter3d": [
           {
            "line": {
             "colorbar": {
              "outlinewidth": 0,
              "ticks": ""
             }
            },
            "marker": {
             "colorbar": {
              "outlinewidth": 0,
              "ticks": ""
             }
            },
            "type": "scatter3d"
           }
          ],
          "scattercarpet": [
           {
            "marker": {
             "colorbar": {
              "outlinewidth": 0,
              "ticks": ""
             }
            },
            "type": "scattercarpet"
           }
          ],
          "scattergeo": [
           {
            "marker": {
             "colorbar": {
              "outlinewidth": 0,
              "ticks": ""
             }
            },
            "type": "scattergeo"
           }
          ],
          "scattergl": [
           {
            "marker": {
             "colorbar": {
              "outlinewidth": 0,
              "ticks": ""
             }
            },
            "type": "scattergl"
           }
          ],
          "scattermapbox": [
           {
            "marker": {
             "colorbar": {
              "outlinewidth": 0,
              "ticks": ""
             }
            },
            "type": "scattermapbox"
           }
          ],
          "scatterpolar": [
           {
            "marker": {
             "colorbar": {
              "outlinewidth": 0,
              "ticks": ""
             }
            },
            "type": "scatterpolar"
           }
          ],
          "scatterpolargl": [
           {
            "marker": {
             "colorbar": {
              "outlinewidth": 0,
              "ticks": ""
             }
            },
            "type": "scatterpolargl"
           }
          ],
          "scatterternary": [
           {
            "marker": {
             "colorbar": {
              "outlinewidth": 0,
              "ticks": ""
             }
            },
            "type": "scatterternary"
           }
          ],
          "surface": [
           {
            "colorbar": {
             "outlinewidth": 0,
             "ticks": ""
            },
            "colorscale": [
             [
              0,
              "#0d0887"
             ],
             [
              0.1111111111111111,
              "#46039f"
             ],
             [
              0.2222222222222222,
              "#7201a8"
             ],
             [
              0.3333333333333333,
              "#9c179e"
             ],
             [
              0.4444444444444444,
              "#bd3786"
             ],
             [
              0.5555555555555556,
              "#d8576b"
             ],
             [
              0.6666666666666666,
              "#ed7953"
             ],
             [
              0.7777777777777778,
              "#fb9f3a"
             ],
             [
              0.8888888888888888,
              "#fdca26"
             ],
             [
              1,
              "#f0f921"
             ]
            ],
            "type": "surface"
           }
          ],
          "table": [
           {
            "cells": {
             "fill": {
              "color": "#EBF0F8"
             },
             "line": {
              "color": "white"
             }
            },
            "header": {
             "fill": {
              "color": "#C8D4E3"
             },
             "line": {
              "color": "white"
             }
            },
            "type": "table"
           }
          ]
         },
         "layout": {
          "annotationdefaults": {
           "arrowcolor": "#2a3f5f",
           "arrowhead": 0,
           "arrowwidth": 1
          },
          "autotypenumbers": "strict",
          "coloraxis": {
           "colorbar": {
            "outlinewidth": 0,
            "ticks": ""
           }
          },
          "colorscale": {
           "diverging": [
            [
             0,
             "#8e0152"
            ],
            [
             0.1,
             "#c51b7d"
            ],
            [
             0.2,
             "#de77ae"
            ],
            [
             0.3,
             "#f1b6da"
            ],
            [
             0.4,
             "#fde0ef"
            ],
            [
             0.5,
             "#f7f7f7"
            ],
            [
             0.6,
             "#e6f5d0"
            ],
            [
             0.7,
             "#b8e186"
            ],
            [
             0.8,
             "#7fbc41"
            ],
            [
             0.9,
             "#4d9221"
            ],
            [
             1,
             "#276419"
            ]
           ],
           "sequential": [
            [
             0,
             "#0d0887"
            ],
            [
             0.1111111111111111,
             "#46039f"
            ],
            [
             0.2222222222222222,
             "#7201a8"
            ],
            [
             0.3333333333333333,
             "#9c179e"
            ],
            [
             0.4444444444444444,
             "#bd3786"
            ],
            [
             0.5555555555555556,
             "#d8576b"
            ],
            [
             0.6666666666666666,
             "#ed7953"
            ],
            [
             0.7777777777777778,
             "#fb9f3a"
            ],
            [
             0.8888888888888888,
             "#fdca26"
            ],
            [
             1,
             "#f0f921"
            ]
           ],
           "sequentialminus": [
            [
             0,
             "#0d0887"
            ],
            [
             0.1111111111111111,
             "#46039f"
            ],
            [
             0.2222222222222222,
             "#7201a8"
            ],
            [
             0.3333333333333333,
             "#9c179e"
            ],
            [
             0.4444444444444444,
             "#bd3786"
            ],
            [
             0.5555555555555556,
             "#d8576b"
            ],
            [
             0.6666666666666666,
             "#ed7953"
            ],
            [
             0.7777777777777778,
             "#fb9f3a"
            ],
            [
             0.8888888888888888,
             "#fdca26"
            ],
            [
             1,
             "#f0f921"
            ]
           ]
          },
          "colorway": [
           "#636efa",
           "#EF553B",
           "#00cc96",
           "#ab63fa",
           "#FFA15A",
           "#19d3f3",
           "#FF6692",
           "#B6E880",
           "#FF97FF",
           "#FECB52"
          ],
          "font": {
           "color": "#2a3f5f"
          },
          "geo": {
           "bgcolor": "white",
           "lakecolor": "white",
           "landcolor": "#E5ECF6",
           "showlakes": true,
           "showland": true,
           "subunitcolor": "white"
          },
          "hoverlabel": {
           "align": "left"
          },
          "hovermode": "closest",
          "mapbox": {
           "style": "light"
          },
          "paper_bgcolor": "white",
          "plot_bgcolor": "#E5ECF6",
          "polar": {
           "angularaxis": {
            "gridcolor": "white",
            "linecolor": "white",
            "ticks": ""
           },
           "bgcolor": "#E5ECF6",
           "radialaxis": {
            "gridcolor": "white",
            "linecolor": "white",
            "ticks": ""
           }
          },
          "scene": {
           "xaxis": {
            "backgroundcolor": "#E5ECF6",
            "gridcolor": "white",
            "gridwidth": 2,
            "linecolor": "white",
            "showbackground": true,
            "ticks": "",
            "zerolinecolor": "white"
           },
           "yaxis": {
            "backgroundcolor": "#E5ECF6",
            "gridcolor": "white",
            "gridwidth": 2,
            "linecolor": "white",
            "showbackground": true,
            "ticks": "",
            "zerolinecolor": "white"
           },
           "zaxis": {
            "backgroundcolor": "#E5ECF6",
            "gridcolor": "white",
            "gridwidth": 2,
            "linecolor": "white",
            "showbackground": true,
            "ticks": "",
            "zerolinecolor": "white"
           }
          },
          "shapedefaults": {
           "line": {
            "color": "#2a3f5f"
           }
          },
          "ternary": {
           "aaxis": {
            "gridcolor": "white",
            "linecolor": "white",
            "ticks": ""
           },
           "baxis": {
            "gridcolor": "white",
            "linecolor": "white",
            "ticks": ""
           },
           "bgcolor": "#E5ECF6",
           "caxis": {
            "gridcolor": "white",
            "linecolor": "white",
            "ticks": ""
           }
          },
          "title": {
           "x": 0.05
          },
          "xaxis": {
           "automargin": true,
           "gridcolor": "white",
           "linecolor": "white",
           "ticks": "",
           "title": {
            "standoff": 15
           },
           "zerolinecolor": "white",
           "zerolinewidth": 2
          },
          "yaxis": {
           "automargin": true,
           "gridcolor": "white",
           "linecolor": "white",
           "ticks": "",
           "title": {
            "standoff": 15
           },
           "zerolinecolor": "white",
           "zerolinewidth": 2
          }
         }
        },
        "xaxis": {
         "anchor": "y",
         "domain": [
          0,
          1
         ],
         "title": {
          "text": "Sales"
         }
        },
        "yaxis": {
         "anchor": "x",
         "domain": [
          0,
          1
         ],
         "title": {
          "text": "Region"
         }
        }
       }
      },
      "text/html": [
       "<div>                            <div id=\"6ce90e3e-c9ac-4fb8-8574-a2cf6b40f98d\" class=\"plotly-graph-div\" style=\"height:525px; width:100%;\"></div>            <script type=\"text/javascript\">                require([\"plotly\"], function(Plotly) {                    window.PLOTLYENV=window.PLOTLYENV || {};                                    if (document.getElementById(\"6ce90e3e-c9ac-4fb8-8574-a2cf6b40f98d\")) {                    Plotly.newPlot(                        \"6ce90e3e-c9ac-4fb8-8574-a2cf6b40f98d\",                        [{\"hovertemplate\":\"Sales=%{x}\\u003cbr\\u003eRegion=%{y}\\u003cbr\\u003eOrder_Quantity=%{marker.color}\\u003cextra\\u003e\\u003c\\u002fextra\\u003e\",\"legendgroup\":\"\",\"marker\":{\"color\":[21,35,7,6,24,45,17,21,40,17,48,27,4,15,21,32,31,32,24,7,8,37,16,34,9,22,44,15,26,35,44,4,19,41,31,44,1,9,27,5,24,23,21,1,23,38,4,5,10,43,38,22,49,7,3,29,32,3,34,1,31,6,9,36,12,37,36,32,35,32,15,49,24,19,37,9,8,25,39,17,7,7,42,6,25,12,8,2,44,37,16,37,8,1,29,20,20,47,32,42,38,49,35,46,25,50,16,27,29,25,45,32,28,36,37,14,45,42,9,6,3,29,3,1,13,3,18,40,19,5,41,5,34,23,49,30,2,22,26,20,34,28,4,4,13,10,15,21,27,1,43,28,39,5,20,39,26,48,10,15,46,6,34,25,19,31,24,49,29,21,29,27,28,23,36,31,20,46,48,21,26,6,9,47,42,16,42,14,45,1,17,36,21,25,23,9,38,30,36,14,5,22,34,18,2,28,4,39,19,26,9,4,18,44,29,20,7,42,43,7,28,23,46,39,8,12,15,14,4,19,15,44,23,32,43,3,21,26,34,31,14,42,46,42,32,2,19,15,45,27,28,18,42,14,25,15,25,21,16,13,48,15,50,47,23,40,14,13,26,7,45,42,46,8,9,44,14,43,16,49,2,24,23,13,36,13,35,11,34,8,25,14,20,22,37,45,36,13,41,42,45,15,7,29,49,42,5,37,4,20,5,11,37,21,9,25,47,31,27,36,47,31,39,32,11,24,6,13,25,18,3,32,5,6,13,31,33,16,43,43,43,4,17,32,38,2,3,25,4,11,9,14,1,30,30,12,22,15,18,33,39,47,18,8,5,12,7,3,40,41,50,47,44,50,25,8,4,5,34,44,8,19,9,48,30,15,49,21,11,49,16,27,43,29,15,11,26,8,48,1,1,31,2,31,2,35,17,45,5,2,14,46,19,24,8,25,13,26,5,6,24,32,15,31,38,16,29,1,5,19,25,42,21,19,20,48,34,34,43,8,1,2,43,49,5,47,44,7,24,36,4,39,26,32,36,14,18,46,17,42,36,40,25,6,15,19,45,38,42,18,8,16,3,34,17,19,42,12,50,7,9,34,31,44,40,15,39,10,31,42,36,18,32,35,31,46,20,47,3,30,37,47,18,20,34,44,28,14,24,39,36,36,42,10,31,34,14,39,9,48,8,46,2,50,29,6,7,4,46,22,31,12,3,10,23,29,43,43,31,46,14,31,19,31,29,17,7,6,37,3,26,46,17,4,50,46,13,26,7,2,15,40,47,20,3,36,17,42,16,8,39,25,22,45,36,6,2,11,20,46,1,11,16,3,16,33,48,16,30,24,22,30,47,9,14,18,20,35,28,24,42,40,27,24,29,22,19,30,11,25,9,44,8,40,8,50,16,15,13,33,26,44,42,2,7,48,8,29,39,20,29,16,25,44,19,44,15,24,29,29,23,40,49,32,5,27,17,30,45,34,16,36,5,34,42,32,28,43,39,44,32,46,19,2,30,12,24,26,38,32,19,32,10,24,45,46,33,8,42,8,25,35,33,17,42,36,39,10,15,27,40,15,25,34,21,23,19,41,12,20,37,19,40,27,11,28,30,46,5,9,23,45,23,32,36,36,37,1,38,45,34,15,8,7,24,44,22,24,5,39],\"coloraxis\":\"coloraxis\",\"symbol\":\"circle\"},\"mode\":\"markers\",\"name\":\"\",\"orientation\":\"h\",\"showlegend\":false,\"x\":[2781.82,3389.93,2039.56,905.94,1168.15,237.28,1368.14,4429.69,19109.61,2475.08,446.53,2780.88,198.72,4012.58,2954.14,1974.66,16066.85,1282.49,4636.62,497.2,27663.92,2756.17,1684.96,2788.04,89.55,6396.2,10087.6,1519.9,3758.77,17387.65,6040.22,97.57,12616.2,8387.1,8901.78,5735.79,305.82,6420.87,566.12,2543.95,1482.81,6693.28,4242.76,3672.89,10791.38,23255.61,62.45,66.43,1961.68,858.53,783.96,1132.54,7002.08,1874.37,431.29,20872.16,9235.97,441.43,6607.92,195.04,2645.8,90.75,196.41,3722.29,1323.67,4896.93,7783.36,2564.45,1476.39,2593.08,217.66,1981.26,1452.48,394.27,1003.06,64.0305,435.29,342.85,1105.66,224.09,1120.27,131.55,493.56,9620.82,3019.41,22079.47,234.28,42.31,275.91,5753.85,2631.107,1601.24,1219.19,104.85,2754.93,205.33,1583.06,1060.0605,3245.73,3609.88,952.47,2470.84,1445.6,410.43,2674.18,5513.82,225.46,1541.781,531.063,453.2455,1090.6,4800.44,697.5,551.44,5610.84,138.31,12571.63,642.1,106.05,112.4,46.46,701.94,58.14,21.45,59.03,49.59,130.32,436.17,368.04,24.16,270.84,101.21,1608.08,275.16,6175.777,387.0,30.83,440.92,626.07,660.27,971.95,456.91,40.72,63.52,438.93,550.61,1062.959,917.39,899.97,17.89,701.46,168.57,199.39,325.43,963.3,2083.0525,188.05,293.3,309.3,896.1805,2640.6865,2528.49,684.66,165.36,7608.88,3229.66,4010.9375,8223.07,374.67,848.2,5010.7415,384.9,1350.34,104.82,336.25,4726.595,234.09,7807.45,1269.79,1222.68,390.2,49.55,3800.4,695.99,939.77,2232.66,1811.3,125.54,2404.599,65.7475,118.36,2051.016,309.62,2529.396,1223.3795,264.63,260.41,201.35,9544.18,633.08,217.85,196.75,2833.19,986.24,19.02,1546.3965,103.9,3401.8,146.63,258.11,1288.515,38.76,360.24,210.46,5159.3725,857.95,127.74,7143.927,1751.68,381.1995,2752.0,1314.64,2332.23,1140.26,55.59,2011.6355,605.1,438.47,136.68,3555.29,76.94,1642.642,404.24,1381.88,1307.35,523.58,7512.03,363.16,772.56,614.35,76.06,372.69,411.56,906.64,270.73,45.64,108.21,150.33,529.28,244.57,370.48,136.29,266.36,1170.025,397.84,310.87,144.84,1049.79,817.18,121.66,538.22,822.8425,281.39,256.0,1404.22,6789.9275,2232.06,735.54,208.6,83.81,712.04,557.85,590.43,216.33,50.93,792.8,782.4505,241.19,92.06,165.51,34.88,2289.92,93.05,63.33,1436.55,1072.22,543.72,2021.147,2154.34,1042.25,409.08,84.09,42.22,245.96,608.33,132.31,1646.05,47.93,152.28,1498.46,253.89,297.05,108.26,1194.96,2692.6895,173.44,15.38,443.35,30.85,100.11,25.34,178.57,740.14,2024.0285,43.26,174.03,263.81,206.54,4722.83,277.88,925.3,1295.54,403.73,195.57,558.62,135.88,22.78,75.89,978.77,881.32,124.81,135.2,2019.65,232.21,64.46,127.9,112.36,481.049,260.59,264.75,1281.28,430.848,518.8,824.24,3701.5205,154.94,8.6,945.36,41.53,618.1965,58.98,136.85,12.74,251.11,4965.7595,93.54,905.08,834.904,2480.9205,511.83,282.07,191.67,507.64,820.284,14.76,118.97,384.33,239.03,255.48,844.09,751.77,2799.7,176.26,820.52,854.88,339.81,73.07,36.86,74.3,268.34,300.2,128.21,252.79,207.08,114.12,436.05,5247.4835,256.12,152.67,465.83,108.42,78.47,6583.913,593.32,593.73,32.4,4688.9485,50.7,6109.817,232.67,62.26,157.79,24.96,166.76,811.13,3310.9455,691.59,345.2,165.04,789.01,403.17,249.02,3548.67,1350.531,127.8,802.19,34.42,172.76,22.06,826.9735,2298.32,368.18,19417.55,615.58,2157.3085,347.47,862.2,18.92,324.55,281.84,509.52,2475.83,524.2,110.67,1163.123,224.58,365.77,216.3,154.18,52.39,97.13,51.21,683.46,8551.544,503.3275,186.93,4263.9315,387.17,60.36,1936.3,14.23,272.07,113.85,5686.25,283.21,222.91,1038.4,7441.29,55.45,433.68,1423.35,434.62,2407.693,17.0,67.41,130.67,440.39,3152.75,1681.6,925.03,327.61,178.4,171.9635,937.04,1616.64,120.56,1146.11,76.61,8221.2935,1158.26,298.52,667.35,3206.965,2435.32,196.5,572.4325,5250.6625,28.81,639.19,152.55,152.96,101.34,294.04,543.22,341.71,648.26,173.09,945.03,33.64,176.15,241.14,672.46,3780.43,638.72,245.4,642.8,4479.16,1966.26,114.17,197.11,2039.082,4711.244,460.2,155.45,983.78,223.59,1892.848,845.9,23.46,8101.9875,1313.811,247.21,19.0,8289.51,185.61,34.88,384.2,31.01,331.83,446.46,1252.89,47.79,63.84,152.84,631.99,1158.45,2568.71,170.81,1784.048,1482.01,91.75,346.57,82.43,295.97,94.5,114.28,27.99,21.07,102.46,21.64,1382.31,991.36,184.09,127.56,1406.64,3197.45,2323.36,187.16,44.05,13.3,687.52,4538.66,168.55,939.39,279.33,170.42,477.5045,187.28,72.08,1265.293,71.04,67.45,482.37,2354.8,228.01,323.53,29.31,80.26,2634.8555,281.0,14.68,10145.14,68.45,1326.09,118.38,195.98,274.38,4901.99,4305.79,67.35,446.72,1580.6005,16002.29,182.26,2145.6975,1341.963,310.31,246.98,128.69,68.88,286.73,2405.4575,399.76,73.37,271.33,43.97,195.96,278.94,336.91,1809.0125,206.04,246.0,468.49,1477.39,16.47,690.97,33.76,81.66,49.74,332.95,53.93,1190.8,121.65,103.105,263.8,447.89,184.07,573.97,223.79,129.16,843.55,2744.361,318.14,181.61,1781.11,185.32,73.41,238.25,1669.88,87.68,144.55,430.88,213.71,1829.387,820.5645,63.71,86.47,5015.051,168.66,2560.59,189.04,275.06,397.55,676.26,451.32,563.08,967.27,7452.137,679.95,1579.56,4906.85,265.88,3093.864,68.66,201.09,72.82,1326.51,73.82,154.85,4941.7725,77.57,1997.13,64.13,492.71,282.98,7965.9025,750.66,254.32,2149.37,49.04,237.36,195.23,1817.9,124.06,364.8,407.17,335.35,1925.83,113.5,188.07,933.21,260.39,185.64,225.98,330.22,188.53,718.41,4256.51,503.08,794.32,270.43,257.97,7381.19,1603.27,74.02,1553.66,3276.9965,4804.0385,185.79,186.67,445.17,698.1,249.64,303.59,191.6,317.59,6477.7395,356.95,2063.42,882.96,3375.3075,85.56,754.6555,23.84,1318.8685,5347.13,127.33,990.1,28.32,796.08],\"xaxis\":\"x\",\"y\":[\"Nunavut\",\"Northwest Territories\",\"Northwest Territories\",\"Northwest Territories\",\"Northwest Territories\",\"Northwest Territories\",\"Northwest Territories\",\"Atlantic\",\"West\",\"West\",\"West\",\"West\",\"West\",\"Atlantic\",\"Ontario\",\"Ontario\",\"Northwest Territories\",\"West\",\"West\",\"West\",\"West\",\"Atlantic\",\"Atlantic\",\"Atlantic\",\"Nunavut\",\"Nunavut\",\"Northwest Territories\",\"Northwest Territories\",\"Northwest Territories\",\"Northwest Territories\",\"Northwest Territories\",\"Northwest Territories\",\"Northwest Territories\",\"Northwest Territories\",\"Northwest Territories\",\"Northwest Territories\",\"Atlantic\",\"Atlantic\",\"Atlantic\",\"Atlantic\",\"Atlantic\",\"Atlantic\",\"Atlantic\",\"Atlantic\",\"Atlantic\",\"Atlantic\",\"Atlantic\",\"Atlantic\",\"Prarie\",\"Prarie\",\"Prarie\",\"Prarie\",\"West\",\"West\",\"West\",\"West\",\"West\",\"West\",\"West\",\"Atlantic\",\"Prarie\",\"Ontario\",\"Ontario\",\"Northwest Territories\",\"Northwest Territories\",\"Atlantic\",\"Atlantic\",\"West\",\"West\",\"West\",\"Atlantic\",\"Prarie\",\"Prarie\",\"Nunavut\",\"Nunavut\",\"Northwest Territories\",\"Atlantic\",\"Prarie\",\"West\",\"West\",\"West\",\"Atlantic\",\"Atlantic\",\"Nunavut\",\"Northwest Territories\",\"Northwest Territories\",\"Northwest Territories\",\"Northwest Territories\",\"Northwest Territories\",\"Northwest Territories\",\"Northwest Territories\",\"Northwest Territories\",\"Northwest Territories\",\"Northwest Territories\",\"Northwest Territories\",\"Northwest Territories\",\"Northwest Territories\",\"Northwest Territories\",\"Atlantic\",\"Atlantic\",\"Atlantic\",\"Atlantic\",\"Atlantic\",\"Atlantic\",\"Atlantic\",\"Atlantic\",\"Prarie\",\"West\",\"West\",\"West\",\"West\",\"West\",\"West\",\"Atlantic\",\"Atlantic\",\"West\",\"Ontario\",\"Ontario\",\"Ontario\",\"Ontario\",\"Ontario\",\"Ontario\",\"Ontario\",\"Ontario\",\"Nunavut\",\"Nunavut\",\"Nunavut\",\"Nunavut\",\"Nunavut\",\"Nunavut\",\"Northwest Territories\",\"Northwest Territories\",\"Northwest Territories\",\"Northwest Territories\",\"Northwest Territories\",\"Northwest Territories\",\"Northwest Territories\",\"Northwest Territories\",\"Northwest Territories\",\"Northwest Territories\",\"Northwest Territories\",\"Northwest Territories\",\"Northwest Territories\",\"Northwest Territories\",\"Northwest Territories\",\"Northwest Territories\",\"Northwest Territories\",\"Northwest Territories\",\"Northwest Territories\",\"Northwest Territories\",\"Northwest Territories\",\"Northwest Territories\",\"Northwest Territories\",\"Atlantic\",\"Atlantic\",\"Atlantic\",\"Atlantic\",\"Atlantic\",\"Atlantic\",\"Atlantic\",\"Atlantic\",\"Atlantic\",\"Atlantic\",\"Atlantic\",\"Atlantic\",\"Atlantic\",\"Atlantic\",\"Atlantic\",\"Prarie\",\"Prarie\",\"West\",\"West\",\"West\",\"West\",\"West\",\"West\",\"West\",\"West\",\"West\",\"West\",\"West\",\"West\",\"West\",\"West\",\"West\",\"West\",\"West\",\"West\",\"West\",\"West\",\"West\",\"West\",\"West\",\"West\",\"West\",\"West\",\"West\",\"West\",\"West\",\"West\",\"West\",\"West\",\"West\",\"West\",\"West\",\"West\",\"Atlantic\",\"Atlantic\",\"Atlantic\",\"Atlantic\",\"Atlantic\",\"Atlantic\",\"Atlantic\",\"Atlantic\",\"Atlantic\",\"Atlantic\",\"Atlantic\",\"Atlantic\",\"Atlantic\",\"Atlantic\",\"West\",\"West\",\"West\",\"Prarie\",\"Prarie\",\"Prarie\",\"Prarie\",\"Prarie\",\"Prarie\",\"Prarie\",\"Prarie\",\"Prarie\",\"Ontario\",\"Ontario\",\"Ontario\",\"Ontario\",\"Ontario\",\"Ontario\",\"Ontario\",\"Ontario\",\"Ontario\",\"Ontario\",\"Ontario\",\"Ontario\",\"Ontario\",\"Ontario\",\"Ontario\",\"Ontario\",\"Ontario\",\"Nunavut\",\"Nunavut\",\"Nunavut\",\"Northwest Territories\",\"Northwest Territories\",\"Northwest Territories\",\"Northwest Territories\",\"Northwest Territories\",\"Northwest Territories\",\"Northwest Territories\",\"Northwest Territories\",\"Northwest Territories\",\"Northwest Territories\",\"Northwest Territories\",\"Northwest Territories\",\"Northwest Territories\",\"Northwest Territories\",\"Northwest Territories\",\"Northwest Territories\",\"Atlantic\",\"Atlantic\",\"Atlantic\",\"Atlantic\",\"Atlantic\",\"Atlantic\",\"Atlantic\",\"Atlantic\",\"Atlantic\",\"Atlantic\",\"Atlantic\",\"Atlantic\",\"Atlantic\",\"Atlantic\",\"Atlantic\",\"Prarie\",\"Prarie\",\"Prarie\",\"West\",\"West\",\"West\",\"West\",\"West\",\"West\",\"West\",\"West\",\"West\",\"West\",\"West\",\"West\",\"West\",\"West\",\"West\",\"West\",\"West\",\"West\",\"West\",\"West\",\"West\",\"West\",\"West\",\"West\",\"West\",\"West\",\"West\",\"West\",\"West\",\"West\",\"West\",\"West\",\"West\",\"Atlantic\",\"Atlantic\",\"Atlantic\",\"Atlantic\",\"Atlantic\",\"Atlantic\",\"Atlantic\",\"Atlantic\",\"Atlantic\",\"Atlantic\",\"Atlantic\",\"Atlantic\",\"Atlantic\",\"West\",\"West\",\"West\",\"West\",\"Prarie\",\"Prarie\",\"Prarie\",\"Prarie\",\"Prarie\",\"Prarie\",\"Prarie\",\"Prarie\",\"Prarie\",\"Prarie\",\"Ontario\",\"Ontario\",\"Ontario\",\"Ontario\",\"Ontario\",\"Ontario\",\"Ontario\",\"Ontario\",\"Nunavut\",\"Nunavut\",\"Nunavut\",\"Nunavut\",\"Nunavut\",\"Nunavut\",\"Nunavut\",\"Nunavut\",\"Nunavut\",\"Nunavut\",\"Nunavut\",\"Nunavut\",\"Nunavut\",\"Nunavut\",\"Nunavut\",\"Nunavut\",\"Nunavut\",\"Northwest Territories\",\"Northwest Territories\",\"Northwest Territories\",\"Northwest Territories\",\"Northwest Territories\",\"Northwest Territories\",\"Northwest Territories\",\"Northwest Territories\",\"Northwest Territories\",\"Northwest Territories\",\"Northwest Territories\",\"Northwest Territories\",\"Northwest Territories\",\"Northwest Territories\",\"Northwest Territories\",\"Northwest Territories\",\"Northwest Territories\",\"Northwest Territories\",\"Northwest Territories\",\"Northwest Territories\",\"Northwest Territories\",\"Northwest Territories\",\"Northwest Territories\",\"Northwest Territories\",\"Northwest Territories\",\"Northwest Territories\",\"Northwest Territories\",\"Northwest Territories\",\"Northwest Territories\",\"Northwest Territories\",\"Northwest Territories\",\"Northwest Territories\",\"Northwest Territories\",\"Northwest Territories\",\"Northwest Territories\",\"Northwest Territories\",\"Northwest Territories\",\"Northwest Territories\",\"Northwest Territories\",\"Northwest Territories\",\"Northwest Territories\",\"Northwest Territories\",\"Northwest Territories\",\"Northwest Territories\",\"Northwest Territories\",\"Northwest Territories\",\"Northwest Territories\",\"Northwest Territories\",\"Northwest Territories\",\"Northwest Territories\",\"Northwest Territories\",\"Northwest Territories\",\"Northwest Territories\",\"Northwest Territories\",\"Northwest Territories\",\"Northwest Territories\",\"Northwest Territories\",\"Northwest Territories\",\"Northwest Territories\",\"Northwest Territories\",\"Northwest Territories\",\"Northwest Territories\",\"Northwest Territories\",\"Northwest Territories\",\"Northwest Territories\",\"Northwest Territories\",\"Northwest Territories\",\"Northwest Territories\",\"Northwest Territories\",\"Northwest Territories\",\"Northwest Territories\",\"Northwest Territories\",\"Northwest Territories\",\"Northwest Territories\",\"Northwest Territories\",\"Northwest Territories\",\"Northwest Territories\",\"Atlantic\",\"Atlantic\",\"Atlantic\",\"Atlantic\",\"Atlantic\",\"Atlantic\",\"Atlantic\",\"Atlantic\",\"Atlantic\",\"Atlantic\",\"Atlantic\",\"Atlantic\",\"Atlantic\",\"Atlantic\",\"Atlantic\",\"Atlantic\",\"Atlantic\",\"Atlantic\",\"Atlantic\",\"Atlantic\",\"Atlantic\",\"Atlantic\",\"Atlantic\",\"Atlantic\",\"Atlantic\",\"Atlantic\",\"Atlantic\",\"Atlantic\",\"Atlantic\",\"Atlantic\",\"Atlantic\",\"Atlantic\",\"Atlantic\",\"Atlantic\",\"Atlantic\",\"Atlantic\",\"Atlantic\",\"Atlantic\",\"Atlantic\",\"Atlantic\",\"Atlantic\",\"Atlantic\",\"Atlantic\",\"Atlantic\",\"Atlantic\",\"Atlantic\",\"Atlantic\",\"Atlantic\",\"Atlantic\",\"Atlantic\",\"Atlantic\",\"Atlantic\",\"Atlantic\",\"Atlantic\",\"Prarie\",\"Prarie\",\"Prarie\",\"Prarie\",\"Prarie\",\"Prarie\",\"Prarie\",\"Prarie\",\"Prarie\",\"Prarie\",\"Prarie\",\"Prarie\",\"Prarie\",\"West\",\"West\",\"West\",\"West\",\"West\",\"West\",\"West\",\"West\",\"West\",\"West\",\"West\",\"West\",\"West\",\"West\",\"West\",\"West\",\"West\",\"West\",\"West\",\"West\",\"West\",\"West\",\"West\",\"West\",\"West\",\"West\",\"West\",\"West\",\"West\",\"West\",\"West\",\"West\",\"West\",\"West\",\"West\",\"West\",\"West\",\"West\",\"West\",\"West\",\"West\",\"West\",\"West\",\"West\",\"West\",\"West\",\"West\",\"West\",\"West\",\"West\",\"West\",\"West\",\"West\",\"West\",\"West\",\"West\",\"West\",\"West\",\"West\",\"West\",\"West\",\"West\",\"West\",\"West\",\"West\",\"West\",\"West\",\"West\",\"West\",\"West\",\"West\",\"West\",\"West\",\"West\",\"West\",\"West\",\"West\",\"West\",\"West\",\"West\",\"West\",\"West\",\"West\",\"West\",\"West\",\"West\",\"West\",\"West\",\"West\",\"West\",\"West\",\"West\",\"West\",\"West\",\"West\",\"West\",\"West\",\"West\",\"West\",\"West\",\"West\",\"West\",\"West\",\"West\",\"West\",\"West\",\"West\",\"West\",\"West\",\"West\",\"West\",\"West\",\"West\",\"West\",\"West\",\"West\",\"West\",\"West\",\"Atlantic\",\"Atlantic\",\"Atlantic\",\"Atlantic\",\"Atlantic\",\"Atlantic\",\"Atlantic\",\"Atlantic\",\"Atlantic\",\"Atlantic\",\"Atlantic\",\"Atlantic\",\"Atlantic\",\"Atlantic\",\"Atlantic\",\"Atlantic\",\"Atlantic\",\"Atlantic\",\"Atlantic\",\"Atlantic\",\"Atlantic\",\"Atlantic\",\"Atlantic\",\"Atlantic\",\"Atlantic\",\"West\",\"West\",\"West\",\"West\",\"West\",\"West\",\"West\",\"West\",\"West\",\"Prarie\",\"Prarie\",\"Prarie\",\"Prarie\",\"Prarie\",\"Prarie\",\"Prarie\",\"Prarie\",\"Prarie\",\"Prarie\",\"Prarie\",\"Prarie\",\"Prarie\",\"Prarie\",\"Prarie\",\"Prarie\",\"Prarie\",\"Prarie\",\"Prarie\",\"Prarie\",\"Prarie\",\"Prarie\",\"Prarie\",\"Prarie\",\"Prarie\",\"Prarie\",\"Prarie\",\"Prarie\",\"Prarie\",\"Prarie\",\"Prarie\",\"Prarie\",\"Prarie\",\"Ontario\",\"Ontario\",\"Ontario\",\"Ontario\",\"Ontario\",\"Ontario\",\"Ontario\",\"Ontario\",\"Ontario\",\"Ontario\",\"Ontario\",\"Ontario\",\"Ontario\",\"Ontario\",\"Ontario\",\"Ontario\",\"Ontario\",\"Ontario\",\"Ontario\",\"Ontario\",\"Ontario\",\"Ontario\",\"Ontario\",\"Ontario\",\"Ontario\",\"Ontario\",\"Ontario\",\"Ontario\",\"Ontario\",\"Ontario\"],\"yaxis\":\"y\",\"type\":\"scatter\"}],                        {\"template\":{\"data\":{\"histogram2dcontour\":[{\"type\":\"histogram2dcontour\",\"colorbar\":{\"outlinewidth\":0,\"ticks\":\"\"},\"colorscale\":[[0.0,\"#0d0887\"],[0.1111111111111111,\"#46039f\"],[0.2222222222222222,\"#7201a8\"],[0.3333333333333333,\"#9c179e\"],[0.4444444444444444,\"#bd3786\"],[0.5555555555555556,\"#d8576b\"],[0.6666666666666666,\"#ed7953\"],[0.7777777777777778,\"#fb9f3a\"],[0.8888888888888888,\"#fdca26\"],[1.0,\"#f0f921\"]]}],\"choropleth\":[{\"type\":\"choropleth\",\"colorbar\":{\"outlinewidth\":0,\"ticks\":\"\"}}],\"histogram2d\":[{\"type\":\"histogram2d\",\"colorbar\":{\"outlinewidth\":0,\"ticks\":\"\"},\"colorscale\":[[0.0,\"#0d0887\"],[0.1111111111111111,\"#46039f\"],[0.2222222222222222,\"#7201a8\"],[0.3333333333333333,\"#9c179e\"],[0.4444444444444444,\"#bd3786\"],[0.5555555555555556,\"#d8576b\"],[0.6666666666666666,\"#ed7953\"],[0.7777777777777778,\"#fb9f3a\"],[0.8888888888888888,\"#fdca26\"],[1.0,\"#f0f921\"]]}],\"heatmap\":[{\"type\":\"heatmap\",\"colorbar\":{\"outlinewidth\":0,\"ticks\":\"\"},\"colorscale\":[[0.0,\"#0d0887\"],[0.1111111111111111,\"#46039f\"],[0.2222222222222222,\"#7201a8\"],[0.3333333333333333,\"#9c179e\"],[0.4444444444444444,\"#bd3786\"],[0.5555555555555556,\"#d8576b\"],[0.6666666666666666,\"#ed7953\"],[0.7777777777777778,\"#fb9f3a\"],[0.8888888888888888,\"#fdca26\"],[1.0,\"#f0f921\"]]}],\"heatmapgl\":[{\"type\":\"heatmapgl\",\"colorbar\":{\"outlinewidth\":0,\"ticks\":\"\"},\"colorscale\":[[0.0,\"#0d0887\"],[0.1111111111111111,\"#46039f\"],[0.2222222222222222,\"#7201a8\"],[0.3333333333333333,\"#9c179e\"],[0.4444444444444444,\"#bd3786\"],[0.5555555555555556,\"#d8576b\"],[0.6666666666666666,\"#ed7953\"],[0.7777777777777778,\"#fb9f3a\"],[0.8888888888888888,\"#fdca26\"],[1.0,\"#f0f921\"]]}],\"contourcarpet\":[{\"type\":\"contourcarpet\",\"colorbar\":{\"outlinewidth\":0,\"ticks\":\"\"}}],\"contour\":[{\"type\":\"contour\",\"colorbar\":{\"outlinewidth\":0,\"ticks\":\"\"},\"colorscale\":[[0.0,\"#0d0887\"],[0.1111111111111111,\"#46039f\"],[0.2222222222222222,\"#7201a8\"],[0.3333333333333333,\"#9c179e\"],[0.4444444444444444,\"#bd3786\"],[0.5555555555555556,\"#d8576b\"],[0.6666666666666666,\"#ed7953\"],[0.7777777777777778,\"#fb9f3a\"],[0.8888888888888888,\"#fdca26\"],[1.0,\"#f0f921\"]]}],\"surface\":[{\"type\":\"surface\",\"colorbar\":{\"outlinewidth\":0,\"ticks\":\"\"},\"colorscale\":[[0.0,\"#0d0887\"],[0.1111111111111111,\"#46039f\"],[0.2222222222222222,\"#7201a8\"],[0.3333333333333333,\"#9c179e\"],[0.4444444444444444,\"#bd3786\"],[0.5555555555555556,\"#d8576b\"],[0.6666666666666666,\"#ed7953\"],[0.7777777777777778,\"#fb9f3a\"],[0.8888888888888888,\"#fdca26\"],[1.0,\"#f0f921\"]]}],\"mesh3d\":[{\"type\":\"mesh3d\",\"colorbar\":{\"outlinewidth\":0,\"ticks\":\"\"}}],\"scatter\":[{\"fillpattern\":{\"fillmode\":\"overlay\",\"size\":10,\"solidity\":0.2},\"type\":\"scatter\"}],\"parcoords\":[{\"type\":\"parcoords\",\"line\":{\"colorbar\":{\"outlinewidth\":0,\"ticks\":\"\"}}}],\"scatterpolargl\":[{\"type\":\"scatterpolargl\",\"marker\":{\"colorbar\":{\"outlinewidth\":0,\"ticks\":\"\"}}}],\"bar\":[{\"error_x\":{\"color\":\"#2a3f5f\"},\"error_y\":{\"color\":\"#2a3f5f\"},\"marker\":{\"line\":{\"color\":\"#E5ECF6\",\"width\":0.5},\"pattern\":{\"fillmode\":\"overlay\",\"size\":10,\"solidity\":0.2}},\"type\":\"bar\"}],\"scattergeo\":[{\"type\":\"scattergeo\",\"marker\":{\"colorbar\":{\"outlinewidth\":0,\"ticks\":\"\"}}}],\"scatterpolar\":[{\"type\":\"scatterpolar\",\"marker\":{\"colorbar\":{\"outlinewidth\":0,\"ticks\":\"\"}}}],\"histogram\":[{\"marker\":{\"pattern\":{\"fillmode\":\"overlay\",\"size\":10,\"solidity\":0.2}},\"type\":\"histogram\"}],\"scattergl\":[{\"type\":\"scattergl\",\"marker\":{\"colorbar\":{\"outlinewidth\":0,\"ticks\":\"\"}}}],\"scatter3d\":[{\"type\":\"scatter3d\",\"line\":{\"colorbar\":{\"outlinewidth\":0,\"ticks\":\"\"}},\"marker\":{\"colorbar\":{\"outlinewidth\":0,\"ticks\":\"\"}}}],\"scattermapbox\":[{\"type\":\"scattermapbox\",\"marker\":{\"colorbar\":{\"outlinewidth\":0,\"ticks\":\"\"}}}],\"scatterternary\":[{\"type\":\"scatterternary\",\"marker\":{\"colorbar\":{\"outlinewidth\":0,\"ticks\":\"\"}}}],\"scattercarpet\":[{\"type\":\"scattercarpet\",\"marker\":{\"colorbar\":{\"outlinewidth\":0,\"ticks\":\"\"}}}],\"carpet\":[{\"aaxis\":{\"endlinecolor\":\"#2a3f5f\",\"gridcolor\":\"white\",\"linecolor\":\"white\",\"minorgridcolor\":\"white\",\"startlinecolor\":\"#2a3f5f\"},\"baxis\":{\"endlinecolor\":\"#2a3f5f\",\"gridcolor\":\"white\",\"linecolor\":\"white\",\"minorgridcolor\":\"white\",\"startlinecolor\":\"#2a3f5f\"},\"type\":\"carpet\"}],\"table\":[{\"cells\":{\"fill\":{\"color\":\"#EBF0F8\"},\"line\":{\"color\":\"white\"}},\"header\":{\"fill\":{\"color\":\"#C8D4E3\"},\"line\":{\"color\":\"white\"}},\"type\":\"table\"}],\"barpolar\":[{\"marker\":{\"line\":{\"color\":\"#E5ECF6\",\"width\":0.5},\"pattern\":{\"fillmode\":\"overlay\",\"size\":10,\"solidity\":0.2}},\"type\":\"barpolar\"}],\"pie\":[{\"automargin\":true,\"type\":\"pie\"}]},\"layout\":{\"autotypenumbers\":\"strict\",\"colorway\":[\"#636efa\",\"#EF553B\",\"#00cc96\",\"#ab63fa\",\"#FFA15A\",\"#19d3f3\",\"#FF6692\",\"#B6E880\",\"#FF97FF\",\"#FECB52\"],\"font\":{\"color\":\"#2a3f5f\"},\"hovermode\":\"closest\",\"hoverlabel\":{\"align\":\"left\"},\"paper_bgcolor\":\"white\",\"plot_bgcolor\":\"#E5ECF6\",\"polar\":{\"bgcolor\":\"#E5ECF6\",\"angularaxis\":{\"gridcolor\":\"white\",\"linecolor\":\"white\",\"ticks\":\"\"},\"radialaxis\":{\"gridcolor\":\"white\",\"linecolor\":\"white\",\"ticks\":\"\"}},\"ternary\":{\"bgcolor\":\"#E5ECF6\",\"aaxis\":{\"gridcolor\":\"white\",\"linecolor\":\"white\",\"ticks\":\"\"},\"baxis\":{\"gridcolor\":\"white\",\"linecolor\":\"white\",\"ticks\":\"\"},\"caxis\":{\"gridcolor\":\"white\",\"linecolor\":\"white\",\"ticks\":\"\"}},\"coloraxis\":{\"colorbar\":{\"outlinewidth\":0,\"ticks\":\"\"}},\"colorscale\":{\"sequential\":[[0.0,\"#0d0887\"],[0.1111111111111111,\"#46039f\"],[0.2222222222222222,\"#7201a8\"],[0.3333333333333333,\"#9c179e\"],[0.4444444444444444,\"#bd3786\"],[0.5555555555555556,\"#d8576b\"],[0.6666666666666666,\"#ed7953\"],[0.7777777777777778,\"#fb9f3a\"],[0.8888888888888888,\"#fdca26\"],[1.0,\"#f0f921\"]],\"sequentialminus\":[[0.0,\"#0d0887\"],[0.1111111111111111,\"#46039f\"],[0.2222222222222222,\"#7201a8\"],[0.3333333333333333,\"#9c179e\"],[0.4444444444444444,\"#bd3786\"],[0.5555555555555556,\"#d8576b\"],[0.6666666666666666,\"#ed7953\"],[0.7777777777777778,\"#fb9f3a\"],[0.8888888888888888,\"#fdca26\"],[1.0,\"#f0f921\"]],\"diverging\":[[0,\"#8e0152\"],[0.1,\"#c51b7d\"],[0.2,\"#de77ae\"],[0.3,\"#f1b6da\"],[0.4,\"#fde0ef\"],[0.5,\"#f7f7f7\"],[0.6,\"#e6f5d0\"],[0.7,\"#b8e186\"],[0.8,\"#7fbc41\"],[0.9,\"#4d9221\"],[1,\"#276419\"]]},\"xaxis\":{\"gridcolor\":\"white\",\"linecolor\":\"white\",\"ticks\":\"\",\"title\":{\"standoff\":15},\"zerolinecolor\":\"white\",\"automargin\":true,\"zerolinewidth\":2},\"yaxis\":{\"gridcolor\":\"white\",\"linecolor\":\"white\",\"ticks\":\"\",\"title\":{\"standoff\":15},\"zerolinecolor\":\"white\",\"automargin\":true,\"zerolinewidth\":2},\"scene\":{\"xaxis\":{\"backgroundcolor\":\"#E5ECF6\",\"gridcolor\":\"white\",\"linecolor\":\"white\",\"showbackground\":true,\"ticks\":\"\",\"zerolinecolor\":\"white\",\"gridwidth\":2},\"yaxis\":{\"backgroundcolor\":\"#E5ECF6\",\"gridcolor\":\"white\",\"linecolor\":\"white\",\"showbackground\":true,\"ticks\":\"\",\"zerolinecolor\":\"white\",\"gridwidth\":2},\"zaxis\":{\"backgroundcolor\":\"#E5ECF6\",\"gridcolor\":\"white\",\"linecolor\":\"white\",\"showbackground\":true,\"ticks\":\"\",\"zerolinecolor\":\"white\",\"gridwidth\":2}},\"shapedefaults\":{\"line\":{\"color\":\"#2a3f5f\"}},\"annotationdefaults\":{\"arrowcolor\":\"#2a3f5f\",\"arrowhead\":0,\"arrowwidth\":1},\"geo\":{\"bgcolor\":\"white\",\"landcolor\":\"#E5ECF6\",\"subunitcolor\":\"white\",\"showland\":true,\"showlakes\":true,\"lakecolor\":\"white\"},\"title\":{\"x\":0.05},\"mapbox\":{\"style\":\"light\"}}},\"xaxis\":{\"anchor\":\"y\",\"domain\":[0.0,1.0],\"title\":{\"text\":\"Sales\"}},\"yaxis\":{\"anchor\":\"x\",\"domain\":[0.0,1.0],\"title\":{\"text\":\"Region\"}},\"coloraxis\":{\"colorbar\":{\"title\":{\"text\":\"Order_Quantity\"}},\"colorscale\":[[0.0,\"#0d0887\"],[0.1111111111111111,\"#46039f\"],[0.2222222222222222,\"#7201a8\"],[0.3333333333333333,\"#9c179e\"],[0.4444444444444444,\"#bd3786\"],[0.5555555555555556,\"#d8576b\"],[0.6666666666666666,\"#ed7953\"],[0.7777777777777778,\"#fb9f3a\"],[0.8888888888888888,\"#fdca26\"],[1.0,\"#f0f921\"]]},\"legend\":{\"tracegroupgap\":0},\"margin\":{\"t\":60}},                        {\"responsive\": true}                    ).then(function(){\n",
       "                            \n",
       "var gd = document.getElementById('6ce90e3e-c9ac-4fb8-8574-a2cf6b40f98d');\n",
       "var x = new MutationObserver(function (mutations, observer) {{\n",
       "        var display = window.getComputedStyle(gd).display;\n",
       "        if (!display || display === 'none') {{\n",
       "            console.log([gd, 'removed!']);\n",
       "            Plotly.purge(gd);\n",
       "            observer.disconnect();\n",
       "        }}\n",
       "}});\n",
       "\n",
       "// Listen for the removal of the full notebook cells\n",
       "var notebookContainer = gd.closest('#notebook-container');\n",
       "if (notebookContainer) {{\n",
       "    x.observe(notebookContainer, {childList: true});\n",
       "}}\n",
       "\n",
       "// Listen for the clearing of the current output cell\n",
       "var outputEl = gd.closest('.output');\n",
       "if (outputEl) {{\n",
       "    x.observe(outputEl, {childList: true});\n",
       "}}\n",
       "\n",
       "                        })                };                });            </script>        </div>"
      ]
     },
     "metadata": {},
     "output_type": "display_data"
    }
   ],
   "source": [
    "fig = px.scatter(df, x=\"Sales\", y=\"Region\", color=\"Order_Quantity\")\n",
    "fig.show()"
   ]
  },
  {
   "cell_type": "code",
   "execution_count": null,
   "id": "d93fda0c",
   "metadata": {},
   "outputs": [],
   "source": []
  }
 ],
 "metadata": {
  "kernelspec": {
   "display_name": "Python 3 (ipykernel)",
   "language": "python",
   "name": "python3"
  },
  "language_info": {
   "codemirror_mode": {
    "name": "ipython",
    "version": 3
   },
   "file_extension": ".py",
   "mimetype": "text/x-python",
   "name": "python",
   "nbconvert_exporter": "python",
   "pygments_lexer": "ipython3",
   "version": "3.10.12"
  }
 },
 "nbformat": 4,
 "nbformat_minor": 5
}
