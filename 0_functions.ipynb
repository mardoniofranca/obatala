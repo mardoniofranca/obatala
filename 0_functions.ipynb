{
 "cells": [
  {
   "cell_type": "markdown",
   "id": "235a0bfc",
   "metadata": {},
   "source": [
    "# Preparação dos Dados"
   ]
  },
  {
   "cell_type": "markdown",
   "id": "d999f417",
   "metadata": {},
   "source": [
    "### Importação das Bibliotecas"
   ]
  },
  {
   "cell_type": "code",
   "execution_count": 3,
   "id": "0ab9408c",
   "metadata": {},
   "outputs": [],
   "source": [
    "import pandas as pd\n",
    "import numpy as np\n",
    "import matplotlib.pyplot as plt\n",
    "import seaborn as sns\n",
    "import plotly.express as px\n",
    "import warnings\n",
    "warnings.filterwarnings('ignore')\n",
    "\n",
    "import plotly.graph_objects as go\n",
    "import plotly.express as px\n",
    "\n",
    "# plot parameters\n",
    "%matplotlib inline\n",
    "plt.rcParams['font.size'] = 14\n",
    "plt.rcParams['figure.figsize'] = (9, 5)\n",
    "plt.rcParams['figure.facecolor'] = '#00000000'"
   ]
  },
  {
   "cell_type": "code",
   "execution_count": 22,
   "id": "51e57800",
   "metadata": {},
   "outputs": [],
   "source": [
    "def ship_m_R(line):\n",
    "    if line == 'Regular Air':\n",
    "        return 1\n",
    "    else:\n",
    "        return 0"
   ]
  },
  {
   "cell_type": "code",
   "execution_count": 23,
   "id": "8286f87c",
   "metadata": {},
   "outputs": [],
   "source": [
    "def ship_m_E(line):\n",
    "    if line == 'Express Air':\n",
    "        return 1\n",
    "    else: \n",
    "        return 0"
   ]
  },
  {
   "cell_type": "code",
   "execution_count": 27,
   "id": "b180ef81",
   "metadata": {},
   "outputs": [],
   "source": [
    "def reg_F(line):\n",
    "    if line == 'Atlantic':\n",
    "        return 1\n",
    "    else: \n",
    "        return 0"
   ]
  },
  {
   "cell_type": "code",
   "execution_count": 28,
   "id": "b39f315e",
   "metadata": {},
   "outputs": [],
   "source": [
    "def reg_G(line):\n",
    "    if line == 'Northwest Territories':\n",
    "        return 1\n",
    "    else: \n",
    "        return 0"
   ]
  },
  {
   "cell_type": "code",
   "execution_count": 29,
   "id": "50264a96",
   "metadata": {},
   "outputs": [],
   "source": [
    "def reg_H(line):\n",
    "    if line == 'Nunavut':\n",
    "        return 1\n",
    "    else: \n",
    "        return 0"
   ]
  },
  {
   "cell_type": "code",
   "execution_count": 30,
   "id": "17c0b6a0",
   "metadata": {},
   "outputs": [],
   "source": [
    "def reg_I(line):\n",
    "    if line == 'Ontario':\n",
    "        return 1\n",
    "    else: \n",
    "        return 0"
   ]
  },
  {
   "cell_type": "code",
   "execution_count": 31,
   "id": "6c8555c3",
   "metadata": {},
   "outputs": [],
   "source": [
    "def reg_J(line):\n",
    "    if line == 'Prarie':\n",
    "        return 1\n",
    "    else: \n",
    "        return 0"
   ]
  },
  {
   "cell_type": "code",
   "execution_count": 32,
   "id": "9fe62514",
   "metadata": {},
   "outputs": [],
   "source": [
    "def reg_K(line):\n",
    "    if line == 'West':\n",
    "        return 1\n",
    "    else: \n",
    "        return 0"
   ]
  },
  {
   "cell_type": "code",
   "execution_count": 35,
   "id": "e073df73",
   "metadata": {},
   "outputs": [],
   "source": [
    "def cs_L(line):\n",
    "    if line == 'Consumer':\n",
    "        return 1\n",
    "    else: \n",
    "        return 0"
   ]
  },
  {
   "cell_type": "code",
   "execution_count": 36,
   "id": "5a1fb5ef",
   "metadata": {},
   "outputs": [],
   "source": [
    "def cs_M(line):\n",
    "    if line == 'Corporate':\n",
    "        return 1\n",
    "    else: \n",
    "        return 0"
   ]
  },
  {
   "cell_type": "code",
   "execution_count": 37,
   "id": "780dc21b",
   "metadata": {},
   "outputs": [],
   "source": [
    "def cs_N(line):\n",
    "    if line == 'Home Office':\n",
    "        return 1\n",
    "    else: \n",
    "        return 0"
   ]
  },
  {
   "cell_type": "code",
   "execution_count": 38,
   "id": "adb25012",
   "metadata": {},
   "outputs": [],
   "source": [
    "def cs_O(line):\n",
    "    if line == 'Small Business':\n",
    "        return 1\n",
    "    else: \n",
    "        return 0"
   ]
  },
  {
   "cell_type": "code",
   "execution_count": null,
   "id": "b75a29ae",
   "metadata": {},
   "outputs": [],
   "source": [
    "def prod_R(line):\n",
    "    if line == 'Furniture':\n",
    "        return 1\n",
    "    else: \n",
    "        return 0"
   ]
  },
  {
   "cell_type": "code",
   "execution_count": 42,
   "id": "bca4c594",
   "metadata": {},
   "outputs": [],
   "source": [
    "def prod_S(line):\n",
    "    if line == 'Office Supplies':\n",
    "        return 1\n",
    "    else: \n",
    "        return 0"
   ]
  },
  {
   "cell_type": "code",
   "execution_count": 43,
   "id": "d07f7cad",
   "metadata": {},
   "outputs": [],
   "source": [
    "def prod_T(line):\n",
    "    if line == 'Technology':\n",
    "        return 1\n",
    "    else: \n",
    "        return 0"
   ]
  },
  {
   "cell_type": "code",
   "execution_count": 47,
   "id": "295d8894",
   "metadata": {},
   "outputs": [],
   "source": [
    "def pc_U(line):\n",
    "    if line == 'Large Box':\n",
    "        return 1\n",
    "    else: \n",
    "        return 0"
   ]
  },
  {
   "cell_type": "code",
   "execution_count": 48,
   "id": "23172b4a",
   "metadata": {},
   "outputs": [],
   "source": [
    "def pc_V(line):\n",
    "    if line == 'Medium Box':\n",
    "        return 1\n",
    "    else: \n",
    "        return 0"
   ]
  },
  {
   "cell_type": "code",
   "execution_count": 49,
   "id": "d91be14c",
   "metadata": {},
   "outputs": [],
   "source": [
    "def pc_X(line):\n",
    "    if line == 'Small Box':\n",
    "        return 1\n",
    "    else: \n",
    "        return 0"
   ]
  }
 ],
 "metadata": {
  "kernelspec": {
   "display_name": "Python 3 (ipykernel)",
   "language": "python",
   "name": "python3"
  },
  "language_info": {
   "codemirror_mode": {
    "name": "ipython",
    "version": 3
   },
   "file_extension": ".py",
   "mimetype": "text/x-python",
   "name": "python",
   "nbconvert_exporter": "python",
   "pygments_lexer": "ipython3",
   "version": "3.10.12"
  }
 },
 "nbformat": 4,
 "nbformat_minor": 5
}
