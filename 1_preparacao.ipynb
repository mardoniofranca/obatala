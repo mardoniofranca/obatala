{
 "cells": [
  {
   "cell_type": "markdown",
   "id": "235a0bfc",
   "metadata": {},
   "source": [
    "# Preparação dos Dados"
   ]
  },
  {
   "cell_type": "markdown",
   "id": "d999f417",
   "metadata": {},
   "source": [
    "### Importação das Bibliotecas"
   ]
  },
  {
   "cell_type": "code",
   "execution_count": 1,
   "id": "0ab9408c",
   "metadata": {},
   "outputs": [],
   "source": [
    "import pandas as pd\n",
    "import numpy as np\n",
    "import matplotlib.pyplot as plt\n",
    "import seaborn as sns\n",
    "import plotly.express as px\n",
    "import warnings\n",
    "warnings.filterwarnings('ignore')\n",
    "\n",
    "import plotly.graph_objects as go\n",
    "import plotly.express as px\n",
    "\n",
    "# plot parameters\n",
    "%matplotlib inline\n",
    "plt.rcParams['font.size'] = 14\n",
    "plt.rcParams['figure.figsize'] = (9, 5)\n",
    "plt.rcParams['figure.facecolor'] = '#00000000'"
   ]
  },
  {
   "cell_type": "markdown",
   "id": "fb17cefd",
   "metadata": {},
   "source": [
    "### Leitura dos Dados"
   ]
  },
  {
   "cell_type": "code",
   "execution_count": 2,
   "id": "0c0e2ae5",
   "metadata": {},
   "outputs": [],
   "source": [
    "df = pd.read_csv(\"data/dados.csv\")\n",
    "df_base = df"
   ]
  },
  {
   "cell_type": "code",
   "execution_count": 3,
   "id": "517e49e7",
   "metadata": {},
   "outputs": [
    {
     "data": {
      "text/html": [
       "<div>\n",
       "<style scoped>\n",
       "    .dataframe tbody tr th:only-of-type {\n",
       "        vertical-align: middle;\n",
       "    }\n",
       "\n",
       "    .dataframe tbody tr th {\n",
       "        vertical-align: top;\n",
       "    }\n",
       "\n",
       "    .dataframe thead th {\n",
       "        text-align: right;\n",
       "    }\n",
       "</style>\n",
       "<table border=\"1\" class=\"dataframe\">\n",
       "  <thead>\n",
       "    <tr style=\"text-align: right;\">\n",
       "      <th></th>\n",
       "      <th>Order_ID</th>\n",
       "      <th>Order_Priority</th>\n",
       "      <th>Order_Quantity</th>\n",
       "      <th>Sales</th>\n",
       "      <th>Ship_Mode</th>\n",
       "      <th>Profit</th>\n",
       "      <th>Customer_Name</th>\n",
       "      <th>Region</th>\n",
       "      <th>Customer_Segment</th>\n",
       "      <th>Product_Category</th>\n",
       "      <th>Product_Sub-Category</th>\n",
       "      <th>Product_Name</th>\n",
       "      <th>Product_Container</th>\n",
       "    </tr>\n",
       "  </thead>\n",
       "  <tbody>\n",
       "    <tr>\n",
       "      <th>0</th>\n",
       "      <td>643</td>\n",
       "      <td>High</td>\n",
       "      <td>21</td>\n",
       "      <td>2781.82</td>\n",
       "      <td>Express Air</td>\n",
       "      <td>-695.26</td>\n",
       "      <td>Monica Federle</td>\n",
       "      <td>Nunavut</td>\n",
       "      <td>Corporate</td>\n",
       "      <td>Office Supplies</td>\n",
       "      <td>Storage &amp; Organization</td>\n",
       "      <td>SAFCO Commercial Wire Shelving, Black</td>\n",
       "      <td>Large Box</td>\n",
       "    </tr>\n",
       "    <tr>\n",
       "      <th>1</th>\n",
       "      <td>8995</td>\n",
       "      <td>High</td>\n",
       "      <td>35</td>\n",
       "      <td>3389.93</td>\n",
       "      <td>Express Air</td>\n",
       "      <td>737.94</td>\n",
       "      <td>Beth Paige</td>\n",
       "      <td>Northwest Territories</td>\n",
       "      <td>Consumer</td>\n",
       "      <td>Furniture</td>\n",
       "      <td>Office Furnishings</td>\n",
       "      <td>Luxo Professional Combination Clamp-On Lamps</td>\n",
       "      <td>Large Box</td>\n",
       "    </tr>\n",
       "    <tr>\n",
       "      <th>2</th>\n",
       "      <td>9127</td>\n",
       "      <td>Not Specified</td>\n",
       "      <td>7</td>\n",
       "      <td>2039.56</td>\n",
       "      <td>Express Air</td>\n",
       "      <td>-329.49</td>\n",
       "      <td>Bryan Davis</td>\n",
       "      <td>Northwest Territories</td>\n",
       "      <td>Corporate</td>\n",
       "      <td>Office Supplies</td>\n",
       "      <td>Storage &amp; Organization</td>\n",
       "      <td>Tennsco Snap-Together Open Shelving Units, Sta...</td>\n",
       "      <td>Large Box</td>\n",
       "    </tr>\n",
       "    <tr>\n",
       "      <th>3</th>\n",
       "      <td>26272</td>\n",
       "      <td>Low</td>\n",
       "      <td>6</td>\n",
       "      <td>905.94</td>\n",
       "      <td>Express Air</td>\n",
       "      <td>-4.19</td>\n",
       "      <td>Carlos Daly</td>\n",
       "      <td>Northwest Territories</td>\n",
       "      <td>Home Office</td>\n",
       "      <td>Furniture</td>\n",
       "      <td>Chairs &amp; Chairmats</td>\n",
       "      <td>Hon Olson Stacker Stools</td>\n",
       "      <td>Large Box</td>\n",
       "    </tr>\n",
       "    <tr>\n",
       "      <th>4</th>\n",
       "      <td>36646</td>\n",
       "      <td>Medium</td>\n",
       "      <td>24</td>\n",
       "      <td>1168.15</td>\n",
       "      <td>Express Air</td>\n",
       "      <td>-743.96</td>\n",
       "      <td>Muhammed MacIntyre</td>\n",
       "      <td>Northwest Territories</td>\n",
       "      <td>Small Business</td>\n",
       "      <td>Office Supplies</td>\n",
       "      <td>Storage &amp; Organization</td>\n",
       "      <td>Tennsco Industrial Shelving</td>\n",
       "      <td>Large Box</td>\n",
       "    </tr>\n",
       "  </tbody>\n",
       "</table>\n",
       "</div>"
      ],
      "text/plain": [
       "   Order_ID Order_Priority  Order_Quantity    Sales    Ship_Mode  Profit  \\\n",
       "0       643           High              21  2781.82  Express Air -695.26   \n",
       "1      8995           High              35  3389.93  Express Air  737.94   \n",
       "2      9127  Not Specified               7  2039.56  Express Air -329.49   \n",
       "3     26272            Low               6   905.94  Express Air   -4.19   \n",
       "4     36646         Medium              24  1168.15  Express Air -743.96   \n",
       "\n",
       "        Customer_Name                 Region Customer_Segment  \\\n",
       "0      Monica Federle                Nunavut        Corporate   \n",
       "1          Beth Paige  Northwest Territories         Consumer   \n",
       "2         Bryan Davis  Northwest Territories        Corporate   \n",
       "3         Carlos Daly  Northwest Territories      Home Office   \n",
       "4  Muhammed MacIntyre  Northwest Territories   Small Business   \n",
       "\n",
       "  Product_Category    Product_Sub-Category  \\\n",
       "0  Office Supplies  Storage & Organization   \n",
       "1        Furniture      Office Furnishings   \n",
       "2  Office Supplies  Storage & Organization   \n",
       "3        Furniture      Chairs & Chairmats   \n",
       "4  Office Supplies  Storage & Organization   \n",
       "\n",
       "                                        Product_Name Product_Container  \n",
       "0              SAFCO Commercial Wire Shelving, Black         Large Box  \n",
       "1       Luxo Professional Combination Clamp-On Lamps         Large Box  \n",
       "2  Tennsco Snap-Together Open Shelving Units, Sta...         Large Box  \n",
       "3                           Hon Olson Stacker Stools         Large Box  \n",
       "4                        Tennsco Industrial Shelving         Large Box  "
      ]
     },
     "execution_count": 3,
     "metadata": {},
     "output_type": "execute_result"
    }
   ],
   "source": [
    "df.head()"
   ]
  },
  {
   "cell_type": "code",
   "execution_count": 4,
   "id": "eb0ff247",
   "metadata": {},
   "outputs": [
    {
     "data": {
      "text/plain": [
       "Index(['Order_ID', 'Order_Priority', 'Order_Quantity', 'Sales', 'Ship_Mode',\n",
       "       'Profit', 'Customer_Name', 'Region', 'Customer_Segment',\n",
       "       'Product_Category', 'Product_Sub-Category', 'Product_Name',\n",
       "       'Product_Container'],\n",
       "      dtype='object')"
      ]
     },
     "execution_count": 4,
     "metadata": {},
     "output_type": "execute_result"
    }
   ],
   "source": [
    "df.columns"
   ]
  },
  {
   "cell_type": "code",
   "execution_count": 5,
   "id": "a4ca6866",
   "metadata": {
    "scrolled": true
   },
   "outputs": [
    {
     "data": {
      "text/plain": [
       "Order_ID                  int64\n",
       "Order_Priority           object\n",
       "Order_Quantity            int64\n",
       "Sales                   float64\n",
       "Ship_Mode                object\n",
       "Profit                  float64\n",
       "Customer_Name            object\n",
       "Region                   object\n",
       "Customer_Segment         object\n",
       "Product_Category         object\n",
       "Product_Sub-Category     object\n",
       "Product_Name             object\n",
       "Product_Container        object\n",
       "dtype: object"
      ]
     },
     "execution_count": 5,
     "metadata": {},
     "output_type": "execute_result"
    }
   ],
   "source": [
    "df.dtypes"
   ]
  },
  {
   "cell_type": "code",
   "execution_count": 6,
   "id": "8c085153",
   "metadata": {},
   "outputs": [
    {
     "data": {
      "text/html": [
       "<div>\n",
       "<style scoped>\n",
       "    .dataframe tbody tr th:only-of-type {\n",
       "        vertical-align: middle;\n",
       "    }\n",
       "\n",
       "    .dataframe tbody tr th {\n",
       "        vertical-align: top;\n",
       "    }\n",
       "\n",
       "    .dataframe thead th {\n",
       "        text-align: right;\n",
       "    }\n",
       "</style>\n",
       "<table border=\"1\" class=\"dataframe\">\n",
       "  <thead>\n",
       "    <tr style=\"text-align: right;\">\n",
       "      <th></th>\n",
       "      <th>Order_ID</th>\n",
       "      <th>Order_Quantity</th>\n",
       "      <th>Sales</th>\n",
       "      <th>Profit</th>\n",
       "    </tr>\n",
       "  </thead>\n",
       "  <tbody>\n",
       "    <tr>\n",
       "      <th>count</th>\n",
       "      <td>730.000000</td>\n",
       "      <td>730.000000</td>\n",
       "      <td>730.000000</td>\n",
       "      <td>730.000000</td>\n",
       "    </tr>\n",
       "    <tr>\n",
       "      <th>mean</th>\n",
       "      <td>29721.597260</td>\n",
       "      <td>24.857534</td>\n",
       "      <td>1502.777653</td>\n",
       "      <td>207.479233</td>\n",
       "    </tr>\n",
       "    <tr>\n",
       "      <th>std</th>\n",
       "      <td>17350.560439</td>\n",
       "      <td>14.182970</td>\n",
       "      <td>2893.936648</td>\n",
       "      <td>878.631028</td>\n",
       "    </tr>\n",
       "    <tr>\n",
       "      <th>min</th>\n",
       "      <td>35.000000</td>\n",
       "      <td>1.000000</td>\n",
       "      <td>8.600000</td>\n",
       "      <td>-4437.910000</td>\n",
       "    </tr>\n",
       "    <tr>\n",
       "      <th>25%</th>\n",
       "      <td>14479.000000</td>\n",
       "      <td>13.000000</td>\n",
       "      <td>171.098375</td>\n",
       "      <td>-77.132500</td>\n",
       "    </tr>\n",
       "    <tr>\n",
       "      <th>50%</th>\n",
       "      <td>29350.500000</td>\n",
       "      <td>25.000000</td>\n",
       "      <td>438.700000</td>\n",
       "      <td>0.035000</td>\n",
       "    </tr>\n",
       "    <tr>\n",
       "      <th>75%</th>\n",
       "      <td>44978.500000</td>\n",
       "      <td>37.000000</td>\n",
       "      <td>1480.855000</td>\n",
       "      <td>180.000000</td>\n",
       "    </tr>\n",
       "    <tr>\n",
       "      <th>max</th>\n",
       "      <td>59909.000000</td>\n",
       "      <td>50.000000</td>\n",
       "      <td>27663.920000</td>\n",
       "      <td>8417.570000</td>\n",
       "    </tr>\n",
       "  </tbody>\n",
       "</table>\n",
       "</div>"
      ],
      "text/plain": [
       "           Order_ID  Order_Quantity         Sales       Profit\n",
       "count    730.000000      730.000000    730.000000   730.000000\n",
       "mean   29721.597260       24.857534   1502.777653   207.479233\n",
       "std    17350.560439       14.182970   2893.936648   878.631028\n",
       "min       35.000000        1.000000      8.600000 -4437.910000\n",
       "25%    14479.000000       13.000000    171.098375   -77.132500\n",
       "50%    29350.500000       25.000000    438.700000     0.035000\n",
       "75%    44978.500000       37.000000   1480.855000   180.000000\n",
       "max    59909.000000       50.000000  27663.920000  8417.570000"
      ]
     },
     "execution_count": 6,
     "metadata": {},
     "output_type": "execute_result"
    }
   ],
   "source": [
    "df.describe()"
   ]
  },
  {
   "cell_type": "code",
   "execution_count": 7,
   "id": "87eaccd0",
   "metadata": {},
   "outputs": [
    {
     "data": {
      "text/plain": [
       "Order_ID                0\n",
       "Order_Priority          0\n",
       "Order_Quantity          0\n",
       "Sales                   0\n",
       "Ship_Mode               0\n",
       "Profit                  0\n",
       "Customer_Name           0\n",
       "Region                  0\n",
       "Customer_Segment        0\n",
       "Product_Category        0\n",
       "Product_Sub-Category    0\n",
       "Product_Name            0\n",
       "Product_Container       0\n",
       "dtype: int64"
      ]
     },
     "execution_count": 7,
     "metadata": {},
     "output_type": "execute_result"
    }
   ],
   "source": [
    "df.isnull().sum()"
   ]
  },
  {
   "cell_type": "code",
   "execution_count": 8,
   "id": "79dcc875",
   "metadata": {},
   "outputs": [
    {
     "data": {
      "text/plain": [
       "13"
      ]
     },
     "execution_count": 8,
     "metadata": {},
     "output_type": "execute_result"
    }
   ],
   "source": [
    "len(df.columns)"
   ]
  },
  {
   "cell_type": "code",
   "execution_count": 9,
   "id": "1fcfb09a",
   "metadata": {},
   "outputs": [
    {
     "data": {
      "text/plain": [
       "730"
      ]
     },
     "execution_count": 9,
     "metadata": {},
     "output_type": "execute_result"
    }
   ],
   "source": [
    "len(df)"
   ]
  },
  {
   "cell_type": "markdown",
   "id": "4ee5e1ef",
   "metadata": {},
   "source": [
    "### Tratamento das colunas tipo string para tipo numérico: \n",
    "1. As colunas tipo string no dataset selecionado apresenta uma natureza categórica, ou seja, não-ordinária.\n",
    "2. Desta forma, para cada coluna e seus respectivos valores, são criadas colunas artificiais com o valor \"1\" ou \"0\" ."
   ]
  },
  {
   "cell_type": "code",
   "execution_count": 10,
   "id": "0341ed20",
   "metadata": {},
   "outputs": [
    {
     "data": {
      "text/plain": [
       "(array(['Critical', 'High', 'Low', 'Medium', 'Not Specified'], dtype=object),\n",
       " array([147, 152, 147, 128, 156]))"
      ]
     },
     "execution_count": 10,
     "metadata": {},
     "output_type": "execute_result"
    }
   ],
   "source": [
    "np.unique(df['Order_Priority'], return_counts = True)\n",
    "#Categórica_Nominal And Categórica_Ordinal"
   ]
  },
  {
   "cell_type": "markdown",
   "id": "af3e3db6",
   "metadata": {},
   "source": [
    "### Tratamento para a coluna 'Order_Priority'\n",
    "1. Criado para cada valor categórico, é criado uma funcao e em seguida aplicado no dataset\n",
    "2. Este tratamento é similar para as demais colunas"
   ]
  },
  {
   "cell_type": "code",
   "execution_count": 11,
   "id": "e59c00ca",
   "metadata": {},
   "outputs": [],
   "source": [
    "def order_pri_A(line):\n",
    "    if line == 'Critical':\n",
    "        return 1\n",
    "    else:\n",
    "        return 0"
   ]
  },
  {
   "cell_type": "code",
   "execution_count": 12,
   "id": "24d71253",
   "metadata": {},
   "outputs": [],
   "source": [
    "def order_pri_B(line):\n",
    "    if line == 'High':\n",
    "        return 1\n",
    "    else:\n",
    "        return 0"
   ]
  },
  {
   "cell_type": "code",
   "execution_count": 13,
   "id": "f5b098d0",
   "metadata": {},
   "outputs": [],
   "source": [
    "def order_pri_C(line):\n",
    "    if line == 'Low':\n",
    "        return 1\n",
    "    else:\n",
    "        return 0"
   ]
  },
  {
   "cell_type": "code",
   "execution_count": 14,
   "id": "6d272472",
   "metadata": {},
   "outputs": [],
   "source": [
    "def order_pri_D(line):\n",
    "    if line == 'Medium':\n",
    "        return 1\n",
    "    else:\n",
    "        return 0"
   ]
  },
  {
   "cell_type": "code",
   "execution_count": 15,
   "id": "0ef785c9",
   "metadata": {},
   "outputs": [],
   "source": [
    "def order_pri_E(line):\n",
    "    if line == 'Not Specified':\n",
    "        return 1\n",
    "    else:\n",
    "        return 0"
   ]
  },
  {
   "cell_type": "code",
   "execution_count": 16,
   "id": "df6c1176",
   "metadata": {},
   "outputs": [],
   "source": [
    "df['Critical_Ship_Mode'] = df['Order_Priority'].apply(lambda x: order_pri_A(x))\n",
    "df['High_Ship_Mode'] = df['Order_Priority'].apply(lambda x: order_pri_B(x))\n",
    "df['Low_Ship_Mode'] = df['Order_Priority'].apply(lambda x: order_pri_C(x))\n",
    "df['Medium_Ship_Mode'] = df['Order_Priority'].apply(lambda x: order_pri_D(x))\n",
    "df['NotSfd_Ship_Mode'] = df['Order_Priority'].apply(lambda x: order_pri_E(x))"
   ]
  },
  {
   "cell_type": "markdown",
   "id": "c957d056",
   "metadata": {},
   "source": [
    "### Tratamento para a coluna 'Ship_Mode'"
   ]
  },
  {
   "cell_type": "code",
   "execution_count": 17,
   "id": "69311de9",
   "metadata": {},
   "outputs": [
    {
     "data": {
      "text/plain": [
       "(array(['Express Air', 'Regular Air'], dtype=object), array([151, 579]))"
      ]
     },
     "execution_count": 17,
     "metadata": {},
     "output_type": "execute_result"
    }
   ],
   "source": [
    "np.unique(df['Ship_Mode'], return_counts = True)"
   ]
  },
  {
   "cell_type": "code",
   "execution_count": 18,
   "id": "51e57800",
   "metadata": {},
   "outputs": [],
   "source": [
    "def ship_m_R(line):\n",
    "    if line == 'Regular Air':\n",
    "        return 1\n",
    "    else:\n",
    "        return 0"
   ]
  },
  {
   "cell_type": "code",
   "execution_count": 19,
   "id": "8286f87c",
   "metadata": {},
   "outputs": [],
   "source": [
    "def ship_m_E(line):\n",
    "    if line == 'Express Air':\n",
    "        return 1\n",
    "    else: \n",
    "        return 0"
   ]
  },
  {
   "cell_type": "code",
   "execution_count": 20,
   "id": "41494b05",
   "metadata": {},
   "outputs": [],
   "source": [
    "df['Regular_Ship_Mode'] = df['Ship_Mode'].apply(lambda x: ship_m_R(x))"
   ]
  },
  {
   "cell_type": "code",
   "execution_count": 21,
   "id": "ef3ff6d7",
   "metadata": {},
   "outputs": [],
   "source": [
    "df['Express_Ship_Mode'] = df['Ship_Mode'].apply(lambda x: ship_m_E(x))"
   ]
  },
  {
   "cell_type": "markdown",
   "id": "fb6ebda7",
   "metadata": {},
   "source": [
    "### Tratamento para as demais colunas"
   ]
  },
  {
   "cell_type": "code",
   "execution_count": 22,
   "id": "e0ac152d",
   "metadata": {},
   "outputs": [
    {
     "data": {
      "text/plain": [
       "(array(['Atlantic', 'Northwest Territories', 'Nunavut', 'Ontario',\n",
       "        'Prarie', 'West'], dtype=object),\n",
       " array([170, 150,  32,  67,  79, 232]))"
      ]
     },
     "execution_count": 22,
     "metadata": {},
     "output_type": "execute_result"
    }
   ],
   "source": [
    "np.unique(df['Region'], return_counts = True)\n",
    "#Categórica_Nominal"
   ]
  },
  {
   "cell_type": "code",
   "execution_count": 23,
   "id": "b180ef81",
   "metadata": {},
   "outputs": [],
   "source": [
    "def reg_F(line):\n",
    "    if line == 'Atlantic':\n",
    "        return 1\n",
    "    else: \n",
    "        return 0"
   ]
  },
  {
   "cell_type": "code",
   "execution_count": 24,
   "id": "b39f315e",
   "metadata": {},
   "outputs": [],
   "source": [
    "def reg_G(line):\n",
    "    if line == 'Northwest Territories':\n",
    "        return 1\n",
    "    else: \n",
    "        return 0"
   ]
  },
  {
   "cell_type": "code",
   "execution_count": 25,
   "id": "50264a96",
   "metadata": {},
   "outputs": [],
   "source": [
    "def reg_H(line):\n",
    "    if line == 'Nunavut':\n",
    "        return 1\n",
    "    else: \n",
    "        return 0"
   ]
  },
  {
   "cell_type": "code",
   "execution_count": 26,
   "id": "17c0b6a0",
   "metadata": {},
   "outputs": [],
   "source": [
    "def reg_I(line):\n",
    "    if line == 'Ontario':\n",
    "        return 1\n",
    "    else: \n",
    "        return 0"
   ]
  },
  {
   "cell_type": "code",
   "execution_count": 27,
   "id": "6c8555c3",
   "metadata": {},
   "outputs": [],
   "source": [
    "def reg_J(line):\n",
    "    if line == 'Prarie':\n",
    "        return 1\n",
    "    else: \n",
    "        return 0"
   ]
  },
  {
   "cell_type": "code",
   "execution_count": 28,
   "id": "9fe62514",
   "metadata": {},
   "outputs": [],
   "source": [
    "def reg_K(line):\n",
    "    if line == 'West':\n",
    "        return 1\n",
    "    else: \n",
    "        return 0"
   ]
  },
  {
   "cell_type": "code",
   "execution_count": 29,
   "id": "09a62176",
   "metadata": {},
   "outputs": [],
   "source": [
    "df['Atlantic_Region'] = df['Region'].apply(lambda x: reg_F(x))\n",
    "df['NT_Region']       = df['Region'].apply(lambda x: reg_G(x))\n",
    "df['Nunavut_Region']  = df['Region'].apply(lambda x: reg_H(x))\n",
    "df['Ontario_Region']  = df['Region'].apply(lambda x: reg_I(x))\n",
    "df['Prarie_Region']   = df['Region'].apply(lambda x: reg_J(x))\n",
    "df['West_Region']    = df['Region'].apply(lambda  x: reg_K(x))"
   ]
  },
  {
   "cell_type": "code",
   "execution_count": 30,
   "id": "bd7aa79d",
   "metadata": {},
   "outputs": [
    {
     "data": {
      "text/plain": [
       "(array(['Consumer', 'Corporate', 'Home Office', 'Small Business'],\n",
       "       dtype=object),\n",
       " array([153, 518,  31,  28]))"
      ]
     },
     "execution_count": 30,
     "metadata": {},
     "output_type": "execute_result"
    }
   ],
   "source": [
    "np.unique(df['Customer_Segment'], return_counts = True)"
   ]
  },
  {
   "cell_type": "code",
   "execution_count": 31,
   "id": "e073df73",
   "metadata": {},
   "outputs": [],
   "source": [
    "def cs_L(line):\n",
    "    if line == 'Consumer':\n",
    "        return 1\n",
    "    else: \n",
    "        return 0"
   ]
  },
  {
   "cell_type": "code",
   "execution_count": 32,
   "id": "5a1fb5ef",
   "metadata": {},
   "outputs": [],
   "source": [
    "def cs_M(line):\n",
    "    if line == 'Corporate':\n",
    "        return 1\n",
    "    else: \n",
    "        return 0"
   ]
  },
  {
   "cell_type": "code",
   "execution_count": 33,
   "id": "780dc21b",
   "metadata": {},
   "outputs": [],
   "source": [
    "def cs_N(line):\n",
    "    if line == 'Home Office':\n",
    "        return 1\n",
    "    else: \n",
    "        return 0"
   ]
  },
  {
   "cell_type": "code",
   "execution_count": 34,
   "id": "adb25012",
   "metadata": {},
   "outputs": [],
   "source": [
    "def cs_O(line):\n",
    "    if line == 'Small Business':\n",
    "        return 1\n",
    "    else: \n",
    "        return 0"
   ]
  },
  {
   "cell_type": "code",
   "execution_count": 35,
   "id": "1d966bb6",
   "metadata": {},
   "outputs": [],
   "source": [
    "df['Consumer_Customer_Segment'] = df['Customer_Segment'].apply(lambda x: cs_L(x))\n",
    "df['Corporate_Customer_Segment'] = df['Customer_Segment'].apply(lambda x: cs_M(x))\n",
    "df['HO_Customer_Segment'] = df['Customer_Segment'].apply(lambda x: cs_N(x))\n",
    "df['SB_Customer_Segment'] = df['Customer_Segment'].apply(lambda x: cs_O(x))"
   ]
  },
  {
   "cell_type": "code",
   "execution_count": 36,
   "id": "5c44e6b6",
   "metadata": {},
   "outputs": [
    {
     "data": {
      "text/plain": [
       "(array(['Furniture', 'Office Supplies', 'Technology'], dtype=object),\n",
       " array([ 98, 447, 185]))"
      ]
     },
     "execution_count": 36,
     "metadata": {},
     "output_type": "execute_result"
    }
   ],
   "source": [
    "np.unique(df['Product_Category'], return_counts = True)\n",
    "#Categórica_Nominal"
   ]
  },
  {
   "cell_type": "code",
   "execution_count": 37,
   "id": "53570aae",
   "metadata": {},
   "outputs": [],
   "source": [
    "def prod_R(line):\n",
    "    if line == 'Furniture':\n",
    "        return 1\n",
    "    else: \n",
    "        return 0"
   ]
  },
  {
   "cell_type": "code",
   "execution_count": 38,
   "id": "bca4c594",
   "metadata": {},
   "outputs": [],
   "source": [
    "def prod_S(line):\n",
    "    if line == 'Office Supplies':\n",
    "        return 1\n",
    "    else: \n",
    "        return 0"
   ]
  },
  {
   "cell_type": "code",
   "execution_count": 39,
   "id": "d07f7cad",
   "metadata": {},
   "outputs": [],
   "source": [
    "def prod_T(line):\n",
    "    if line == 'Technology':\n",
    "        return 1\n",
    "    else: \n",
    "        return 0"
   ]
  },
  {
   "cell_type": "code",
   "execution_count": 40,
   "id": "e2b2b750",
   "metadata": {},
   "outputs": [],
   "source": [
    "df['Furniture_Product_Category']  = df['Product_Category'].apply(lambda x: prod_R(x))\n",
    "df['OF_Product_Category']         = df['Product_Category'].apply(lambda x: prod_S(x))\n",
    "df['Technology_Product_Category'] = df['Product_Category'].apply(lambda x: prod_T(x))\n"
   ]
  },
  {
   "cell_type": "code",
   "execution_count": 41,
   "id": "d686dcec",
   "metadata": {},
   "outputs": [
    {
     "data": {
      "text/plain": [
       "(array(['Large Box', 'Medium Box', 'Small Box'], dtype=object),\n",
       " array([ 63,  61, 606]))"
      ]
     },
     "execution_count": 41,
     "metadata": {},
     "output_type": "execute_result"
    }
   ],
   "source": [
    "np.unique(df['Product_Container'], return_counts = True)\n",
    "#Categórica_Nominal"
   ]
  },
  {
   "cell_type": "code",
   "execution_count": 42,
   "id": "295d8894",
   "metadata": {},
   "outputs": [],
   "source": [
    "def pc_U(line):\n",
    "    if line == 'Large Box':\n",
    "        return 1\n",
    "    else: \n",
    "        return 0"
   ]
  },
  {
   "cell_type": "code",
   "execution_count": 43,
   "id": "23172b4a",
   "metadata": {},
   "outputs": [],
   "source": [
    "def pc_V(line):\n",
    "    if line == 'Medium Box':\n",
    "        return 1\n",
    "    else: \n",
    "        return 0"
   ]
  },
  {
   "cell_type": "code",
   "execution_count": 44,
   "id": "d91be14c",
   "metadata": {},
   "outputs": [],
   "source": [
    "def pc_X(line):\n",
    "    if line == 'Small Box':\n",
    "        return 1\n",
    "    else: \n",
    "        return 0"
   ]
  },
  {
   "cell_type": "code",
   "execution_count": 45,
   "id": "307123f2",
   "metadata": {},
   "outputs": [],
   "source": [
    "df['LB_Product_Container'] = df['Product_Container'].apply(lambda x: pc_U(x))\n",
    "df['MB_Product_Container'] = df['Product_Container'].apply(lambda x: pc_V(x))\n",
    "df['SB_Product_Container'] = df['Product_Container'].apply(lambda x: pc_X(x))\n"
   ]
  },
  {
   "cell_type": "code",
   "execution_count": 46,
   "id": "798d46ff",
   "metadata": {},
   "outputs": [
    {
     "data": {
      "text/plain": [
       "Index(['Order_ID', 'Order_Priority', 'Order_Quantity', 'Sales', 'Ship_Mode',\n",
       "       'Profit', 'Customer_Name', 'Region', 'Customer_Segment',\n",
       "       'Product_Category', 'Product_Sub-Category', 'Product_Name',\n",
       "       'Product_Container', 'Critical_Ship_Mode', 'High_Ship_Mode',\n",
       "       'Low_Ship_Mode', 'Medium_Ship_Mode', 'NotSfd_Ship_Mode',\n",
       "       'Regular_Ship_Mode', 'Express_Ship_Mode', 'Atlantic_Region',\n",
       "       'NT_Region', 'Nunavut_Region', 'Ontario_Region', 'Prarie_Region',\n",
       "       'West_Region', 'Consumer_Customer_Segment',\n",
       "       'Corporate_Customer_Segment', 'HO_Customer_Segment',\n",
       "       'SB_Customer_Segment', 'Furniture_Product_Category',\n",
       "       'OF_Product_Category', 'Technology_Product_Category',\n",
       "       'LB_Product_Container', 'MB_Product_Container', 'SB_Product_Container'],\n",
       "      dtype='object')"
      ]
     },
     "execution_count": 46,
     "metadata": {},
     "output_type": "execute_result"
    }
   ],
   "source": [
    "df.columns"
   ]
  },
  {
   "cell_type": "markdown",
   "id": "b5f5611f",
   "metadata": {},
   "source": [
    "### Finalização da preparação do dataframe\n",
    "1 - serão removidas as colunas nominais e a coluna 'Order_ID' pois a mesma representa o código da operação (não contribuindo para a fase de treinamento). O mesmo se aplica à coluna 'Customer_Name' e 'Product_Name' <br>\n",
    "2 - colunas removidas: <br>\n",
    "'Order_ID', 'Order_Priority', 'Ship_Mode', 'Customer_Name', 'Region', 'Customer_Segment',\n",
    "       'Product_Category', 'Product_Sub-Category','Product_Name','Product_Container'\n"
   ]
  },
  {
   "cell_type": "code",
   "execution_count": 47,
   "id": "d93fda0c",
   "metadata": {},
   "outputs": [],
   "source": [
    "df_prepare = df[['Order_Quantity', 'Sales', 'Profit', 'Critical_Ship_Mode', \n",
    "                 'High_Ship_Mode', 'Low_Ship_Mode', 'Medium_Ship_Mode', \n",
    "                 'NotSfd_Ship_Mode', 'Regular_Ship_Mode', 'Express_Ship_Mode', \n",
    "                 'Atlantic_Region', 'NT_Region', 'Nunavut_Region', 'Ontario_Region', \n",
    "                 'Prarie_Region','West_Region', 'Consumer_Customer_Segment',\n",
    "                 'Corporate_Customer_Segment', 'HO_Customer_Segment','SB_Customer_Segment', \n",
    "                 'Furniture_Product_Category','OF_Product_Category', \n",
    "                 'Technology_Product_Category','LB_Product_Container', \n",
    "                 'MB_Product_Container', 'SB_Product_Container']]"
   ]
  },
  {
   "cell_type": "code",
   "execution_count": 48,
   "id": "14f10b6d",
   "metadata": {},
   "outputs": [
    {
     "data": {
      "text/html": [
       "<div>\n",
       "<style scoped>\n",
       "    .dataframe tbody tr th:only-of-type {\n",
       "        vertical-align: middle;\n",
       "    }\n",
       "\n",
       "    .dataframe tbody tr th {\n",
       "        vertical-align: top;\n",
       "    }\n",
       "\n",
       "    .dataframe thead th {\n",
       "        text-align: right;\n",
       "    }\n",
       "</style>\n",
       "<table border=\"1\" class=\"dataframe\">\n",
       "  <thead>\n",
       "    <tr style=\"text-align: right;\">\n",
       "      <th></th>\n",
       "      <th>Order_Quantity</th>\n",
       "      <th>Sales</th>\n",
       "      <th>Profit</th>\n",
       "      <th>Critical_Ship_Mode</th>\n",
       "      <th>High_Ship_Mode</th>\n",
       "      <th>Low_Ship_Mode</th>\n",
       "      <th>Medium_Ship_Mode</th>\n",
       "      <th>NotSfd_Ship_Mode</th>\n",
       "      <th>Regular_Ship_Mode</th>\n",
       "      <th>Express_Ship_Mode</th>\n",
       "      <th>...</th>\n",
       "      <th>Consumer_Customer_Segment</th>\n",
       "      <th>Corporate_Customer_Segment</th>\n",
       "      <th>HO_Customer_Segment</th>\n",
       "      <th>SB_Customer_Segment</th>\n",
       "      <th>Furniture_Product_Category</th>\n",
       "      <th>OF_Product_Category</th>\n",
       "      <th>Technology_Product_Category</th>\n",
       "      <th>LB_Product_Container</th>\n",
       "      <th>MB_Product_Container</th>\n",
       "      <th>SB_Product_Container</th>\n",
       "    </tr>\n",
       "  </thead>\n",
       "  <tbody>\n",
       "    <tr>\n",
       "      <th>0</th>\n",
       "      <td>21</td>\n",
       "      <td>2781.82</td>\n",
       "      <td>-695.26</td>\n",
       "      <td>0</td>\n",
       "      <td>1</td>\n",
       "      <td>0</td>\n",
       "      <td>0</td>\n",
       "      <td>0</td>\n",
       "      <td>0</td>\n",
       "      <td>1</td>\n",
       "      <td>...</td>\n",
       "      <td>0</td>\n",
       "      <td>1</td>\n",
       "      <td>0</td>\n",
       "      <td>0</td>\n",
       "      <td>0</td>\n",
       "      <td>1</td>\n",
       "      <td>0</td>\n",
       "      <td>1</td>\n",
       "      <td>0</td>\n",
       "      <td>0</td>\n",
       "    </tr>\n",
       "    <tr>\n",
       "      <th>1</th>\n",
       "      <td>35</td>\n",
       "      <td>3389.93</td>\n",
       "      <td>737.94</td>\n",
       "      <td>0</td>\n",
       "      <td>1</td>\n",
       "      <td>0</td>\n",
       "      <td>0</td>\n",
       "      <td>0</td>\n",
       "      <td>0</td>\n",
       "      <td>1</td>\n",
       "      <td>...</td>\n",
       "      <td>1</td>\n",
       "      <td>0</td>\n",
       "      <td>0</td>\n",
       "      <td>0</td>\n",
       "      <td>1</td>\n",
       "      <td>0</td>\n",
       "      <td>0</td>\n",
       "      <td>1</td>\n",
       "      <td>0</td>\n",
       "      <td>0</td>\n",
       "    </tr>\n",
       "    <tr>\n",
       "      <th>2</th>\n",
       "      <td>7</td>\n",
       "      <td>2039.56</td>\n",
       "      <td>-329.49</td>\n",
       "      <td>0</td>\n",
       "      <td>0</td>\n",
       "      <td>0</td>\n",
       "      <td>0</td>\n",
       "      <td>1</td>\n",
       "      <td>0</td>\n",
       "      <td>1</td>\n",
       "      <td>...</td>\n",
       "      <td>0</td>\n",
       "      <td>1</td>\n",
       "      <td>0</td>\n",
       "      <td>0</td>\n",
       "      <td>0</td>\n",
       "      <td>1</td>\n",
       "      <td>0</td>\n",
       "      <td>1</td>\n",
       "      <td>0</td>\n",
       "      <td>0</td>\n",
       "    </tr>\n",
       "    <tr>\n",
       "      <th>3</th>\n",
       "      <td>6</td>\n",
       "      <td>905.94</td>\n",
       "      <td>-4.19</td>\n",
       "      <td>0</td>\n",
       "      <td>0</td>\n",
       "      <td>1</td>\n",
       "      <td>0</td>\n",
       "      <td>0</td>\n",
       "      <td>0</td>\n",
       "      <td>1</td>\n",
       "      <td>...</td>\n",
       "      <td>0</td>\n",
       "      <td>0</td>\n",
       "      <td>1</td>\n",
       "      <td>0</td>\n",
       "      <td>1</td>\n",
       "      <td>0</td>\n",
       "      <td>0</td>\n",
       "      <td>1</td>\n",
       "      <td>0</td>\n",
       "      <td>0</td>\n",
       "    </tr>\n",
       "    <tr>\n",
       "      <th>4</th>\n",
       "      <td>24</td>\n",
       "      <td>1168.15</td>\n",
       "      <td>-743.96</td>\n",
       "      <td>0</td>\n",
       "      <td>0</td>\n",
       "      <td>0</td>\n",
       "      <td>1</td>\n",
       "      <td>0</td>\n",
       "      <td>0</td>\n",
       "      <td>1</td>\n",
       "      <td>...</td>\n",
       "      <td>0</td>\n",
       "      <td>0</td>\n",
       "      <td>0</td>\n",
       "      <td>1</td>\n",
       "      <td>0</td>\n",
       "      <td>1</td>\n",
       "      <td>0</td>\n",
       "      <td>1</td>\n",
       "      <td>0</td>\n",
       "      <td>0</td>\n",
       "    </tr>\n",
       "  </tbody>\n",
       "</table>\n",
       "<p>5 rows × 26 columns</p>\n",
       "</div>"
      ],
      "text/plain": [
       "   Order_Quantity    Sales  Profit  Critical_Ship_Mode  High_Ship_Mode  \\\n",
       "0              21  2781.82 -695.26                   0               1   \n",
       "1              35  3389.93  737.94                   0               1   \n",
       "2               7  2039.56 -329.49                   0               0   \n",
       "3               6   905.94   -4.19                   0               0   \n",
       "4              24  1168.15 -743.96                   0               0   \n",
       "\n",
       "   Low_Ship_Mode  Medium_Ship_Mode  NotSfd_Ship_Mode  Regular_Ship_Mode  \\\n",
       "0              0                 0                 0                  0   \n",
       "1              0                 0                 0                  0   \n",
       "2              0                 0                 1                  0   \n",
       "3              1                 0                 0                  0   \n",
       "4              0                 1                 0                  0   \n",
       "\n",
       "   Express_Ship_Mode  ...  Consumer_Customer_Segment  \\\n",
       "0                  1  ...                          0   \n",
       "1                  1  ...                          1   \n",
       "2                  1  ...                          0   \n",
       "3                  1  ...                          0   \n",
       "4                  1  ...                          0   \n",
       "\n",
       "   Corporate_Customer_Segment  HO_Customer_Segment  SB_Customer_Segment  \\\n",
       "0                           1                    0                    0   \n",
       "1                           0                    0                    0   \n",
       "2                           1                    0                    0   \n",
       "3                           0                    1                    0   \n",
       "4                           0                    0                    1   \n",
       "\n",
       "   Furniture_Product_Category  OF_Product_Category  \\\n",
       "0                           0                    1   \n",
       "1                           1                    0   \n",
       "2                           0                    1   \n",
       "3                           1                    0   \n",
       "4                           0                    1   \n",
       "\n",
       "   Technology_Product_Category  LB_Product_Container  MB_Product_Container  \\\n",
       "0                            0                     1                     0   \n",
       "1                            0                     1                     0   \n",
       "2                            0                     1                     0   \n",
       "3                            0                     1                     0   \n",
       "4                            0                     1                     0   \n",
       "\n",
       "   SB_Product_Container  \n",
       "0                     0  \n",
       "1                     0  \n",
       "2                     0  \n",
       "3                     0  \n",
       "4                     0  \n",
       "\n",
       "[5 rows x 26 columns]"
      ]
     },
     "execution_count": 48,
     "metadata": {},
     "output_type": "execute_result"
    }
   ],
   "source": [
    "df_prepare.head()"
   ]
  },
  {
   "cell_type": "markdown",
   "id": "90d12a4f",
   "metadata": {},
   "source": [
    "### Reordenação da preparação do dataframe"
   ]
  },
  {
   "cell_type": "code",
   "execution_count": 49,
   "id": "8e7e2fcb",
   "metadata": {},
   "outputs": [],
   "source": [
    "df_prepare = df[['Order_Quantity', 'Critical_Ship_Mode', \n",
    "                 'High_Ship_Mode', 'Low_Ship_Mode', 'Medium_Ship_Mode', \n",
    "                 'NotSfd_Ship_Mode', 'Regular_Ship_Mode', 'Express_Ship_Mode', \n",
    "                 'Atlantic_Region', 'NT_Region', 'Nunavut_Region', 'Ontario_Region', \n",
    "                 'Prarie_Region','West_Region', 'Consumer_Customer_Segment',\n",
    "                 'Corporate_Customer_Segment', 'HO_Customer_Segment','SB_Customer_Segment', \n",
    "                 'Furniture_Product_Category','OF_Product_Category', \n",
    "                 'Technology_Product_Category','LB_Product_Container', \n",
    "                 'MB_Product_Container', 'SB_Product_Container',\n",
    "                 'Sales', 'Profit']]"
   ]
  },
  {
   "cell_type": "code",
   "execution_count": 50,
   "id": "029bedb2",
   "metadata": {},
   "outputs": [
    {
     "data": {
      "text/html": [
       "<div>\n",
       "<style scoped>\n",
       "    .dataframe tbody tr th:only-of-type {\n",
       "        vertical-align: middle;\n",
       "    }\n",
       "\n",
       "    .dataframe tbody tr th {\n",
       "        vertical-align: top;\n",
       "    }\n",
       "\n",
       "    .dataframe thead th {\n",
       "        text-align: right;\n",
       "    }\n",
       "</style>\n",
       "<table border=\"1\" class=\"dataframe\">\n",
       "  <thead>\n",
       "    <tr style=\"text-align: right;\">\n",
       "      <th></th>\n",
       "      <th>Order_Quantity</th>\n",
       "      <th>Critical_Ship_Mode</th>\n",
       "      <th>High_Ship_Mode</th>\n",
       "      <th>Low_Ship_Mode</th>\n",
       "      <th>Medium_Ship_Mode</th>\n",
       "      <th>NotSfd_Ship_Mode</th>\n",
       "      <th>Regular_Ship_Mode</th>\n",
       "      <th>Express_Ship_Mode</th>\n",
       "      <th>Atlantic_Region</th>\n",
       "      <th>NT_Region</th>\n",
       "      <th>...</th>\n",
       "      <th>HO_Customer_Segment</th>\n",
       "      <th>SB_Customer_Segment</th>\n",
       "      <th>Furniture_Product_Category</th>\n",
       "      <th>OF_Product_Category</th>\n",
       "      <th>Technology_Product_Category</th>\n",
       "      <th>LB_Product_Container</th>\n",
       "      <th>MB_Product_Container</th>\n",
       "      <th>SB_Product_Container</th>\n",
       "      <th>Sales</th>\n",
       "      <th>Profit</th>\n",
       "    </tr>\n",
       "  </thead>\n",
       "  <tbody>\n",
       "    <tr>\n",
       "      <th>0</th>\n",
       "      <td>21</td>\n",
       "      <td>0</td>\n",
       "      <td>1</td>\n",
       "      <td>0</td>\n",
       "      <td>0</td>\n",
       "      <td>0</td>\n",
       "      <td>0</td>\n",
       "      <td>1</td>\n",
       "      <td>0</td>\n",
       "      <td>0</td>\n",
       "      <td>...</td>\n",
       "      <td>0</td>\n",
       "      <td>0</td>\n",
       "      <td>0</td>\n",
       "      <td>1</td>\n",
       "      <td>0</td>\n",
       "      <td>1</td>\n",
       "      <td>0</td>\n",
       "      <td>0</td>\n",
       "      <td>2781.82</td>\n",
       "      <td>-695.26</td>\n",
       "    </tr>\n",
       "    <tr>\n",
       "      <th>1</th>\n",
       "      <td>35</td>\n",
       "      <td>0</td>\n",
       "      <td>1</td>\n",
       "      <td>0</td>\n",
       "      <td>0</td>\n",
       "      <td>0</td>\n",
       "      <td>0</td>\n",
       "      <td>1</td>\n",
       "      <td>0</td>\n",
       "      <td>1</td>\n",
       "      <td>...</td>\n",
       "      <td>0</td>\n",
       "      <td>0</td>\n",
       "      <td>1</td>\n",
       "      <td>0</td>\n",
       "      <td>0</td>\n",
       "      <td>1</td>\n",
       "      <td>0</td>\n",
       "      <td>0</td>\n",
       "      <td>3389.93</td>\n",
       "      <td>737.94</td>\n",
       "    </tr>\n",
       "    <tr>\n",
       "      <th>2</th>\n",
       "      <td>7</td>\n",
       "      <td>0</td>\n",
       "      <td>0</td>\n",
       "      <td>0</td>\n",
       "      <td>0</td>\n",
       "      <td>1</td>\n",
       "      <td>0</td>\n",
       "      <td>1</td>\n",
       "      <td>0</td>\n",
       "      <td>1</td>\n",
       "      <td>...</td>\n",
       "      <td>0</td>\n",
       "      <td>0</td>\n",
       "      <td>0</td>\n",
       "      <td>1</td>\n",
       "      <td>0</td>\n",
       "      <td>1</td>\n",
       "      <td>0</td>\n",
       "      <td>0</td>\n",
       "      <td>2039.56</td>\n",
       "      <td>-329.49</td>\n",
       "    </tr>\n",
       "    <tr>\n",
       "      <th>3</th>\n",
       "      <td>6</td>\n",
       "      <td>0</td>\n",
       "      <td>0</td>\n",
       "      <td>1</td>\n",
       "      <td>0</td>\n",
       "      <td>0</td>\n",
       "      <td>0</td>\n",
       "      <td>1</td>\n",
       "      <td>0</td>\n",
       "      <td>1</td>\n",
       "      <td>...</td>\n",
       "      <td>1</td>\n",
       "      <td>0</td>\n",
       "      <td>1</td>\n",
       "      <td>0</td>\n",
       "      <td>0</td>\n",
       "      <td>1</td>\n",
       "      <td>0</td>\n",
       "      <td>0</td>\n",
       "      <td>905.94</td>\n",
       "      <td>-4.19</td>\n",
       "    </tr>\n",
       "    <tr>\n",
       "      <th>4</th>\n",
       "      <td>24</td>\n",
       "      <td>0</td>\n",
       "      <td>0</td>\n",
       "      <td>0</td>\n",
       "      <td>1</td>\n",
       "      <td>0</td>\n",
       "      <td>0</td>\n",
       "      <td>1</td>\n",
       "      <td>0</td>\n",
       "      <td>1</td>\n",
       "      <td>...</td>\n",
       "      <td>0</td>\n",
       "      <td>1</td>\n",
       "      <td>0</td>\n",
       "      <td>1</td>\n",
       "      <td>0</td>\n",
       "      <td>1</td>\n",
       "      <td>0</td>\n",
       "      <td>0</td>\n",
       "      <td>1168.15</td>\n",
       "      <td>-743.96</td>\n",
       "    </tr>\n",
       "  </tbody>\n",
       "</table>\n",
       "<p>5 rows × 26 columns</p>\n",
       "</div>"
      ],
      "text/plain": [
       "   Order_Quantity  Critical_Ship_Mode  High_Ship_Mode  Low_Ship_Mode  \\\n",
       "0              21                   0               1              0   \n",
       "1              35                   0               1              0   \n",
       "2               7                   0               0              0   \n",
       "3               6                   0               0              1   \n",
       "4              24                   0               0              0   \n",
       "\n",
       "   Medium_Ship_Mode  NotSfd_Ship_Mode  Regular_Ship_Mode  Express_Ship_Mode  \\\n",
       "0                 0                 0                  0                  1   \n",
       "1                 0                 0                  0                  1   \n",
       "2                 0                 1                  0                  1   \n",
       "3                 0                 0                  0                  1   \n",
       "4                 1                 0                  0                  1   \n",
       "\n",
       "   Atlantic_Region  NT_Region  ...  HO_Customer_Segment  SB_Customer_Segment  \\\n",
       "0                0          0  ...                    0                    0   \n",
       "1                0          1  ...                    0                    0   \n",
       "2                0          1  ...                    0                    0   \n",
       "3                0          1  ...                    1                    0   \n",
       "4                0          1  ...                    0                    1   \n",
       "\n",
       "   Furniture_Product_Category  OF_Product_Category  \\\n",
       "0                           0                    1   \n",
       "1                           1                    0   \n",
       "2                           0                    1   \n",
       "3                           1                    0   \n",
       "4                           0                    1   \n",
       "\n",
       "   Technology_Product_Category  LB_Product_Container  MB_Product_Container  \\\n",
       "0                            0                     1                     0   \n",
       "1                            0                     1                     0   \n",
       "2                            0                     1                     0   \n",
       "3                            0                     1                     0   \n",
       "4                            0                     1                     0   \n",
       "\n",
       "   SB_Product_Container    Sales  Profit  \n",
       "0                     0  2781.82 -695.26  \n",
       "1                     0  3389.93  737.94  \n",
       "2                     0  2039.56 -329.49  \n",
       "3                     0   905.94   -4.19  \n",
       "4                     0  1168.15 -743.96  \n",
       "\n",
       "[5 rows x 26 columns]"
      ]
     },
     "execution_count": 50,
     "metadata": {},
     "output_type": "execute_result"
    }
   ],
   "source": [
    "df_prepare.head()"
   ]
  },
  {
   "cell_type": "markdown",
   "id": "3a644c62",
   "metadata": {},
   "source": [
    "### Gravação da dataframe finalizado nesta etapa"
   ]
  },
  {
   "cell_type": "code",
   "execution_count": 51,
   "id": "23fe449a",
   "metadata": {},
   "outputs": [],
   "source": [
    "df_prepare.to_csv('data/dados_prep.csv', index=None)"
   ]
  },
  {
   "cell_type": "code",
   "execution_count": 52,
   "id": "9d82f052",
   "metadata": {},
   "outputs": [],
   "source": [
    "df_p2 = df[['Order_ID','Order_Priority','Order_Quantity', 'Critical_Ship_Mode', \n",
    "                 'High_Ship_Mode', 'Low_Ship_Mode', 'Medium_Ship_Mode', \n",
    "                 'NotSfd_Ship_Mode', 'Regular_Ship_Mode', 'Express_Ship_Mode', \n",
    "                 'Atlantic_Region', 'NT_Region', 'Nunavut_Region', 'Ontario_Region', \n",
    "                 'Prarie_Region','West_Region', 'Consumer_Customer_Segment',\n",
    "                 'Corporate_Customer_Segment', 'HO_Customer_Segment','SB_Customer_Segment', \n",
    "                 'Furniture_Product_Category','OF_Product_Category', \n",
    "                 'Technology_Product_Category','LB_Product_Container', \n",
    "                 'MB_Product_Container', 'SB_Product_Container', 'Sales', 'Profit']]"
   ]
  },
  {
   "cell_type": "code",
   "execution_count": 53,
   "id": "e563e1a0",
   "metadata": {},
   "outputs": [],
   "source": [
    "df_p2.to_csv('data/dados_prep_index.csv', index=None)"
   ]
  }
 ],
 "metadata": {
  "kernelspec": {
   "display_name": "Python 3 (ipykernel)",
   "language": "python",
   "name": "python3"
  },
  "language_info": {
   "codemirror_mode": {
    "name": "ipython",
    "version": 3
   },
   "file_extension": ".py",
   "mimetype": "text/x-python",
   "name": "python",
   "nbconvert_exporter": "python",
   "pygments_lexer": "ipython3",
   "version": "3.10.12"
  }
 },
 "nbformat": 4,
 "nbformat_minor": 5
}
