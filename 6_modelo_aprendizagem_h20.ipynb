{
 "cells": [
  {
   "cell_type": "code",
   "execution_count": 1,
   "id": "8f7bbb2e",
   "metadata": {},
   "outputs": [],
   "source": [
    "import pandas as pd"
   ]
  },
  {
   "cell_type": "markdown",
   "id": "465d6597",
   "metadata": {},
   "source": [
    "!pip install requests\n",
    "!pip install tabulate"
   ]
  },
  {
   "cell_type": "markdown",
   "id": "ac3251fb",
   "metadata": {},
   "source": [
    "!pip install -f http://h2o-release.s3.amazonaws.com/h2o/latest_stable_Py.html h2o\n"
   ]
  },
  {
   "cell_type": "code",
   "execution_count": 2,
   "id": "2bc5f72f",
   "metadata": {},
   "outputs": [],
   "source": [
    "import h2o"
   ]
  },
  {
   "cell_type": "code",
   "execution_count": 11,
   "id": "e3b840ec",
   "metadata": {},
   "outputs": [],
   "source": [
    "from h2o.automl import H2OAutoML"
   ]
  },
  {
   "cell_type": "code",
   "execution_count": 3,
   "id": "3f2f06db",
   "metadata": {},
   "outputs": [
    {
     "name": "stdout",
     "output_type": "stream",
     "text": [
      "Checking whether there is an H2O instance running at http://localhost:54321..... not found.\n",
      "Attempting to start a local H2O server...\n",
      "  Java Version: openjdk version \"11.0.22\" 2024-01-16; OpenJDK Runtime Environment (build 11.0.22+7-post-Ubuntu-0ubuntu222.04.1); OpenJDK 64-Bit Server VM (build 11.0.22+7-post-Ubuntu-0ubuntu222.04.1, mixed mode, sharing)\n",
      "  Starting server from /home/mardoniofranca/work/env/lib/python3.10/site-packages/h2o/backend/bin/h2o.jar\n",
      "  Ice root: /tmp/tmpvi8_si69\n",
      "  JVM stdout: /tmp/tmpvi8_si69/h2o_mardoniofranca_started_from_python.out\n",
      "  JVM stderr: /tmp/tmpvi8_si69/h2o_mardoniofranca_started_from_python.err\n",
      "  Server is running at http://127.0.0.1:54321\n",
      "Connecting to H2O server at http://127.0.0.1:54321 ... successful.\n"
     ]
    },
    {
     "data": {
      "text/html": [
       "\n",
       "<style>\n",
       "\n",
       "#h2o-table-1.h2o-container {\n",
       "  overflow-x: auto;\n",
       "}\n",
       "#h2o-table-1 .h2o-table {\n",
       "  /* width: 100%; */\n",
       "  margin-top: 1em;\n",
       "  margin-bottom: 1em;\n",
       "}\n",
       "#h2o-table-1 .h2o-table caption {\n",
       "  white-space: nowrap;\n",
       "  caption-side: top;\n",
       "  text-align: left;\n",
       "  /* margin-left: 1em; */\n",
       "  margin: 0;\n",
       "  font-size: larger;\n",
       "}\n",
       "#h2o-table-1 .h2o-table thead {\n",
       "  white-space: nowrap; \n",
       "  position: sticky;\n",
       "  top: 0;\n",
       "  box-shadow: 0 -1px inset;\n",
       "}\n",
       "#h2o-table-1 .h2o-table tbody {\n",
       "  overflow: auto;\n",
       "}\n",
       "#h2o-table-1 .h2o-table th,\n",
       "#h2o-table-1 .h2o-table td {\n",
       "  text-align: right;\n",
       "  /* border: 1px solid; */\n",
       "}\n",
       "#h2o-table-1 .h2o-table tr:nth-child(even) {\n",
       "  /* background: #F5F5F5 */\n",
       "}\n",
       "\n",
       "</style>      \n",
       "<div id=\"h2o-table-1\" class=\"h2o-container\">\n",
       "  <table class=\"h2o-table\">\n",
       "    <caption></caption>\n",
       "    <thead></thead>\n",
       "    <tbody><tr><td>H2O_cluster_uptime:</td>\n",
       "<td>01 secs</td></tr>\n",
       "<tr><td>H2O_cluster_timezone:</td>\n",
       "<td>America/Sao_Paulo</td></tr>\n",
       "<tr><td>H2O_data_parsing_timezone:</td>\n",
       "<td>UTC</td></tr>\n",
       "<tr><td>H2O_cluster_version:</td>\n",
       "<td>3.46.0.1</td></tr>\n",
       "<tr><td>H2O_cluster_version_age:</td>\n",
       "<td>1 month and 14 days</td></tr>\n",
       "<tr><td>H2O_cluster_name:</td>\n",
       "<td>H2O_from_python_mardoniofranca_noltt4</td></tr>\n",
       "<tr><td>H2O_cluster_total_nodes:</td>\n",
       "<td>1</td></tr>\n",
       "<tr><td>H2O_cluster_free_memory:</td>\n",
       "<td>3.840 Gb</td></tr>\n",
       "<tr><td>H2O_cluster_total_cores:</td>\n",
       "<td>8</td></tr>\n",
       "<tr><td>H2O_cluster_allowed_cores:</td>\n",
       "<td>8</td></tr>\n",
       "<tr><td>H2O_cluster_status:</td>\n",
       "<td>locked, healthy</td></tr>\n",
       "<tr><td>H2O_connection_url:</td>\n",
       "<td>http://127.0.0.1:54321</td></tr>\n",
       "<tr><td>H2O_connection_proxy:</td>\n",
       "<td>{\"http\": null, \"https\": null}</td></tr>\n",
       "<tr><td>H2O_internal_security:</td>\n",
       "<td>False</td></tr>\n",
       "<tr><td>Python_version:</td>\n",
       "<td>3.10.12 final</td></tr></tbody>\n",
       "  </table>\n",
       "</div>\n"
      ],
      "text/plain": [
       "--------------------------  -------------------------------------\n",
       "H2O_cluster_uptime:         01 secs\n",
       "H2O_cluster_timezone:       America/Sao_Paulo\n",
       "H2O_data_parsing_timezone:  UTC\n",
       "H2O_cluster_version:        3.46.0.1\n",
       "H2O_cluster_version_age:    1 month and 14 days\n",
       "H2O_cluster_name:           H2O_from_python_mardoniofranca_noltt4\n",
       "H2O_cluster_total_nodes:    1\n",
       "H2O_cluster_free_memory:    3.840 Gb\n",
       "H2O_cluster_total_cores:    8\n",
       "H2O_cluster_allowed_cores:  8\n",
       "H2O_cluster_status:         locked, healthy\n",
       "H2O_connection_url:         http://127.0.0.1:54321\n",
       "H2O_connection_proxy:       {\"http\": null, \"https\": null}\n",
       "H2O_internal_security:      False\n",
       "Python_version:             3.10.12 final\n",
       "--------------------------  -------------------------------------"
      ]
     },
     "metadata": {},
     "output_type": "display_data"
    }
   ],
   "source": [
    "h2o.init()"
   ]
  },
  {
   "cell_type": "code",
   "execution_count": 7,
   "id": "072811e4",
   "metadata": {},
   "outputs": [
    {
     "name": "stdout",
     "output_type": "stream",
     "text": [
      "Parse progress: |████████████████████████████████████████████████████████████████| (done) 100%\n"
     ]
    },
    {
     "data": {
      "text/html": [
       "<table class='dataframe'>\n",
       "<thead>\n",
       "<tr><th style=\"text-align: right;\">  c_Order_Priority</th><th style=\"text-align: right;\">  h_Order_Priority</th><th style=\"text-align: right;\">  l_Order_Priority</th><th style=\"text-align: right;\">  m_Order_Priority</th><th style=\"text-align: right;\">  n_Order_Priority</th><th style=\"text-align: right;\">  Order_Quantity</th><th style=\"text-align: right;\">     Sales</th><th style=\"text-align: right;\">  Target</th></tr>\n",
       "</thead>\n",
       "<tbody>\n",
       "<tr><td style=\"text-align: right;\">                 0</td><td style=\"text-align: right;\">                 1</td><td style=\"text-align: right;\">                 0</td><td style=\"text-align: right;\">                 0</td><td style=\"text-align: right;\">                 0</td><td style=\"text-align: right;\">        0.408163</td><td style=\"text-align: right;\">0.100278  </td><td style=\"text-align: right;\">       0</td></tr>\n",
       "<tr><td style=\"text-align: right;\">                 0</td><td style=\"text-align: right;\">                 1</td><td style=\"text-align: right;\">                 0</td><td style=\"text-align: right;\">                 0</td><td style=\"text-align: right;\">                 0</td><td style=\"text-align: right;\">        0.693878</td><td style=\"text-align: right;\">0.122267  </td><td style=\"text-align: right;\">       1</td></tr>\n",
       "<tr><td style=\"text-align: right;\">                 0</td><td style=\"text-align: right;\">                 0</td><td style=\"text-align: right;\">                 0</td><td style=\"text-align: right;\">                 0</td><td style=\"text-align: right;\">                 1</td><td style=\"text-align: right;\">        0.122449</td><td style=\"text-align: right;\">0.0734383 </td><td style=\"text-align: right;\">       0</td></tr>\n",
       "<tr><td style=\"text-align: right;\">                 0</td><td style=\"text-align: right;\">                 0</td><td style=\"text-align: right;\">                 1</td><td style=\"text-align: right;\">                 0</td><td style=\"text-align: right;\">                 0</td><td style=\"text-align: right;\">        0.102041</td><td style=\"text-align: right;\">0.0324473 </td><td style=\"text-align: right;\">       0</td></tr>\n",
       "<tr><td style=\"text-align: right;\">                 0</td><td style=\"text-align: right;\">                 0</td><td style=\"text-align: right;\">                 0</td><td style=\"text-align: right;\">                 1</td><td style=\"text-align: right;\">                 0</td><td style=\"text-align: right;\">        0.469388</td><td style=\"text-align: right;\">0.0419286 </td><td style=\"text-align: right;\">       0</td></tr>\n",
       "<tr><td style=\"text-align: right;\">                 0</td><td style=\"text-align: right;\">                 0</td><td style=\"text-align: right;\">                 0</td><td style=\"text-align: right;\">                 0</td><td style=\"text-align: right;\">                 1</td><td style=\"text-align: right;\">        0.897959</td><td style=\"text-align: right;\">0.00826893</td><td style=\"text-align: right;\">       0</td></tr>\n",
       "<tr><td style=\"text-align: right;\">                 1</td><td style=\"text-align: right;\">                 0</td><td style=\"text-align: right;\">                 0</td><td style=\"text-align: right;\">                 0</td><td style=\"text-align: right;\">                 0</td><td style=\"text-align: right;\">        0.326531</td><td style=\"text-align: right;\">0.0491602 </td><td style=\"text-align: right;\">       1</td></tr>\n",
       "<tr><td style=\"text-align: right;\">                 0</td><td style=\"text-align: right;\">                 0</td><td style=\"text-align: right;\">                 1</td><td style=\"text-align: right;\">                 0</td><td style=\"text-align: right;\">                 0</td><td style=\"text-align: right;\">        0.408163</td><td style=\"text-align: right;\">0.159864  </td><td style=\"text-align: right;\">       1</td></tr>\n",
       "<tr><td style=\"text-align: right;\">                 0</td><td style=\"text-align: right;\">                 0</td><td style=\"text-align: right;\">                 0</td><td style=\"text-align: right;\">                 0</td><td style=\"text-align: right;\">                 1</td><td style=\"text-align: right;\">        0.795918</td><td style=\"text-align: right;\">0.690681  </td><td style=\"text-align: right;\">       0</td></tr>\n",
       "<tr><td style=\"text-align: right;\">                 0</td><td style=\"text-align: right;\">                 0</td><td style=\"text-align: right;\">                 0</td><td style=\"text-align: right;\">                 0</td><td style=\"text-align: right;\">                 1</td><td style=\"text-align: right;\">        0.326531</td><td style=\"text-align: right;\">0.0891865 </td><td style=\"text-align: right;\">       1</td></tr>\n",
       "</tbody>\n",
       "</table><pre style='font-size: smaller; margin-bottom: 1em;'>[730 rows x 8 columns]</pre>"
      ],
      "text/plain": [
       "  c_Order_Priority    h_Order_Priority    l_Order_Priority    m_Order_Priority    n_Order_Priority    Order_Quantity       Sales    Target\n",
       "------------------  ------------------  ------------------  ------------------  ------------------  ----------------  ----------  --------\n",
       "                 0                   1                   0                   0                   0          0.408163  0.100278           0\n",
       "                 0                   1                   0                   0                   0          0.693878  0.122267           1\n",
       "                 0                   0                   0                   0                   1          0.122449  0.0734383          0\n",
       "                 0                   0                   1                   0                   0          0.102041  0.0324473          0\n",
       "                 0                   0                   0                   1                   0          0.469388  0.0419286          0\n",
       "                 0                   0                   0                   0                   1          0.897959  0.00826893         0\n",
       "                 1                   0                   0                   0                   0          0.326531  0.0491602          1\n",
       "                 0                   0                   1                   0                   0          0.408163  0.159864           1\n",
       "                 0                   0                   0                   0                   1          0.795918  0.690681           0\n",
       "                 0                   0                   0                   0                   1          0.326531  0.0891865          1\n",
       "[730 rows x 8 columns]\n"
      ]
     },
     "execution_count": 7,
     "metadata": {},
     "output_type": "execute_result"
    }
   ],
   "source": [
    "h2o.upload_file(\"data/dados_sc_1.csv\")"
   ]
  },
  {
   "cell_type": "code",
   "execution_count": 8,
   "id": "bb8ef586",
   "metadata": {},
   "outputs": [
    {
     "name": "stdout",
     "output_type": "stream",
     "text": [
      "Parse progress: |████████████████████████████████████████████████████████████████| (done) 100%\n",
      "Parse progress: |████████████████████████████████████████████████████████████████| (done) 100%\n"
     ]
    }
   ],
   "source": [
    "# Import a sample binary outcome train/test set into H2O\n",
    "train = h2o.import_file(\"data/dados_1_train.csv\")\n",
    "test = h2o.import_file(\"data/dados_1_test.csv\")"
   ]
  },
  {
   "cell_type": "code",
   "execution_count": 9,
   "id": "b1a227eb",
   "metadata": {},
   "outputs": [],
   "source": [
    "x = train.columns\n",
    "y = \"Target\"\n",
    "x.remove(y)"
   ]
  },
  {
   "cell_type": "code",
   "execution_count": 13,
   "id": "ebccd634",
   "metadata": {},
   "outputs": [
    {
     "name": "stdout",
     "output_type": "stream",
     "text": [
      "AutoML progress: |███████████████████████████████████████████████████████████████| (done) 100%\n"
     ]
    },
    {
     "data": {
      "text/html": [
       "<table class='dataframe'>\n",
       "<thead>\n",
       "<tr><th>model_id                                               </th><th style=\"text-align: right;\">     auc</th><th style=\"text-align: right;\">  logloss</th><th style=\"text-align: right;\">   aucpr</th><th style=\"text-align: right;\">  mean_per_class_error</th><th style=\"text-align: right;\">    rmse</th><th style=\"text-align: right;\">     mse</th></tr>\n",
       "</thead>\n",
       "<tbody>\n",
       "<tr><td>StackedEnsemble_BestOfFamily_1_AutoML_2_20240427_160333</td><td style=\"text-align: right;\">0.78151 </td><td style=\"text-align: right;\"> 0.565524</td><td style=\"text-align: right;\">0.761712</td><td style=\"text-align: right;\">              0.293397</td><td style=\"text-align: right;\">0.4364  </td><td style=\"text-align: right;\">0.190445</td></tr>\n",
       "<tr><td>XGBoost_grid_1_AutoML_2_20240427_160333_model_7        </td><td style=\"text-align: right;\">0.780477</td><td style=\"text-align: right;\"> 0.564658</td><td style=\"text-align: right;\">0.763662</td><td style=\"text-align: right;\">              0.281304</td><td style=\"text-align: right;\">0.436355</td><td style=\"text-align: right;\">0.190406</td></tr>\n",
       "<tr><td>StackedEnsemble_AllModels_1_AutoML_2_20240427_160333   </td><td style=\"text-align: right;\">0.779363</td><td style=\"text-align: right;\"> 0.566285</td><td style=\"text-align: right;\">0.761414</td><td style=\"text-align: right;\">              0.298757</td><td style=\"text-align: right;\">0.437218</td><td style=\"text-align: right;\">0.19116 </td></tr>\n",
       "<tr><td>GBM_grid_1_AutoML_2_20240427_160333_model_5            </td><td style=\"text-align: right;\">0.776419</td><td style=\"text-align: right;\"> 0.570129</td><td style=\"text-align: right;\">0.742954</td><td style=\"text-align: right;\">              0.299015</td><td style=\"text-align: right;\">0.438914</td><td style=\"text-align: right;\">0.192645</td></tr>\n",
       "<tr><td>XGBoost_grid_1_AutoML_2_20240427_160333_model_2        </td><td style=\"text-align: right;\">0.774085</td><td style=\"text-align: right;\"> 0.571794</td><td style=\"text-align: right;\">0.730518</td><td style=\"text-align: right;\">              0.304187</td><td style=\"text-align: right;\">0.439674</td><td style=\"text-align: right;\">0.193314</td></tr>\n",
       "<tr><td>GBM_2_AutoML_2_20240427_160333                         </td><td style=\"text-align: right;\">0.771077</td><td style=\"text-align: right;\"> 0.574516</td><td style=\"text-align: right;\">0.748199</td><td style=\"text-align: right;\">              0.317933</td><td style=\"text-align: right;\">0.441587</td><td style=\"text-align: right;\">0.194999</td></tr>\n",
       "<tr><td>GBM_3_AutoML_2_20240427_160333                         </td><td style=\"text-align: right;\">0.769306</td><td style=\"text-align: right;\"> 0.576081</td><td style=\"text-align: right;\">0.740881</td><td style=\"text-align: right;\">              0.300575</td><td style=\"text-align: right;\">0.442564</td><td style=\"text-align: right;\">0.195863</td></tr>\n",
       "<tr><td>XGBoost_grid_1_AutoML_2_20240427_160333_model_1        </td><td style=\"text-align: right;\">0.767757</td><td style=\"text-align: right;\"> 0.57978 </td><td style=\"text-align: right;\">0.724085</td><td style=\"text-align: right;\">              0.309289</td><td style=\"text-align: right;\">0.443021</td><td style=\"text-align: right;\">0.196267</td></tr>\n",
       "<tr><td>GBM_grid_1_AutoML_2_20240427_160333_model_2            </td><td style=\"text-align: right;\">0.767294</td><td style=\"text-align: right;\"> 0.574819</td><td style=\"text-align: right;\">0.739559</td><td style=\"text-align: right;\">              0.30034 </td><td style=\"text-align: right;\">0.441218</td><td style=\"text-align: right;\">0.194674</td></tr>\n",
       "<tr><td>GBM_4_AutoML_2_20240427_160333                         </td><td style=\"text-align: right;\">0.76689 </td><td style=\"text-align: right;\"> 0.579554</td><td style=\"text-align: right;\">0.73236 </td><td style=\"text-align: right;\">              0.293373</td><td style=\"text-align: right;\">0.443839</td><td style=\"text-align: right;\">0.196993</td></tr>\n",
       "<tr><td>XGBoost_2_AutoML_2_20240427_160333                     </td><td style=\"text-align: right;\">0.763992</td><td style=\"text-align: right;\"> 0.589047</td><td style=\"text-align: right;\">0.710593</td><td style=\"text-align: right;\">              0.321522</td><td style=\"text-align: right;\">0.445655</td><td style=\"text-align: right;\">0.198609</td></tr>\n",
       "<tr><td>XGBoost_grid_1_AutoML_2_20240427_160333_model_6        </td><td style=\"text-align: right;\">0.763641</td><td style=\"text-align: right;\"> 0.581554</td><td style=\"text-align: right;\">0.724674</td><td style=\"text-align: right;\">              0.303765</td><td style=\"text-align: right;\">0.442626</td><td style=\"text-align: right;\">0.195917</td></tr>\n",
       "<tr><td>GBM_grid_1_AutoML_2_20240427_160333_model_4            </td><td style=\"text-align: right;\">0.763125</td><td style=\"text-align: right;\"> 0.585473</td><td style=\"text-align: right;\">0.742861</td><td style=\"text-align: right;\">              0.293303</td><td style=\"text-align: right;\">0.446255</td><td style=\"text-align: right;\">0.199144</td></tr>\n",
       "<tr><td>XGBoost_grid_1_AutoML_2_20240427_160333_model_3        </td><td style=\"text-align: right;\">0.762632</td><td style=\"text-align: right;\"> 0.607142</td><td style=\"text-align: right;\">0.719877</td><td style=\"text-align: right;\">              0.332078</td><td style=\"text-align: right;\">0.45177 </td><td style=\"text-align: right;\">0.204096</td></tr>\n",
       "<tr><td>GBM_grid_1_AutoML_2_20240427_160333_model_3            </td><td style=\"text-align: right;\">0.762157</td><td style=\"text-align: right;\"> 0.580299</td><td style=\"text-align: right;\">0.725245</td><td style=\"text-align: right;\">              0.372062</td><td style=\"text-align: right;\">0.443712</td><td style=\"text-align: right;\">0.19688 </td></tr>\n",
       "<tr><td>DeepLearning_grid_1_AutoML_2_20240427_160333_model_1   </td><td style=\"text-align: right;\">0.761541</td><td style=\"text-align: right;\"> 0.605353</td><td style=\"text-align: right;\">0.756226</td><td style=\"text-align: right;\">              0.377141</td><td style=\"text-align: right;\">0.446535</td><td style=\"text-align: right;\">0.199394</td></tr>\n",
       "<tr><td>XGBoost_grid_1_AutoML_2_20240427_160333_model_4        </td><td style=\"text-align: right;\">0.760245</td><td style=\"text-align: right;\"> 0.590306</td><td style=\"text-align: right;\">0.735128</td><td style=\"text-align: right;\">              0.317722</td><td style=\"text-align: right;\">0.447661</td><td style=\"text-align: right;\">0.200401</td></tr>\n",
       "<tr><td>XGBoost_1_AutoML_2_20240427_160333                     </td><td style=\"text-align: right;\">0.760151</td><td style=\"text-align: right;\"> 0.584841</td><td style=\"text-align: right;\">0.721572</td><td style=\"text-align: right;\">              0.30027 </td><td style=\"text-align: right;\">0.443634</td><td style=\"text-align: right;\">0.196812</td></tr>\n",
       "<tr><td>XGBoost_grid_1_AutoML_2_20240427_160333_model_11       </td><td style=\"text-align: right;\">0.759653</td><td style=\"text-align: right;\"> 0.585403</td><td style=\"text-align: right;\">0.7253  </td><td style=\"text-align: right;\">              0.280929</td><td style=\"text-align: right;\">0.444793</td><td style=\"text-align: right;\">0.197841</td></tr>\n",
       "<tr><td>GBM_1_AutoML_2_20240427_160333                         </td><td style=\"text-align: right;\">0.756668</td><td style=\"text-align: right;\"> 0.575341</td><td style=\"text-align: right;\">0.74865 </td><td style=\"text-align: right;\">              0.282512</td><td style=\"text-align: right;\">0.440825</td><td style=\"text-align: right;\">0.194326</td></tr>\n",
       "<tr><td>GBM_grid_1_AutoML_2_20240427_160333_model_7            </td><td style=\"text-align: right;\">0.755507</td><td style=\"text-align: right;\"> 0.583745</td><td style=\"text-align: right;\">0.7399  </td><td style=\"text-align: right;\">              0.310615</td><td style=\"text-align: right;\">0.445969</td><td style=\"text-align: right;\">0.198889</td></tr>\n",
       "<tr><td>XGBoost_grid_1_AutoML_2_20240427_160333_model_5        </td><td style=\"text-align: right;\">0.755002</td><td style=\"text-align: right;\"> 0.586594</td><td style=\"text-align: right;\">0.722249</td><td style=\"text-align: right;\">              0.331726</td><td style=\"text-align: right;\">0.445804</td><td style=\"text-align: right;\">0.198741</td></tr>\n",
       "<tr><td>XGBoost_3_AutoML_2_20240427_160333                     </td><td style=\"text-align: right;\">0.754756</td><td style=\"text-align: right;\"> 0.609197</td><td style=\"text-align: right;\">0.722827</td><td style=\"text-align: right;\">              0.337321</td><td style=\"text-align: right;\">0.454849</td><td style=\"text-align: right;\">0.206887</td></tr>\n",
       "<tr><td>GBM_grid_1_AutoML_2_20240427_160333_model_1            </td><td style=\"text-align: right;\">0.753384</td><td style=\"text-align: right;\"> 0.599972</td><td style=\"text-align: right;\">0.724658</td><td style=\"text-align: right;\">              0.342306</td><td style=\"text-align: right;\">0.453441</td><td style=\"text-align: right;\">0.205609</td></tr>\n",
       "<tr><td>XRT_1_AutoML_2_20240427_160333                         </td><td style=\"text-align: right;\">0.752264</td><td style=\"text-align: right;\"> 0.601598</td><td style=\"text-align: right;\">0.711067</td><td style=\"text-align: right;\">              0.340722</td><td style=\"text-align: right;\">0.453527</td><td style=\"text-align: right;\">0.205687</td></tr>\n",
       "<tr><td>XGBoost_grid_1_AutoML_2_20240427_160333_model_9        </td><td style=\"text-align: right;\">0.749015</td><td style=\"text-align: right;\"> 0.58313 </td><td style=\"text-align: right;\">0.738317</td><td style=\"text-align: right;\">              0.284166</td><td style=\"text-align: right;\">0.444612</td><td style=\"text-align: right;\">0.19768 </td></tr>\n",
       "<tr><td>GBM_5_AutoML_2_20240427_160333                         </td><td style=\"text-align: right;\">0.741344</td><td style=\"text-align: right;\"> 0.60107 </td><td style=\"text-align: right;\">0.720764</td><td style=\"text-align: right;\">              0.380425</td><td style=\"text-align: right;\">0.454454</td><td style=\"text-align: right;\">0.206528</td></tr>\n",
       "<tr><td>GBM_grid_1_AutoML_2_20240427_160333_model_6            </td><td style=\"text-align: right;\">0.734412</td><td style=\"text-align: right;\"> 0.600395</td><td style=\"text-align: right;\">0.716792</td><td style=\"text-align: right;\">              0.276988</td><td style=\"text-align: right;\">0.45287 </td><td style=\"text-align: right;\">0.205091</td></tr>\n",
       "<tr><td>DRF_1_AutoML_2_20240427_160333                         </td><td style=\"text-align: right;\">0.73372 </td><td style=\"text-align: right;\"> 0.621249</td><td style=\"text-align: right;\">0.713938</td><td style=\"text-align: right;\">              0.369704</td><td style=\"text-align: right;\">0.461581</td><td style=\"text-align: right;\">0.213057</td></tr>\n",
       "<tr><td>DeepLearning_grid_3_AutoML_2_20240427_160333_model_2   </td><td style=\"text-align: right;\">0.733251</td><td style=\"text-align: right;\"> 0.614502</td><td style=\"text-align: right;\">0.72421 </td><td style=\"text-align: right;\">              0.352604</td><td style=\"text-align: right;\">0.459139</td><td style=\"text-align: right;\">0.210808</td></tr>\n",
       "<tr><td>DeepLearning_grid_1_AutoML_2_20240427_160333_model_3   </td><td style=\"text-align: right;\">0.731803</td><td style=\"text-align: right;\"> 0.733785</td><td style=\"text-align: right;\">0.711965</td><td style=\"text-align: right;\">              0.357518</td><td style=\"text-align: right;\">0.464387</td><td style=\"text-align: right;\">0.215655</td></tr>\n",
       "<tr><td>XGBoost_grid_1_AutoML_2_20240427_160333_model_8        </td><td style=\"text-align: right;\">0.728771</td><td style=\"text-align: right;\"> 0.81748 </td><td style=\"text-align: right;\">0.704181</td><td style=\"text-align: right;\">              0.403331</td><td style=\"text-align: right;\">0.495695</td><td style=\"text-align: right;\">0.245713</td></tr>\n",
       "<tr><td>DeepLearning_grid_3_AutoML_2_20240427_160333_model_1   </td><td style=\"text-align: right;\">0.727598</td><td style=\"text-align: right;\"> 0.635144</td><td style=\"text-align: right;\">0.722595</td><td style=\"text-align: right;\">              0.413582</td><td style=\"text-align: right;\">0.463125</td><td style=\"text-align: right;\">0.214485</td></tr>\n",
       "<tr><td>DeepLearning_grid_2_AutoML_2_20240427_160333_model_1   </td><td style=\"text-align: right;\">0.724842</td><td style=\"text-align: right;\"> 0.627838</td><td style=\"text-align: right;\">0.721149</td><td style=\"text-align: right;\">              0.39254 </td><td style=\"text-align: right;\">0.464147</td><td style=\"text-align: right;\">0.215433</td></tr>\n",
       "<tr><td>DeepLearning_grid_1_AutoML_2_20240427_160333_model_2   </td><td style=\"text-align: right;\">0.72432 </td><td style=\"text-align: right;\"> 0.637408</td><td style=\"text-align: right;\">0.720098</td><td style=\"text-align: right;\">              0.336617</td><td style=\"text-align: right;\">0.46401 </td><td style=\"text-align: right;\">0.215306</td></tr>\n",
       "<tr><td>DeepLearning_grid_1_AutoML_2_20240427_160333_model_4   </td><td style=\"text-align: right;\">0.720531</td><td style=\"text-align: right;\"> 0.66505 </td><td style=\"text-align: right;\">0.711767</td><td style=\"text-align: right;\">              0.353953</td><td style=\"text-align: right;\">0.468786</td><td style=\"text-align: right;\">0.219761</td></tr>\n",
       "<tr><td>DeepLearning_grid_2_AutoML_2_20240427_160333_model_2   </td><td style=\"text-align: right;\">0.718977</td><td style=\"text-align: right;\"> 0.612029</td><td style=\"text-align: right;\">0.72876 </td><td style=\"text-align: right;\">              0.425674</td><td style=\"text-align: right;\">0.459845</td><td style=\"text-align: right;\">0.211457</td></tr>\n",
       "<tr><td>XGBoost_grid_1_AutoML_2_20240427_160333_model_10       </td><td style=\"text-align: right;\">0.718391</td><td style=\"text-align: right;\"> 0.727146</td><td style=\"text-align: right;\">0.674517</td><td style=\"text-align: right;\">              0.370174</td><td style=\"text-align: right;\">0.487664</td><td style=\"text-align: right;\">0.237816</td></tr>\n",
       "<tr><td>DeepLearning_1_AutoML_2_20240427_160333                </td><td style=\"text-align: right;\">0.715265</td><td style=\"text-align: right;\"> 0.628316</td><td style=\"text-align: right;\">0.712333</td><td style=\"text-align: right;\">              0.408105</td><td style=\"text-align: right;\">0.463478</td><td style=\"text-align: right;\">0.214812</td></tr>\n",
       "<tr><td>DeepLearning_grid_2_AutoML_2_20240427_160333_model_3   </td><td style=\"text-align: right;\">0.708697</td><td style=\"text-align: right;\"> 0.640313</td><td style=\"text-align: right;\">0.711842</td><td style=\"text-align: right;\">              0.418567</td><td style=\"text-align: right;\">0.469923</td><td style=\"text-align: right;\">0.220828</td></tr>\n",
       "<tr><td>DeepLearning_grid_3_AutoML_2_20240427_160333_model_3   </td><td style=\"text-align: right;\">0.707424</td><td style=\"text-align: right;\"> 0.6734  </td><td style=\"text-align: right;\">0.698222</td><td style=\"text-align: right;\">              0.383849</td><td style=\"text-align: right;\">0.471076</td><td style=\"text-align: right;\">0.221913</td></tr>\n",
       "<tr><td>GLM_1_AutoML_2_20240427_160333                         </td><td style=\"text-align: right;\">0.692634</td><td style=\"text-align: right;\"> 0.648318</td><td style=\"text-align: right;\">0.681756</td><td style=\"text-align: right;\">              0.410087</td><td style=\"text-align: right;\">0.472525</td><td style=\"text-align: right;\">0.22328 </td></tr>\n",
       "</tbody>\n",
       "</table><pre style='font-size: smaller; margin-bottom: 1em;'>[42 rows x 7 columns]</pre>"
      ],
      "text/plain": [
       "model_id                                                      auc    logloss     aucpr    mean_per_class_error      rmse       mse\n",
       "-------------------------------------------------------  --------  ---------  --------  ----------------------  --------  --------\n",
       "StackedEnsemble_BestOfFamily_1_AutoML_2_20240427_160333  0.78151    0.565524  0.761712                0.293397  0.4364    0.190445\n",
       "XGBoost_grid_1_AutoML_2_20240427_160333_model_7          0.780477   0.564658  0.763662                0.281304  0.436355  0.190406\n",
       "StackedEnsemble_AllModels_1_AutoML_2_20240427_160333     0.779363   0.566285  0.761414                0.298757  0.437218  0.19116\n",
       "GBM_grid_1_AutoML_2_20240427_160333_model_5              0.776419   0.570129  0.742954                0.299015  0.438914  0.192645\n",
       "XGBoost_grid_1_AutoML_2_20240427_160333_model_2          0.774085   0.571794  0.730518                0.304187  0.439674  0.193314\n",
       "GBM_2_AutoML_2_20240427_160333                           0.771077   0.574516  0.748199                0.317933  0.441587  0.194999\n",
       "GBM_3_AutoML_2_20240427_160333                           0.769306   0.576081  0.740881                0.300575  0.442564  0.195863\n",
       "XGBoost_grid_1_AutoML_2_20240427_160333_model_1          0.767757   0.57978   0.724085                0.309289  0.443021  0.196267\n",
       "GBM_grid_1_AutoML_2_20240427_160333_model_2              0.767294   0.574819  0.739559                0.30034   0.441218  0.194674\n",
       "GBM_4_AutoML_2_20240427_160333                           0.76689    0.579554  0.73236                 0.293373  0.443839  0.196993\n",
       "XGBoost_2_AutoML_2_20240427_160333                       0.763992   0.589047  0.710593                0.321522  0.445655  0.198609\n",
       "XGBoost_grid_1_AutoML_2_20240427_160333_model_6          0.763641   0.581554  0.724674                0.303765  0.442626  0.195917\n",
       "GBM_grid_1_AutoML_2_20240427_160333_model_4              0.763125   0.585473  0.742861                0.293303  0.446255  0.199144\n",
       "XGBoost_grid_1_AutoML_2_20240427_160333_model_3          0.762632   0.607142  0.719877                0.332078  0.45177   0.204096\n",
       "GBM_grid_1_AutoML_2_20240427_160333_model_3              0.762157   0.580299  0.725245                0.372062  0.443712  0.19688\n",
       "DeepLearning_grid_1_AutoML_2_20240427_160333_model_1     0.761541   0.605353  0.756226                0.377141  0.446535  0.199394\n",
       "XGBoost_grid_1_AutoML_2_20240427_160333_model_4          0.760245   0.590306  0.735128                0.317722  0.447661  0.200401\n",
       "XGBoost_1_AutoML_2_20240427_160333                       0.760151   0.584841  0.721572                0.30027   0.443634  0.196812\n",
       "XGBoost_grid_1_AutoML_2_20240427_160333_model_11         0.759653   0.585403  0.7253                  0.280929  0.444793  0.197841\n",
       "GBM_1_AutoML_2_20240427_160333                           0.756668   0.575341  0.74865                 0.282512  0.440825  0.194326\n",
       "GBM_grid_1_AutoML_2_20240427_160333_model_7              0.755507   0.583745  0.7399                  0.310615  0.445969  0.198889\n",
       "XGBoost_grid_1_AutoML_2_20240427_160333_model_5          0.755002   0.586594  0.722249                0.331726  0.445804  0.198741\n",
       "XGBoost_3_AutoML_2_20240427_160333                       0.754756   0.609197  0.722827                0.337321  0.454849  0.206887\n",
       "GBM_grid_1_AutoML_2_20240427_160333_model_1              0.753384   0.599972  0.724658                0.342306  0.453441  0.205609\n",
       "XRT_1_AutoML_2_20240427_160333                           0.752264   0.601598  0.711067                0.340722  0.453527  0.205687\n",
       "XGBoost_grid_1_AutoML_2_20240427_160333_model_9          0.749015   0.58313   0.738317                0.284166  0.444612  0.19768\n",
       "GBM_5_AutoML_2_20240427_160333                           0.741344   0.60107   0.720764                0.380425  0.454454  0.206528\n",
       "GBM_grid_1_AutoML_2_20240427_160333_model_6              0.734412   0.600395  0.716792                0.276988  0.45287   0.205091\n",
       "DRF_1_AutoML_2_20240427_160333                           0.73372    0.621249  0.713938                0.369704  0.461581  0.213057\n",
       "DeepLearning_grid_3_AutoML_2_20240427_160333_model_2     0.733251   0.614502  0.72421                 0.352604  0.459139  0.210808\n",
       "DeepLearning_grid_1_AutoML_2_20240427_160333_model_3     0.731803   0.733785  0.711965                0.357518  0.464387  0.215655\n",
       "XGBoost_grid_1_AutoML_2_20240427_160333_model_8          0.728771   0.81748   0.704181                0.403331  0.495695  0.245713\n",
       "DeepLearning_grid_3_AutoML_2_20240427_160333_model_1     0.727598   0.635144  0.722595                0.413582  0.463125  0.214485\n",
       "DeepLearning_grid_2_AutoML_2_20240427_160333_model_1     0.724842   0.627838  0.721149                0.39254   0.464147  0.215433\n",
       "DeepLearning_grid_1_AutoML_2_20240427_160333_model_2     0.72432    0.637408  0.720098                0.336617  0.46401   0.215306\n",
       "DeepLearning_grid_1_AutoML_2_20240427_160333_model_4     0.720531   0.66505   0.711767                0.353953  0.468786  0.219761\n",
       "DeepLearning_grid_2_AutoML_2_20240427_160333_model_2     0.718977   0.612029  0.72876                 0.425674  0.459845  0.211457\n",
       "XGBoost_grid_1_AutoML_2_20240427_160333_model_10         0.718391   0.727146  0.674517                0.370174  0.487664  0.237816\n",
       "DeepLearning_1_AutoML_2_20240427_160333                  0.715265   0.628316  0.712333                0.408105  0.463478  0.214812\n",
       "DeepLearning_grid_2_AutoML_2_20240427_160333_model_3     0.708697   0.640313  0.711842                0.418567  0.469923  0.220828\n",
       "DeepLearning_grid_3_AutoML_2_20240427_160333_model_3     0.707424   0.6734    0.698222                0.383849  0.471076  0.221913\n",
       "GLM_1_AutoML_2_20240427_160333                           0.692634   0.648318  0.681756                0.410087  0.472525  0.22328\n",
       "[42 rows x 7 columns]\n"
      ]
     },
     "execution_count": 13,
     "metadata": {},
     "output_type": "execute_result"
    }
   ],
   "source": [
    "# For binary classification, response should be a factor\n",
    "train[y] = train[y].asfactor()\n",
    "test[y] = test[y].asfactor()\n",
    "\n",
    "# Run AutoML for 20 base models\n",
    "aml = H2OAutoML(max_models=40, seed=1)\n",
    "aml.train(x=x, y=y, training_frame=train)\n",
    "\n",
    "# View the AutoML Leaderboard\n",
    "lb = aml.leaderboard\n",
    "lb.head(rows=lb.nrows)  # Print all rows instead of default (10 rows)"
   ]
  },
  {
   "cell_type": "code",
   "execution_count": null,
   "id": "61b4000b",
   "metadata": {},
   "outputs": [],
   "source": []
  },
  {
   "cell_type": "code",
   "execution_count": null,
   "id": "c5854cbd",
   "metadata": {},
   "outputs": [],
   "source": []
  },
  {
   "cell_type": "code",
   "execution_count": null,
   "id": "46cb339b",
   "metadata": {},
   "outputs": [],
   "source": []
  },
  {
   "cell_type": "code",
   "execution_count": null,
   "id": "590ec67e",
   "metadata": {},
   "outputs": [],
   "source": []
  },
  {
   "cell_type": "code",
   "execution_count": null,
   "id": "9315b0e1",
   "metadata": {},
   "outputs": [],
   "source": []
  },
  {
   "cell_type": "code",
   "execution_count": null,
   "id": "4835b585",
   "metadata": {},
   "outputs": [],
   "source": []
  },
  {
   "cell_type": "code",
   "execution_count": null,
   "id": "8e4edfc9",
   "metadata": {},
   "outputs": [],
   "source": []
  },
  {
   "cell_type": "code",
   "execution_count": null,
   "id": "d343c7de",
   "metadata": {},
   "outputs": [],
   "source": []
  },
  {
   "cell_type": "markdown",
   "id": "eeeb4acd",
   "metadata": {},
   "source": [
    "https://docs.h2o.ai/h2o/latest-stable/h2o-py/docs/intro.html"
   ]
  },
  {
   "cell_type": "markdown",
   "id": "220fd39c",
   "metadata": {},
   "source": [
    "https://medium.com/h2o-ai-brasil/h2o-os-primeiros-passos-fae39077e028"
   ]
  },
  {
   "cell_type": "markdown",
   "id": "94a51753",
   "metadata": {},
   "source": [
    "https://docs.h2o.ai/h2o/latest-stable/h2o-docs/automl.html"
   ]
  },
  {
   "cell_type": "markdown",
   "id": "aff662ac",
   "metadata": {},
   "source": [
    "https://docs.h2o.ai/h2o/latest-stable/h2o-docs/training-models.html"
   ]
  }
 ],
 "metadata": {
  "kernelspec": {
   "display_name": "Python 3 (ipykernel)",
   "language": "python",
   "name": "python3"
  },
  "language_info": {
   "codemirror_mode": {
    "name": "ipython",
    "version": 3
   },
   "file_extension": ".py",
   "mimetype": "text/x-python",
   "name": "python",
   "nbconvert_exporter": "python",
   "pygments_lexer": "ipython3",
   "version": "3.10.12"
  }
 },
 "nbformat": 4,
 "nbformat_minor": 5
}
