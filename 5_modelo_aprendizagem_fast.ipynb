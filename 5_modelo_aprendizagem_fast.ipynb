{
 "cells": [
  {
   "cell_type": "code",
   "execution_count": 1,
   "id": "8f7bbb2e",
   "metadata": {},
   "outputs": [],
   "source": [
    "import pandas as pd"
   ]
  },
  {
   "cell_type": "code",
   "execution_count": 37,
   "id": "402f7461",
   "metadata": {},
   "outputs": [],
   "source": [
    "from sklearn.model_selection import train_test_split\n",
    "from sklearn.svm import SVR\n",
    "from sklearn.pipeline import make_pipeline\n",
    "from sklearn.preprocessing import StandardScaler\n",
    "\n",
    "from sklearn.discriminant_analysis import LinearDiscriminantAnalysis\n",
    "from sklearn.neighbors import KNeighborsClassifier\n",
    "from sklearn.naive_bayes import GaussianNB\n",
    "from sklearn.tree import DecisionTreeClassifier\n",
    "from sklearn.svm import SVC\n",
    "from sklearn.linear_model import LogisticRegression\n",
    "\n",
    "from sklearn.metrics import classification_report\n",
    "from sklearn.metrics import confusion_matrix\n",
    "from sklearn.metrics import accuracy_score\n",
    "import matplotlib.pyplot as plt\n",
    "import plotly.express as px\n",
    "from sklearn.preprocessing import StandardScaler\n",
    "from sklearn.preprocessing import LabelEncoder\n",
    "from sklearn.model_selection import train_test_split\n",
    "from sklearn import preprocessing\n",
    "import pickle\n",
    "from sklearn.model_selection import train_test_split\n",
    "from sklearn.datasets import make_classification\n",
    "from sklearn import svm\n",
    "from sklearn.metrics import accuracy_score\n",
    "from sklearn.metrics import classification_report, confusion_matrix\n",
    "from sklearn.model_selection import train_test_split\n",
    "\n",
    "from sklearn.linear_model import LogisticRegression\n",
    "from sklearn.svm import SVC, LinearSVC\n",
    "from sklearn.neighbors import KNeighborsClassifier\n",
    "from sklearn.tree import DecisionTreeClassifier\n",
    "from sklearn.ensemble import RandomForestClassifier\n",
    "from sklearn.naive_bayes import GaussianNB\n",
    "from sklearn.neural_network import MLPClassifier\n",
    "\n",
    "from sklearn.model_selection import cross_val_score"
   ]
  },
  {
   "cell_type": "code",
   "execution_count": 3,
   "id": "9389685e",
   "metadata": {},
   "outputs": [],
   "source": [
    "df = pd.read_csv(\"data/dados.csv\")"
   ]
  },
  {
   "cell_type": "code",
   "execution_count": 4,
   "id": "2ef1124b",
   "metadata": {},
   "outputs": [
    {
     "data": {
      "text/html": [
       "<div>\n",
       "<style scoped>\n",
       "    .dataframe tbody tr th:only-of-type {\n",
       "        vertical-align: middle;\n",
       "    }\n",
       "\n",
       "    .dataframe tbody tr th {\n",
       "        vertical-align: top;\n",
       "    }\n",
       "\n",
       "    .dataframe thead th {\n",
       "        text-align: right;\n",
       "    }\n",
       "</style>\n",
       "<table border=\"1\" class=\"dataframe\">\n",
       "  <thead>\n",
       "    <tr style=\"text-align: right;\">\n",
       "      <th></th>\n",
       "      <th>Order_ID</th>\n",
       "      <th>Order_Priority</th>\n",
       "      <th>Order_Quantity</th>\n",
       "      <th>Sales</th>\n",
       "      <th>Ship_Mode</th>\n",
       "      <th>Profit</th>\n",
       "      <th>Customer_Name</th>\n",
       "      <th>Region</th>\n",
       "      <th>Customer_Segment</th>\n",
       "      <th>Product_Category</th>\n",
       "      <th>Product_Sub-Category</th>\n",
       "      <th>Product_Name</th>\n",
       "      <th>Product_Container</th>\n",
       "    </tr>\n",
       "  </thead>\n",
       "  <tbody>\n",
       "    <tr>\n",
       "      <th>0</th>\n",
       "      <td>643</td>\n",
       "      <td>High</td>\n",
       "      <td>21</td>\n",
       "      <td>2781.82</td>\n",
       "      <td>Express Air</td>\n",
       "      <td>-695.26</td>\n",
       "      <td>Monica Federle</td>\n",
       "      <td>Nunavut</td>\n",
       "      <td>Corporate</td>\n",
       "      <td>Office Supplies</td>\n",
       "      <td>Storage &amp; Organization</td>\n",
       "      <td>SAFCO Commercial Wire Shelving, Black</td>\n",
       "      <td>Large Box</td>\n",
       "    </tr>\n",
       "    <tr>\n",
       "      <th>1</th>\n",
       "      <td>8995</td>\n",
       "      <td>High</td>\n",
       "      <td>35</td>\n",
       "      <td>3389.93</td>\n",
       "      <td>Express Air</td>\n",
       "      <td>737.94</td>\n",
       "      <td>Beth Paige</td>\n",
       "      <td>Northwest Territories</td>\n",
       "      <td>Consumer</td>\n",
       "      <td>Furniture</td>\n",
       "      <td>Office Furnishings</td>\n",
       "      <td>Luxo Professional Combination Clamp-On Lamps</td>\n",
       "      <td>Large Box</td>\n",
       "    </tr>\n",
       "    <tr>\n",
       "      <th>2</th>\n",
       "      <td>9127</td>\n",
       "      <td>Not Specified</td>\n",
       "      <td>7</td>\n",
       "      <td>2039.56</td>\n",
       "      <td>Express Air</td>\n",
       "      <td>-329.49</td>\n",
       "      <td>Bryan Davis</td>\n",
       "      <td>Northwest Territories</td>\n",
       "      <td>Corporate</td>\n",
       "      <td>Office Supplies</td>\n",
       "      <td>Storage &amp; Organization</td>\n",
       "      <td>Tennsco Snap-Together Open Shelving Units, Sta...</td>\n",
       "      <td>Large Box</td>\n",
       "    </tr>\n",
       "    <tr>\n",
       "      <th>3</th>\n",
       "      <td>26272</td>\n",
       "      <td>Low</td>\n",
       "      <td>6</td>\n",
       "      <td>905.94</td>\n",
       "      <td>Express Air</td>\n",
       "      <td>-4.19</td>\n",
       "      <td>Carlos Daly</td>\n",
       "      <td>Northwest Territories</td>\n",
       "      <td>Home Office</td>\n",
       "      <td>Furniture</td>\n",
       "      <td>Chairs &amp; Chairmats</td>\n",
       "      <td>Hon Olson Stacker Stools</td>\n",
       "      <td>Large Box</td>\n",
       "    </tr>\n",
       "    <tr>\n",
       "      <th>4</th>\n",
       "      <td>36646</td>\n",
       "      <td>Medium</td>\n",
       "      <td>24</td>\n",
       "      <td>1168.15</td>\n",
       "      <td>Express Air</td>\n",
       "      <td>-743.96</td>\n",
       "      <td>Muhammed MacIntyre</td>\n",
       "      <td>Northwest Territories</td>\n",
       "      <td>Small Business</td>\n",
       "      <td>Office Supplies</td>\n",
       "      <td>Storage &amp; Organization</td>\n",
       "      <td>Tennsco Industrial Shelving</td>\n",
       "      <td>Large Box</td>\n",
       "    </tr>\n",
       "  </tbody>\n",
       "</table>\n",
       "</div>"
      ],
      "text/plain": [
       "   Order_ID Order_Priority  Order_Quantity    Sales    Ship_Mode  Profit  \\\n",
       "0       643           High              21  2781.82  Express Air -695.26   \n",
       "1      8995           High              35  3389.93  Express Air  737.94   \n",
       "2      9127  Not Specified               7  2039.56  Express Air -329.49   \n",
       "3     26272            Low               6   905.94  Express Air   -4.19   \n",
       "4     36646         Medium              24  1168.15  Express Air -743.96   \n",
       "\n",
       "        Customer_Name                 Region Customer_Segment  \\\n",
       "0      Monica Federle                Nunavut        Corporate   \n",
       "1          Beth Paige  Northwest Territories         Consumer   \n",
       "2         Bryan Davis  Northwest Territories        Corporate   \n",
       "3         Carlos Daly  Northwest Territories      Home Office   \n",
       "4  Muhammed MacIntyre  Northwest Territories   Small Business   \n",
       "\n",
       "  Product_Category    Product_Sub-Category  \\\n",
       "0  Office Supplies  Storage & Organization   \n",
       "1        Furniture      Office Furnishings   \n",
       "2  Office Supplies  Storage & Organization   \n",
       "3        Furniture      Chairs & Chairmats   \n",
       "4  Office Supplies  Storage & Organization   \n",
       "\n",
       "                                        Product_Name Product_Container  \n",
       "0              SAFCO Commercial Wire Shelving, Black         Large Box  \n",
       "1       Luxo Professional Combination Clamp-On Lamps         Large Box  \n",
       "2  Tennsco Snap-Together Open Shelving Units, Sta...         Large Box  \n",
       "3                           Hon Olson Stacker Stools         Large Box  \n",
       "4                        Tennsco Industrial Shelving         Large Box  "
      ]
     },
     "execution_count": 4,
     "metadata": {},
     "output_type": "execute_result"
    }
   ],
   "source": [
    "df.head()"
   ]
  },
  {
   "cell_type": "code",
   "execution_count": 11,
   "id": "924c7065",
   "metadata": {},
   "outputs": [
    {
     "data": {
      "text/plain": [
       "13"
      ]
     },
     "execution_count": 11,
     "metadata": {},
     "output_type": "execute_result"
    }
   ],
   "source": [
    "len(list(df.columns))"
   ]
  },
  {
   "cell_type": "code",
   "execution_count": 6,
   "id": "c7cfe1a4",
   "metadata": {},
   "outputs": [
    {
     "data": {
      "text/plain": [
       "['Order_ID',\n",
       " 'Order_Priority',\n",
       " 'Order_Quantity',\n",
       " 'Sales',\n",
       " 'Ship_Mode',\n",
       " 'Profit',\n",
       " 'Customer_Name',\n",
       " 'Region',\n",
       " 'Customer_Segment',\n",
       " 'Product_Category',\n",
       " 'Product_Sub-Category',\n",
       " 'Product_Name',\n",
       " 'Product_Container']"
      ]
     },
     "execution_count": 6,
     "metadata": {},
     "output_type": "execute_result"
    }
   ],
   "source": [
    "list(df.columns)"
   ]
  },
  {
   "cell_type": "code",
   "execution_count": 7,
   "id": "f5b56ea2",
   "metadata": {},
   "outputs": [
    {
     "data": {
      "text/plain": [
       "Order_ID                  int64\n",
       "Order_Priority           object\n",
       "Order_Quantity            int64\n",
       "Sales                   float64\n",
       "Ship_Mode                object\n",
       "Profit                  float64\n",
       "Customer_Name            object\n",
       "Region                   object\n",
       "Customer_Segment         object\n",
       "Product_Category         object\n",
       "Product_Sub-Category     object\n",
       "Product_Name             object\n",
       "Product_Container        object\n",
       "dtype: object"
      ]
     },
     "execution_count": 7,
     "metadata": {},
     "output_type": "execute_result"
    }
   ],
   "source": [
    "df.dtypes"
   ]
  },
  {
   "cell_type": "code",
   "execution_count": 13,
   "id": "b91dc949",
   "metadata": {},
   "outputs": [],
   "source": [
    "cols = ['Order_Priority', 'Order_Quantity','Sales','Customer_Segment','Profit']"
   ]
  },
  {
   "cell_type": "code",
   "execution_count": 8,
   "id": "8544e2bd",
   "metadata": {},
   "outputs": [
    {
     "data": {
      "text/html": [
       "<div>\n",
       "<style scoped>\n",
       "    .dataframe tbody tr th:only-of-type {\n",
       "        vertical-align: middle;\n",
       "    }\n",
       "\n",
       "    .dataframe tbody tr th {\n",
       "        vertical-align: top;\n",
       "    }\n",
       "\n",
       "    .dataframe thead th {\n",
       "        text-align: right;\n",
       "    }\n",
       "</style>\n",
       "<table border=\"1\" class=\"dataframe\">\n",
       "  <thead>\n",
       "    <tr style=\"text-align: right;\">\n",
       "      <th></th>\n",
       "      <th>Order_ID</th>\n",
       "      <th>Order_Quantity</th>\n",
       "      <th>Sales</th>\n",
       "      <th>Profit</th>\n",
       "    </tr>\n",
       "  </thead>\n",
       "  <tbody>\n",
       "    <tr>\n",
       "      <th>count</th>\n",
       "      <td>730.000000</td>\n",
       "      <td>730.000000</td>\n",
       "      <td>730.000000</td>\n",
       "      <td>730.000000</td>\n",
       "    </tr>\n",
       "    <tr>\n",
       "      <th>mean</th>\n",
       "      <td>29721.597260</td>\n",
       "      <td>24.857534</td>\n",
       "      <td>1502.777653</td>\n",
       "      <td>207.479233</td>\n",
       "    </tr>\n",
       "    <tr>\n",
       "      <th>std</th>\n",
       "      <td>17350.560439</td>\n",
       "      <td>14.182970</td>\n",
       "      <td>2893.936648</td>\n",
       "      <td>878.631028</td>\n",
       "    </tr>\n",
       "    <tr>\n",
       "      <th>min</th>\n",
       "      <td>35.000000</td>\n",
       "      <td>1.000000</td>\n",
       "      <td>8.600000</td>\n",
       "      <td>-4437.910000</td>\n",
       "    </tr>\n",
       "    <tr>\n",
       "      <th>25%</th>\n",
       "      <td>14479.000000</td>\n",
       "      <td>13.000000</td>\n",
       "      <td>171.098375</td>\n",
       "      <td>-77.132500</td>\n",
       "    </tr>\n",
       "    <tr>\n",
       "      <th>50%</th>\n",
       "      <td>29350.500000</td>\n",
       "      <td>25.000000</td>\n",
       "      <td>438.700000</td>\n",
       "      <td>0.035000</td>\n",
       "    </tr>\n",
       "    <tr>\n",
       "      <th>75%</th>\n",
       "      <td>44978.500000</td>\n",
       "      <td>37.000000</td>\n",
       "      <td>1480.855000</td>\n",
       "      <td>180.000000</td>\n",
       "    </tr>\n",
       "    <tr>\n",
       "      <th>max</th>\n",
       "      <td>59909.000000</td>\n",
       "      <td>50.000000</td>\n",
       "      <td>27663.920000</td>\n",
       "      <td>8417.570000</td>\n",
       "    </tr>\n",
       "  </tbody>\n",
       "</table>\n",
       "</div>"
      ],
      "text/plain": [
       "           Order_ID  Order_Quantity         Sales       Profit\n",
       "count    730.000000      730.000000    730.000000   730.000000\n",
       "mean   29721.597260       24.857534   1502.777653   207.479233\n",
       "std    17350.560439       14.182970   2893.936648   878.631028\n",
       "min       35.000000        1.000000      8.600000 -4437.910000\n",
       "25%    14479.000000       13.000000    171.098375   -77.132500\n",
       "50%    29350.500000       25.000000    438.700000     0.035000\n",
       "75%    44978.500000       37.000000   1480.855000   180.000000\n",
       "max    59909.000000       50.000000  27663.920000  8417.570000"
      ]
     },
     "execution_count": 8,
     "metadata": {},
     "output_type": "execute_result"
    }
   ],
   "source": [
    "df.describe()"
   ]
  },
  {
   "cell_type": "code",
   "execution_count": 15,
   "id": "84e980a7",
   "metadata": {},
   "outputs": [
    {
     "data": {
      "text/html": [
       "<div>\n",
       "<style scoped>\n",
       "    .dataframe tbody tr th:only-of-type {\n",
       "        vertical-align: middle;\n",
       "    }\n",
       "\n",
       "    .dataframe tbody tr th {\n",
       "        vertical-align: top;\n",
       "    }\n",
       "\n",
       "    .dataframe thead th {\n",
       "        text-align: right;\n",
       "    }\n",
       "</style>\n",
       "<table border=\"1\" class=\"dataframe\">\n",
       "  <thead>\n",
       "    <tr style=\"text-align: right;\">\n",
       "      <th></th>\n",
       "      <th>Order_Priority</th>\n",
       "      <th>Order_Quantity</th>\n",
       "      <th>Sales</th>\n",
       "      <th>Customer_Segment</th>\n",
       "      <th>Profit</th>\n",
       "    </tr>\n",
       "  </thead>\n",
       "  <tbody>\n",
       "    <tr>\n",
       "      <th>0</th>\n",
       "      <td>High</td>\n",
       "      <td>21</td>\n",
       "      <td>2781.82</td>\n",
       "      <td>Corporate</td>\n",
       "      <td>-695.26</td>\n",
       "    </tr>\n",
       "    <tr>\n",
       "      <th>1</th>\n",
       "      <td>High</td>\n",
       "      <td>35</td>\n",
       "      <td>3389.93</td>\n",
       "      <td>Consumer</td>\n",
       "      <td>737.94</td>\n",
       "    </tr>\n",
       "    <tr>\n",
       "      <th>2</th>\n",
       "      <td>Not Specified</td>\n",
       "      <td>7</td>\n",
       "      <td>2039.56</td>\n",
       "      <td>Corporate</td>\n",
       "      <td>-329.49</td>\n",
       "    </tr>\n",
       "    <tr>\n",
       "      <th>3</th>\n",
       "      <td>Low</td>\n",
       "      <td>6</td>\n",
       "      <td>905.94</td>\n",
       "      <td>Home Office</td>\n",
       "      <td>-4.19</td>\n",
       "    </tr>\n",
       "    <tr>\n",
       "      <th>4</th>\n",
       "      <td>Medium</td>\n",
       "      <td>24</td>\n",
       "      <td>1168.15</td>\n",
       "      <td>Small Business</td>\n",
       "      <td>-743.96</td>\n",
       "    </tr>\n",
       "    <tr>\n",
       "      <th>...</th>\n",
       "      <td>...</td>\n",
       "      <td>...</td>\n",
       "      <td>...</td>\n",
       "      <td>...</td>\n",
       "      <td>...</td>\n",
       "    </tr>\n",
       "    <tr>\n",
       "      <th>725</th>\n",
       "      <td>Not Specified</td>\n",
       "      <td>44</td>\n",
       "      <td>5347.13</td>\n",
       "      <td>Corporate</td>\n",
       "      <td>1886.41</td>\n",
       "    </tr>\n",
       "    <tr>\n",
       "      <th>726</th>\n",
       "      <td>Critical</td>\n",
       "      <td>22</td>\n",
       "      <td>127.33</td>\n",
       "      <td>Corporate</td>\n",
       "      <td>5.30</td>\n",
       "    </tr>\n",
       "    <tr>\n",
       "      <th>727</th>\n",
       "      <td>Critical</td>\n",
       "      <td>24</td>\n",
       "      <td>990.10</td>\n",
       "      <td>Corporate</td>\n",
       "      <td>310.22</td>\n",
       "    </tr>\n",
       "    <tr>\n",
       "      <th>728</th>\n",
       "      <td>Not Specified</td>\n",
       "      <td>5</td>\n",
       "      <td>28.32</td>\n",
       "      <td>Corporate</td>\n",
       "      <td>-14.35</td>\n",
       "    </tr>\n",
       "    <tr>\n",
       "      <th>729</th>\n",
       "      <td>Medium</td>\n",
       "      <td>39</td>\n",
       "      <td>796.08</td>\n",
       "      <td>Corporate</td>\n",
       "      <td>30.29</td>\n",
       "    </tr>\n",
       "  </tbody>\n",
       "</table>\n",
       "<p>730 rows × 5 columns</p>\n",
       "</div>"
      ],
      "text/plain": [
       "    Order_Priority  Order_Quantity    Sales Customer_Segment   Profit\n",
       "0             High              21  2781.82        Corporate  -695.26\n",
       "1             High              35  3389.93         Consumer   737.94\n",
       "2    Not Specified               7  2039.56        Corporate  -329.49\n",
       "3              Low               6   905.94      Home Office    -4.19\n",
       "4           Medium              24  1168.15   Small Business  -743.96\n",
       "..             ...             ...      ...              ...      ...\n",
       "725  Not Specified              44  5347.13        Corporate  1886.41\n",
       "726       Critical              22   127.33        Corporate     5.30\n",
       "727       Critical              24   990.10        Corporate   310.22\n",
       "728  Not Specified               5    28.32        Corporate   -14.35\n",
       "729         Medium              39   796.08        Corporate    30.29\n",
       "\n",
       "[730 rows x 5 columns]"
      ]
     },
     "execution_count": 15,
     "metadata": {},
     "output_type": "execute_result"
    }
   ],
   "source": [
    "df[['Order_Priority', 'Order_Quantity','Sales','Customer_Segment','Profit']]"
   ]
  },
  {
   "cell_type": "code",
   "execution_count": 19,
   "id": "7af172d6",
   "metadata": {},
   "outputs": [],
   "source": [
    "def lucro(valor):\n",
    "    if valor > 0:\n",
    "        return 1\n",
    "    else:\n",
    "        return 0"
   ]
  },
  {
   "cell_type": "code",
   "execution_count": 20,
   "id": "d40134e3",
   "metadata": {},
   "outputs": [],
   "source": [
    "df['Target'] = df['Profit'].apply(lambda x: lucro(x))"
   ]
  },
  {
   "cell_type": "code",
   "execution_count": 22,
   "id": "eedc3035",
   "metadata": {},
   "outputs": [
    {
     "data": {
      "text/html": [
       "<div>\n",
       "<style scoped>\n",
       "    .dataframe tbody tr th:only-of-type {\n",
       "        vertical-align: middle;\n",
       "    }\n",
       "\n",
       "    .dataframe tbody tr th {\n",
       "        vertical-align: top;\n",
       "    }\n",
       "\n",
       "    .dataframe thead th {\n",
       "        text-align: right;\n",
       "    }\n",
       "</style>\n",
       "<table border=\"1\" class=\"dataframe\">\n",
       "  <thead>\n",
       "    <tr style=\"text-align: right;\">\n",
       "      <th></th>\n",
       "      <th>Order_Priority</th>\n",
       "      <th>Order_Quantity</th>\n",
       "      <th>Sales</th>\n",
       "      <th>Customer_Segment</th>\n",
       "      <th>Target</th>\n",
       "    </tr>\n",
       "  </thead>\n",
       "  <tbody>\n",
       "    <tr>\n",
       "      <th>0</th>\n",
       "      <td>High</td>\n",
       "      <td>21</td>\n",
       "      <td>2781.82</td>\n",
       "      <td>Corporate</td>\n",
       "      <td>0</td>\n",
       "    </tr>\n",
       "    <tr>\n",
       "      <th>1</th>\n",
       "      <td>High</td>\n",
       "      <td>35</td>\n",
       "      <td>3389.93</td>\n",
       "      <td>Consumer</td>\n",
       "      <td>1</td>\n",
       "    </tr>\n",
       "    <tr>\n",
       "      <th>2</th>\n",
       "      <td>Not Specified</td>\n",
       "      <td>7</td>\n",
       "      <td>2039.56</td>\n",
       "      <td>Corporate</td>\n",
       "      <td>0</td>\n",
       "    </tr>\n",
       "    <tr>\n",
       "      <th>3</th>\n",
       "      <td>Low</td>\n",
       "      <td>6</td>\n",
       "      <td>905.94</td>\n",
       "      <td>Home Office</td>\n",
       "      <td>0</td>\n",
       "    </tr>\n",
       "    <tr>\n",
       "      <th>4</th>\n",
       "      <td>Medium</td>\n",
       "      <td>24</td>\n",
       "      <td>1168.15</td>\n",
       "      <td>Small Business</td>\n",
       "      <td>0</td>\n",
       "    </tr>\n",
       "    <tr>\n",
       "      <th>...</th>\n",
       "      <td>...</td>\n",
       "      <td>...</td>\n",
       "      <td>...</td>\n",
       "      <td>...</td>\n",
       "      <td>...</td>\n",
       "    </tr>\n",
       "    <tr>\n",
       "      <th>725</th>\n",
       "      <td>Not Specified</td>\n",
       "      <td>44</td>\n",
       "      <td>5347.13</td>\n",
       "      <td>Corporate</td>\n",
       "      <td>1</td>\n",
       "    </tr>\n",
       "    <tr>\n",
       "      <th>726</th>\n",
       "      <td>Critical</td>\n",
       "      <td>22</td>\n",
       "      <td>127.33</td>\n",
       "      <td>Corporate</td>\n",
       "      <td>1</td>\n",
       "    </tr>\n",
       "    <tr>\n",
       "      <th>727</th>\n",
       "      <td>Critical</td>\n",
       "      <td>24</td>\n",
       "      <td>990.10</td>\n",
       "      <td>Corporate</td>\n",
       "      <td>1</td>\n",
       "    </tr>\n",
       "    <tr>\n",
       "      <th>728</th>\n",
       "      <td>Not Specified</td>\n",
       "      <td>5</td>\n",
       "      <td>28.32</td>\n",
       "      <td>Corporate</td>\n",
       "      <td>0</td>\n",
       "    </tr>\n",
       "    <tr>\n",
       "      <th>729</th>\n",
       "      <td>Medium</td>\n",
       "      <td>39</td>\n",
       "      <td>796.08</td>\n",
       "      <td>Corporate</td>\n",
       "      <td>1</td>\n",
       "    </tr>\n",
       "  </tbody>\n",
       "</table>\n",
       "<p>730 rows × 5 columns</p>\n",
       "</div>"
      ],
      "text/plain": [
       "    Order_Priority  Order_Quantity    Sales Customer_Segment  Target\n",
       "0             High              21  2781.82        Corporate       0\n",
       "1             High              35  3389.93         Consumer       1\n",
       "2    Not Specified               7  2039.56        Corporate       0\n",
       "3              Low               6   905.94      Home Office       0\n",
       "4           Medium              24  1168.15   Small Business       0\n",
       "..             ...             ...      ...              ...     ...\n",
       "725  Not Specified              44  5347.13        Corporate       1\n",
       "726       Critical              22   127.33        Corporate       1\n",
       "727       Critical              24   990.10        Corporate       1\n",
       "728  Not Specified               5    28.32        Corporate       0\n",
       "729         Medium              39   796.08        Corporate       1\n",
       "\n",
       "[730 rows x 5 columns]"
      ]
     },
     "execution_count": 22,
     "metadata": {},
     "output_type": "execute_result"
    }
   ],
   "source": [
    "df[['Order_Priority', 'Order_Quantity','Sales','Customer_Segment','Target']]"
   ]
  },
  {
   "cell_type": "code",
   "execution_count": 24,
   "id": "0fdf2b99",
   "metadata": {},
   "outputs": [
    {
     "data": {
      "text/plain": [
       "(array(['Critical', 'High', 'Low', 'Medium', 'Not Specified'], dtype=object),\n",
       " array([147, 152, 147, 128, 156]))"
      ]
     },
     "execution_count": 24,
     "metadata": {},
     "output_type": "execute_result"
    }
   ],
   "source": [
    "import numpy as np\n",
    "np.unique(df['Order_Priority'], return_counts = True)"
   ]
  },
  {
   "cell_type": "code",
   "execution_count": 25,
   "id": "ae6971e0",
   "metadata": {},
   "outputs": [
    {
     "data": {
      "text/plain": [
       "(array(['Consumer', 'Corporate', 'Home Office', 'Small Business'],\n",
       "       dtype=object),\n",
       " array([153, 518,  31,  28]))"
      ]
     },
     "execution_count": 25,
     "metadata": {},
     "output_type": "execute_result"
    }
   ],
   "source": [
    "import numpy as np\n",
    "np.unique(df['Customer_Segment'], return_counts = True)"
   ]
  },
  {
   "cell_type": "code",
   "execution_count": 31,
   "id": "f0207699",
   "metadata": {},
   "outputs": [],
   "source": [
    "c_Order_Priority('Critical')"
   ]
  },
  {
   "cell_type": "code",
   "execution_count": 32,
   "id": "23f9c428",
   "metadata": {},
   "outputs": [],
   "source": [
    "def c_Order_Priority(line):\n",
    "    if line =='Critical' :\n",
    "        return 1\n",
    "    else:\n",
    "        return 0\n",
    "def h_Order_Priority(line):\n",
    "    if line =='High' :\n",
    "        return 1\n",
    "    else:\n",
    "        return 0\n",
    "def l_Order_Priority(line):\n",
    "    if line =='Low' :\n",
    "        return 1\n",
    "    else:\n",
    "        return 0\n",
    "        \n",
    "def m_Order_Priority(line):\n",
    "    if line =='Medium' :\n",
    "        return 1\n",
    "    else:\n",
    "        return 0\n",
    "def n_Order_Priority(line):\n",
    "    if line =='Not Specified' :\n",
    "        return 1\n",
    "    else:\n",
    "        return 0"
   ]
  },
  {
   "cell_type": "code",
   "execution_count": 33,
   "id": "025a0ad5",
   "metadata": {},
   "outputs": [],
   "source": [
    "df['c_Order_Priority'] = df['Order_Priority'].apply(lambda x: c_Order_Priority(x))\n",
    "df['h_Order_Priority'] = df['Order_Priority'].apply(lambda x: h_Order_Priority(x))\n",
    "df['l_Order_Priority'] = df['Order_Priority'].apply(lambda x: l_Order_Priority(x))\n",
    "df['m_Order_Priority'] = df['Order_Priority'].apply(lambda x: m_Order_Priority(x))\n",
    "df['n_Order_Priority'] = df['Order_Priority'].apply(lambda x: n_Order_Priority(x))"
   ]
  },
  {
   "cell_type": "code",
   "execution_count": 35,
   "id": "fa830453",
   "metadata": {},
   "outputs": [],
   "source": [
    "dfx = df[['c_Order_Priority','h_Order_Priority', 'l_Order_Priority', \n",
    "    'm_Order_Priority', 'n_Order_Priority', 'Order_Quantity','Sales','Target']]"
   ]
  },
  {
   "cell_type": "code",
   "execution_count": 38,
   "id": "00b06b10",
   "metadata": {},
   "outputs": [
    {
     "data": {
      "text/plain": [
       "c_Order_Priority      int64\n",
       "h_Order_Priority      int64\n",
       "l_Order_Priority      int64\n",
       "m_Order_Priority      int64\n",
       "n_Order_Priority      int64\n",
       "Order_Quantity        int64\n",
       "Sales               float64\n",
       "Target                int64\n",
       "dtype: object"
      ]
     },
     "execution_count": 38,
     "metadata": {},
     "output_type": "execute_result"
    }
   ],
   "source": [
    "dfx.dtypes"
   ]
  },
  {
   "cell_type": "code",
   "execution_count": 46,
   "id": "b21171db",
   "metadata": {},
   "outputs": [
    {
     "data": {
      "text/plain": [
       "(array([0, 1]), array([365, 365]))"
      ]
     },
     "execution_count": 46,
     "metadata": {},
     "output_type": "execute_result"
    }
   ],
   "source": [
    "import numpy as np\n",
    "np.unique(df['Target'], return_counts = True)"
   ]
  },
  {
   "cell_type": "code",
   "execution_count": 51,
   "id": "5de257e1",
   "metadata": {},
   "outputs": [
    {
     "data": {
      "text/plain": [
       "146.0"
      ]
     },
     "execution_count": 51,
     "metadata": {},
     "output_type": "execute_result"
    }
   ],
   "source": [
    "((2*365)*20)/100"
   ]
  },
  {
   "cell_type": "code",
   "execution_count": 52,
   "id": "bdbf1744",
   "metadata": {},
   "outputs": [
    {
     "data": {
      "text/plain": [
       "146"
      ]
     },
     "execution_count": 52,
     "metadata": {},
     "output_type": "execute_result"
    }
   ],
   "source": [
    "77 + 69"
   ]
  },
  {
   "cell_type": "code",
   "execution_count": 39,
   "id": "a0bdac50",
   "metadata": {},
   "outputs": [],
   "source": [
    "X =  dfx.drop(['Target'], axis = 1)\n",
    "Y =  df['Target']"
   ]
  },
  {
   "cell_type": "code",
   "execution_count": 40,
   "id": "24cfb15f",
   "metadata": {},
   "outputs": [],
   "source": [
    "seed = 1234\n",
    "X_train, X_test, y_train, y_test = train_test_split(X,Y, test_size = 0.2, random_state = seed )"
   ]
  },
  {
   "cell_type": "code",
   "execution_count": 41,
   "id": "8f221f5b",
   "metadata": {},
   "outputs": [],
   "source": [
    "KNN_model = KNeighborsClassifier(n_neighbors=5)"
   ]
  },
  {
   "cell_type": "code",
   "execution_count": 42,
   "id": "4ced1560",
   "metadata": {},
   "outputs": [],
   "source": [
    "KNN_model.fit(X_train, y_train)\n",
    "KNN_prediction = KNN_model.predict(X_test)"
   ]
  },
  {
   "cell_type": "code",
   "execution_count": 43,
   "id": "25e5b875",
   "metadata": {},
   "outputs": [],
   "source": [
    "KNN_model.fit(X_train, y_train)\n",
    "KNN_prediction = KNN_model.predict(X_test)"
   ]
  },
  {
   "cell_type": "code",
   "execution_count": 44,
   "id": "d54e6bd9",
   "metadata": {},
   "outputs": [
    {
     "name": "stdout",
     "output_type": "stream",
     "text": [
      "0.726027397260274\n"
     ]
    }
   ],
   "source": [
    "print(accuracy_score(KNN_prediction, y_test))"
   ]
  },
  {
   "cell_type": "code",
   "execution_count": 45,
   "id": "cacfd3e6",
   "metadata": {},
   "outputs": [
    {
     "name": "stdout",
     "output_type": "stream",
     "text": [
      "              precision    recall  f1-score   support\n",
      "\n",
      "           0       0.79      0.65      0.71        77\n",
      "           1       0.67      0.81      0.74        69\n",
      "\n",
      "    accuracy                           0.73       146\n",
      "   macro avg       0.73      0.73      0.73       146\n",
      "weighted avg       0.74      0.73      0.72       146\n",
      "\n"
     ]
    }
   ],
   "source": [
    "print(classification_report(KNN_prediction, y_test))"
   ]
  },
  {
   "cell_type": "code",
   "execution_count": 53,
   "id": "b678d6d8",
   "metadata": {},
   "outputs": [
    {
     "name": "stderr",
     "output_type": "stream",
     "text": [
      "/home/mardoniofranca/work/env/lib/python3.10/site-packages/sklearn/svm/_base.py:1225: ConvergenceWarning: Liblinear failed to converge, increase the number of iterations.\n",
      "  warnings.warn(\n",
      "/home/mardoniofranca/work/env/lib/python3.10/site-packages/sklearn/svm/_base.py:1225: ConvergenceWarning: Liblinear failed to converge, increase the number of iterations.\n",
      "  warnings.warn(\n",
      "/home/mardoniofranca/work/env/lib/python3.10/site-packages/sklearn/svm/_base.py:1225: ConvergenceWarning: Liblinear failed to converge, increase the number of iterations.\n",
      "  warnings.warn(\n",
      "/home/mardoniofranca/work/env/lib/python3.10/site-packages/sklearn/neural_network/_multilayer_perceptron.py:559: ConvergenceWarning: lbfgs failed to converge (status=1):\n",
      "STOP: TOTAL NO. of ITERATIONS REACHED LIMIT.\n",
      "\n",
      "Increase the number of iterations (max_iter) or scale the data as shown in:\n",
      "    https://scikit-learn.org/stable/modules/preprocessing.html\n",
      "  self.n_iter_ = _check_optimize_result(\"lbfgs\", opt_res, self.max_iter)\n",
      "/home/mardoniofranca/work/env/lib/python3.10/site-packages/sklearn/neural_network/_multilayer_perceptron.py:559: ConvergenceWarning: lbfgs failed to converge (status=1):\n",
      "STOP: TOTAL NO. of ITERATIONS REACHED LIMIT.\n",
      "\n",
      "Increase the number of iterations (max_iter) or scale the data as shown in:\n",
      "    https://scikit-learn.org/stable/modules/preprocessing.html\n",
      "  self.n_iter_ = _check_optimize_result(\"lbfgs\", opt_res, self.max_iter)\n"
     ]
    },
    {
     "name": "stdout",
     "output_type": "stream",
     "text": [
      "LogisticRegression 0.6314342575726911\n",
      "SVC 0.7069025613348625\n",
      "LinearSVC 0.5260631001371743\n",
      "KNeighbors 0.6863545391171377\n",
      "DecisionTree 0.6219163911938653\n",
      "RandomForest 0.7082461939778272\n",
      "RandomForest2 0.7178540106591109\n",
      "MLPClassifier 0.7219411275270412\n"
     ]
    },
    {
     "name": "stderr",
     "output_type": "stream",
     "text": [
      "/home/mardoniofranca/work/env/lib/python3.10/site-packages/sklearn/neural_network/_multilayer_perceptron.py:559: ConvergenceWarning: lbfgs failed to converge (status=1):\n",
      "STOP: TOTAL NO. of ITERATIONS REACHED LIMIT.\n",
      "\n",
      "Increase the number of iterations (max_iter) or scale the data as shown in:\n",
      "    https://scikit-learn.org/stable/modules/preprocessing.html\n",
      "  self.n_iter_ = _check_optimize_result(\"lbfgs\", opt_res, self.max_iter)\n"
     ]
    }
   ],
   "source": [
    "models = []\n",
    "\n",
    "models.append((\"LogisticRegression\",LogisticRegression()))\n",
    "models.append((\"SVC\",SVC()))\n",
    "models.append((\"LinearSVC\",LinearSVC()))\n",
    "models.append((\"KNeighbors\",KNeighborsClassifier()))\n",
    "models.append((\"DecisionTree\",DecisionTreeClassifier()))\n",
    "models.append((\"RandomForest\",RandomForestClassifier()))\n",
    "rf2 = RandomForestClassifier(n_estimators=100, criterion='gini',\n",
    "                                max_depth=10, random_state=0, max_features=None)\n",
    "models.append((\"RandomForest2\",rf2))\n",
    "models.append((\"MLPClassifier\",MLPClassifier(solver='lbfgs', random_state=0)))\n",
    "\n",
    "\n",
    "results = []\n",
    "names = []\n",
    "for name,model in models:\n",
    "    result = cross_val_score(model, X,Y,  cv=3)\n",
    "    names.append(name)\n",
    "    results.append(result)\n",
    "\n",
    "for i in range(len(names)):\n",
    "    print(names[i],results[i].mean())"
   ]
  },
  {
   "cell_type": "code",
   "execution_count": null,
   "id": "fa6ba20c",
   "metadata": {},
   "outputs": [],
   "source": []
  },
  {
   "cell_type": "code",
   "execution_count": null,
   "id": "128f89eb",
   "metadata": {},
   "outputs": [],
   "source": []
  },
  {
   "cell_type": "code",
   "execution_count": null,
   "id": "38532af4",
   "metadata": {},
   "outputs": [],
   "source": []
  },
  {
   "cell_type": "code",
   "execution_count": null,
   "id": "f99ac7ab",
   "metadata": {},
   "outputs": [],
   "source": []
  },
  {
   "cell_type": "code",
   "execution_count": null,
   "id": "39edf680",
   "metadata": {},
   "outputs": [],
   "source": []
  },
  {
   "cell_type": "code",
   "execution_count": 9,
   "id": "636ff623",
   "metadata": {},
   "outputs": [
    {
     "data": {
      "text/plain": [
       "Order_ID                0\n",
       "Order_Priority          0\n",
       "Order_Quantity          0\n",
       "Sales                   0\n",
       "Ship_Mode               0\n",
       "Profit                  0\n",
       "Customer_Name           0\n",
       "Region                  0\n",
       "Customer_Segment        0\n",
       "Product_Category        0\n",
       "Product_Sub-Category    0\n",
       "Product_Name            0\n",
       "Product_Container       0\n",
       "dtype: int64"
      ]
     },
     "execution_count": 9,
     "metadata": {},
     "output_type": "execute_result"
    }
   ],
   "source": [
    "df.isnull().sum()"
   ]
  },
  {
   "cell_type": "code",
   "execution_count": 10,
   "id": "0c8c13f8",
   "metadata": {},
   "outputs": [
    {
     "data": {
      "text/plain": [
       "(730, 13)"
      ]
     },
     "execution_count": 10,
     "metadata": {},
     "output_type": "execute_result"
    }
   ],
   "source": [
    "df.shape"
   ]
  },
  {
   "cell_type": "code",
   "execution_count": null,
   "id": "f67b9261",
   "metadata": {},
   "outputs": [],
   "source": []
  }
 ],
 "metadata": {
  "kernelspec": {
   "display_name": "Python 3 (ipykernel)",
   "language": "python",
   "name": "python3"
  },
  "language_info": {
   "codemirror_mode": {
    "name": "ipython",
    "version": 3
   },
   "file_extension": ".py",
   "mimetype": "text/x-python",
   "name": "python",
   "nbconvert_exporter": "python",
   "pygments_lexer": "ipython3",
   "version": "3.10.12"
  }
 },
 "nbformat": 4,
 "nbformat_minor": 5
}
